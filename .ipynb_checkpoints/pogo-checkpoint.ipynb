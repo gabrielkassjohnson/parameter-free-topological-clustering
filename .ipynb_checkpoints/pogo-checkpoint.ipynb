{
 "cells": [
  {
   "cell_type": "code",
   "execution_count": 1,
   "metadata": {},
   "outputs": [
    {
     "name": "stdout",
     "output_type": "stream",
     "text": [
      "Aggregation.txt              \u001b[0m\u001b[01;35manimation.gif\u001b[0m             pogo.ipynb\r\n",
      "\u001b[01;35mAggregation.txt12frames.gif\u001b[0m  \u001b[01;35manimation.mp4\u001b[0m             R15.txt\r\n",
      "\u001b[01;35mAggregation.txt20frames.gif\u001b[0m  Compound.txt              \u001b[01;35mR15.txt22frames.gif\u001b[0m\r\n",
      "\u001b[01;35mAggregation.txt22frames.gif\u001b[0m  \u001b[01;35mCompound.txt22frames.gif\u001b[0m  README.md\r\n",
      "\u001b[01;35mAggregation.txt3frames.gif\u001b[0m   D31.txt                   \u001b[01;35mspiral20frames.mp4\u001b[0m\r\n",
      "\u001b[01;35manimation-400.mp4\u001b[0m            \u001b[01;35mD31.txt22frames.gif\u001b[0m       \u001b[01;35mspiral40frames.mp4\u001b[0m\r\n",
      "\u001b[01;35manimation-b.mp4\u001b[0m              \u001b[01;35mjain40frames.mp4\u001b[0m          spiral.txt\r\n",
      "\u001b[01;35manimation-c.mp4\u001b[0m              jain.txt                  \u001b[01;35mspiral.txt20frames.gif\u001b[0m\r\n",
      "\u001b[01;35manimation-d.mp4\u001b[0m              \u001b[01;35mjain.txt20frames.gif\u001b[0m      \u001b[01;35mspiral.txt5frames.gif\u001b[0m\r\n"
     ]
    }
   ],
   "source": [
    "ls"
   ]
  },
  {
   "cell_type": "code",
   "execution_count": 2,
   "metadata": {},
   "outputs": [],
   "source": [
    "import numpy as np\n",
    "import pandas as pd\n",
    "import gudhi"
   ]
  },
  {
   "cell_type": "code",
   "execution_count": 3,
   "metadata": {},
   "outputs": [],
   "source": [
    "from matplotlib import pyplot as plt\n",
    "from matplotlib.animation import FuncAnimation\n",
    "from matplotlib import animation\n",
    "from matplotlib.collections import PatchCollection"
   ]
  },
  {
   "cell_type": "code",
   "execution_count": 4,
   "metadata": {},
   "outputs": [],
   "source": [
    "from sklearn.datasets import make_blobs\n",
    "from sklearn.datasets import make_classification\n",
    "from sklearn.datasets import make_gaussian_quantiles\n",
    "from sklearn.datasets import load_iris\n",
    "from sklearn.datasets import load_digits\n",
    "\n",
    "\n",
    "from sklearn.preprocessing import MinMaxScaler\n",
    "from sklearn.decomposition import PCA\n",
    "from sklearn import metrics\n",
    "\n",
    "import os.path"
   ]
  },
  {
   "cell_type": "code",
   "execution_count": 5,
   "metadata": {},
   "outputs": [],
   "source": [
    "from urllib.request import urlopen\n",
    "from urllib.parse import urlparse"
   ]
  },
  {
   "cell_type": "code",
   "execution_count": 6,
   "metadata": {},
   "outputs": [],
   "source": [
    "%matplotlib inline"
   ]
  },
  {
   "cell_type": "markdown",
   "metadata": {},
   "source": [
    "#randomized blobs with standard deviation\n",
    "n = 6\n",
    "std = np.random.random_sample((n,))\n",
    "#std = 1\n",
    "X, y, z = make_blobs(\n",
    "    n_samples=n*100,\n",
    "    n_features=2,\n",
    "    centers=n,\n",
    "    cluster_std=std,\n",
    "    center_box=(-10.0, 10.0),\n",
    "    shuffle=False,\n",
    "    random_state=42,\n",
    "    return_centers=True,\n",
    ")\n"
   ]
  },
  {
   "cell_type": "markdown",
   "metadata": {},
   "source": [
    "\n",
    "size=8\n",
    "plt.figure(figsize=(size,size))\n",
    "plt.scatter(X[:, 0], X[:, 1],\n",
    "            s=25, \n",
    "            c=y,\n",
    "            marker=\"o\",\n",
    "            cmap='tab10',\n",
    "            norm=None,\n",
    "            alpha=.7,\n",
    "            edgecolor=\"k\")"
   ]
  },
  {
   "cell_type": "code",
   "execution_count": 7,
   "metadata": {},
   "outputs": [],
   "source": [
    "urls = ['https://cs.joensuu.fi/sipu/datasets/D31.txt',\n",
    "        'https://cs.joensuu.fi/sipu/datasets/spiral.txt',\n",
    "        'https://cs.joensuu.fi/sipu/datasets/overlap.txt',\n",
    "        'https://cs.joensuu.fi/sipu/datasets/pathbased.txt',\n",
    "        'https://cs.joensuu.fi/sipu/datasets/a1.txt',\n",
    "        'https://cs.joensuu.fi/sipu/datasets/R15.txt',\n",
    "        'https://cs.joensuu.fi/sipu/datasets/unbalance.txt']"
   ]
  },
  {
   "cell_type": "code",
   "execution_count": 8,
   "metadata": {},
   "outputs": [
    {
     "name": "stdout",
     "output_type": "stream",
     "text": [
      "https://cs.joensuu.fi/sipu/datasets/spiral.txt\n",
      "spiral.txt\n",
      "(312, 3)\n",
      "[[31.95  7.95  3.  ]\n",
      " [31.15  7.3   3.  ]\n",
      " [30.45  6.65  3.  ]\n",
      " [29.7   6.    3.  ]\n",
      " [28.9   5.55  3.  ]\n",
      " [28.05  5.    3.  ]\n",
      " [27.2   4.55  3.  ]\n",
      " [26.35  4.15  3.  ]\n",
      " [25.4   3.85  3.  ]\n",
      " [24.6   3.6   3.  ]]\n"
     ]
    }
   ],
   "source": [
    "url= urls[1]\n",
    "print(url)\n",
    "parse = urlparse(url)\n",
    "filename = parse.path.strip('/').split('/')[-1]\n",
    "print(filename)\n",
    "raw_data = urlopen(url)\n",
    "data = np.loadtxt(raw_data)\n",
    "\n",
    "print(data.shape)\n",
    "print(data[:10])\n"
   ]
  },
  {
   "cell_type": "code",
   "execution_count": 9,
   "metadata": {},
   "outputs": [],
   "source": [
    "#iris = load_iris()\n",
    "#X = iris.data\n",
    "#y = iris.target"
   ]
  },
  {
   "cell_type": "code",
   "execution_count": 10,
   "metadata": {},
   "outputs": [
    {
     "name": "stdout",
     "output_type": "stream",
     "text": [
      "(312,)\n",
      "(312, 2)\n"
     ]
    }
   ],
   "source": [
    "\n",
    "y = data[:,2]\n",
    "print(y.shape)\n",
    "X = data[:,:2]\n",
    "print(X.shape)"
   ]
  },
  {
   "cell_type": "code",
   "execution_count": 11,
   "metadata": {},
   "outputs": [
    {
     "data": {
      "text/plain": [
       "<matplotlib.collections.PathCollection at 0x7f00039dcc40>"
      ]
     },
     "execution_count": 11,
     "metadata": {},
     "output_type": "execute_result"
    },
    {
     "data": {
      "image/png": "[encoded data removed]",
      "text/plain": [
       "<Figure size 576x576 with 1 Axes>"
      ]
     },
     "metadata": {
      "needs_background": "light"
     },
     "output_type": "display_data"
    }
   ],
   "source": [
    "size=8\n",
    "plt.figure(figsize=(size,size))\n",
    "plt.scatter(X[:, 0], X[:, 1],\n",
    "            s=25, \n",
    "            c=y,\n",
    "            marker=\"o\",\n",
    "            cmap='tab10',\n",
    "            norm=None,\n",
    "            alpha=.7,\n",
    "            edgecolor=\"k\")"
   ]
  },
  {
   "cell_type": "code",
   "execution_count": 12,
   "metadata": {},
   "outputs": [],
   "source": [
    "rips_complex = gudhi.RipsComplex(points=X)"
   ]
  },
  {
   "cell_type": "code",
   "execution_count": 13,
   "metadata": {},
   "outputs": [
    {
     "name": "stdout",
     "output_type": "stream",
     "text": [
      "312 vertices\n",
      "48828 simplices\n",
      "dimension: 1\n"
     ]
    }
   ],
   "source": [
    "simplex_tree = rips_complex.create_simplex_tree(max_dimension=1)\n",
    "   \n",
    "print(simplex_tree.num_vertices() , 'vertices')  \n",
    "print(simplex_tree.num_simplices(), 'simplices')\n",
    "print('dimension:', simplex_tree.dimension())"
   ]
  },
  {
   "cell_type": "code",
   "execution_count": 14,
   "metadata": {},
   "outputs": [
    {
     "name": "stderr",
     "output_type": "stream",
     "text": [
      "usetex mode requires TeX.\n"
     ]
    },
    {
     "data": {
      "image/png": "[encoded data removed]",
      "text/plain": [
       "<Figure size 432x288 with 1 Axes>"
      ]
     },
     "metadata": {
      "needs_background": "light"
     },
     "output_type": "display_data"
    }
   ],
   "source": [
    "diag = simplex_tree.persistence()\n",
    "gudhi.plot_persistence_barcode(diag)\n",
    "plt.show()"
   ]
  },
  {
   "cell_type": "code",
   "execution_count": 15,
   "metadata": {},
   "outputs": [
    {
     "name": "stdout",
     "output_type": "stream",
     "text": [
      "break\n",
      "([78, 90], 3.8209946349085606)\n",
      "3.8209946349085606\n"
     ]
    }
   ],
   "source": [
    "#move through list and assign clusters to conected components\n",
    "point_dict={i:0 for i in range(simplex_tree.num_vertices())}\n",
    "counter=0\n",
    "cluster_dict_list = []\n",
    "distance_list = []\n",
    "for simplex in simplex_tree.get_filtration():\n",
    "    if len(simplex[0])>1:\n",
    "        if all(value > 0 for value in list(point_dict.values())):\n",
    "            if len(np.unique(np.array(list(point_dict.values())))) == 1:\n",
    "                print('break')\n",
    "                print(simplex)\n",
    "                print(simplex[1])\n",
    "                simplex_tree.prune_above_filtration(simplex[1])\n",
    "                break\n",
    "\n",
    "\n",
    "        #if both points are still in cluster 0, assign both to a new cluster\n",
    "        if point_dict[simplex[0][0]] == 0 and point_dict[simplex[0][1]] == 0:\n",
    "            counter += 1\n",
    "            point_dict[simplex[0][0]] = counter\n",
    "            point_dict[simplex[0][1]] = counter\n",
    "            #if one point is in cluster 0 and one is not, assign the one in cluster 0 to the existing cluster\n",
    "        elif point_dict[simplex[0][0]] == 0 and point_dict[simplex[0][1]] != 0:\n",
    "            point_dict[simplex[0][0]] = point_dict[simplex[0][1]]\n",
    "\n",
    "            #and vice versa\n",
    "        elif point_dict[simplex[0][0]] != 0 and point_dict[simplex[0][1]] == 0:\n",
    "            point_dict[simplex[0][1]] = point_dict[simplex[0][0]]\n",
    "\n",
    "            #if both points are not in cluster 0 and not in the same cluster, merge clusters to the lower number cluster\n",
    "        elif point_dict[simplex[0][0]] != 0 and point_dict[simplex[0][1]] != 0 and point_dict[simplex[0][0]] != point_dict[simplex[0][1]]:\n",
    "            larger_cluster_number = max(point_dict[simplex[0][0]], point_dict[simplex[0][1]])\n",
    "            smaller_cluster_number = min(point_dict[simplex[0][0]], point_dict[simplex[0][1]])\n",
    "            for key, value in point_dict.items():\n",
    "                if value == larger_cluster_number:\n",
    "                    point_dict[key] = smaller_cluster_number\n",
    "                    \n",
    "        distance_list.append(simplex[1])\n",
    "        cluster_dict_list.append(point_dict.copy())"
   ]
  },
  {
   "cell_type": "code",
   "execution_count": 16,
   "metadata": {},
   "outputs": [
    {
     "data": {
      "text/plain": [
       "3.8209946349085593"
      ]
     },
     "execution_count": 16,
     "metadata": {},
     "output_type": "execute_result"
    }
   ],
   "source": [
    "max(distance_list)"
   ]
  },
  {
   "cell_type": "code",
   "execution_count": 17,
   "metadata": {},
   "outputs": [
    {
     "data": {
      "text/plain": [
       "2190"
      ]
     },
     "execution_count": 17,
     "metadata": {},
     "output_type": "execute_result"
    }
   ],
   "source": [
    "len(distance_list)"
   ]
  },
  {
   "cell_type": "code",
   "execution_count": 18,
   "metadata": {},
   "outputs": [
    {
     "name": "stdout",
     "output_type": "stream",
     "text": [
      "2190\n"
     ]
    },
    {
     "data": {
      "text/plain": [
       "dtype('float64')"
      ]
     },
     "execution_count": 18,
     "metadata": {},
     "output_type": "execute_result"
    }
   ],
   "source": [
    "distance_array = np.array(distance_list)\n",
    "print(len(distance_array))\n",
    "distance_array.dtype"
   ]
  },
  {
   "cell_type": "code",
   "execution_count": 19,
   "metadata": {},
   "outputs": [
    {
     "data": {
      "text/plain": [
       "2190"
      ]
     },
     "execution_count": 19,
     "metadata": {},
     "output_type": "execute_result"
    }
   ],
   "source": [
    "length = len(cluster_dict_list)\n",
    "length"
   ]
  },
  {
   "cell_type": "code",
   "execution_count": 20,
   "metadata": {},
   "outputs": [
    {
     "name": "stdout",
     "output_type": "stream",
     "text": [
      "2504 simplices\n"
     ]
    }
   ],
   "source": [
    "print(simplex_tree.num_simplices(), 'simplices')\n",
    "#?"
   ]
  },
  {
   "cell_type": "code",
   "execution_count": 21,
   "metadata": {},
   "outputs": [
    {
     "data": {
      "text/plain": [
       "1"
      ]
     },
     "execution_count": 21,
     "metadata": {},
     "output_type": "execute_result"
    }
   ],
   "source": [
    "#check that all clusters have merged\n",
    "len(np.unique(np.array(list(point_dict.values()))))"
   ]
  },
  {
   "cell_type": "code",
   "execution_count": 22,
   "metadata": {},
   "outputs": [],
   "source": [
    "#print(cluster_dict_list[-2].values()) #penultimate clustering has 2 clusters\n",
    "#print(cluster_dict_list[-1].values()) #last clustering finally merges to all one cluster"
   ]
  },
  {
   "cell_type": "code",
   "execution_count": 23,
   "metadata": {},
   "outputs": [],
   "source": [
    "#find the gaps between birth/death pairs\n",
    "gaps = np.diff(distance_array)"
   ]
  },
  {
   "cell_type": "code",
   "execution_count": 59,
   "metadata": {},
   "outputs": [
    {
     "data": {
      "text/plain": [
       "(2190,)"
      ]
     },
     "execution_count": 59,
     "metadata": {},
     "output_type": "execute_result"
    }
   ],
   "source": [
    "distance_array.shape"
   ]
  },
  {
   "cell_type": "code",
   "execution_count": 57,
   "metadata": {},
   "outputs": [
    {
     "data": {
      "text/plain": [
       "(2189,)"
      ]
     },
     "execution_count": 57,
     "metadata": {},
     "output_type": "execute_result"
    }
   ],
   "source": [
    "gaps.dtype\n",
    "gaps.shape"
   ]
  },
  {
   "cell_type": "code",
   "execution_count": 66,
   "metadata": {},
   "outputs": [
    {
     "data": {
      "text/plain": [
       "array([0.        , 0.00780989, 0.01095723, ..., 0.99930192, 0.99973827,\n",
       "       1.        ])"
      ]
     },
     "execution_count": 66,
     "metadata": {},
     "output_type": "execute_result"
    }
   ],
   "source": [
    "#find normalized distance\n",
    "scaler = MinMaxScaler()\n",
    "normed_distance = scaler.fit_transform(distance_array.reshape(-1,1)).T.reshape(length)\n",
    "normed_distance\n"
   ]
  },
  {
   "cell_type": "code",
   "execution_count": 67,
   "metadata": {},
   "outputs": [
    {
     "data": {
      "text/plain": [
       "array([1.00000000e+00, 9.92190106e-01, 9.89042771e-01, ...,\n",
       "       6.98084873e-04, 2.61725762e-04, 0.00000000e+00])"
      ]
     },
     "execution_count": 67,
     "metadata": {},
     "output_type": "execute_result"
    }
   ],
   "source": [
    "#then invert them and multiply by the gaps to weight early connections in the filtration\n",
    "inverted_normed_distance = 1 - normed_distance\n",
    "inverted_normed_distance"
   ]
  },
  {
   "cell_type": "code",
   "execution_count": 68,
   "metadata": {},
   "outputs": [
    {
     "ename": "ValueError",
     "evalue": "operands could not be broadcast together with shapes (2189,) (2190,) ",
     "output_type": "error",
     "traceback": [
      "\u001b[0;31m---------------------------------------------------------------------------\u001b[0m",
      "\u001b[0;31mValueError\u001b[0m                                Traceback (most recent call last)",
      "\u001b[0;32m<ipython-input-68-ebc6d7455ea4>\u001b[0m in \u001b[0;36m<module>\u001b[0;34m\u001b[0m\n\u001b[0;32m----> 1\u001b[0;31m \u001b[0mnormed_gaps\u001b[0m \u001b[0;34m=\u001b[0m \u001b[0mnp\u001b[0m\u001b[0;34m.\u001b[0m\u001b[0mmultiply\u001b[0m\u001b[0;34m(\u001b[0m\u001b[0mgaps\u001b[0m\u001b[0;34m,\u001b[0m \u001b[0minverted_normed_distance\u001b[0m\u001b[0;34m)\u001b[0m\u001b[0;34m\u001b[0m\u001b[0;34m\u001b[0m\u001b[0m\n\u001b[0m\u001b[1;32m      2\u001b[0m \u001b[0mnormed_gaps\u001b[0m\u001b[0;34m\u001b[0m\u001b[0;34m\u001b[0m\u001b[0m\n",
      "\u001b[0;31mValueError\u001b[0m: operands could not be broadcast together with shapes (2189,) (2190,) "
     ]
    }
   ],
   "source": [
    "normed_gaps = np.multiply(gaps, inverted_normed_distance)\n",
    "normed_gaps"
   ]
  },
  {
   "cell_type": "code",
   "execution_count": 32,
   "metadata": {},
   "outputs": [],
   "source": [
    "#normalize to create a probability vector\n",
    "gap_vector = normed_gaps / np.sum(normed_gaps)"
   ]
  },
  {
   "cell_type": "code",
   "execution_count": 33,
   "metadata": {},
   "outputs": [
    {
     "data": {
      "text/plain": [
       "0.9999999999999994"
      ]
     },
     "execution_count": 33,
     "metadata": {},
     "output_type": "execute_result"
    }
   ],
   "source": [
    "#check\n",
    "np.sum(gap_vector)"
   ]
  },
  {
   "cell_type": "code",
   "execution_count": 34,
   "metadata": {},
   "outputs": [
    {
     "data": {
      "text/plain": [
       "array([[7.31113250e-06, 2.94633701e-06, 3.94912092e-19, ...,\n",
       "        1.55386879e-06, 4.08491984e-07, 2.45011214e-07],\n",
       "       [7.25403332e-06, 2.92332643e-06, 3.91827870e-19, ...,\n",
       "        1.54173324e-06, 4.05301705e-07, 2.43097702e-07],\n",
       "       [7.23102274e-06, 2.91405332e-06, 3.90584950e-19, ...,\n",
       "        1.53684269e-06, 4.04016044e-07, 2.42326570e-07],\n",
       "       ...,\n",
       "       [5.10379100e-09, 2.05679330e-09, 2.75682158e-22, ...,\n",
       "        1.08473230e-09, 2.85162075e-10, 1.71038622e-10],\n",
       "       [1.91351172e-09, 7.71132299e-10, 1.03358668e-22, ...,\n",
       "        4.06687492e-10, 1.06912876e-10, 6.41257467e-11],\n",
       "       [0.00000000e+00, 0.00000000e+00, 0.00000000e+00, ...,\n",
       "        0.00000000e+00, 0.00000000e+00, 0.00000000e+00]])"
      ]
     },
     "execution_count": 34,
     "metadata": {},
     "output_type": "execute_result"
    }
   ],
   "source": [
    "gap_vector"
   ]
  },
  {
   "cell_type": "code",
   "execution_count": 29,
   "metadata": {},
   "outputs": [
    {
     "data": {
      "text/plain": [
       "[<matplotlib.lines.Line2D at 0x7f00031920a0>,\n",
       " <matplotlib.lines.Line2D at 0x7f0003192100>,\n",
       " <matplotlib.lines.Line2D at 0x7f0006b600d0>,\n",
       " <matplotlib.lines.Line2D at 0x7f0003a52550>,\n",
       " <matplotlib.lines.Line2D at 0x7f0003a52430>,\n",
       " <matplotlib.lines.Line2D at 0x7f0003a52460>,\n",
       " <matplotlib.lines.Line2D at 0x7f0003a52580>,\n",
       " <matplotlib.lines.Line2D at 0x7f0003a52790>,\n",
       " <matplotlib.lines.Line2D at 0x7f0003a52850>,\n",
       " <matplotlib.lines.Line2D at 0x7f0003a525b0>,\n",
       " <matplotlib.lines.Line2D at 0x7f000303d610>,\n",
       " <matplotlib.lines.Line2D at 0x7f0003a52280>,\n",
       " <matplotlib.lines.Line2D at 0x7f00030df130>,\n",
       " <matplotlib.lines.Line2D at 0x7f00030df250>,\n",
       " <matplotlib.lines.Line2D at 0x7f00030df280>,\n",
       " <matplotlib.lines.Line2D at 0x7f00030df190>,\n",
       " <matplotlib.lines.Line2D at 0x7f00030df640>,\n",
       " <matplotlib.lines.Line2D at 0x7f00030df5b0>,\n",
       " <matplotlib.lines.Line2D at 0x7f00030df730>,\n",
       " <matplotlib.lines.Line2D at 0x7f00030df820>,\n",
       " <matplotlib.lines.Line2D at 0x7f00030df940>,\n",
       " <matplotlib.lines.Line2D at 0x7f00030dfb20>,\n",
       " <matplotlib.lines.Line2D at 0x7f00030dfb80>,\n",
       " <matplotlib.lines.Line2D at 0x7f00030dfd90>,\n",
       " <matplotlib.lines.Line2D at 0x7f00030dfdf0>,\n",
       " <matplotlib.lines.Line2D at 0x7f00030dff10>,\n",
       " <matplotlib.lines.Line2D at 0x7f0038d67dc0>,\n",
       " <matplotlib.lines.Line2D at 0x7f0003080c10>,\n",
       " <matplotlib.lines.Line2D at 0x7f0003080fd0>,\n",
       " <matplotlib.lines.Line2D at 0x7f0003080ee0>,\n",
       " <matplotlib.lines.Line2D at 0x7f0003080fa0>,\n",
       " <matplotlib.lines.Line2D at 0x7f00030325e0>,\n",
       " <matplotlib.lines.Line2D at 0x7f0003032850>,\n",
       " <matplotlib.lines.Line2D at 0x7f0003032dc0>,\n",
       " <matplotlib.lines.Line2D at 0x7f0003032df0>,\n",
       " <matplotlib.lines.Line2D at 0x7f0003032cd0>,\n",
       " <matplotlib.lines.Line2D at 0x7f0003032c10>,\n",
       " <matplotlib.lines.Line2D at 0x7f00030321c0>,\n",
       " <matplotlib.lines.Line2D at 0x7f0003032970>,\n",
       " <matplotlib.lines.Line2D at 0x7f0003032520>,\n",
       " <matplotlib.lines.Line2D at 0x7f0003032460>,\n",
       " <matplotlib.lines.Line2D at 0x7f0003032b50>,\n",
       " <matplotlib.lines.Line2D at 0x7f00030324c0>,\n",
       " <matplotlib.lines.Line2D at 0x7f0003032b80>,\n",
       " <matplotlib.lines.Line2D at 0x7f0003032190>,\n",
       " <matplotlib.lines.Line2D at 0x7f000324f520>,\n",
       " <matplotlib.lines.Line2D at 0x7f000324f640>,\n",
       " <matplotlib.lines.Line2D at 0x7f000324f0a0>,\n",
       " <matplotlib.lines.Line2D at 0x7f000324f7c0>,\n",
       " <matplotlib.lines.Line2D at 0x7f00030250a0>,\n",
       " <matplotlib.lines.Line2D at 0x7f0003025cd0>,\n",
       " <matplotlib.lines.Line2D at 0x7f0003025dc0>,\n",
       " <matplotlib.lines.Line2D at 0x7f00030251f0>,\n",
       " <matplotlib.lines.Line2D at 0x7f0003025f40>,\n",
       " <matplotlib.lines.Line2D at 0x7f00030258b0>,\n",
       " <matplotlib.lines.Line2D at 0x7f0003025310>,\n",
       " <matplotlib.lines.Line2D at 0x7f0003025610>,\n",
       " <matplotlib.lines.Line2D at 0x7f00030256d0>,\n",
       " <matplotlib.lines.Line2D at 0x7f0003025460>,\n",
       " <matplotlib.lines.Line2D at 0x7f0003025280>,\n",
       " <matplotlib.lines.Line2D at 0x7f0003025160>,\n",
       " <matplotlib.lines.Line2D at 0x7f0003025400>,\n",
       " <matplotlib.lines.Line2D at 0x7f0003025bb0>,\n",
       " <matplotlib.lines.Line2D at 0x7f000160cc40>,\n",
       " <matplotlib.lines.Line2D at 0x7f000160c8b0>,\n",
       " <matplotlib.lines.Line2D at 0x7f000160c460>,\n",
       " <matplotlib.lines.Line2D at 0x7f000160c3d0>,\n",
       " <matplotlib.lines.Line2D at 0x7f000160c250>,\n",
       " <matplotlib.lines.Line2D at 0x7f000160c580>,\n",
       " <matplotlib.lines.Line2D at 0x7f000160ca90>,\n",
       " <matplotlib.lines.Line2D at 0x7f000160c970>,\n",
       " <matplotlib.lines.Line2D at 0x7f000160c730>,\n",
       " <matplotlib.lines.Line2D at 0x7f000160c5e0>,\n",
       " <matplotlib.lines.Line2D at 0x7f000160ce50>,\n",
       " <matplotlib.lines.Line2D at 0x7f000160cd60>,\n",
       " <matplotlib.lines.Line2D at 0x7f000160cdf0>,\n",
       " <matplotlib.lines.Line2D at 0x7f0034fc1d60>,\n",
       " <matplotlib.lines.Line2D at 0x7f0001613b80>,\n",
       " <matplotlib.lines.Line2D at 0x7f0001613a30>,\n",
       " <matplotlib.lines.Line2D at 0x7f0001613f40>,\n",
       " <matplotlib.lines.Line2D at 0x7f0001613250>,\n",
       " <matplotlib.lines.Line2D at 0x7f0001613790>,\n",
       " <matplotlib.lines.Line2D at 0x7f00016132b0>,\n",
       " <matplotlib.lines.Line2D at 0x7f0001613130>,\n",
       " <matplotlib.lines.Line2D at 0x7f00016138e0>,\n",
       " <matplotlib.lines.Line2D at 0x7f00016138b0>,\n",
       " <matplotlib.lines.Line2D at 0x7f0001613760>,\n",
       " <matplotlib.lines.Line2D at 0x7f00016139d0>,\n",
       " <matplotlib.lines.Line2D at 0x7f0001613df0>,\n",
       " <matplotlib.lines.Line2D at 0x7f0001621f10>,\n",
       " <matplotlib.lines.Line2D at 0x7f0001621640>,\n",
       " <matplotlib.lines.Line2D at 0x7f00016215e0>,\n",
       " <matplotlib.lines.Line2D at 0x7f00016211c0>,\n",
       " <matplotlib.lines.Line2D at 0x7f00016210a0>,\n",
       " <matplotlib.lines.Line2D at 0x7f0001621100>,\n",
       " <matplotlib.lines.Line2D at 0x7f00016211f0>,\n",
       " <matplotlib.lines.Line2D at 0x7f00016218b0>,\n",
       " <matplotlib.lines.Line2D at 0x7f0001653cd0>,\n",
       " <matplotlib.lines.Line2D at 0x7f0001653c70>,\n",
       " <matplotlib.lines.Line2D at 0x7f0001621340>,\n",
       " <matplotlib.lines.Line2D at 0x7f0001621940>,\n",
       " <matplotlib.lines.Line2D at 0x7f0001621b20>,\n",
       " <matplotlib.lines.Line2D at 0x7f0001621a90>,\n",
       " <matplotlib.lines.Line2D at 0x7f000161e160>,\n",
       " <matplotlib.lines.Line2D at 0x7f000161e070>,\n",
       " <matplotlib.lines.Line2D at 0x7f000161e970>,\n",
       " <matplotlib.lines.Line2D at 0x7f000161e7f0>,\n",
       " <matplotlib.lines.Line2D at 0x7f000161e550>,\n",
       " <matplotlib.lines.Line2D at 0x7f000161e460>,\n",
       " <matplotlib.lines.Line2D at 0x7f000161efd0>,\n",
       " <matplotlib.lines.Line2D at 0x7f000161edf0>,\n",
       " <matplotlib.lines.Line2D at 0x7f000161ebb0>,\n",
       " <matplotlib.lines.Line2D at 0x7f000161e520>,\n",
       " <matplotlib.lines.Line2D at 0x7f000161e760>,\n",
       " <matplotlib.lines.Line2D at 0x7f000161e730>,\n",
       " <matplotlib.lines.Line2D at 0x7f000164a580>,\n",
       " <matplotlib.lines.Line2D at 0x7f000164a2b0>,\n",
       " <matplotlib.lines.Line2D at 0x7f000164ab20>,\n",
       " <matplotlib.lines.Line2D at 0x7f000164aa00>,\n",
       " <matplotlib.lines.Line2D at 0x7f000164a130>,\n",
       " <matplotlib.lines.Line2D at 0x7f000164a970>,\n",
       " <matplotlib.lines.Line2D at 0x7f000164aca0>,\n",
       " <matplotlib.lines.Line2D at 0x7f000164adc0>,\n",
       " <matplotlib.lines.Line2D at 0x7f000164aee0>,\n",
       " <matplotlib.lines.Line2D at 0x7f0001672040>,\n",
       " <matplotlib.lines.Line2D at 0x7f0001672160>,\n",
       " <matplotlib.lines.Line2D at 0x7f0001672280>,\n",
       " <matplotlib.lines.Line2D at 0x7f00016723a0>,\n",
       " <matplotlib.lines.Line2D at 0x7f00016724c0>,\n",
       " <matplotlib.lines.Line2D at 0x7f00016725e0>,\n",
       " <matplotlib.lines.Line2D at 0x7f0001672700>,\n",
       " <matplotlib.lines.Line2D at 0x7f0001672820>,\n",
       " <matplotlib.lines.Line2D at 0x7f0001672940>,\n",
       " <matplotlib.lines.Line2D at 0x7f0001672a60>,\n",
       " <matplotlib.lines.Line2D at 0x7f0001672b80>,\n",
       " <matplotlib.lines.Line2D at 0x7f0001672ca0>,\n",
       " <matplotlib.lines.Line2D at 0x7f0001672dc0>,\n",
       " <matplotlib.lines.Line2D at 0x7f0001672ee0>,\n",
       " <matplotlib.lines.Line2D at 0x7f0001661040>,\n",
       " <matplotlib.lines.Line2D at 0x7f0001661160>,\n",
       " <matplotlib.lines.Line2D at 0x7f0001661280>,\n",
       " <matplotlib.lines.Line2D at 0x7f00016613a0>,\n",
       " <matplotlib.lines.Line2D at 0x7f00016614c0>,\n",
       " <matplotlib.lines.Line2D at 0x7f00016615e0>,\n",
       " <matplotlib.lines.Line2D at 0x7f0001661700>,\n",
       " <matplotlib.lines.Line2D at 0x7f0001661820>,\n",
       " <matplotlib.lines.Line2D at 0x7f0001661940>,\n",
       " <matplotlib.lines.Line2D at 0x7f0001661a60>,\n",
       " <matplotlib.lines.Line2D at 0x7f0001661b80>,\n",
       " <matplotlib.lines.Line2D at 0x7f0001661ca0>,\n",
       " <matplotlib.lines.Line2D at 0x7f0001661dc0>,\n",
       " <matplotlib.lines.Line2D at 0x7f0001661ee0>,\n",
       " <matplotlib.lines.Line2D at 0x7f00015d1040>,\n",
       " <matplotlib.lines.Line2D at 0x7f00015d1160>,\n",
       " <matplotlib.lines.Line2D at 0x7f00015d1280>,\n",
       " <matplotlib.lines.Line2D at 0x7f00015d13a0>,\n",
       " <matplotlib.lines.Line2D at 0x7f00015d14c0>,\n",
       " <matplotlib.lines.Line2D at 0x7f00015d15e0>,\n",
       " <matplotlib.lines.Line2D at 0x7f00015d1700>,\n",
       " <matplotlib.lines.Line2D at 0x7f00015d1820>,\n",
       " <matplotlib.lines.Line2D at 0x7f00015d1940>,\n",
       " <matplotlib.lines.Line2D at 0x7f00015d1a60>,\n",
       " <matplotlib.lines.Line2D at 0x7f00015d1b80>,\n",
       " <matplotlib.lines.Line2D at 0x7f00015d1ca0>,\n",
       " <matplotlib.lines.Line2D at 0x7f00015d1dc0>,\n",
       " <matplotlib.lines.Line2D at 0x7f00015d1ee0>,\n",
       " <matplotlib.lines.Line2D at 0x7f00015d7040>,\n",
       " <matplotlib.lines.Line2D at 0x7f00015d7160>,\n",
       " <matplotlib.lines.Line2D at 0x7f00015d7280>,\n",
       " <matplotlib.lines.Line2D at 0x7f00015d73a0>,\n",
       " <matplotlib.lines.Line2D at 0x7f00015d74c0>,\n",
       " <matplotlib.lines.Line2D at 0x7f00015d75e0>,\n",
       " <matplotlib.lines.Line2D at 0x7f00015d7700>,\n",
       " <matplotlib.lines.Line2D at 0x7f00015d7820>,\n",
       " <matplotlib.lines.Line2D at 0x7f00015d7940>,\n",
       " <matplotlib.lines.Line2D at 0x7f00015d7a60>,\n",
       " <matplotlib.lines.Line2D at 0x7f00015d7b80>,\n",
       " <matplotlib.lines.Line2D at 0x7f00015d7ca0>,\n",
       " <matplotlib.lines.Line2D at 0x7f00015d7dc0>,\n",
       " <matplotlib.lines.Line2D at 0x7f00015d7ee0>,\n",
       " <matplotlib.lines.Line2D at 0x7f00015df040>,\n",
       " <matplotlib.lines.Line2D at 0x7f00015df160>,\n",
       " <matplotlib.lines.Line2D at 0x7f00015df280>,\n",
       " <matplotlib.lines.Line2D at 0x7f00015df3a0>,\n",
       " <matplotlib.lines.Line2D at 0x7f00015df4c0>,\n",
       " <matplotlib.lines.Line2D at 0x7f00015df5e0>,\n",
       " <matplotlib.lines.Line2D at 0x7f00015df700>,\n",
       " <matplotlib.lines.Line2D at 0x7f00015df820>,\n",
       " <matplotlib.lines.Line2D at 0x7f00015df940>,\n",
       " <matplotlib.lines.Line2D at 0x7f00015dfa60>,\n",
       " <matplotlib.lines.Line2D at 0x7f00015dfb80>,\n",
       " <matplotlib.lines.Line2D at 0x7f00015dfca0>,\n",
       " <matplotlib.lines.Line2D at 0x7f00015dfdc0>,\n",
       " <matplotlib.lines.Line2D at 0x7f00015dfee0>,\n",
       " <matplotlib.lines.Line2D at 0x7f00015e3040>,\n",
       " <matplotlib.lines.Line2D at 0x7f00015e3160>,\n",
       " <matplotlib.lines.Line2D at 0x7f00015e3280>,\n",
       " <matplotlib.lines.Line2D at 0x7f00015e33a0>,\n",
       " <matplotlib.lines.Line2D at 0x7f00015e34c0>,\n",
       " <matplotlib.lines.Line2D at 0x7f00015e35e0>,\n",
       " <matplotlib.lines.Line2D at 0x7f00015e3700>,\n",
       " <matplotlib.lines.Line2D at 0x7f00015e3820>,\n",
       " <matplotlib.lines.Line2D at 0x7f00015e3940>,\n",
       " <matplotlib.lines.Line2D at 0x7f00015e3a60>,\n",
       " <matplotlib.lines.Line2D at 0x7f00015e3b80>,\n",
       " <matplotlib.lines.Line2D at 0x7f00015e3ca0>,\n",
       " <matplotlib.lines.Line2D at 0x7f00015e3dc0>,\n",
       " <matplotlib.lines.Line2D at 0x7f00015e3ee0>,\n",
       " <matplotlib.lines.Line2D at 0x7f00015e9040>,\n",
       " <matplotlib.lines.Line2D at 0x7f00015e9160>,\n",
       " <matplotlib.lines.Line2D at 0x7f00015e9280>,\n",
       " <matplotlib.lines.Line2D at 0x7f00015e93a0>,\n",
       " <matplotlib.lines.Line2D at 0x7f00015e94c0>,\n",
       " <matplotlib.lines.Line2D at 0x7f00015e95e0>,\n",
       " <matplotlib.lines.Line2D at 0x7f00015e9700>,\n",
       " <matplotlib.lines.Line2D at 0x7f00015e9820>,\n",
       " <matplotlib.lines.Line2D at 0x7f00015e9940>,\n",
       " <matplotlib.lines.Line2D at 0x7f00015e9a60>,\n",
       " <matplotlib.lines.Line2D at 0x7f00015e9b80>,\n",
       " <matplotlib.lines.Line2D at 0x7f00015e9ca0>,\n",
       " <matplotlib.lines.Line2D at 0x7f00015e9dc0>,\n",
       " <matplotlib.lines.Line2D at 0x7f00015e9ee0>,\n",
       " <matplotlib.lines.Line2D at 0x7f00015f6040>,\n",
       " <matplotlib.lines.Line2D at 0x7f00015f6160>,\n",
       " <matplotlib.lines.Line2D at 0x7f00015f6280>,\n",
       " <matplotlib.lines.Line2D at 0x7f00015f63a0>,\n",
       " <matplotlib.lines.Line2D at 0x7f00015f64c0>,\n",
       " <matplotlib.lines.Line2D at 0x7f00015f65e0>,\n",
       " <matplotlib.lines.Line2D at 0x7f00015f6700>,\n",
       " <matplotlib.lines.Line2D at 0x7f00015f6820>,\n",
       " <matplotlib.lines.Line2D at 0x7f00015f6940>,\n",
       " <matplotlib.lines.Line2D at 0x7f00015f6a60>,\n",
       " <matplotlib.lines.Line2D at 0x7f00015f6b80>,\n",
       " <matplotlib.lines.Line2D at 0x7f00015f6ca0>,\n",
       " <matplotlib.lines.Line2D at 0x7f00015f6dc0>,\n",
       " <matplotlib.lines.Line2D at 0x7f00015f6ee0>,\n",
       " <matplotlib.lines.Line2D at 0x7f00015fc040>,\n",
       " <matplotlib.lines.Line2D at 0x7f00015fc160>,\n",
       " <matplotlib.lines.Line2D at 0x7f00015fc280>,\n",
       " <matplotlib.lines.Line2D at 0x7f00015fc3a0>,\n",
       " <matplotlib.lines.Line2D at 0x7f00015fc4c0>,\n",
       " <matplotlib.lines.Line2D at 0x7f00015fc5e0>,\n",
       " <matplotlib.lines.Line2D at 0x7f00015fc700>,\n",
       " <matplotlib.lines.Line2D at 0x7f00015fc820>,\n",
       " <matplotlib.lines.Line2D at 0x7f00015fc940>,\n",
       " <matplotlib.lines.Line2D at 0x7f00015fca60>,\n",
       " <matplotlib.lines.Line2D at 0x7f00015fcb80>,\n",
       " <matplotlib.lines.Line2D at 0x7f00015fcca0>,\n",
       " <matplotlib.lines.Line2D at 0x7f00015fcdc0>,\n",
       " <matplotlib.lines.Line2D at 0x7f00015fcee0>,\n",
       " <matplotlib.lines.Line2D at 0x7f0001602040>,\n",
       " <matplotlib.lines.Line2D at 0x7f0001602160>,\n",
       " <matplotlib.lines.Line2D at 0x7f0001602280>,\n",
       " <matplotlib.lines.Line2D at 0x7f00016023a0>,\n",
       " <matplotlib.lines.Line2D at 0x7f00016024c0>,\n",
       " <matplotlib.lines.Line2D at 0x7f00016025e0>,\n",
       " <matplotlib.lines.Line2D at 0x7f0001602700>,\n",
       " <matplotlib.lines.Line2D at 0x7f0001602820>,\n",
       " <matplotlib.lines.Line2D at 0x7f0001602940>,\n",
       " <matplotlib.lines.Line2D at 0x7f0001602a60>,\n",
       " <matplotlib.lines.Line2D at 0x7f0001602b80>,\n",
       " <matplotlib.lines.Line2D at 0x7f0001602ca0>,\n",
       " <matplotlib.lines.Line2D at 0x7f0001602dc0>,\n",
       " <matplotlib.lines.Line2D at 0x7f0001602ee0>,\n",
       " <matplotlib.lines.Line2D at 0x7f0001607040>,\n",
       " <matplotlib.lines.Line2D at 0x7f0001607160>,\n",
       " <matplotlib.lines.Line2D at 0x7f0001607280>,\n",
       " <matplotlib.lines.Line2D at 0x7f00016073a0>,\n",
       " <matplotlib.lines.Line2D at 0x7f00016074c0>,\n",
       " <matplotlib.lines.Line2D at 0x7f00016075e0>,\n",
       " <matplotlib.lines.Line2D at 0x7f0001607700>,\n",
       " <matplotlib.lines.Line2D at 0x7f0001607820>,\n",
       " <matplotlib.lines.Line2D at 0x7f0001607940>,\n",
       " <matplotlib.lines.Line2D at 0x7f0001607a90>,\n",
       " <matplotlib.lines.Line2D at 0x7f0001607bb0>,\n",
       " <matplotlib.lines.Line2D at 0x7f0001607cd0>,\n",
       " <matplotlib.lines.Line2D at 0x7f0001607df0>,\n",
       " <matplotlib.lines.Line2D at 0x7f0001607f10>,\n",
       " <matplotlib.lines.Line2D at 0x7f00031a2070>,\n",
       " <matplotlib.lines.Line2D at 0x7f00031a2190>,\n",
       " <matplotlib.lines.Line2D at 0x7f00031a22b0>,\n",
       " <matplotlib.lines.Line2D at 0x7f00031a23d0>,\n",
       " <matplotlib.lines.Line2D at 0x7f00031a24f0>,\n",
       " <matplotlib.lines.Line2D at 0x7f00031a2610>,\n",
       " <matplotlib.lines.Line2D at 0x7f00031a2730>,\n",
       " <matplotlib.lines.Line2D at 0x7f00031a2850>,\n",
       " <matplotlib.lines.Line2D at 0x7f00031a2970>,\n",
       " <matplotlib.lines.Line2D at 0x7f00031a2a90>,\n",
       " <matplotlib.lines.Line2D at 0x7f00031a2bb0>,\n",
       " <matplotlib.lines.Line2D at 0x7f00031a2cd0>,\n",
       " <matplotlib.lines.Line2D at 0x7f00031a2df0>,\n",
       " <matplotlib.lines.Line2D at 0x7f00031a2f10>,\n",
       " <matplotlib.lines.Line2D at 0x7f00031b9070>,\n",
       " <matplotlib.lines.Line2D at 0x7f00031b9190>,\n",
       " <matplotlib.lines.Line2D at 0x7f00031b92b0>,\n",
       " <matplotlib.lines.Line2D at 0x7f00031b93d0>,\n",
       " <matplotlib.lines.Line2D at 0x7f00031b94f0>,\n",
       " <matplotlib.lines.Line2D at 0x7f00031b9610>,\n",
       " <matplotlib.lines.Line2D at 0x7f00031b9730>,\n",
       " <matplotlib.lines.Line2D at 0x7f00031b9850>,\n",
       " <matplotlib.lines.Line2D at 0x7f00031b9970>,\n",
       " <matplotlib.lines.Line2D at 0x7f00031b9a90>,\n",
       " <matplotlib.lines.Line2D at 0x7f00031b9bb0>,\n",
       " <matplotlib.lines.Line2D at 0x7f00031b9cd0>,\n",
       " <matplotlib.lines.Line2D at 0x7f00031b9df0>,\n",
       " <matplotlib.lines.Line2D at 0x7f00031b9f10>,\n",
       " <matplotlib.lines.Line2D at 0x7f0003196070>,\n",
       " <matplotlib.lines.Line2D at 0x7f0003196190>,\n",
       " <matplotlib.lines.Line2D at 0x7f00031962b0>,\n",
       " <matplotlib.lines.Line2D at 0x7f00031963d0>,\n",
       " <matplotlib.lines.Line2D at 0x7f00031964f0>,\n",
       " <matplotlib.lines.Line2D at 0x7f0003196610>,\n",
       " <matplotlib.lines.Line2D at 0x7f0003196730>,\n",
       " <matplotlib.lines.Line2D at 0x7f0003196850>,\n",
       " <matplotlib.lines.Line2D at 0x7f0003196970>,\n",
       " <matplotlib.lines.Line2D at 0x7f0003196a90>,\n",
       " <matplotlib.lines.Line2D at 0x7f0003196bb0>,\n",
       " <matplotlib.lines.Line2D at 0x7f0003196cd0>,\n",
       " <matplotlib.lines.Line2D at 0x7f0003196df0>,\n",
       " <matplotlib.lines.Line2D at 0x7f0003196f10>,\n",
       " <matplotlib.lines.Line2D at 0x7f00031c1070>,\n",
       " <matplotlib.lines.Line2D at 0x7f00031c1190>,\n",
       " <matplotlib.lines.Line2D at 0x7f00031c12b0>,\n",
       " <matplotlib.lines.Line2D at 0x7f00031c13d0>,\n",
       " <matplotlib.lines.Line2D at 0x7f00031c14f0>,\n",
       " <matplotlib.lines.Line2D at 0x7f00031c1610>,\n",
       " <matplotlib.lines.Line2D at 0x7f00031c1730>,\n",
       " <matplotlib.lines.Line2D at 0x7f00031c1850>,\n",
       " <matplotlib.lines.Line2D at 0x7f00031c1970>,\n",
       " <matplotlib.lines.Line2D at 0x7f00031c1a90>,\n",
       " <matplotlib.lines.Line2D at 0x7f00031c1bb0>,\n",
       " <matplotlib.lines.Line2D at 0x7f00031c1cd0>,\n",
       " <matplotlib.lines.Line2D at 0x7f00031c1df0>,\n",
       " <matplotlib.lines.Line2D at 0x7f00031c1f10>,\n",
       " <matplotlib.lines.Line2D at 0x7f00031ce070>,\n",
       " <matplotlib.lines.Line2D at 0x7f00031ce190>,\n",
       " <matplotlib.lines.Line2D at 0x7f00031ce2b0>,\n",
       " <matplotlib.lines.Line2D at 0x7f00031ce3d0>,\n",
       " <matplotlib.lines.Line2D at 0x7f00031ce4f0>,\n",
       " <matplotlib.lines.Line2D at 0x7f00031ce610>,\n",
       " <matplotlib.lines.Line2D at 0x7f00031ce730>,\n",
       " <matplotlib.lines.Line2D at 0x7f00031ce850>,\n",
       " <matplotlib.lines.Line2D at 0x7f00031ce970>,\n",
       " <matplotlib.lines.Line2D at 0x7f00031cea90>,\n",
       " <matplotlib.lines.Line2D at 0x7f00031cebb0>,\n",
       " <matplotlib.lines.Line2D at 0x7f00031cecd0>,\n",
       " <matplotlib.lines.Line2D at 0x7f00031cedf0>,\n",
       " <matplotlib.lines.Line2D at 0x7f00031cef10>,\n",
       " <matplotlib.lines.Line2D at 0x7f00031b2070>,\n",
       " <matplotlib.lines.Line2D at 0x7f00031b2190>,\n",
       " <matplotlib.lines.Line2D at 0x7f00031b22b0>,\n",
       " <matplotlib.lines.Line2D at 0x7f00031b23d0>,\n",
       " <matplotlib.lines.Line2D at 0x7f00031b24f0>,\n",
       " <matplotlib.lines.Line2D at 0x7f00031b2610>,\n",
       " <matplotlib.lines.Line2D at 0x7f00031b2730>,\n",
       " <matplotlib.lines.Line2D at 0x7f00031b2850>,\n",
       " <matplotlib.lines.Line2D at 0x7f00031b2970>,\n",
       " <matplotlib.lines.Line2D at 0x7f00031b2a90>,\n",
       " <matplotlib.lines.Line2D at 0x7f00031b2bb0>,\n",
       " <matplotlib.lines.Line2D at 0x7f00031b2cd0>,\n",
       " <matplotlib.lines.Line2D at 0x7f00031b2df0>,\n",
       " <matplotlib.lines.Line2D at 0x7f00031b2f10>,\n",
       " <matplotlib.lines.Line2D at 0x7f000319d070>,\n",
       " <matplotlib.lines.Line2D at 0x7f000319d190>,\n",
       " <matplotlib.lines.Line2D at 0x7f000319d2b0>,\n",
       " <matplotlib.lines.Line2D at 0x7f000319d3d0>,\n",
       " <matplotlib.lines.Line2D at 0x7f000319d4f0>,\n",
       " <matplotlib.lines.Line2D at 0x7f000319d610>,\n",
       " <matplotlib.lines.Line2D at 0x7f000319d730>,\n",
       " <matplotlib.lines.Line2D at 0x7f000319d850>,\n",
       " <matplotlib.lines.Line2D at 0x7f000319d970>,\n",
       " <matplotlib.lines.Line2D at 0x7f000319da90>,\n",
       " <matplotlib.lines.Line2D at 0x7f000319dbb0>,\n",
       " <matplotlib.lines.Line2D at 0x7f000319dcd0>,\n",
       " <matplotlib.lines.Line2D at 0x7f000319ddf0>,\n",
       " <matplotlib.lines.Line2D at 0x7f000319df10>,\n",
       " <matplotlib.lines.Line2D at 0x7f0003195070>,\n",
       " <matplotlib.lines.Line2D at 0x7f0003195190>,\n",
       " <matplotlib.lines.Line2D at 0x7f00031952b0>,\n",
       " <matplotlib.lines.Line2D at 0x7f00031953d0>,\n",
       " <matplotlib.lines.Line2D at 0x7f00031954f0>,\n",
       " <matplotlib.lines.Line2D at 0x7f0003195610>,\n",
       " <matplotlib.lines.Line2D at 0x7f0003195730>,\n",
       " <matplotlib.lines.Line2D at 0x7f0003195850>,\n",
       " <matplotlib.lines.Line2D at 0x7f0003195970>,\n",
       " <matplotlib.lines.Line2D at 0x7f0003195a90>,\n",
       " <matplotlib.lines.Line2D at 0x7f0003195bb0>,\n",
       " <matplotlib.lines.Line2D at 0x7f0003195cd0>,\n",
       " <matplotlib.lines.Line2D at 0x7f0003195df0>,\n",
       " <matplotlib.lines.Line2D at 0x7f0003195f10>,\n",
       " <matplotlib.lines.Line2D at 0x7f00031b5100>,\n",
       " <matplotlib.lines.Line2D at 0x7f00031b5160>,\n",
       " <matplotlib.lines.Line2D at 0x7f00031b52e0>,\n",
       " <matplotlib.lines.Line2D at 0x7f00031b54c0>,\n",
       " <matplotlib.lines.Line2D at 0x7f00031b54f0>,\n",
       " <matplotlib.lines.Line2D at 0x7f00031b5400>,\n",
       " <matplotlib.lines.Line2D at 0x7f00031b5790>,\n",
       " <matplotlib.lines.Line2D at 0x7f00031b5820>,\n",
       " <matplotlib.lines.Line2D at 0x7f00031b5970>,\n",
       " <matplotlib.lines.Line2D at 0x7f00031b5a60>,\n",
       " <matplotlib.lines.Line2D at 0x7f00031b5b80>,\n",
       " <matplotlib.lines.Line2D at 0x7f00031b5d60>,\n",
       " <matplotlib.lines.Line2D at 0x7f00031b5e20>,\n",
       " <matplotlib.lines.Line2D at 0x7f00031b5fa0>,\n",
       " <matplotlib.lines.Line2D at 0x7f00031cc070>,\n",
       " <matplotlib.lines.Line2D at 0x7f00031cc190>,\n",
       " <matplotlib.lines.Line2D at 0x7f00031cc2b0>,\n",
       " <matplotlib.lines.Line2D at 0x7f00031cc3d0>,\n",
       " <matplotlib.lines.Line2D at 0x7f00031cc4f0>,\n",
       " <matplotlib.lines.Line2D at 0x7f00031cc610>,\n",
       " <matplotlib.lines.Line2D at 0x7f00031cc730>,\n",
       " <matplotlib.lines.Line2D at 0x7f00031cc850>,\n",
       " <matplotlib.lines.Line2D at 0x7f00031cc970>,\n",
       " <matplotlib.lines.Line2D at 0x7f00031cca90>,\n",
       " <matplotlib.lines.Line2D at 0x7f00031ccbb0>,\n",
       " <matplotlib.lines.Line2D at 0x7f00031cccd0>,\n",
       " <matplotlib.lines.Line2D at 0x7f00031ccdf0>,\n",
       " <matplotlib.lines.Line2D at 0x7f00031ccf10>,\n",
       " <matplotlib.lines.Line2D at 0x7f000179e070>,\n",
       " <matplotlib.lines.Line2D at 0x7f000179e190>,\n",
       " <matplotlib.lines.Line2D at 0x7f000179e2b0>,\n",
       " <matplotlib.lines.Line2D at 0x7f000179e3d0>,\n",
       " <matplotlib.lines.Line2D at 0x7f000179e4f0>,\n",
       " <matplotlib.lines.Line2D at 0x7f000179e610>,\n",
       " <matplotlib.lines.Line2D at 0x7f000179e730>,\n",
       " <matplotlib.lines.Line2D at 0x7f000179e850>,\n",
       " <matplotlib.lines.Line2D at 0x7f000179e970>,\n",
       " <matplotlib.lines.Line2D at 0x7f000179ea90>,\n",
       " <matplotlib.lines.Line2D at 0x7f000179ebb0>,\n",
       " <matplotlib.lines.Line2D at 0x7f000179ecd0>,\n",
       " <matplotlib.lines.Line2D at 0x7f000179edf0>,\n",
       " <matplotlib.lines.Line2D at 0x7f000179ef10>,\n",
       " <matplotlib.lines.Line2D at 0x7f00017b8070>,\n",
       " <matplotlib.lines.Line2D at 0x7f00017b8190>,\n",
       " <matplotlib.lines.Line2D at 0x7f00017b82b0>,\n",
       " <matplotlib.lines.Line2D at 0x7f00017b83d0>,\n",
       " <matplotlib.lines.Line2D at 0x7f00017b84f0>,\n",
       " <matplotlib.lines.Line2D at 0x7f00017b8610>,\n",
       " <matplotlib.lines.Line2D at 0x7f00017b8730>,\n",
       " <matplotlib.lines.Line2D at 0x7f00017b8850>,\n",
       " <matplotlib.lines.Line2D at 0x7f00017b8970>,\n",
       " <matplotlib.lines.Line2D at 0x7f00017b8a90>,\n",
       " <matplotlib.lines.Line2D at 0x7f00017b8bb0>,\n",
       " <matplotlib.lines.Line2D at 0x7f00017b8cd0>,\n",
       " <matplotlib.lines.Line2D at 0x7f00017b8df0>,\n",
       " <matplotlib.lines.Line2D at 0x7f00017b8f10>,\n",
       " <matplotlib.lines.Line2D at 0x7f000178e070>,\n",
       " <matplotlib.lines.Line2D at 0x7f000178e190>,\n",
       " <matplotlib.lines.Line2D at 0x7f000178e2b0>,\n",
       " <matplotlib.lines.Line2D at 0x7f000178e3d0>,\n",
       " <matplotlib.lines.Line2D at 0x7f000178e4f0>,\n",
       " <matplotlib.lines.Line2D at 0x7f000178e610>,\n",
       " <matplotlib.lines.Line2D at 0x7f000178e730>,\n",
       " <matplotlib.lines.Line2D at 0x7f000178e850>,\n",
       " <matplotlib.lines.Line2D at 0x7f000178e970>,\n",
       " <matplotlib.lines.Line2D at 0x7f000178ea90>,\n",
       " <matplotlib.lines.Line2D at 0x7f000178ebb0>,\n",
       " <matplotlib.lines.Line2D at 0x7f000178ecd0>,\n",
       " <matplotlib.lines.Line2D at 0x7f000178edf0>,\n",
       " <matplotlib.lines.Line2D at 0x7f000178ef10>,\n",
       " <matplotlib.lines.Line2D at 0x7f00017b1070>,\n",
       " <matplotlib.lines.Line2D at 0x7f00017b1190>,\n",
       " <matplotlib.lines.Line2D at 0x7f00017b12b0>,\n",
       " <matplotlib.lines.Line2D at 0x7f00017b13d0>,\n",
       " <matplotlib.lines.Line2D at 0x7f00017b14f0>,\n",
       " <matplotlib.lines.Line2D at 0x7f00017b1610>,\n",
       " <matplotlib.lines.Line2D at 0x7f00017b1730>,\n",
       " <matplotlib.lines.Line2D at 0x7f00017b1850>,\n",
       " <matplotlib.lines.Line2D at 0x7f00017b1970>,\n",
       " <matplotlib.lines.Line2D at 0x7f00017b1a90>,\n",
       " <matplotlib.lines.Line2D at 0x7f00017b1bb0>,\n",
       " <matplotlib.lines.Line2D at 0x7f00017b1cd0>,\n",
       " <matplotlib.lines.Line2D at 0x7f00017b1df0>,\n",
       " <matplotlib.lines.Line2D at 0x7f00017b1f10>,\n",
       " <matplotlib.lines.Line2D at 0x7f00017c8070>,\n",
       " <matplotlib.lines.Line2D at 0x7f00017c8190>,\n",
       " <matplotlib.lines.Line2D at 0x7f00017c82b0>,\n",
       " <matplotlib.lines.Line2D at 0x7f00017c83d0>,\n",
       " <matplotlib.lines.Line2D at 0x7f00017c84f0>,\n",
       " <matplotlib.lines.Line2D at 0x7f00017c8610>,\n",
       " <matplotlib.lines.Line2D at 0x7f00017c8730>,\n",
       " <matplotlib.lines.Line2D at 0x7f00017c8850>,\n",
       " <matplotlib.lines.Line2D at 0x7f00017c8970>,\n",
       " <matplotlib.lines.Line2D at 0x7f00017c8a90>,\n",
       " <matplotlib.lines.Line2D at 0x7f00017c8bb0>,\n",
       " <matplotlib.lines.Line2D at 0x7f00017c8cd0>,\n",
       " <matplotlib.lines.Line2D at 0x7f00017c8df0>,\n",
       " <matplotlib.lines.Line2D at 0x7f00017c8f10>,\n",
       " <matplotlib.lines.Line2D at 0x7f00017bd070>,\n",
       " <matplotlib.lines.Line2D at 0x7f00017bd190>,\n",
       " <matplotlib.lines.Line2D at 0x7f00017bd2b0>,\n",
       " <matplotlib.lines.Line2D at 0x7f00017bd3d0>,\n",
       " <matplotlib.lines.Line2D at 0x7f00017bd4f0>,\n",
       " <matplotlib.lines.Line2D at 0x7f00017bd610>,\n",
       " <matplotlib.lines.Line2D at 0x7f00017bd730>,\n",
       " <matplotlib.lines.Line2D at 0x7f00017bd850>,\n",
       " <matplotlib.lines.Line2D at 0x7f00017bd970>,\n",
       " <matplotlib.lines.Line2D at 0x7f00017bda90>,\n",
       " <matplotlib.lines.Line2D at 0x7f00017bdbb0>,\n",
       " <matplotlib.lines.Line2D at 0x7f00017bdcd0>,\n",
       " <matplotlib.lines.Line2D at 0x7f00017bddf0>,\n",
       " <matplotlib.lines.Line2D at 0x7f00017bdf10>,\n",
       " <matplotlib.lines.Line2D at 0x7f00017a1070>,\n",
       " <matplotlib.lines.Line2D at 0x7f00017a1190>,\n",
       " <matplotlib.lines.Line2D at 0x7f00017a12b0>,\n",
       " <matplotlib.lines.Line2D at 0x7f00017a13d0>,\n",
       " <matplotlib.lines.Line2D at 0x7f00017a14f0>,\n",
       " <matplotlib.lines.Line2D at 0x7f00017a1610>,\n",
       " <matplotlib.lines.Line2D at 0x7f00017a1730>,\n",
       " <matplotlib.lines.Line2D at 0x7f00017a1850>,\n",
       " <matplotlib.lines.Line2D at 0x7f00017a1970>,\n",
       " <matplotlib.lines.Line2D at 0x7f00017a1a90>,\n",
       " <matplotlib.lines.Line2D at 0x7f00017a1bb0>,\n",
       " <matplotlib.lines.Line2D at 0x7f00017a1cd0>,\n",
       " <matplotlib.lines.Line2D at 0x7f00017a1df0>,\n",
       " <matplotlib.lines.Line2D at 0x7f00017a1f10>,\n",
       " <matplotlib.lines.Line2D at 0x7f000178d070>,\n",
       " <matplotlib.lines.Line2D at 0x7f000178d190>,\n",
       " <matplotlib.lines.Line2D at 0x7f000178d2b0>,\n",
       " <matplotlib.lines.Line2D at 0x7f000178d3d0>,\n",
       " <matplotlib.lines.Line2D at 0x7f000178d4f0>,\n",
       " <matplotlib.lines.Line2D at 0x7f000178d610>,\n",
       " <matplotlib.lines.Line2D at 0x7f000178d730>,\n",
       " <matplotlib.lines.Line2D at 0x7f000178d850>,\n",
       " <matplotlib.lines.Line2D at 0x7f000178d970>,\n",
       " <matplotlib.lines.Line2D at 0x7f000178da90>,\n",
       " <matplotlib.lines.Line2D at 0x7f000178dbb0>,\n",
       " <matplotlib.lines.Line2D at 0x7f000178dcd0>,\n",
       " <matplotlib.lines.Line2D at 0x7f000178ddf0>,\n",
       " <matplotlib.lines.Line2D at 0x7f000178df10>,\n",
       " <matplotlib.lines.Line2D at 0x7f000179f040>,\n",
       " <matplotlib.lines.Line2D at 0x7f000179f130>,\n",
       " <matplotlib.lines.Line2D at 0x7f000179f2b0>,\n",
       " <matplotlib.lines.Line2D at 0x7f000179f3a0>,\n",
       " <matplotlib.lines.Line2D at 0x7f000179f4c0>,\n",
       " <matplotlib.lines.Line2D at 0x7f000179f6a0>,\n",
       " <matplotlib.lines.Line2D at 0x7f000179f760>,\n",
       " <matplotlib.lines.Line2D at 0x7f000179f8e0>,\n",
       " <matplotlib.lines.Line2D at 0x7f000179f940>,\n",
       " <matplotlib.lines.Line2D at 0x7f000179fac0>,\n",
       " <matplotlib.lines.Line2D at 0x7f000179fca0>,\n",
       " <matplotlib.lines.Line2D at 0x7f000179fcd0>,\n",
       " <matplotlib.lines.Line2D at 0x7f000179fbe0>,\n",
       " <matplotlib.lines.Line2D at 0x7f000179ffa0>,\n",
       " <matplotlib.lines.Line2D at 0x7f00017c0070>,\n",
       " <matplotlib.lines.Line2D at 0x7f00017c0190>,\n",
       " <matplotlib.lines.Line2D at 0x7f00017c02b0>,\n",
       " <matplotlib.lines.Line2D at 0x7f00017c03d0>,\n",
       " <matplotlib.lines.Line2D at 0x7f00017c04f0>,\n",
       " <matplotlib.lines.Line2D at 0x7f00017c0610>,\n",
       " <matplotlib.lines.Line2D at 0x7f00017c0730>,\n",
       " <matplotlib.lines.Line2D at 0x7f00017c0850>,\n",
       " <matplotlib.lines.Line2D at 0x7f00017c0970>,\n",
       " <matplotlib.lines.Line2D at 0x7f00017c0a90>,\n",
       " <matplotlib.lines.Line2D at 0x7f00017c0bb0>,\n",
       " <matplotlib.lines.Line2D at 0x7f00017c0cd0>,\n",
       " <matplotlib.lines.Line2D at 0x7f00017c0df0>,\n",
       " <matplotlib.lines.Line2D at 0x7f00017c0f10>,\n",
       " <matplotlib.lines.Line2D at 0x7f0003125070>,\n",
       " <matplotlib.lines.Line2D at 0x7f0003125190>,\n",
       " <matplotlib.lines.Line2D at 0x7f00031252b0>,\n",
       " <matplotlib.lines.Line2D at 0x7f00031253d0>,\n",
       " <matplotlib.lines.Line2D at 0x7f00031254f0>,\n",
       " <matplotlib.lines.Line2D at 0x7f0003125610>,\n",
       " <matplotlib.lines.Line2D at 0x7f0003125730>,\n",
       " <matplotlib.lines.Line2D at 0x7f0003125850>,\n",
       " <matplotlib.lines.Line2D at 0x7f0003125970>,\n",
       " <matplotlib.lines.Line2D at 0x7f0003125a90>,\n",
       " <matplotlib.lines.Line2D at 0x7f0003125bb0>,\n",
       " <matplotlib.lines.Line2D at 0x7f0003125cd0>,\n",
       " <matplotlib.lines.Line2D at 0x7f0003125df0>,\n",
       " <matplotlib.lines.Line2D at 0x7f0003125f10>,\n",
       " <matplotlib.lines.Line2D at 0x7f0003144070>,\n",
       " <matplotlib.lines.Line2D at 0x7f0003144190>,\n",
       " <matplotlib.lines.Line2D at 0x7f00031442b0>,\n",
       " <matplotlib.lines.Line2D at 0x7f00031443d0>,\n",
       " <matplotlib.lines.Line2D at 0x7f00031444f0>,\n",
       " <matplotlib.lines.Line2D at 0x7f0003144610>,\n",
       " <matplotlib.lines.Line2D at 0x7f0003144730>,\n",
       " <matplotlib.lines.Line2D at 0x7f0003144850>,\n",
       " <matplotlib.lines.Line2D at 0x7f0003144970>,\n",
       " <matplotlib.lines.Line2D at 0x7f0003144a90>,\n",
       " <matplotlib.lines.Line2D at 0x7f0003144bb0>,\n",
       " <matplotlib.lines.Line2D at 0x7f0003144cd0>,\n",
       " <matplotlib.lines.Line2D at 0x7f0003144df0>,\n",
       " <matplotlib.lines.Line2D at 0x7f0003144f10>,\n",
       " <matplotlib.lines.Line2D at 0x7f000311a070>,\n",
       " <matplotlib.lines.Line2D at 0x7f000311a190>,\n",
       " <matplotlib.lines.Line2D at 0x7f000311a2b0>,\n",
       " <matplotlib.lines.Line2D at 0x7f000311a3d0>,\n",
       " <matplotlib.lines.Line2D at 0x7f000311a4f0>,\n",
       " <matplotlib.lines.Line2D at 0x7f000311a610>,\n",
       " <matplotlib.lines.Line2D at 0x7f000311a730>,\n",
       " <matplotlib.lines.Line2D at 0x7f000311a850>,\n",
       " <matplotlib.lines.Line2D at 0x7f000311a970>,\n",
       " <matplotlib.lines.Line2D at 0x7f000311aa90>,\n",
       " <matplotlib.lines.Line2D at 0x7f000311abb0>,\n",
       " <matplotlib.lines.Line2D at 0x7f000311acd0>,\n",
       " <matplotlib.lines.Line2D at 0x7f000311adf0>,\n",
       " <matplotlib.lines.Line2D at 0x7f000311af10>,\n",
       " <matplotlib.lines.Line2D at 0x7f0003138070>,\n",
       " <matplotlib.lines.Line2D at 0x7f0003138190>,\n",
       " <matplotlib.lines.Line2D at 0x7f00031382b0>,\n",
       " <matplotlib.lines.Line2D at 0x7f00031383d0>,\n",
       " <matplotlib.lines.Line2D at 0x7f00031384f0>,\n",
       " <matplotlib.lines.Line2D at 0x7f0003138610>,\n",
       " <matplotlib.lines.Line2D at 0x7f0003138730>,\n",
       " <matplotlib.lines.Line2D at 0x7f0003138850>,\n",
       " <matplotlib.lines.Line2D at 0x7f0003138970>,\n",
       " <matplotlib.lines.Line2D at 0x7f0003138a90>,\n",
       " <matplotlib.lines.Line2D at 0x7f0003138bb0>,\n",
       " <matplotlib.lines.Line2D at 0x7f0003138cd0>,\n",
       " <matplotlib.lines.Line2D at 0x7f0003138df0>,\n",
       " <matplotlib.lines.Line2D at 0x7f0003138f10>,\n",
       " <matplotlib.lines.Line2D at 0x7f000314f070>,\n",
       " <matplotlib.lines.Line2D at 0x7f000314f190>,\n",
       " <matplotlib.lines.Line2D at 0x7f000314f2b0>,\n",
       " <matplotlib.lines.Line2D at 0x7f000314f3d0>,\n",
       " <matplotlib.lines.Line2D at 0x7f000314f4f0>,\n",
       " <matplotlib.lines.Line2D at 0x7f000314f610>,\n",
       " <matplotlib.lines.Line2D at 0x7f000314f730>,\n",
       " <matplotlib.lines.Line2D at 0x7f000314f850>,\n",
       " <matplotlib.lines.Line2D at 0x7f000314f970>,\n",
       " <matplotlib.lines.Line2D at 0x7f000314fa90>,\n",
       " <matplotlib.lines.Line2D at 0x7f000314fbb0>,\n",
       " <matplotlib.lines.Line2D at 0x7f000314fcd0>,\n",
       " <matplotlib.lines.Line2D at 0x7f000314fdf0>,\n",
       " <matplotlib.lines.Line2D at 0x7f000314ff10>,\n",
       " <matplotlib.lines.Line2D at 0x7f0003146070>,\n",
       " <matplotlib.lines.Line2D at 0x7f0003146190>,\n",
       " <matplotlib.lines.Line2D at 0x7f00031462b0>,\n",
       " <matplotlib.lines.Line2D at 0x7f00031463d0>,\n",
       " <matplotlib.lines.Line2D at 0x7f00031464f0>,\n",
       " <matplotlib.lines.Line2D at 0x7f0003146610>,\n",
       " <matplotlib.lines.Line2D at 0x7f0003146730>,\n",
       " <matplotlib.lines.Line2D at 0x7f0003146850>,\n",
       " <matplotlib.lines.Line2D at 0x7f0003146970>,\n",
       " <matplotlib.lines.Line2D at 0x7f0003146a90>,\n",
       " <matplotlib.lines.Line2D at 0x7f0003146bb0>,\n",
       " <matplotlib.lines.Line2D at 0x7f0003146cd0>,\n",
       " <matplotlib.lines.Line2D at 0x7f0003146df0>,\n",
       " <matplotlib.lines.Line2D at 0x7f0003146f10>,\n",
       " <matplotlib.lines.Line2D at 0x7f0003129070>,\n",
       " <matplotlib.lines.Line2D at 0x7f0003129190>,\n",
       " <matplotlib.lines.Line2D at 0x7f00031292b0>,\n",
       " <matplotlib.lines.Line2D at 0x7f00031293d0>,\n",
       " <matplotlib.lines.Line2D at 0x7f00031294f0>,\n",
       " <matplotlib.lines.Line2D at 0x7f0003129610>,\n",
       " <matplotlib.lines.Line2D at 0x7f0003129730>,\n",
       " <matplotlib.lines.Line2D at 0x7f0003129850>,\n",
       " <matplotlib.lines.Line2D at 0x7f0003129970>,\n",
       " <matplotlib.lines.Line2D at 0x7f0003129a90>,\n",
       " <matplotlib.lines.Line2D at 0x7f0003129bb0>,\n",
       " <matplotlib.lines.Line2D at 0x7f0003129cd0>,\n",
       " <matplotlib.lines.Line2D at 0x7f0003129df0>,\n",
       " <matplotlib.lines.Line2D at 0x7f0003129f10>,\n",
       " <matplotlib.lines.Line2D at 0x7f0003116070>,\n",
       " <matplotlib.lines.Line2D at 0x7f0003116190>,\n",
       " <matplotlib.lines.Line2D at 0x7f00031162b0>,\n",
       " <matplotlib.lines.Line2D at 0x7f00031163d0>,\n",
       " <matplotlib.lines.Line2D at 0x7f00031164f0>,\n",
       " <matplotlib.lines.Line2D at 0x7f0003116610>,\n",
       " <matplotlib.lines.Line2D at 0x7f0003116730>,\n",
       " <matplotlib.lines.Line2D at 0x7f0003116850>,\n",
       " <matplotlib.lines.Line2D at 0x7f0003116970>,\n",
       " <matplotlib.lines.Line2D at 0x7f0003116a90>,\n",
       " <matplotlib.lines.Line2D at 0x7f0003116bb0>,\n",
       " <matplotlib.lines.Line2D at 0x7f0003116cd0>,\n",
       " <matplotlib.lines.Line2D at 0x7f0003116df0>,\n",
       " <matplotlib.lines.Line2D at 0x7f0003116f10>,\n",
       " <matplotlib.lines.Line2D at 0x7f00031310a0>,\n",
       " <matplotlib.lines.Line2D at 0x7f0003131190>,\n",
       " <matplotlib.lines.Line2D at 0x7f00031312e0>,\n",
       " <matplotlib.lines.Line2D at 0x7f0003131460>,\n",
       " <matplotlib.lines.Line2D at 0x7f00031314c0>,\n",
       " <matplotlib.lines.Line2D at 0x7f0003131640>,\n",
       " <matplotlib.lines.Line2D at 0x7f0003131820>,\n",
       " <matplotlib.lines.Line2D at 0x7f0003131850>,\n",
       " <matplotlib.lines.Line2D at 0x7f0003131760>,\n",
       " <matplotlib.lines.Line2D at 0x7f0003131af0>,\n",
       " <matplotlib.lines.Line2D at 0x7f0003131b80>,\n",
       " <matplotlib.lines.Line2D at 0x7f0003131cd0>,\n",
       " <matplotlib.lines.Line2D at 0x7f0003131dc0>,\n",
       " <matplotlib.lines.Line2D at 0x7f0003131ee0>,\n",
       " <matplotlib.lines.Line2D at 0x7f0003148070>,\n",
       " <matplotlib.lines.Line2D at 0x7f0003148190>,\n",
       " <matplotlib.lines.Line2D at 0x7f00031482b0>,\n",
       " <matplotlib.lines.Line2D at 0x7f00031483d0>,\n",
       " <matplotlib.lines.Line2D at 0x7f00031484f0>,\n",
       " <matplotlib.lines.Line2D at 0x7f0003148610>,\n",
       " <matplotlib.lines.Line2D at 0x7f0003148730>,\n",
       " <matplotlib.lines.Line2D at 0x7f0003148850>,\n",
       " <matplotlib.lines.Line2D at 0x7f0003148970>,\n",
       " <matplotlib.lines.Line2D at 0x7f0003148a90>,\n",
       " <matplotlib.lines.Line2D at 0x7f0003148bb0>,\n",
       " <matplotlib.lines.Line2D at 0x7f0003148cd0>,\n",
       " <matplotlib.lines.Line2D at 0x7f0003148df0>,\n",
       " <matplotlib.lines.Line2D at 0x7f0003148f10>,\n",
       " <matplotlib.lines.Line2D at 0x7f00030dc070>,\n",
       " <matplotlib.lines.Line2D at 0x7f00030dc190>,\n",
       " <matplotlib.lines.Line2D at 0x7f00030dc2b0>,\n",
       " <matplotlib.lines.Line2D at 0x7f00030dc3d0>,\n",
       " <matplotlib.lines.Line2D at 0x7f00030dc4f0>,\n",
       " <matplotlib.lines.Line2D at 0x7f00030dc610>,\n",
       " <matplotlib.lines.Line2D at 0x7f00030dc730>,\n",
       " <matplotlib.lines.Line2D at 0x7f00030dc850>,\n",
       " <matplotlib.lines.Line2D at 0x7f00030dc970>,\n",
       " <matplotlib.lines.Line2D at 0x7f00030dca90>,\n",
       " <matplotlib.lines.Line2D at 0x7f00030dcbb0>,\n",
       " <matplotlib.lines.Line2D at 0x7f00030dccd0>,\n",
       " <matplotlib.lines.Line2D at 0x7f00030dcdf0>,\n",
       " <matplotlib.lines.Line2D at 0x7f00030dcf10>,\n",
       " <matplotlib.lines.Line2D at 0x7f0003101070>,\n",
       " <matplotlib.lines.Line2D at 0x7f0003101190>,\n",
       " <matplotlib.lines.Line2D at 0x7f00031012b0>,\n",
       " <matplotlib.lines.Line2D at 0x7f00031013d0>,\n",
       " <matplotlib.lines.Line2D at 0x7f00031014f0>,\n",
       " <matplotlib.lines.Line2D at 0x7f0003101610>,\n",
       " <matplotlib.lines.Line2D at 0x7f0003101730>,\n",
       " <matplotlib.lines.Line2D at 0x7f0003101850>,\n",
       " <matplotlib.lines.Line2D at 0x7f0003101970>,\n",
       " <matplotlib.lines.Line2D at 0x7f0003101a90>,\n",
       " <matplotlib.lines.Line2D at 0x7f0003101bb0>,\n",
       " <matplotlib.lines.Line2D at 0x7f0003101cd0>,\n",
       " <matplotlib.lines.Line2D at 0x7f0003101df0>,\n",
       " <matplotlib.lines.Line2D at 0x7f0003101f10>,\n",
       " <matplotlib.lines.Line2D at 0x7f00030d6070>,\n",
       " <matplotlib.lines.Line2D at 0x7f00030d6190>,\n",
       " <matplotlib.lines.Line2D at 0x7f00030d62b0>,\n",
       " <matplotlib.lines.Line2D at 0x7f00030d63d0>,\n",
       " <matplotlib.lines.Line2D at 0x7f00030d64f0>,\n",
       " <matplotlib.lines.Line2D at 0x7f00030d6610>,\n",
       " <matplotlib.lines.Line2D at 0x7f00030d6730>,\n",
       " <matplotlib.lines.Line2D at 0x7f00030d6850>,\n",
       " <matplotlib.lines.Line2D at 0x7f00030d6970>,\n",
       " <matplotlib.lines.Line2D at 0x7f00030d6a90>,\n",
       " <matplotlib.lines.Line2D at 0x7f00030d6bb0>,\n",
       " <matplotlib.lines.Line2D at 0x7f00030d6cd0>,\n",
       " <matplotlib.lines.Line2D at 0x7f00030d6df0>,\n",
       " <matplotlib.lines.Line2D at 0x7f00030d6f10>,\n",
       " <matplotlib.lines.Line2D at 0x7f00030f2070>,\n",
       " <matplotlib.lines.Line2D at 0x7f00030f2190>,\n",
       " <matplotlib.lines.Line2D at 0x7f00030f22b0>,\n",
       " <matplotlib.lines.Line2D at 0x7f00030f23d0>,\n",
       " <matplotlib.lines.Line2D at 0x7f00030f24f0>,\n",
       " <matplotlib.lines.Line2D at 0x7f00030f2610>,\n",
       " <matplotlib.lines.Line2D at 0x7f00030f2730>,\n",
       " <matplotlib.lines.Line2D at 0x7f00030f2850>,\n",
       " <matplotlib.lines.Line2D at 0x7f00030f2970>,\n",
       " <matplotlib.lines.Line2D at 0x7f00030f2a90>,\n",
       " <matplotlib.lines.Line2D at 0x7f00030f2bb0>,\n",
       " <matplotlib.lines.Line2D at 0x7f00030f2cd0>,\n",
       " <matplotlib.lines.Line2D at 0x7f00030f2df0>,\n",
       " <matplotlib.lines.Line2D at 0x7f00030f2f10>,\n",
       " <matplotlib.lines.Line2D at 0x7f000310f070>,\n",
       " <matplotlib.lines.Line2D at 0x7f000310f190>,\n",
       " <matplotlib.lines.Line2D at 0x7f000310f2b0>,\n",
       " <matplotlib.lines.Line2D at 0x7f000310f3d0>,\n",
       " <matplotlib.lines.Line2D at 0x7f000310f4f0>,\n",
       " <matplotlib.lines.Line2D at 0x7f000310f610>,\n",
       " <matplotlib.lines.Line2D at 0x7f000310f730>,\n",
       " <matplotlib.lines.Line2D at 0x7f000310f850>,\n",
       " <matplotlib.lines.Line2D at 0x7f000310f970>,\n",
       " <matplotlib.lines.Line2D at 0x7f000310fa90>,\n",
       " <matplotlib.lines.Line2D at 0x7f000310fbb0>,\n",
       " <matplotlib.lines.Line2D at 0x7f000310fcd0>,\n",
       " <matplotlib.lines.Line2D at 0x7f000310fdf0>,\n",
       " <matplotlib.lines.Line2D at 0x7f000310ff10>,\n",
       " <matplotlib.lines.Line2D at 0x7f0003104070>,\n",
       " <matplotlib.lines.Line2D at 0x7f0003104190>,\n",
       " <matplotlib.lines.Line2D at 0x7f00031042b0>,\n",
       " <matplotlib.lines.Line2D at 0x7f00031043d0>,\n",
       " <matplotlib.lines.Line2D at 0x7f00031044f0>,\n",
       " <matplotlib.lines.Line2D at 0x7f0003104610>,\n",
       " <matplotlib.lines.Line2D at 0x7f0003104730>,\n",
       " <matplotlib.lines.Line2D at 0x7f0003104850>,\n",
       " <matplotlib.lines.Line2D at 0x7f0003104970>,\n",
       " <matplotlib.lines.Line2D at 0x7f0003104a90>,\n",
       " <matplotlib.lines.Line2D at 0x7f0003104bb0>,\n",
       " <matplotlib.lines.Line2D at 0x7f0003104cd0>,\n",
       " <matplotlib.lines.Line2D at 0x7f0003104df0>,\n",
       " <matplotlib.lines.Line2D at 0x7f0003104f10>,\n",
       " <matplotlib.lines.Line2D at 0x7f00030f0070>,\n",
       " <matplotlib.lines.Line2D at 0x7f00030f0190>,\n",
       " <matplotlib.lines.Line2D at 0x7f00030f02b0>,\n",
       " <matplotlib.lines.Line2D at 0x7f00030f03d0>,\n",
       " <matplotlib.lines.Line2D at 0x7f00030f04f0>,\n",
       " <matplotlib.lines.Line2D at 0x7f00030f0610>,\n",
       " <matplotlib.lines.Line2D at 0x7f00030f0730>,\n",
       " <matplotlib.lines.Line2D at 0x7f00030f0850>,\n",
       " <matplotlib.lines.Line2D at 0x7f00030f0970>,\n",
       " <matplotlib.lines.Line2D at 0x7f00030f0a90>,\n",
       " <matplotlib.lines.Line2D at 0x7f00030f0bb0>,\n",
       " <matplotlib.lines.Line2D at 0x7f00030f0cd0>,\n",
       " <matplotlib.lines.Line2D at 0x7f00030f0df0>,\n",
       " <matplotlib.lines.Line2D at 0x7f00030f0f10>,\n",
       " <matplotlib.lines.Line2D at 0x7f00030d8070>,\n",
       " <matplotlib.lines.Line2D at 0x7f00030d8190>,\n",
       " <matplotlib.lines.Line2D at 0x7f00030d82b0>,\n",
       " <matplotlib.lines.Line2D at 0x7f00030d83d0>,\n",
       " <matplotlib.lines.Line2D at 0x7f00030d84f0>,\n",
       " <matplotlib.lines.Line2D at 0x7f00030d8610>,\n",
       " <matplotlib.lines.Line2D at 0x7f00030d8730>,\n",
       " <matplotlib.lines.Line2D at 0x7f00030d8850>,\n",
       " <matplotlib.lines.Line2D at 0x7f00030d8970>,\n",
       " <matplotlib.lines.Line2D at 0x7f00030d8a90>,\n",
       " <matplotlib.lines.Line2D at 0x7f00030d8bb0>,\n",
       " <matplotlib.lines.Line2D at 0x7f00030d8cd0>,\n",
       " <matplotlib.lines.Line2D at 0x7f00030d8df0>,\n",
       " <matplotlib.lines.Line2D at 0x7f00030d8f10>,\n",
       " <matplotlib.lines.Line2D at 0x7f00030e5070>,\n",
       " <matplotlib.lines.Line2D at 0x7f00030e5190>,\n",
       " <matplotlib.lines.Line2D at 0x7f00030e52b0>,\n",
       " <matplotlib.lines.Line2D at 0x7f00030e53d0>,\n",
       " <matplotlib.lines.Line2D at 0x7f00030e54f0>,\n",
       " <matplotlib.lines.Line2D at 0x7f00030e5610>,\n",
       " <matplotlib.lines.Line2D at 0x7f00030e5730>,\n",
       " <matplotlib.lines.Line2D at 0x7f00030e5850>,\n",
       " <matplotlib.lines.Line2D at 0x7f00030e5970>,\n",
       " <matplotlib.lines.Line2D at 0x7f00030e5a90>,\n",
       " <matplotlib.lines.Line2D at 0x7f00030e5bb0>,\n",
       " <matplotlib.lines.Line2D at 0x7f00030e5cd0>,\n",
       " <matplotlib.lines.Line2D at 0x7f00030e5df0>,\n",
       " <matplotlib.lines.Line2D at 0x7f00030e5f10>,\n",
       " <matplotlib.lines.Line2D at 0x7f00030fe040>,\n",
       " <matplotlib.lines.Line2D at 0x7f00030fe130>,\n",
       " <matplotlib.lines.Line2D at 0x7f00030fe2b0>,\n",
       " <matplotlib.lines.Line2D at 0x7f00030fe3a0>,\n",
       " <matplotlib.lines.Line2D at 0x7f00030fe4c0>,\n",
       " <matplotlib.lines.Line2D at 0x7f00030fe6a0>,\n",
       " <matplotlib.lines.Line2D at 0x7f00030fe760>,\n",
       " <matplotlib.lines.Line2D at 0x7f00030fe8e0>,\n",
       " <matplotlib.lines.Line2D at 0x7f00030fe940>,\n",
       " <matplotlib.lines.Line2D at 0x7f00030feac0>,\n",
       " <matplotlib.lines.Line2D at 0x7f00030feca0>,\n",
       " <matplotlib.lines.Line2D at 0x7f00030fecd0>,\n",
       " <matplotlib.lines.Line2D at 0x7f00030febe0>,\n",
       " <matplotlib.lines.Line2D at 0x7f00030fefa0>,\n",
       " <matplotlib.lines.Line2D at 0x7f0003162070>,\n",
       " <matplotlib.lines.Line2D at 0x7f0003162190>,\n",
       " <matplotlib.lines.Line2D at 0x7f00031622b0>,\n",
       " <matplotlib.lines.Line2D at 0x7f00031623d0>,\n",
       " <matplotlib.lines.Line2D at 0x7f00031624f0>,\n",
       " <matplotlib.lines.Line2D at 0x7f0003162610>,\n",
       " <matplotlib.lines.Line2D at 0x7f0003162730>,\n",
       " <matplotlib.lines.Line2D at 0x7f0003162850>,\n",
       " <matplotlib.lines.Line2D at 0x7f0003162970>,\n",
       " <matplotlib.lines.Line2D at 0x7f0003162a90>,\n",
       " <matplotlib.lines.Line2D at 0x7f0003162bb0>,\n",
       " <matplotlib.lines.Line2D at 0x7f0003162cd0>,\n",
       " <matplotlib.lines.Line2D at 0x7f0003162df0>,\n",
       " <matplotlib.lines.Line2D at 0x7f0003162f10>,\n",
       " <matplotlib.lines.Line2D at 0x7f000317f070>,\n",
       " <matplotlib.lines.Line2D at 0x7f000317f190>,\n",
       " <matplotlib.lines.Line2D at 0x7f000317f2b0>,\n",
       " <matplotlib.lines.Line2D at 0x7f000317f3d0>,\n",
       " <matplotlib.lines.Line2D at 0x7f000317f4f0>,\n",
       " <matplotlib.lines.Line2D at 0x7f000317f610>,\n",
       " <matplotlib.lines.Line2D at 0x7f000317f730>,\n",
       " <matplotlib.lines.Line2D at 0x7f000317f850>,\n",
       " <matplotlib.lines.Line2D at 0x7f000317f970>,\n",
       " <matplotlib.lines.Line2D at 0x7f000317fa90>,\n",
       " <matplotlib.lines.Line2D at 0x7f000317fbb0>,\n",
       " <matplotlib.lines.Line2D at 0x7f000317fcd0>,\n",
       " <matplotlib.lines.Line2D at 0x7f000317fdf0>,\n",
       " <matplotlib.lines.Line2D at 0x7f000317ff10>,\n",
       " <matplotlib.lines.Line2D at 0x7f0003159070>,\n",
       " <matplotlib.lines.Line2D at 0x7f0003159190>,\n",
       " <matplotlib.lines.Line2D at 0x7f00031592b0>,\n",
       " <matplotlib.lines.Line2D at 0x7f00031593d0>,\n",
       " <matplotlib.lines.Line2D at 0x7f00031594f0>,\n",
       " <matplotlib.lines.Line2D at 0x7f0003159610>,\n",
       " <matplotlib.lines.Line2D at 0x7f0003159730>,\n",
       " <matplotlib.lines.Line2D at 0x7f0003159850>,\n",
       " <matplotlib.lines.Line2D at 0x7f0003159970>,\n",
       " <matplotlib.lines.Line2D at 0x7f0003159a90>,\n",
       " <matplotlib.lines.Line2D at 0x7f0003159bb0>,\n",
       " <matplotlib.lines.Line2D at 0x7f0003159cd0>,\n",
       " <matplotlib.lines.Line2D at 0x7f0003159df0>,\n",
       " <matplotlib.lines.Line2D at 0x7f0003159f10>,\n",
       " <matplotlib.lines.Line2D at 0x7f0003170070>,\n",
       " <matplotlib.lines.Line2D at 0x7f0003170190>,\n",
       " <matplotlib.lines.Line2D at 0x7f00031702b0>,\n",
       " <matplotlib.lines.Line2D at 0x7f00031703d0>,\n",
       " <matplotlib.lines.Line2D at 0x7f00031704f0>,\n",
       " <matplotlib.lines.Line2D at 0x7f0003170610>,\n",
       " <matplotlib.lines.Line2D at 0x7f0003170730>,\n",
       " <matplotlib.lines.Line2D at 0x7f0003170850>,\n",
       " <matplotlib.lines.Line2D at 0x7f0003170970>,\n",
       " <matplotlib.lines.Line2D at 0x7f0003170a90>,\n",
       " <matplotlib.lines.Line2D at 0x7f0003170bb0>,\n",
       " <matplotlib.lines.Line2D at 0x7f0003170cd0>,\n",
       " <matplotlib.lines.Line2D at 0x7f0003170df0>,\n",
       " <matplotlib.lines.Line2D at 0x7f0003170f10>,\n",
       " <matplotlib.lines.Line2D at 0x7f0003187070>,\n",
       " <matplotlib.lines.Line2D at 0x7f0003187190>,\n",
       " <matplotlib.lines.Line2D at 0x7f00031872b0>,\n",
       " <matplotlib.lines.Line2D at 0x7f00031873d0>,\n",
       " <matplotlib.lines.Line2D at 0x7f00031874f0>,\n",
       " <matplotlib.lines.Line2D at 0x7f0003187610>,\n",
       " <matplotlib.lines.Line2D at 0x7f0003187730>,\n",
       " <matplotlib.lines.Line2D at 0x7f0003187850>,\n",
       " <matplotlib.lines.Line2D at 0x7f00031879a0>,\n",
       " <matplotlib.lines.Line2D at 0x7f0003187ac0>,\n",
       " <matplotlib.lines.Line2D at 0x7f0003187be0>,\n",
       " <matplotlib.lines.Line2D at 0x7f0003187d00>,\n",
       " <matplotlib.lines.Line2D at 0x7f0003187e20>,\n",
       " <matplotlib.lines.Line2D at 0x7f0003187f40>,\n",
       " <matplotlib.lines.Line2D at 0x7f00031840a0>,\n",
       " <matplotlib.lines.Line2D at 0x7f00031841c0>,\n",
       " <matplotlib.lines.Line2D at 0x7f00031842e0>,\n",
       " <matplotlib.lines.Line2D at 0x7f0003184400>,\n",
       " <matplotlib.lines.Line2D at 0x7f0003184520>,\n",
       " <matplotlib.lines.Line2D at 0x7f0003184640>,\n",
       " <matplotlib.lines.Line2D at 0x7f0003184760>,\n",
       " <matplotlib.lines.Line2D at 0x7f0003184880>,\n",
       " <matplotlib.lines.Line2D at 0x7f00031849a0>,\n",
       " <matplotlib.lines.Line2D at 0x7f0003184ac0>,\n",
       " <matplotlib.lines.Line2D at 0x7f0003184be0>,\n",
       " <matplotlib.lines.Line2D at 0x7f0003184d00>,\n",
       " <matplotlib.lines.Line2D at 0x7f0003184e20>,\n",
       " <matplotlib.lines.Line2D at 0x7f0003184f40>,\n",
       " <matplotlib.lines.Line2D at 0x7f000316a0a0>,\n",
       " <matplotlib.lines.Line2D at 0x7f000316a1c0>,\n",
       " <matplotlib.lines.Line2D at 0x7f000316a2e0>,\n",
       " <matplotlib.lines.Line2D at 0x7f000316a400>,\n",
       " <matplotlib.lines.Line2D at 0x7f000316a520>,\n",
       " <matplotlib.lines.Line2D at 0x7f000316a640>,\n",
       " <matplotlib.lines.Line2D at 0x7f000316a760>,\n",
       " <matplotlib.lines.Line2D at 0x7f000316a880>,\n",
       " <matplotlib.lines.Line2D at 0x7f000316a9a0>,\n",
       " <matplotlib.lines.Line2D at 0x7f000316aac0>,\n",
       " <matplotlib.lines.Line2D at 0x7f000316abe0>,\n",
       " <matplotlib.lines.Line2D at 0x7f000316ad00>,\n",
       " <matplotlib.lines.Line2D at 0x7f000316ae20>,\n",
       " <matplotlib.lines.Line2D at 0x7f000316af40>,\n",
       " <matplotlib.lines.Line2D at 0x7f00031570a0>,\n",
       " <matplotlib.lines.Line2D at 0x7f00031571c0>,\n",
       " <matplotlib.lines.Line2D at 0x7f00031572e0>,\n",
       " <matplotlib.lines.Line2D at 0x7f0003157400>,\n",
       " <matplotlib.lines.Line2D at 0x7f0003157520>,\n",
       " <matplotlib.lines.Line2D at 0x7f0003157640>,\n",
       " <matplotlib.lines.Line2D at 0x7f0003157760>,\n",
       " <matplotlib.lines.Line2D at 0x7f0003157880>,\n",
       " <matplotlib.lines.Line2D at 0x7f00031579a0>,\n",
       " <matplotlib.lines.Line2D at 0x7f0003157ac0>,\n",
       " <matplotlib.lines.Line2D at 0x7f0003157be0>,\n",
       " <matplotlib.lines.Line2D at 0x7f0003157d00>,\n",
       " <matplotlib.lines.Line2D at 0x7f0003157e20>,\n",
       " <matplotlib.lines.Line2D at 0x7f0003157f40>,\n",
       " <matplotlib.lines.Line2D at 0x7f00031650a0>,\n",
       " <matplotlib.lines.Line2D at 0x7f00031651c0>,\n",
       " <matplotlib.lines.Line2D at 0x7f00031652e0>,\n",
       " <matplotlib.lines.Line2D at 0x7f0003165400>,\n",
       " <matplotlib.lines.Line2D at 0x7f0003165520>,\n",
       " <matplotlib.lines.Line2D at 0x7f0003165640>,\n",
       " <matplotlib.lines.Line2D at 0x7f0003165760>,\n",
       " <matplotlib.lines.Line2D at 0x7f0003165880>,\n",
       " <matplotlib.lines.Line2D at 0x7f00031659a0>,\n",
       " <matplotlib.lines.Line2D at 0x7f0003165ac0>,\n",
       " <matplotlib.lines.Line2D at 0x7f0003165be0>,\n",
       " <matplotlib.lines.Line2D at 0x7f0003165d00>,\n",
       " <matplotlib.lines.Line2D at 0x7f0003165e20>,\n",
       " <matplotlib.lines.Line2D at 0x7f0003165f40>,\n",
       " <matplotlib.lines.Line2D at 0x7f00031860a0>,\n",
       " <matplotlib.lines.Line2D at 0x7f00031861c0>,\n",
       " <matplotlib.lines.Line2D at 0x7f00031862e0>,\n",
       " <matplotlib.lines.Line2D at 0x7f0003186400>,\n",
       " <matplotlib.lines.Line2D at 0x7f0003186520>,\n",
       " <matplotlib.lines.Line2D at 0x7f0003186640>,\n",
       " <matplotlib.lines.Line2D at 0x7f0003186760>,\n",
       " <matplotlib.lines.Line2D at 0x7f0003186880>,\n",
       " <matplotlib.lines.Line2D at 0x7f00031869a0>,\n",
       " <matplotlib.lines.Line2D at 0x7f0003186ac0>,\n",
       " <matplotlib.lines.Line2D at 0x7f0003186be0>,\n",
       " <matplotlib.lines.Line2D at 0x7f0003186d00>,\n",
       " <matplotlib.lines.Line2D at 0x7f0003186e20>,\n",
       " <matplotlib.lines.Line2D at 0x7f0003186f40>,\n",
       " <matplotlib.lines.Line2D at 0x7f00030a10a0>,\n",
       " <matplotlib.lines.Line2D at 0x7f00030a11c0>,\n",
       " <matplotlib.lines.Line2D at 0x7f00030a12e0>,\n",
       " <matplotlib.lines.Line2D at 0x7f00030a1400>,\n",
       " <matplotlib.lines.Line2D at 0x7f00030a1520>,\n",
       " <matplotlib.lines.Line2D at 0x7f00030a1640>,\n",
       " <matplotlib.lines.Line2D at 0x7f00030a1760>,\n",
       " <matplotlib.lines.Line2D at 0x7f00030a1880>,\n",
       " <matplotlib.lines.Line2D at 0x7f00030a19a0>,\n",
       " <matplotlib.lines.Line2D at 0x7f00030a1ac0>,\n",
       " <matplotlib.lines.Line2D at 0x7f00030a1be0>,\n",
       " <matplotlib.lines.Line2D at 0x7f00030a1d00>,\n",
       " <matplotlib.lines.Line2D at 0x7f00030a1e20>,\n",
       " <matplotlib.lines.Line2D at 0x7f00030a1f40>,\n",
       " <matplotlib.lines.Line2D at 0x7f00030bb0a0>,\n",
       " <matplotlib.lines.Line2D at 0x7f00030bb1c0>,\n",
       " <matplotlib.lines.Line2D at 0x7f00030bb2e0>,\n",
       " <matplotlib.lines.Line2D at 0x7f00030bb400>,\n",
       " <matplotlib.lines.Line2D at 0x7f00030bb520>,\n",
       " <matplotlib.lines.Line2D at 0x7f00030bb640>,\n",
       " <matplotlib.lines.Line2D at 0x7f00030bb760>,\n",
       " <matplotlib.lines.Line2D at 0x7f00030bb880>,\n",
       " ...]"
      ]
     },
     "execution_count": 29,
     "metadata": {},
     "output_type": "execute_result"
    },
    {
     "data": {
      "image/png": "[encoded data removed]",
      "text/plain": [
       "<Figure size 432x288 with 1 Axes>"
      ]
     },
     "metadata": {
      "needs_background": "light"
     },
     "output_type": "display_data"
    }
   ],
   "source": [
    "plt.plot(gap_vector)"
   ]
  },
  {
   "cell_type": "code",
   "execution_count": null,
   "metadata": {},
   "outputs": [],
   "source": [
    "marker = 0\n",
    "for i in range(1,length-1):\n",
    "    if cluster_dict_list[marker] == cluster_dict_list[i]:\n",
    "\n",
    "        gap_vector[marker] += gap_vector[i]\n",
    "        gap_vector[i] = 0\n",
    "        #print(marker)\n",
    "\n",
    "\n",
    "    else:\n",
    "        marker = i"
   ]
  },
  {
   "cell_type": "code",
   "execution_count": null,
   "metadata": {},
   "outputs": [],
   "source": [
    "print(np.sum(gap_vector))\n",
    "plt.plot(gap_vector)"
   ]
  },
  {
   "cell_type": "code",
   "execution_count": null,
   "metadata": {},
   "outputs": [],
   "source": [
    "candidates = np.flip(np.argsort(gap_vector))"
   ]
  },
  {
   "cell_type": "code",
   "execution_count": null,
   "metadata": {},
   "outputs": [],
   "source": [
    "candidates[0]"
   ]
  },
  {
   "cell_type": "code",
   "execution_count": null,
   "metadata": {},
   "outputs": [],
   "source": [
    "gap_vector[candidates[0]]"
   ]
  },
  {
   "cell_type": "code",
   "execution_count": null,
   "metadata": {},
   "outputs": [],
   "source": []
  },
  {
   "cell_type": "code",
   "execution_count": null,
   "metadata": {},
   "outputs": [],
   "source": [
    "#convert the simplex tree to a pandas dataframe\n",
    "df = pd.DataFrame(simplex_tree.get_filtration(), columns=['simplex','distance'])"
   ]
  },
  {
   "cell_type": "code",
   "execution_count": null,
   "metadata": {},
   "outputs": [],
   "source": [
    "df = df[:len(cluster_dict_list)]\n",
    "df"
   ]
  },
  {
   "cell_type": "code",
   "execution_count": null,
   "metadata": {},
   "outputs": [],
   "source": [
    "#find the gaps between birth/death pairs\n",
    "df['gaps'] = df['distance'] - df['distance'].shift(1)"
   ]
  },
  {
   "cell_type": "code",
   "execution_count": null,
   "metadata": {},
   "outputs": [],
   "source": [
    "#find normalized distance\n",
    "scaler = MinMaxScaler()\n",
    "df['normed_distance'] = scaler.fit_transform(df['distance'].values.reshape(-1, 1))"
   ]
  },
  {
   "cell_type": "code",
   "execution_count": null,
   "metadata": {},
   "outputs": [],
   "source": [
    "df"
   ]
  },
  {
   "cell_type": "code",
   "execution_count": null,
   "metadata": {},
   "outputs": [],
   "source": [
    "df['inverted_normed_distance'] = 1 - df['normed_distance']"
   ]
  },
  {
   "cell_type": "code",
   "execution_count": null,
   "metadata": {},
   "outputs": [],
   "source": [
    "df"
   ]
  },
  {
   "cell_type": "code",
   "execution_count": null,
   "metadata": {},
   "outputs": [],
   "source": [
    "df['normed_gaps'] = df['gaps'] * df['normed_distance']"
   ]
  },
  {
   "cell_type": "code",
   "execution_count": null,
   "metadata": {},
   "outputs": [],
   "source": [
    "df['inverted_normed_gaps'] = df['gaps'] * df['inverted_normed_distance']"
   ]
  },
  {
   "cell_type": "code",
   "execution_count": null,
   "metadata": {},
   "outputs": [],
   "source": [
    "normed_gap_sum = df['normed_gaps'].sum()\n",
    "#print(sum)\n",
    "df['probability_vector'] = df['normed_gaps'] / normed_gap_sum"
   ]
  },
  {
   "cell_type": "code",
   "execution_count": null,
   "metadata": {},
   "outputs": [],
   "source": [
    "inverted_gap_sum = df['inverted_normed_gaps'].sum()\n",
    "#print(sum)\n",
    "df['inverted_gap_vector'] = df['inverted_normed_gaps'] / inverted_gap_sum"
   ]
  },
  {
   "cell_type": "code",
   "execution_count": null,
   "metadata": {},
   "outputs": [],
   "source": [
    "gap_sum = df['gaps'].sum()\n",
    "#print(sum)\n",
    "df['gap_vector'] = df['gaps'] / gap_sum"
   ]
  },
  {
   "cell_type": "code",
   "execution_count": null,
   "metadata": {},
   "outputs": [],
   "source": [
    "df['probability_vector'][1:]"
   ]
  },
  {
   "cell_type": "code",
   "execution_count": null,
   "metadata": {},
   "outputs": [],
   "source": [
    "sum(df['probability_vector'][1:])"
   ]
  },
  {
   "cell_type": "code",
   "execution_count": null,
   "metadata": {},
   "outputs": [],
   "source": [
    "sum(df['gap_vector'][1:])"
   ]
  },
  {
   "cell_type": "code",
   "execution_count": null,
   "metadata": {},
   "outputs": [],
   "source": [
    "sum(df['inverted_gap_vector'][1:])"
   ]
  },
  {
   "cell_type": "code",
   "execution_count": null,
   "metadata": {},
   "outputs": [],
   "source": [
    "plt.plot(df['probability_vector'])"
   ]
  },
  {
   "cell_type": "code",
   "execution_count": null,
   "metadata": {},
   "outputs": [],
   "source": [
    "plt.plot(df['gap_vector'])"
   ]
  },
  {
   "cell_type": "code",
   "execution_count": null,
   "metadata": {},
   "outputs": [],
   "source": [
    "plt.plot(df['inverted_gap_vector'])"
   ]
  },
  {
   "cell_type": "code",
   "execution_count": null,
   "metadata": {},
   "outputs": [],
   "source": [
    "cluster_dict_list[0].values()"
   ]
  },
  {
   "cell_type": "code",
   "execution_count": null,
   "metadata": {},
   "outputs": [],
   "source": [
    "df.columns"
   ]
  },
  {
   "cell_type": "code",
   "execution_count": null,
   "metadata": {},
   "outputs": [],
   "source": [
    "marker = 0\n",
    "for i in range(1,length-1):\n",
    "    if cluster_dict_list[marker] == cluster_dict_list[i]:\n",
    "\n",
    "        df.iloc[marker,7] += df.iloc[i,7]\n",
    "        df.iloc[i,7] = 0\n",
    "                \n",
    "        df.iloc[marker,8] += df.iloc[i,8]\n",
    "        df.iloc[i,8] = 0\n",
    "                \n",
    "        df.iloc[marker,9] += df.iloc[i,9]\n",
    "        df.iloc[i,9] = 0\n",
    "        #print(marker)\n",
    "\n",
    "\n",
    "    else:\n",
    "        marker = i"
   ]
  },
  {
   "cell_type": "code",
   "execution_count": null,
   "metadata": {},
   "outputs": [],
   "source": [
    "plt.plot(df['probability_vector'])"
   ]
  },
  {
   "cell_type": "code",
   "execution_count": null,
   "metadata": {},
   "outputs": [],
   "source": [
    "plt.plot(df['gap_vector'])"
   ]
  },
  {
   "cell_type": "code",
   "execution_count": null,
   "metadata": {},
   "outputs": [],
   "source": [
    "plt.plot(df['inverted_gap_vector'])"
   ]
  },
  {
   "cell_type": "code",
   "execution_count": null,
   "metadata": {
    "scrolled": true
   },
   "outputs": [],
   "source": [
    "candidates = list(df.nlargest(length,['inverted_gap_vector']).index)"
   ]
  },
  {
   "cell_type": "code",
   "execution_count": null,
   "metadata": {},
   "outputs": [],
   "source": [
    "candidates"
   ]
  },
  {
   "cell_type": "code",
   "execution_count": null,
   "metadata": {},
   "outputs": [],
   "source": [
    "idx = candidates[0]\n",
    "idx"
   ]
  },
  {
   "cell_type": "code",
   "execution_count": null,
   "metadata": {},
   "outputs": [],
   "source": [
    "print(df.loc[:,'gap_vector'][idx])\n",
    "print('percent confidence')\n",
    "'{:.1%}'.format(df.loc[:,'gap_vector'][idx])"
   ]
  },
  {
   "cell_type": "code",
   "execution_count": null,
   "metadata": {},
   "outputs": [],
   "source": [
    "np.array(list(cluster_dict_list[idx].values()))"
   ]
  },
  {
   "cell_type": "code",
   "execution_count": null,
   "metadata": {},
   "outputs": [],
   "source": [
    "#cluster_idx_array = (np.unique(np.array(list(cluster_dict_list[idx].values()))))\n",
    "#print(cluster_idx_array)\n",
    "#print(np.count_nonzero(cluster_idx_array))\n",
    "\n",
    "number_of_clusters = np.count_nonzero(np.unique(np.array(list(cluster_dict_list[idx].values()))))\n",
    "print(number_of_clusters)\n",
    "print('your dataset appears to have', number_of_clusters,'clusters, not including any outliers')\n",
    "#return counts from np.unique? to filter out small clusters?"
   ]
  },
  {
   "cell_type": "code",
   "execution_count": null,
   "metadata": {},
   "outputs": [],
   "source": [
    "true = y\n",
    "pred = np.array(list(cluster_dict_list[idx].values()))\n",
    "\n",
    "print(metrics.adjusted_rand_score(true, pred))\n",
    "print(metrics.silhouette_score(X, pred, metric=\"sqeuclidean\"))"
   ]
  },
  {
   "cell_type": "code",
   "execution_count": null,
   "metadata": {},
   "outputs": [],
   "source": [
    "size=12\n",
    "plt.figure(figsize=(size,size))\n",
    "plt.scatter(X[:, 0], X[:, 1],\n",
    "            s=50, \n",
    "            c=np.array(list(cluster_dict_list[idx].values())),\n",
    "            marker=\"o\",\n",
    "            cmap='flag',\n",
    "            norm=None,\n",
    "            alpha=.9,\n",
    "            edgecolor=\"k\")"
   ]
  },
  {
   "cell_type": "code",
   "execution_count": null,
   "metadata": {},
   "outputs": [],
   "source": [
    "idx_list = candidates[:50]"
   ]
  },
  {
   "cell_type": "code",
   "execution_count": null,
   "metadata": {},
   "outputs": [],
   "source": [
    "idx_list.sort()"
   ]
  },
  {
   "cell_type": "code",
   "execution_count": null,
   "metadata": {},
   "outputs": [],
   "source": [
    "idx_list = [x for x in idx_list if x < idx]"
   ]
  },
  {
   "cell_type": "code",
   "execution_count": null,
   "metadata": {
    "scrolled": false
   },
   "outputs": [],
   "source": [
    "idx_array = np.asarray(idx_list)\n",
    "idx_array"
   ]
  },
  {
   "cell_type": "code",
   "execution_count": null,
   "metadata": {},
   "outputs": [],
   "source": [
    "silhouette_list = []\n",
    "for i in idx_list:\n",
    "    silhouette = metrics.silhouette_score(X, np.array(list(cluster_dict_list[i].values())), metric=\"euclidean\")\n",
    "    silhouette_list.append(silhouette)"
   ]
  },
  {
   "cell_type": "code",
   "execution_count": null,
   "metadata": {
    "scrolled": true
   },
   "outputs": [],
   "source": [
    "silhouette_array = np.asarray(silhouette_list)"
   ]
  },
  {
   "cell_type": "code",
   "execution_count": null,
   "metadata": {
    "scrolled": true
   },
   "outputs": [],
   "source": [
    "plt.plot(idx_array,silhouette_array)"
   ]
  },
  {
   "cell_type": "code",
   "execution_count": null,
   "metadata": {},
   "outputs": [],
   "source": [
    "max(silhouette_array)"
   ]
  },
  {
   "cell_type": "code",
   "execution_count": null,
   "metadata": {},
   "outputs": [],
   "source": [
    "max_idx = silhouette_array.argmax()"
   ]
  },
  {
   "cell_type": "code",
   "execution_count": null,
   "metadata": {},
   "outputs": [],
   "source": [
    "idx = idx_array[max_idx]\n",
    "idx"
   ]
  },
  {
   "cell_type": "code",
   "execution_count": null,
   "metadata": {},
   "outputs": [],
   "source": [
    "#idx = silhouette_scores.index(max(silhouette_scores[simplex_tree.num_vertices():idx]))\n",
    "#print(idx)"
   ]
  },
  {
   "cell_type": "code",
   "execution_count": null,
   "metadata": {},
   "outputs": [],
   "source": [
    "rand_score_list = []\n",
    "true = y\n",
    "for i in idx_list:\n",
    "    pred = np.array(list(cluster_dict_list[i].values()))\n",
    "    rand_score = metrics.adjusted_rand_score( true, pred)\n",
    "    rand_score_list.append(rand_score)"
   ]
  },
  {
   "cell_type": "code",
   "execution_count": null,
   "metadata": {
    "scrolled": true
   },
   "outputs": [],
   "source": [
    "rand_score_array = np.asarray(rand_score_list)"
   ]
  },
  {
   "cell_type": "code",
   "execution_count": null,
   "metadata": {},
   "outputs": [],
   "source": [
    " plt.plot(idx_array,rand_score_array)"
   ]
  },
  {
   "cell_type": "code",
   "execution_count": null,
   "metadata": {},
   "outputs": [],
   "source": [
    "max(rand_score_array)"
   ]
  },
  {
   "cell_type": "code",
   "execution_count": null,
   "metadata": {
    "scrolled": true
   },
   "outputs": [],
   "source": [
    "np.where(rand_score_array == max(rand_score_array) )"
   ]
  },
  {
   "cell_type": "code",
   "execution_count": null,
   "metadata": {},
   "outputs": [],
   "source": [
    "#idx_array[31]"
   ]
  },
  {
   "cell_type": "code",
   "execution_count": null,
   "metadata": {},
   "outputs": [],
   "source": [
    "fig, ax = plt.subplots(figsize=(5,5))\n",
    "frames = len(idx_array)\n",
    "\n",
    "\n",
    "outfile = filename + str(frames) + 'frames.gif'\n",
    "\n",
    "if not os.path.isfile(outfile):\n",
    "    def init():\n",
    "        scatter = ax.scatter(X[:, 0], X[:, 1],\n",
    "                        s=40, \n",
    "                        c=np.array(list(cluster_dict_list[0].values())),\n",
    "                        marker=\"o\",\n",
    "                        cmap='rainbow',\n",
    "                        norm=None,\n",
    "                        alpha=1,\n",
    "                        edgecolor=\"k\")\n",
    "        #ax.set(xlim=(-1, 35), ylim=(-1, 35))\n",
    "\n",
    "        return scatter,\n",
    "\n",
    "    #collection = PatchCollection(X, animated=True)\n",
    "\n",
    "    #ax.add_collection(collection)\n",
    "    #ax.autoscale_view(True)\n",
    "\n",
    "    def animate(i):\n",
    "\n",
    "        scatter = ax.scatter(X[:, 0], X[:, 1],\n",
    "                    s=40, \n",
    "                    c=np.array(list(cluster_dict_list[idx_array[i]].values())),\n",
    "                    marker=\"o\",\n",
    "                    cmap='flag',\n",
    "                    norm=None,\n",
    "                    alpha=1,\n",
    "                    edgecolor=\"k\")\n",
    "        return scatter,\n",
    "\n",
    "\n",
    "\n",
    "    ani = FuncAnimation(fig, animate,interval=200,init_func=init,frames=frames,repeat=False, blit=True)\n",
    "\n",
    "    #ani.save('animation.gif')\n",
    "\n",
    "\n",
    "\n",
    "    #writer=animation.PillowWriter()\n",
    "\n",
    "    #writer = animation.FFMpegWriter(fps=2,bitrate=1000)\n",
    "\n",
    "    ani.save(outfile, dpi=200)\n",
    "    fig.show()\n"
   ]
  },
  {
   "cell_type": "code",
   "execution_count": null,
   "metadata": {},
   "outputs": [],
   "source": [
    "def pogo(dataset):\n",
    "    rips_complex = gudhi.RipsComplex(points=dataset,max_edge_length=100)\n",
    "    simplex_tree = rips_complex.create_simplex_tree(max_dimension=1)\n",
    "    df = pd.DataFrame(simplex_tree.get_filtration(), columns=['simplex','distance'])\n",
    "    #move through list and assign clusters to conected components\n",
    "\n",
    "    point_dict={i:0 for i in range(simplex_tree.num_vertices())}\n",
    "    counter=0\n",
    "\n",
    "    cluster_dict_list = []\n",
    "    for i in range(simplex_tree.num_vertices(),len(df)):\n",
    "        #if both points are still in cluster 0, assign both to a new cluster\n",
    "        if point_dict[df.loc[i,'simplex'][0]] == 0 and point_dict[df.loc[i,'simplex'][1]] == 0:\n",
    "            counter += 1\n",
    "            point_dict[df.loc[i,'simplex'][0]] = counter\n",
    "            point_dict[df.loc[i,'simplex'][1]] = counter\n",
    "            #if one point is in cluster 0 and one is not, assign the one in cluster 0 to the existing cluster\n",
    "        elif point_dict[df.loc[i,'simplex'][0]] == 0 and point_dict[df.loc[i,'simplex'][1]] != 0:\n",
    "            point_dict[df.loc[i,'simplex'][0]] = point_dict[df.loc[i,'simplex'][1]]\n",
    "\n",
    "            #and vice versa\n",
    "        elif point_dict[df.loc[i,'simplex'][0]] != 0 and point_dict[df.loc[i,'simplex'][1]] == 0:\n",
    "            point_dict[df.loc[i,'simplex'][1]] = point_dict[df.loc[i,'simplex'][0]]\n",
    "\n",
    "            #if both points are not in cluster 0 and not in the same cluster, merge clusters to the lower number cluster\n",
    "        elif point_dict[df.loc[i,'simplex'][0]] != 0 and point_dict[df.loc[i,'simplex'][1]] != 0 and point_dict[df.loc[i,'simplex'][0]] != point_dict[df.loc[i,'simplex'][1]]:\n",
    "            larger_cluster_number = max(point_dict[df.loc[i,'simplex'][0]], point_dict[df.loc[i,'simplex'][1]])\n",
    "            smaller_cluster_number = min(point_dict[df.loc[i,'simplex'][0]], point_dict[df.loc[i,'simplex'][1]])\n",
    "            for key, value in point_dict.items():\n",
    "                if value == larger_cluster_number:\n",
    "                    point_dict[key] = smaller_cluster_number\n",
    "        cluster_dict_list.append(point_dict.copy())\n",
    "        #print(point_dict)\n",
    "        #print('step',i)\n",
    "\n",
    "    \n",
    "    cutoff_value = 0\n",
    "    for i in range(len(cluster_dict_list)):\n",
    "        if cutoff_value == 0:\n",
    "            if all(value != 0 for value in cluster_dict_list[i].values()):\n",
    "                cutoff_value = i\n",
    "                print('dataset becomes connected at simplex #',cutoff_value)\n",
    "       \n",
    "    df = df[:cutoff_value]\n",
    "    #cluster_dict_list =\n",
    "    \n",
    "    #find the gaps between birth/death pairs\n",
    "\n",
    "    df['gaps'] = df['distance'] - df['distance'].shift(1)\n",
    "    \n",
    "    #find normalized distance\n",
    "    scaler = MinMaxScaler()\n",
    "    df['normed_distance'] = scaler.fit_transform(df['distance'].values.reshape(-1, 1))\n",
    "\n",
    "    #Mulitply the gaps by their normed location in the filtration, weighting features more heavily if they're later\n",
    "    df['normed_gaps'] = df['gaps'] * df['normed_distance']\n",
    "\n",
    "    norm_sum = df['normed_gaps'].sum()\n",
    "    df['probability_vector_normed_gaps'] = df['normed_gaps'] / norm_sum\n",
    "    \n",
    "    gap_sum = df['gaps'].sum()\n",
    "    df['probability_vector_gaps'] = df['normed_gaps'] / gap_sum\n",
    "\n",
    "    partition = 10\n",
    "    candidates = [i for i in df.nlargest(partition ,['gaps']).index if i in df.nlargest( partition,['normed_gaps']).index]\n",
    "    #print('possible cuttoffs' , candidates)\n",
    "    idx = cutoff_value - 1\n",
    "    #idx = candidates[0]\n",
    "    print('idx' ,idx)\n",
    "\n",
    "    print('your dataset appears to have', len(np.unique(np.array(list(cluster_dict_list[idx].values())))),'clusters')\n",
    "\n",
    "    #print( np.array(list(cluster_dict_list[idx].values())))\n",
    "\n",
    "    print(simplex_tree.num_vertices() , 'vertices')  \n",
    "    print(simplex_tree.num_simplices(), 'simplices')\n",
    "    print('dimension:', simplex_tree.dimension())\n",
    "\n",
    "    size=10\n",
    "    plt.figure(figsize=(size,size))\n",
    "    plt.scatter(dataset[:, 0], dataset[:, 1],\n",
    "                s=30, \n",
    "                c=np.array(list(cluster_dict_list[idx].values())),\n",
    "                marker=\"o\",\n",
    "                cmap='rainbow',\n",
    "                norm=None,\n",
    "                alpha=.9,\n",
    "                edgecolor=\"k\")\n",
    "    \n",
    "    return cluster_dict_list, candidates, idx\n"
   ]
  },
  {
   "cell_type": "code",
   "execution_count": null,
   "metadata": {
    "scrolled": true
   },
   "outputs": [],
   "source": [
    "cluster_dict_list, candidates, idx = pogo(X)"
   ]
  },
  {
   "cell_type": "code",
   "execution_count": null,
   "metadata": {
    "scrolled": true
   },
   "outputs": [],
   "source": [
    "true = y\n",
    "pred = np.array(list(cluster_dict_list[idx].values()))\n",
    "\n",
    "print('adjusted rand score =' , metrics.adjusted_rand_score(true, pred))\n"
   ]
  },
  {
   "cell_type": "code",
   "execution_count": null,
   "metadata": {},
   "outputs": [],
   "source": [
    "#%matplotlib notebook"
   ]
  },
  {
   "cell_type": "code",
   "execution_count": null,
   "metadata": {},
   "outputs": [],
   "source": [
    "frames = 30\n",
    "interval = int(len(cluster_dict_list)/frames)\n",
    "print(interval)\n"
   ]
  },
  {
   "cell_type": "code",
   "execution_count": null,
   "metadata": {},
   "outputs": [],
   "source": [
    "fig, ax = plt.subplots(figsize=(8,8))\n",
    "frames = 30\n",
    "interval = int(len(cluster_dict_list)/frames)\n",
    "print(interval)\n",
    "\n",
    "scatter = ax.scatter(X[:, 0], X[:, 1],\n",
    "                s=40, \n",
    "                c=np.array(list(cluster_dict_list[0].values())),\n",
    "                marker=\"o\",\n",
    "                cmap='gist_rainbow',\n",
    "                norm=None,\n",
    "                alpha=1,\n",
    "                edgecolor=\"k\")\n",
    "ax.set(xlim=(-1, 35), ylim=(-1, 35))\n",
    "\n",
    "def animate(n):\n",
    "    scatter.set_array(np.array(list(cluster_dict_list[n*interval].values())))\n",
    "    \n",
    "ani = FuncAnimation(fig, animate,interval=20,frames=frames,repeat=True, blit=True)\n",
    "\n",
    "#ani.save('animation.gif')\n",
    "\n",
    "\n",
    "\n",
    "writer=animation.PillowWriter()\n",
    "\n",
    "writer = animation.FFMpegWriter(fps=2,bitrate=1000)\n",
    "\n",
    "ani.save('animation-d.mp4', writer=writer, dpi=250)\n",
    "\n",
    "\n",
    "fig.show()"
   ]
  }
 ],
 "metadata": {
  "kernelspec": {
   "display_name": "Python 3",
   "language": "python",
   "name": "python3"
  },
  "language_info": {
   "codemirror_mode": {
    "name": "ipython",
    "version": 3
   },
   "file_extension": ".py",
   "mimetype": "text/x-python",
   "name": "python",
   "nbconvert_exporter": "python",
   "pygments_lexer": "ipython3",
   "version": "3.9.7"
  }
 },
 "nbformat": 4,
 "nbformat_minor": 4
}
