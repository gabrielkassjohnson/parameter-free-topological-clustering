{
 "cells": [
  {
   "cell_type": "code",
   "execution_count": 1,
   "metadata": {},
   "outputs": [
    {
     "name": "stdout",
     "output_type": "stream",
     "text": [
      "Aggregation.txt              \u001b[0m\u001b[01;35manimation.gif\u001b[0m             pogo.ipynb\r\n",
      "\u001b[01;35mAggregation.txt12frames.gif\u001b[0m  \u001b[01;35manimation.mp4\u001b[0m             R15.txt\r\n",
      "\u001b[01;35mAggregation.txt20frames.gif\u001b[0m  Compound.txt              \u001b[01;35mR15.txt22frames.gif\u001b[0m\r\n",
      "\u001b[01;35mAggregation.txt22frames.gif\u001b[0m  \u001b[01;35mCompound.txt22frames.gif\u001b[0m  README.md\r\n",
      "\u001b[01;35mAggregation.txt3frames.gif\u001b[0m   D31.txt                   \u001b[01;35mspiral20frames.mp4\u001b[0m\r\n",
      "\u001b[01;35manimation-400.mp4\u001b[0m            \u001b[01;35mD31.txt22frames.gif\u001b[0m       \u001b[01;35mspiral40frames.mp4\u001b[0m\r\n",
      "\u001b[01;35manimation-b.mp4\u001b[0m              \u001b[01;35mjain40frames.mp4\u001b[0m          spiral.txt\r\n",
      "\u001b[01;35manimation-c.mp4\u001b[0m              jain.txt                  \u001b[01;35mspiral.txt20frames.gif\u001b[0m\r\n",
      "\u001b[01;35manimation-d.mp4\u001b[0m              \u001b[01;35mjain.txt20frames.gif\u001b[0m      \u001b[01;35mspiral.txt5frames.gif\u001b[0m\r\n"
     ]
    }
   ],
   "source": [
    "ls"
   ]
  },
  {
   "cell_type": "code",
   "execution_count": 2,
   "metadata": {},
   "outputs": [],
   "source": [
    "import numpy as np\n",
    "import pandas as pd\n",
    "import gudhi"
   ]
  },
  {
   "cell_type": "code",
   "execution_count": 3,
   "metadata": {},
   "outputs": [],
   "source": [
    "from matplotlib import pyplot as plt\n",
    "from matplotlib.animation import FuncAnimation\n",
    "from matplotlib import animation\n",
    "from matplotlib.collections import PatchCollection"
   ]
  },
  {
   "cell_type": "code",
   "execution_count": 4,
   "metadata": {},
   "outputs": [],
   "source": [
    "from sklearn.datasets import make_blobs\n",
    "from sklearn.datasets import make_classification\n",
    "from sklearn.datasets import make_gaussian_quantiles\n",
    "from sklearn.datasets import load_iris\n",
    "from sklearn.datasets import load_digits\n",
    "\n",
    "\n",
    "from sklearn.preprocessing import MinMaxScaler\n",
    "from sklearn.decomposition import PCA\n",
    "from sklearn import metrics\n",
    "\n",
    "import os.path"
   ]
  },
  {
   "cell_type": "code",
   "execution_count": 5,
   "metadata": {},
   "outputs": [],
   "source": [
    "from urllib.request import urlopen\n",
    "from urllib.parse import urlparse"
   ]
  },
  {
   "cell_type": "code",
   "execution_count": 6,
   "metadata": {},
   "outputs": [],
   "source": [
    "%matplotlib inline"
   ]
  },
  {
   "cell_type": "markdown",
   "metadata": {},
   "source": [
    "#randomized blobs with standard deviation\n",
    "n = 6\n",
    "std = np.random.random_sample((n,))\n",
    "#std = 1\n",
    "X, y, z = make_blobs(\n",
    "    n_samples=n*100,\n",
    "    n_features=2,\n",
    "    centers=n,\n",
    "    cluster_std=std,\n",
    "    center_box=(-10.0, 10.0),\n",
    "    shuffle=False,\n",
    "    random_state=42,\n",
    "    return_centers=True,\n",
    ")\n"
   ]
  },
  {
   "cell_type": "markdown",
   "metadata": {},
   "source": [
    "\n",
    "size=8\n",
    "plt.figure(figsize=(size,size))\n",
    "plt.scatter(X[:, 0], X[:, 1],\n",
    "            s=25, \n",
    "            c=y,\n",
    "            marker=\"o\",\n",
    "            cmap='tab10',\n",
    "            norm=None,\n",
    "            alpha=.7,\n",
    "            edgecolor=\"k\")"
   ]
  },
  {
   "cell_type": "code",
   "execution_count": 7,
   "metadata": {},
   "outputs": [],
   "source": [
    "urls = ['https://cs.joensuu.fi/sipu/datasets/D31.txt',\n",
    "        'https://cs.joensuu.fi/sipu/datasets/spiral.txt',\n",
    "        'https://cs.joensuu.fi/sipu/datasets/overlap.txt',\n",
    "        'https://cs.joensuu.fi/sipu/datasets/pathbased.txt',\n",
    "        'https://cs.joensuu.fi/sipu/datasets/a1.txt',\n",
    "        'https://cs.joensuu.fi/sipu/datasets/R15.txt',\n",
    "        'https://cs.joensuu.fi/sipu/datasets/unbalance.txt']"
   ]
  },
  {
   "cell_type": "code",
   "execution_count": 8,
   "metadata": {},
   "outputs": [
    {
     "name": "stdout",
     "output_type": "stream",
     "text": [
      "https://cs.joensuu.fi/sipu/datasets/spiral.txt\n",
      "spiral.txt\n",
      "(312, 3)\n",
      "[[31.95  7.95  3.  ]\n",
      " [31.15  7.3   3.  ]\n",
      " [30.45  6.65  3.  ]\n",
      " [29.7   6.    3.  ]\n",
      " [28.9   5.55  3.  ]\n",
      " [28.05  5.    3.  ]\n",
      " [27.2   4.55  3.  ]\n",
      " [26.35  4.15  3.  ]\n",
      " [25.4   3.85  3.  ]\n",
      " [24.6   3.6   3.  ]]\n"
     ]
    }
   ],
   "source": [
    "url= urls[1]\n",
    "print(url)\n",
    "parse = urlparse(url)\n",
    "filename = parse.path.strip('/').split('/')[-1]\n",
    "print(filename)\n",
    "raw_data = urlopen(url)\n",
    "data = np.loadtxt(raw_data)\n",
    "\n",
    "print(data.shape)\n",
    "print(data[:10])\n"
   ]
  },
  {
   "cell_type": "code",
   "execution_count": 9,
   "metadata": {},
   "outputs": [],
   "source": [
    "#iris = load_iris()\n",
    "#X = iris.data\n",
    "#y = iris.target"
   ]
  },
  {
   "cell_type": "code",
   "execution_count": 10,
   "metadata": {},
   "outputs": [
    {
     "name": "stdout",
     "output_type": "stream",
     "text": [
      "(312,)\n",
      "(312, 2)\n"
     ]
    }
   ],
   "source": [
    "\n",
    "y = data[:,2]\n",
    "print(y.shape)\n",
    "X = data[:,:2]\n",
    "print(X.shape)"
   ]
  },
  {
   "cell_type": "code",
   "execution_count": 11,
   "metadata": {},
   "outputs": [
    {
     "data": {
      "text/plain": [
       "<matplotlib.collections.PathCollection at 0x7f00039dcc40>"
      ]
     },
     "execution_count": 11,
     "metadata": {},
     "output_type": "execute_result"
    },
    {
     "data": {
      "image/png": "[encoded data removed]",
      "text/plain": [
       "<Figure size 576x576 with 1 Axes>"
      ]
     },
     "metadata": {
      "needs_background": "light"
     },
     "output_type": "display_data"
    }
   ],
   "source": [
    "size=8\n",
    "plt.figure(figsize=(size,size))\n",
    "plt.scatter(X[:, 0], X[:, 1],\n",
    "            s=25, \n",
    "            c=y,\n",
    "            marker=\"o\",\n",
    "            cmap='tab10',\n",
    "            norm=None,\n",
    "            alpha=.7,\n",
    "            edgecolor=\"k\")"
   ]
  },
  {
   "cell_type": "code",
   "execution_count": 12,
   "metadata": {},
   "outputs": [],
   "source": [
    "rips_complex = gudhi.RipsComplex(points=X)"
   ]
  },
  {
   "cell_type": "code",
   "execution_count": 13,
   "metadata": {},
   "outputs": [
    {
     "name": "stdout",
     "output_type": "stream",
     "text": [
      "312 vertices\n",
      "48828 simplices\n",
      "dimension: 1\n"
     ]
    }
   ],
   "source": [
    "simplex_tree = rips_complex.create_simplex_tree(max_dimension=1)\n",
    "   \n",
    "print(simplex_tree.num_vertices() , 'vertices')  \n",
    "print(simplex_tree.num_simplices(), 'simplices')\n",
    "print('dimension:', simplex_tree.dimension())"
   ]
  },
  {
   "cell_type": "code",
   "execution_count": 14,
   "metadata": {},
   "outputs": [
    {
     "name": "stderr",
     "output_type": "stream",
     "text": [
      "usetex mode requires TeX.\n"
     ]
    },
    {
     "data": {
      "image/png": "[encoded data removed]",
      "text/plain": [
       "<Figure size 432x288 with 1 Axes>"
      ]
     },
     "metadata": {
      "needs_background": "light"
     },
     "output_type": "display_data"
    }
   ],
   "source": [
    "diag = simplex_tree.persistence()\n",
    "gudhi.plot_persistence_barcode(diag)\n",
    "plt.show()"
   ]
  },
  {
   "cell_type": "code",
   "execution_count": 15,
   "metadata": {},
   "outputs": [
    {
     "name": "stdout",
     "output_type": "stream",
     "text": [
      "break\n",
      "([78, 90], 3.8209946349085606)\n",
      "3.8209946349085606\n"
     ]
    }
   ],
   "source": [
    "#move through list and assign clusters to conected components\n",
    "point_dict={i:0 for i in range(simplex_tree.num_vertices())}\n",
    "counter=0\n",
    "cluster_dict_list = []\n",
    "distance_list = []\n",
    "for simplex in simplex_tree.get_filtration():\n",
    "    if len(simplex[0])>1:\n",
    "        if all(value > 0 for value in list(point_dict.values())):\n",
    "            if len(np.unique(np.array(list(point_dict.values())))) == 1:\n",
    "                print('break')\n",
    "                print(simplex)\n",
    "                print(simplex[1])\n",
    "                simplex_tree.prune_above_filtration(simplex[1])\n",
    "                break\n",
    "\n",
    "\n",
    "        #if both points are still in cluster 0, assign both to a new cluster\n",
    "        if point_dict[simplex[0][0]] == 0 and point_dict[simplex[0][1]] == 0:\n",
    "            counter += 1\n",
    "            point_dict[simplex[0][0]] = counter\n",
    "            point_dict[simplex[0][1]] = counter\n",
    "            #if one point is in cluster 0 and one is not, assign the one in cluster 0 to the existing cluster\n",
    "        elif point_dict[simplex[0][0]] == 0 and point_dict[simplex[0][1]] != 0:\n",
    "            point_dict[simplex[0][0]] = point_dict[simplex[0][1]]\n",
    "\n",
    "            #and vice versa\n",
    "        elif point_dict[simplex[0][0]] != 0 and point_dict[simplex[0][1]] == 0:\n",
    "            point_dict[simplex[0][1]] = point_dict[simplex[0][0]]\n",
    "\n",
    "            #if both points are not in cluster 0 and not in the same cluster, merge clusters to the lower number cluster\n",
    "        elif point_dict[simplex[0][0]] != 0 and point_dict[simplex[0][1]] != 0 and point_dict[simplex[0][0]] != point_dict[simplex[0][1]]:\n",
    "            larger_cluster_number = max(point_dict[simplex[0][0]], point_dict[simplex[0][1]])\n",
    "            smaller_cluster_number = min(point_dict[simplex[0][0]], point_dict[simplex[0][1]])\n",
    "            for key, value in point_dict.items():\n",
    "                if value == larger_cluster_number:\n",
    "                    point_dict[key] = smaller_cluster_number\n",
    "                    \n",
    "        distance_list.append(simplex[1])\n",
    "        cluster_dict_list.append(point_dict.copy())"
   ]
  },
  {
   "cell_type": "code",
   "execution_count": 16,
   "metadata": {},
   "outputs": [
    {
     "data": {
      "text/plain": [
       "3.8209946349085593"
      ]
     },
     "execution_count": 16,
     "metadata": {},
     "output_type": "execute_result"
    }
   ],
   "source": [
    "max(distance_list)"
   ]
  },
  {
   "cell_type": "code",
   "execution_count": 17,
   "metadata": {},
   "outputs": [
    {
     "data": {
      "text/plain": [
       "2190"
      ]
     },
     "execution_count": 17,
     "metadata": {},
     "output_type": "execute_result"
    }
   ],
   "source": [
    "len(distance_list)"
   ]
  },
  {
   "cell_type": "code",
   "execution_count": 18,
   "metadata": {},
   "outputs": [
    {
     "name": "stdout",
     "output_type": "stream",
     "text": [
      "2190\n"
     ]
    },
    {
     "data": {
      "text/plain": [
       "dtype('float64')"
      ]
     },
     "execution_count": 18,
     "metadata": {},
     "output_type": "execute_result"
    }
   ],
   "source": [
    "distance_array = np.array(distance_list)\n",
    "print(len(distance_array))\n",
    "distance_array.dtype"
   ]
  },
  {
   "cell_type": "code",
   "execution_count": 19,
   "metadata": {},
   "outputs": [
    {
     "data": {
      "text/plain": [
       "2190"
      ]
     },
     "execution_count": 19,
     "metadata": {},
     "output_type": "execute_result"
    }
   ],
   "source": [
    "length = len(cluster_dict_list)\n",
    "length"
   ]
  },
  {
   "cell_type": "code",
   "execution_count": 20,
   "metadata": {},
   "outputs": [
    {
     "name": "stdout",
     "output_type": "stream",
     "text": [
      "2504 simplices\n"
     ]
    }
   ],
   "source": [
    "print(simplex_tree.num_simplices(), 'simplices')\n",
    "#?"
   ]
  },
  {
   "cell_type": "code",
   "execution_count": 21,
   "metadata": {},
   "outputs": [
    {
     "data": {
      "text/plain": [
       "1"
      ]
     },
     "execution_count": 21,
     "metadata": {},
     "output_type": "execute_result"
    }
   ],
   "source": [
    "#check that all clusters have merged\n",
    "len(np.unique(np.array(list(point_dict.values()))))"
   ]
  },
  {
   "cell_type": "code",
   "execution_count": 22,
   "metadata": {},
   "outputs": [],
   "source": [
    "#print(cluster_dict_list[-2].values()) #penultimate clustering has 2 clusters\n",
    "#print(cluster_dict_list[-1].values()) #last clustering finally merges to all one cluster"
   ]
  },
  {
   "cell_type": "code",
   "execution_count": 104,
   "metadata": {},
   "outputs": [
    {
     "data": {
      "text/plain": [
       "(2189,)"
      ]
     },
     "execution_count": 104,
     "metadata": {},
     "output_type": "execute_result"
    }
   ],
   "source": [
    "#find the gaps between birth/death pairs\n",
    "gaps = np.diff(distance_array)\n",
    "gaps.shape"
   ]
  },
  {
   "cell_type": "code",
   "execution_count": 105,
   "metadata": {},
   "outputs": [],
   "source": [
    "#add a zero back to the beginning of the gaps\n",
    "gaps = np.concatenate([np.zeros(1),gaps])"
   ]
  },
  {
   "cell_type": "code",
   "execution_count": 106,
   "metadata": {},
   "outputs": [],
   "source": [
    "#find normalized distance\n",
    "scaler = MinMaxScaler()\n",
    "normed_distance = scaler.fit_transform(distance_array.reshape(-1,1)).T.reshape(length)"
   ]
  },
  {
   "cell_type": "code",
   "execution_count": 107,
   "metadata": {},
   "outputs": [
    {
     "data": {
      "text/plain": [
       "array([1.00000000e+00, 9.92190106e-01, 9.89042771e-01, ...,\n",
       "       6.98084873e-04, 2.61725762e-04, 0.00000000e+00])"
      ]
     },
     "execution_count": 107,
     "metadata": {},
     "output_type": "execute_result"
    }
   ],
   "source": [
    "#then invert them and multiply by the gaps to weight early connections in the filtration\n",
    "inverted_normed_distance = 1 - normed_distance\n",
    "inverted_normed_distance"
   ]
  },
  {
   "cell_type": "code",
   "execution_count": 108,
   "metadata": {},
   "outputs": [
    {
     "data": {
      "text/plain": [
       "array([0.00000000e+00, 2.90605754e-02, 1.16740663e-02, ...,\n",
       "       4.34557483e-06, 4.28306508e-07, 0.00000000e+00])"
      ]
     },
     "execution_count": 108,
     "metadata": {},
     "output_type": "execute_result"
    }
   ],
   "source": [
    "normed_gaps = np.multiply(gaps, inverted_normed_distance)\n",
    "normed_gaps"
   ]
  },
  {
   "cell_type": "code",
   "execution_count": 109,
   "metadata": {},
   "outputs": [],
   "source": [
    "#normalize to create a probability vector\n",
    "gap_vector = normed_gaps / np.sum(normed_gaps)"
   ]
  },
  {
   "cell_type": "code",
   "execution_count": 110,
   "metadata": {},
   "outputs": [
    {
     "data": {
      "text/plain": [
       "0.9999999999999999"
      ]
     },
     "execution_count": 110,
     "metadata": {},
     "output_type": "execute_result"
    }
   ],
   "source": [
    "#check\n",
    "np.sum(gap_vector)"
   ]
  },
  {
   "cell_type": "code",
   "execution_count": 111,
   "metadata": {},
   "outputs": [
    {
     "data": {
      "text/plain": [
       "array([0.00000000e+00, 1.55245664e-02, 6.23644973e-03, ...,\n",
       "       2.32146694e-06, 2.28807335e-07, 0.00000000e+00])"
      ]
     },
     "execution_count": 111,
     "metadata": {},
     "output_type": "execute_result"
    }
   ],
   "source": [
    "gap_vector"
   ]
  },
  {
   "cell_type": "code",
   "execution_count": 112,
   "metadata": {},
   "outputs": [
    {
     "data": {
      "text/plain": [
       "[<matplotlib.lines.Line2D at 0x7effee0d3940>]"
      ]
     },
     "execution_count": 112,
     "metadata": {},
     "output_type": "execute_result"
    },
    {
     "data": {
      "image/png": "[encoded data removed]",
      "text/plain": [
       "<Figure size 432x288 with 1 Axes>"
      ]
     },
     "metadata": {
      "needs_background": "light"
     },
     "output_type": "display_data"
    }
   ],
   "source": [
    "plt.plot(gap_vector)"
   ]
  },
  {
   "cell_type": "code",
   "execution_count": 113,
   "metadata": {},
   "outputs": [],
   "source": [
    "marker = 0\n",
    "for i in range(1,length-1):\n",
    "    if cluster_dict_list[marker] == cluster_dict_list[i]:\n",
    "\n",
    "        gap_vector[marker] += gap_vector[i]\n",
    "        gap_vector[i] = 0\n",
    "        #print(marker)\n",
    "\n",
    "\n",
    "    else:\n",
    "        marker = i"
   ]
  },
  {
   "cell_type": "code",
   "execution_count": 114,
   "metadata": {},
   "outputs": [
    {
     "name": "stdout",
     "output_type": "stream",
     "text": [
      "0.9999999999999999\n"
     ]
    },
    {
     "data": {
      "text/plain": [
       "[<matplotlib.lines.Line2D at 0x7effee0bd880>]"
      ]
     },
     "execution_count": 114,
     "metadata": {},
     "output_type": "execute_result"
    },
    {
     "data": {
      "image/png": "[encoded data removed]",
      "text/plain": [
       "<Figure size 432x288 with 1 Axes>"
      ]
     },
     "metadata": {
      "needs_background": "light"
     },
     "output_type": "display_data"
    }
   ],
   "source": [
    "print(np.sum(gap_vector))\n",
    "plt.plot(gap_vector)"
   ]
  },
  {
   "cell_type": "code",
   "execution_count": 115,
   "metadata": {},
   "outputs": [],
   "source": [
    "candidates = np.flip(np.argsort(gap_vector))"
   ]
  },
  {
   "cell_type": "code",
   "execution_count": 116,
   "metadata": {},
   "outputs": [
    {
     "data": {
      "text/plain": [
       "587"
      ]
     },
     "execution_count": 116,
     "metadata": {},
     "output_type": "execute_result"
    }
   ],
   "source": [
    "candidates[0]"
   ]
  },
  {
   "cell_type": "code",
   "execution_count": 117,
   "metadata": {},
   "outputs": [
    {
     "data": {
      "text/plain": [
       "0.5220963643450532"
      ]
     },
     "execution_count": 117,
     "metadata": {},
     "output_type": "execute_result"
    }
   ],
   "source": [
    "gap_vector[candidates[0]]"
   ]
  },
  {
   "cell_type": "code",
   "execution_count": 118,
   "metadata": {},
   "outputs": [
    {
     "data": {
      "text/plain": [
       "587"
      ]
     },
     "execution_count": 118,
     "metadata": {},
     "output_type": "execute_result"
    }
   ],
   "source": [
    "idx = candidates[0]\n",
    "idx"
   ]
  },
  {
   "cell_type": "code",
   "execution_count": 124,
   "metadata": {},
   "outputs": [
    {
     "name": "stdout",
     "output_type": "stream",
     "text": [
      "0.5220963643450532\n",
      "percent confidence\n"
     ]
    },
    {
     "data": {
      "text/plain": [
       "'52.2%'"
      ]
     },
     "execution_count": 124,
     "metadata": {},
     "output_type": "execute_result"
    }
   ],
   "source": [
    "print(gap_vector[idx])\n",
    "print('percent confidence')\n",
    "'{:.1%}'.format(gap_vector[idx])"
   ]
  },
  {
   "cell_type": "code",
   "execution_count": 120,
   "metadata": {},
   "outputs": [
    {
     "data": {
      "text/plain": [
       "array([1, 1, 1, 1, 1, 1, 1, 1, 1, 1, 1, 1, 1, 1, 1, 1, 1, 1, 1, 1, 1, 1,\n",
       "       1, 1, 1, 1, 1, 1, 1, 1, 1, 1, 1, 1, 1, 1, 1, 1, 1, 1, 1, 1, 1, 1,\n",
       "       1, 1, 1, 1, 1, 1, 1, 1, 1, 1, 1, 1, 1, 1, 1, 1, 1, 1, 1, 1, 1, 1,\n",
       "       1, 1, 1, 1, 1, 1, 1, 1, 1, 1, 1, 1, 1, 1, 1, 1, 1, 1, 1, 1, 1, 1,\n",
       "       1, 1, 1, 1, 1, 1, 1, 1, 1, 1, 1, 1, 1, 1, 1, 1, 1, 1, 9, 9, 9, 9,\n",
       "       9, 9, 9, 9, 9, 9, 9, 9, 9, 9, 9, 9, 9, 9, 9, 9, 9, 9, 9, 9, 9, 9,\n",
       "       9, 9, 9, 9, 9, 9, 9, 9, 9, 9, 9, 9, 9, 9, 9, 9, 9, 9, 9, 9, 9, 9,\n",
       "       9, 9, 9, 9, 9, 9, 9, 9, 9, 9, 9, 9, 9, 9, 9, 9, 9, 9, 9, 9, 9, 9,\n",
       "       9, 9, 9, 9, 9, 9, 9, 9, 9, 9, 9, 9, 9, 9, 9, 9, 9, 9, 9, 9, 9, 9,\n",
       "       9, 9, 9, 9, 9, 9, 9, 9, 9, 2, 2, 2, 2, 2, 2, 2, 2, 2, 2, 2, 2, 2,\n",
       "       2, 2, 2, 2, 2, 2, 2, 2, 2, 2, 2, 2, 2, 2, 2, 2, 2, 2, 2, 2, 2, 2,\n",
       "       2, 2, 2, 2, 2, 2, 2, 2, 2, 2, 2, 2, 2, 2, 2, 2, 2, 2, 2, 2, 2, 2,\n",
       "       2, 2, 2, 2, 2, 2, 2, 2, 2, 2, 2, 2, 2, 2, 2, 2, 2, 2, 2, 2, 2, 2,\n",
       "       2, 2, 2, 2, 2, 2, 2, 2, 2, 2, 2, 2, 2, 2, 2, 2, 2, 2, 2, 2, 2, 2,\n",
       "       2, 2, 2, 2])"
      ]
     },
     "execution_count": 120,
     "metadata": {},
     "output_type": "execute_result"
    }
   ],
   "source": [
    "np.array(list(cluster_dict_list[idx].values()))"
   ]
  },
  {
   "cell_type": "code",
   "execution_count": 121,
   "metadata": {},
   "outputs": [
    {
     "name": "stdout",
     "output_type": "stream",
     "text": [
      "3\n",
      "your dataset appears to have 3 clusters, not including any outliers\n"
     ]
    }
   ],
   "source": [
    "#cluster_idx_array = (np.unique(np.array(list(cluster_dict_list[idx].values()))))\n",
    "#print(cluster_idx_array)\n",
    "#print(np.count_nonzero(cluster_idx_array))\n",
    "\n",
    "number_of_clusters = np.count_nonzero(np.unique(np.array(list(cluster_dict_list[idx].values()))))\n",
    "print(number_of_clusters)\n",
    "print('your dataset appears to have', number_of_clusters,'clusters, not including any outliers')\n",
    "#return counts from np.unique? to filter out small clusters?"
   ]
  },
  {
   "cell_type": "code",
   "execution_count": 122,
   "metadata": {},
   "outputs": [
    {
     "name": "stdout",
     "output_type": "stream",
     "text": [
      "1.0\n",
      "-0.08671906853344644\n"
     ]
    }
   ],
   "source": [
    "true = y\n",
    "pred = np.array(list(cluster_dict_list[idx].values()))\n",
    "\n",
    "print(metrics.adjusted_rand_score(true, pred))\n",
    "print(metrics.silhouette_score(X, pred, metric=\"sqeuclidean\"))"
   ]
  },
  {
   "cell_type": "code",
   "execution_count": 123,
   "metadata": {},
   "outputs": [
    {
     "data": {
      "text/plain": [
       "<matplotlib.collections.PathCollection at 0x7effee02cd60>"
      ]
     },
     "execution_count": 123,
     "metadata": {},
     "output_type": "execute_result"
    },
    {
     "data": {
      "image/png": "[encoded data removed]",
      "text/plain": [
       "<Figure size 864x864 with 1 Axes>"
      ]
     },
     "metadata": {
      "needs_background": "light"
     },
     "output_type": "display_data"
    }
   ],
   "source": [
    "size=12\n",
    "plt.figure(figsize=(size,size))\n",
    "plt.scatter(X[:, 0], X[:, 1],\n",
    "            s=50, \n",
    "            c=np.array(list(cluster_dict_list[idx].values())),\n",
    "            marker=\"o\",\n",
    "            cmap='flag',\n",
    "            norm=None,\n",
    "            alpha=.9,\n",
    "            edgecolor=\"k\")"
   ]
  },
  {
   "cell_type": "code",
   "execution_count": 125,
   "metadata": {},
   "outputs": [],
   "source": [
    "idx_list = candidates[:50]"
   ]
  },
  {
   "cell_type": "code",
   "execution_count": 126,
   "metadata": {},
   "outputs": [],
   "source": [
    "idx_list.sort()"
   ]
  },
  {
   "cell_type": "code",
   "execution_count": 127,
   "metadata": {},
   "outputs": [],
   "source": [
    "idx_list = [x for x in idx_list if x < idx]"
   ]
  },
  {
   "cell_type": "code",
   "execution_count": 128,
   "metadata": {
    "scrolled": false
   },
   "outputs": [
    {
     "data": {
      "text/plain": [
       "array([  1,   2,   5,   9,  10,  16,  19,  31,  36,  43,  47,  51,  55,\n",
       "        66,  69,  85,  91,  96, 102, 113, 126, 138, 148, 161, 172, 177,\n",
       "       178, 191, 211, 219, 242, 260, 278, 295, 314, 354, 361, 373, 417,\n",
       "       434, 437, 463, 477, 486, 501, 525, 541, 548, 561])"
      ]
     },
     "execution_count": 128,
     "metadata": {},
     "output_type": "execute_result"
    }
   ],
   "source": [
    "idx_array = np.asarray(idx_list)\n",
    "idx_array"
   ]
  },
  {
   "cell_type": "code",
   "execution_count": 129,
   "metadata": {},
   "outputs": [],
   "source": [
    "silhouette_list = []\n",
    "for i in idx_list:\n",
    "    silhouette = metrics.silhouette_score(X, np.array(list(cluster_dict_list[i].values())), metric=\"euclidean\")\n",
    "    silhouette_list.append(silhouette)"
   ]
  },
  {
   "cell_type": "code",
   "execution_count": 130,
   "metadata": {
    "scrolled": true
   },
   "outputs": [],
   "source": [
    "silhouette_array = np.asarray(silhouette_list)"
   ]
  },
  {
   "cell_type": "code",
   "execution_count": 131,
   "metadata": {
    "scrolled": true
   },
   "outputs": [
    {
     "data": {
      "text/plain": [
       "[<matplotlib.lines.Line2D at 0x7effedf9e0a0>]"
      ]
     },
     "execution_count": 131,
     "metadata": {},
     "output_type": "execute_result"
    },
    {
     "data": {
      "image/png": "[encoded data removed]",
      "text/plain": [
       "<Figure size 432x288 with 1 Axes>"
      ]
     },
     "metadata": {
      "needs_background": "light"
     },
     "output_type": "display_data"
    }
   ],
   "source": [
    "plt.plot(idx_array,silhouette_array)"
   ]
  },
  {
   "cell_type": "code",
   "execution_count": 132,
   "metadata": {},
   "outputs": [
    {
     "data": {
      "text/plain": [
       "-0.07875052526827722"
      ]
     },
     "execution_count": 132,
     "metadata": {},
     "output_type": "execute_result"
    }
   ],
   "source": [
    "max(silhouette_array)"
   ]
  },
  {
   "cell_type": "code",
   "execution_count": 133,
   "metadata": {},
   "outputs": [],
   "source": [
    "max_idx = silhouette_array.argmax()"
   ]
  },
  {
   "cell_type": "code",
   "execution_count": 134,
   "metadata": {},
   "outputs": [
    {
     "data": {
      "text/plain": [
       "561"
      ]
     },
     "execution_count": 134,
     "metadata": {},
     "output_type": "execute_result"
    }
   ],
   "source": [
    "idx = idx_array[max_idx]\n",
    "idx"
   ]
  },
  {
   "cell_type": "code",
   "execution_count": 135,
   "metadata": {},
   "outputs": [],
   "source": [
    "#idx = silhouette_scores.index(max(silhouette_scores[simplex_tree.num_vertices():idx]))\n",
    "#print(idx)"
   ]
  },
  {
   "cell_type": "code",
   "execution_count": 136,
   "metadata": {},
   "outputs": [],
   "source": [
    "rand_score_list = []\n",
    "true = y\n",
    "for i in idx_list:\n",
    "    pred = np.array(list(cluster_dict_list[i].values()))\n",
    "    rand_score = metrics.adjusted_rand_score( true, pred)\n",
    "    rand_score_list.append(rand_score)"
   ]
  },
  {
   "cell_type": "code",
   "execution_count": 137,
   "metadata": {
    "scrolled": true
   },
   "outputs": [],
   "source": [
    "rand_score_array = np.asarray(rand_score_list)"
   ]
  },
  {
   "cell_type": "code",
   "execution_count": 138,
   "metadata": {},
   "outputs": [
    {
     "data": {
      "text/plain": [
       "[<matplotlib.lines.Line2D at 0x7effedf87190>]"
      ]
     },
     "execution_count": 138,
     "metadata": {},
     "output_type": "execute_result"
    },
    {
     "data": {
      "image/png": "[encoded data removed]",
      "text/plain": [
       "<Figure size 432x288 with 1 Axes>"
      ]
     },
     "metadata": {
      "needs_background": "light"
     },
     "output_type": "display_data"
    }
   ],
   "source": [
    " plt.plot(idx_array,rand_score_array)"
   ]
  },
  {
   "cell_type": "code",
   "execution_count": 139,
   "metadata": {},
   "outputs": [
    {
     "data": {
      "text/plain": [
       "0.9951543456458483"
      ]
     },
     "execution_count": 139,
     "metadata": {},
     "output_type": "execute_result"
    }
   ],
   "source": [
    "max(rand_score_array)"
   ]
  },
  {
   "cell_type": "code",
   "execution_count": 140,
   "metadata": {
    "scrolled": true
   },
   "outputs": [
    {
     "data": {
      "text/plain": [
       "(array([48]),)"
      ]
     },
     "execution_count": 140,
     "metadata": {},
     "output_type": "execute_result"
    }
   ],
   "source": [
    "np.where(rand_score_array == max(rand_score_array) )"
   ]
  },
  {
   "cell_type": "code",
   "execution_count": 141,
   "metadata": {},
   "outputs": [],
   "source": [
    "#idx_array[31]"
   ]
  },
  {
   "cell_type": "code",
   "execution_count": 142,
   "metadata": {},
   "outputs": [
    {
     "name": "stderr",
     "output_type": "stream",
     "text": [
      "<ipython-input-142-8d5ae0a84562>:51: UserWarning: Matplotlib is currently using module://ipykernel.pylab.backend_inline, which is a non-GUI backend, so cannot show the figure.\n",
      "  fig.show()\n"
     ]
    },
    {
     "data": {
      "image/png": "[encoded data removed]",
      "text/plain": [
       "<Figure size 360x360 with 1 Axes>"
      ]
     },
     "metadata": {
      "needs_background": "light"
     },
     "output_type": "display_data"
    }
   ],
   "source": [
    "fig, ax = plt.subplots(figsize=(5,5))\n",
    "frames = len(idx_array)\n",
    "\n",
    "\n",
    "outfile = filename + str(frames) + 'frames.gif'\n",
    "\n",
    "if not os.path.isfile(outfile):\n",
    "    def init():\n",
    "        scatter = ax.scatter(X[:, 0], X[:, 1],\n",
    "                        s=40, \n",
    "                        c=np.array(list(cluster_dict_list[0].values())),\n",
    "                        marker=\"o\",\n",
    "                        cmap='rainbow',\n",
    "                        norm=None,\n",
    "                        alpha=1,\n",
    "                        edgecolor=\"k\")\n",
    "        #ax.set(xlim=(-1, 35), ylim=(-1, 35))\n",
    "\n",
    "        return scatter,\n",
    "\n",
    "    #collection = PatchCollection(X, animated=True)\n",
    "\n",
    "    #ax.add_collection(collection)\n",
    "    #ax.autoscale_view(True)\n",
    "\n",
    "    def animate(i):\n",
    "\n",
    "        scatter = ax.scatter(X[:, 0], X[:, 1],\n",
    "                    s=40, \n",
    "                    c=np.array(list(cluster_dict_list[idx_array[i]].values())),\n",
    "                    marker=\"o\",\n",
    "                    cmap='flag',\n",
    "                    norm=None,\n",
    "                    alpha=1,\n",
    "                    edgecolor=\"k\")\n",
    "        return scatter,\n",
    "\n",
    "\n",
    "\n",
    "    ani = FuncAnimation(fig, animate,interval=200,init_func=init,frames=frames,repeat=False, blit=True)\n",
    "\n",
    "    #ani.save('animation.gif')\n",
    "\n",
    "\n",
    "\n",
    "    #writer=animation.PillowWriter()\n",
    "\n",
    "    #writer = animation.FFMpegWriter(fps=2,bitrate=1000)\n",
    "\n",
    "    ani.save(outfile, dpi=200)\n",
    "    fig.show()\n"
   ]
  },
  {
   "cell_type": "code",
   "execution_count": null,
   "metadata": {},
   "outputs": [],
   "source": [
    "def pogo(dataset):\n",
    "    rips_complex = gudhi.RipsComplex(points=dataset,max_edge_length=100)\n",
    "    simplex_tree = rips_complex.create_simplex_tree(max_dimension=1)\n",
    "    df = pd.DataFrame(simplex_tree.get_filtration(), columns=['simplex','distance'])\n",
    "    #move through list and assign clusters to conected components\n",
    "\n",
    "    point_dict={i:0 for i in range(simplex_tree.num_vertices())}\n",
    "    counter=0\n",
    "\n",
    "    cluster_dict_list = []\n",
    "    for i in range(simplex_tree.num_vertices(),len(df)):\n",
    "        #if both points are still in cluster 0, assign both to a new cluster\n",
    "        if point_dict[df.loc[i,'simplex'][0]] == 0 and point_dict[df.loc[i,'simplex'][1]] == 0:\n",
    "            counter += 1\n",
    "            point_dict[df.loc[i,'simplex'][0]] = counter\n",
    "            point_dict[df.loc[i,'simplex'][1]] = counter\n",
    "            #if one point is in cluster 0 and one is not, assign the one in cluster 0 to the existing cluster\n",
    "        elif point_dict[df.loc[i,'simplex'][0]] == 0 and point_dict[df.loc[i,'simplex'][1]] != 0:\n",
    "            point_dict[df.loc[i,'simplex'][0]] = point_dict[df.loc[i,'simplex'][1]]\n",
    "\n",
    "            #and vice versa\n",
    "        elif point_dict[df.loc[i,'simplex'][0]] != 0 and point_dict[df.loc[i,'simplex'][1]] == 0:\n",
    "            point_dict[df.loc[i,'simplex'][1]] = point_dict[df.loc[i,'simplex'][0]]\n",
    "\n",
    "            #if both points are not in cluster 0 and not in the same cluster, merge clusters to the lower number cluster\n",
    "        elif point_dict[df.loc[i,'simplex'][0]] != 0 and point_dict[df.loc[i,'simplex'][1]] != 0 and point_dict[df.loc[i,'simplex'][0]] != point_dict[df.loc[i,'simplex'][1]]:\n",
    "            larger_cluster_number = max(point_dict[df.loc[i,'simplex'][0]], point_dict[df.loc[i,'simplex'][1]])\n",
    "            smaller_cluster_number = min(point_dict[df.loc[i,'simplex'][0]], point_dict[df.loc[i,'simplex'][1]])\n",
    "            for key, value in point_dict.items():\n",
    "                if value == larger_cluster_number:\n",
    "                    point_dict[key] = smaller_cluster_number\n",
    "        cluster_dict_list.append(point_dict.copy())\n",
    "        #print(point_dict)\n",
    "        #print('step',i)\n",
    "\n",
    "    \n",
    "    cutoff_value = 0\n",
    "    for i in range(len(cluster_dict_list)):\n",
    "        if cutoff_value == 0:\n",
    "            if all(value != 0 for value in cluster_dict_list[i].values()):\n",
    "                cutoff_value = i\n",
    "                print('dataset becomes connected at simplex #',cutoff_value)\n",
    "       \n",
    "    df = df[:cutoff_value]\n",
    "    #cluster_dict_list =\n",
    "    \n",
    "    #find the gaps between birth/death pairs\n",
    "\n",
    "    df['gaps'] = df['distance'] - df['distance'].shift(1)\n",
    "    \n",
    "    #find normalized distance\n",
    "    scaler = MinMaxScaler()\n",
    "    df['normed_distance'] = scaler.fit_transform(df['distance'].values.reshape(-1, 1))\n",
    "\n",
    "    #Mulitply the gaps by their normed location in the filtration, weighting features more heavily if they're later\n",
    "    df['normed_gaps'] = df['gaps'] * df['normed_distance']\n",
    "\n",
    "    norm_sum = df['normed_gaps'].sum()\n",
    "    df['probability_vector_normed_gaps'] = df['normed_gaps'] / norm_sum\n",
    "    \n",
    "    gap_sum = df['gaps'].sum()\n",
    "    df['probability_vector_gaps'] = df['normed_gaps'] / gap_sum\n",
    "\n",
    "    partition = 10\n",
    "    candidates = [i for i in df.nlargest(partition ,['gaps']).index if i in df.nlargest( partition,['normed_gaps']).index]\n",
    "    #print('possible cuttoffs' , candidates)\n",
    "    idx = cutoff_value - 1\n",
    "    #idx = candidates[0]\n",
    "    print('idx' ,idx)\n",
    "\n",
    "    print('your dataset appears to have', len(np.unique(np.array(list(cluster_dict_list[idx].values())))),'clusters')\n",
    "\n",
    "    #print( np.array(list(cluster_dict_list[idx].values())))\n",
    "\n",
    "    print(simplex_tree.num_vertices() , 'vertices')  \n",
    "    print(simplex_tree.num_simplices(), 'simplices')\n",
    "    print('dimension:', simplex_tree.dimension())\n",
    "\n",
    "    size=10\n",
    "    plt.figure(figsize=(size,size))\n",
    "    plt.scatter(dataset[:, 0], dataset[:, 1],\n",
    "                s=30, \n",
    "                c=np.array(list(cluster_dict_list[idx].values())),\n",
    "                marker=\"o\",\n",
    "                cmap='rainbow',\n",
    "                norm=None,\n",
    "                alpha=.9,\n",
    "                edgecolor=\"k\")\n",
    "    \n",
    "    return cluster_dict_list, candidates, idx\n"
   ]
  },
  {
   "cell_type": "code",
   "execution_count": null,
   "metadata": {
    "scrolled": true
   },
   "outputs": [],
   "source": [
    "cluster_dict_list, candidates, idx = pogo(X)"
   ]
  },
  {
   "cell_type": "code",
   "execution_count": null,
   "metadata": {
    "scrolled": true
   },
   "outputs": [],
   "source": [
    "true = y\n",
    "pred = np.array(list(cluster_dict_list[idx].values()))\n",
    "\n",
    "print('adjusted rand score =' , metrics.adjusted_rand_score(true, pred))\n"
   ]
  },
  {
   "cell_type": "code",
   "execution_count": null,
   "metadata": {},
   "outputs": [],
   "source": [
    "#%matplotlib notebook"
   ]
  },
  {
   "cell_type": "code",
   "execution_count": null,
   "metadata": {},
   "outputs": [],
   "source": [
    "frames = 30\n",
    "interval = int(len(cluster_dict_list)/frames)\n",
    "print(interval)\n"
   ]
  },
  {
   "cell_type": "code",
   "execution_count": null,
   "metadata": {},
   "outputs": [],
   "source": [
    "fig, ax = plt.subplots(figsize=(8,8))\n",
    "frames = 30\n",
    "interval = int(len(cluster_dict_list)/frames)\n",
    "print(interval)\n",
    "\n",
    "scatter = ax.scatter(X[:, 0], X[:, 1],\n",
    "                s=40, \n",
    "                c=np.array(list(cluster_dict_list[0].values())),\n",
    "                marker=\"o\",\n",
    "                cmap='gist_rainbow',\n",
    "                norm=None,\n",
    "                alpha=1,\n",
    "                edgecolor=\"k\")\n",
    "ax.set(xlim=(-1, 35), ylim=(-1, 35))\n",
    "\n",
    "def animate(n):\n",
    "    scatter.set_array(np.array(list(cluster_dict_list[n*interval].values())))\n",
    "    \n",
    "ani = FuncAnimation(fig, animate,interval=20,frames=frames,repeat=True, blit=True)\n",
    "\n",
    "#ani.save('animation.gif')\n",
    "\n",
    "\n",
    "\n",
    "writer=animation.PillowWriter()\n",
    "\n",
    "writer = animation.FFMpegWriter(fps=2,bitrate=1000)\n",
    "\n",
    "ani.save('animation-d.mp4', writer=writer, dpi=250)\n",
    "\n",
    "\n",
    "fig.show()"
   ]
  }
 ],
 "metadata": {
  "kernelspec": {
   "display_name": "Python 3",
   "language": "python",
   "name": "python3"
  },
  "language_info": {
   "codemirror_mode": {
    "name": "ipython",
    "version": 3
   },
   "file_extension": ".py",
   "mimetype": "text/x-python",
   "name": "python",
   "nbconvert_exporter": "python",
   "pygments_lexer": "ipython3",
   "version": "3.9.7"
  }
 },
 "nbformat": 4,
 "nbformat_minor": 4
}
