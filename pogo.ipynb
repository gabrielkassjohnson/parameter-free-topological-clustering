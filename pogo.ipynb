{
 "cells": [
  {
   "cell_type": "code",
   "execution_count": 1,
   "metadata": {},
   "outputs": [
    {
     "name": "stdout",
     "output_type": "stream",
     "text": [
      "Aggregation.txt              \u001b[0m\u001b[01;35manimation.gif\u001b[0m             pogo.ipynb\r\n",
      "\u001b[01;35mAggregation.txt12frames.gif\u001b[0m  \u001b[01;35manimation.mp4\u001b[0m             R15.txt\r\n",
      "\u001b[01;35mAggregation.txt20frames.gif\u001b[0m  Compound.txt              \u001b[01;35mR15.txt22frames.gif\u001b[0m\r\n",
      "\u001b[01;35mAggregation.txt22frames.gif\u001b[0m  \u001b[01;35mCompound.txt22frames.gif\u001b[0m  README.md\r\n",
      "\u001b[01;35mAggregation.txt3frames.gif\u001b[0m   D31.txt                   \u001b[01;35mspiral20frames.mp4\u001b[0m\r\n",
      "\u001b[01;35manimation-400.mp4\u001b[0m            \u001b[01;35mD31.txt22frames.gif\u001b[0m       \u001b[01;35mspiral40frames.mp4\u001b[0m\r\n",
      "\u001b[01;35manimation-b.mp4\u001b[0m              \u001b[01;35mjain40frames.mp4\u001b[0m          spiral.txt\r\n",
      "\u001b[01;35manimation-c.mp4\u001b[0m              jain.txt                  \u001b[01;35mspiral.txt20frames.gif\u001b[0m\r\n",
      "\u001b[01;35manimation-d.mp4\u001b[0m              \u001b[01;35mjain.txt20frames.gif\u001b[0m      \u001b[01;35mspiral.txt5frames.gif\u001b[0m\r\n"
     ]
    }
   ],
   "source": [
    "ls"
   ]
  },
  {
   "cell_type": "code",
   "execution_count": 2,
   "metadata": {},
   "outputs": [],
   "source": [
    "import numpy as np\n",
    "import pandas as pd\n",
    "import gudhi"
   ]
  },
  {
   "cell_type": "code",
   "execution_count": 3,
   "metadata": {},
   "outputs": [],
   "source": [
    "from matplotlib import pyplot as plt\n",
    "from matplotlib.animation import FuncAnimation\n",
    "from matplotlib import animation\n",
    "from matplotlib.collections import PatchCollection"
   ]
  },
  {
   "cell_type": "code",
   "execution_count": 4,
   "metadata": {},
   "outputs": [],
   "source": [
    "from sklearn.datasets import make_blobs\n",
    "from sklearn.datasets import make_classification\n",
    "from sklearn.datasets import make_gaussian_quantiles\n",
    "from sklearn.datasets import load_iris\n",
    "from sklearn.datasets import load_digits\n",
    "\n",
    "\n",
    "from sklearn.preprocessing import MinMaxScaler\n",
    "from sklearn.decomposition import PCA\n",
    "from sklearn import metrics\n",
    "\n",
    "import os.path"
   ]
  },
  {
   "cell_type": "code",
   "execution_count": 5,
   "metadata": {},
   "outputs": [],
   "source": [
    "from urllib.request import urlopen\n",
    "from urllib.parse import urlparse"
   ]
  },
  {
   "cell_type": "code",
   "execution_count": 6,
   "metadata": {},
   "outputs": [],
   "source": [
    "%matplotlib inline"
   ]
  },
  {
   "cell_type": "markdown",
   "metadata": {},
   "source": [
    "#randomized blobs with standard deviation\n",
    "n = 6\n",
    "std = np.random.random_sample((n,))\n",
    "#std = 1\n",
    "X, y, z = make_blobs(\n",
    "    n_samples=n*100,\n",
    "    n_features=2,\n",
    "    centers=n,\n",
    "    cluster_std=std,\n",
    "    center_box=(-10.0, 10.0),\n",
    "    shuffle=False,\n",
    "    random_state=42,\n",
    "    return_centers=True,\n",
    ")\n"
   ]
  },
  {
   "cell_type": "markdown",
   "metadata": {},
   "source": [
    "\n",
    "size=8\n",
    "plt.figure(figsize=(size,size))\n",
    "plt.scatter(X[:, 0], X[:, 1],\n",
    "            s=25, \n",
    "            c=y,\n",
    "            marker=\"o\",\n",
    "            cmap='tab10',\n",
    "            norm=None,\n",
    "            alpha=.7,\n",
    "            edgecolor=\"k\")"
   ]
  },
  {
   "cell_type": "code",
   "execution_count": 7,
   "metadata": {},
   "outputs": [],
   "source": [
    "urls = ['https://cs.joensuu.fi/sipu/datasets/overlap.txt', 'https://cs.joensuu.fi/sipu/datasets/pathbased.txt','https://cs.joensuu.fi/sipu/datasets/a1.txt','https://cs.joensuu.fi/sipu/datasets/R15.txt','https://cs.joensuu.fi/sipu/datasets/unbalance.txt']"
   ]
  },
  {
   "cell_type": "code",
   "execution_count": 8,
   "metadata": {},
   "outputs": [
    {
     "name": "stdout",
     "output_type": "stream",
     "text": [
      "https://cs.joensuu.fi/sipu/datasets/R15.txt\n",
      "(600, 3)\n",
      "[[10.35   9.768  1.   ]\n",
      " [10.098  9.988  1.   ]\n",
      " [ 9.73   9.91   1.   ]\n",
      " [ 9.754 10.43   1.   ]\n",
      " [ 9.836  9.902  1.   ]\n",
      " [10.238  9.866  1.   ]\n",
      " [ 9.53   9.862  1.   ]\n",
      " [10.154  9.82   1.   ]\n",
      " [ 9.336 10.456  1.   ]\n",
      " [ 9.378 10.21   1.   ]\n",
      " [ 9.712 10.264  1.   ]\n",
      " [ 9.638 10.208  1.   ]\n",
      " [ 9.518  9.956  1.   ]\n",
      " [10.236  9.91   1.   ]\n",
      " [ 9.4   10.086  1.   ]\n",
      " [10.196  9.746  1.   ]\n",
      " [10.138  9.828  1.   ]\n",
      " [10.062 10.26   1.   ]\n",
      " [10.394  9.984  1.   ]]\n"
     ]
    }
   ],
   "source": [
    "url= urls[3]\n",
    "print(url)\n",
    "parse = urlparse(url)\n",
    "filename = parse.path.strip('/').split('/')[-1]\n",
    "raw_data = urlopen(url)\n",
    "data = np.loadtxt(raw_data)\n",
    "\n",
    "print(data.shape)\n",
    "print(data[1:20])\n"
   ]
  },
  {
   "cell_type": "code",
   "execution_count": null,
   "metadata": {},
   "outputs": [],
   "source": []
  },
  {
   "cell_type": "code",
   "execution_count": 9,
   "metadata": {},
   "outputs": [],
   "source": [
    "#iris = load_iris()\n",
    "#X = iris.data\n",
    "#y = iris.target"
   ]
  },
  {
   "cell_type": "code",
   "execution_count": 66,
   "metadata": {},
   "outputs": [
    {
     "name": "stdout",
     "output_type": "stream",
     "text": [
      "R15.txt\n",
      "(600,)\n",
      "(600, 2)\n",
      "[[ 9.802 10.132  1.   ]\n",
      " [10.35   9.768  1.   ]\n",
      " [10.098  9.988  1.   ]\n",
      " ...\n",
      " [13.636  5.218 15.   ]\n",
      " [14.41   4.656 15.   ]\n",
      " [14.02   5.614 15.   ]]\n"
     ]
    }
   ],
   "source": [
    "print(filename)\n",
    "\n",
    "y = data[:,2]\n",
    "print(y.shape)\n",
    "X = data[:,:2]\n",
    "print(X.shape)\n",
    "print(data)"
   ]
  },
  {
   "cell_type": "code",
   "execution_count": 67,
   "metadata": {},
   "outputs": [
    {
     "data": {
      "text/plain": [
       "<matplotlib.collections.PathCollection at 0x7f3d33690a90>"
      ]
     },
     "execution_count": 67,
     "metadata": {},
     "output_type": "execute_result"
    },
    {
     "data": {
      "image/png": "[encoded data removed]",
      "text/plain": [
       "<Figure size 576x576 with 1 Axes>"
      ]
     },
     "metadata": {
      "needs_background": "light"
     },
     "output_type": "display_data"
    }
   ],
   "source": [
    "size=8\n",
    "plt.figure(figsize=(size,size))\n",
    "plt.scatter(X[:, 0], X[:, 1],\n",
    "            s=25, \n",
    "            c=y,\n",
    "            marker=\"o\",\n",
    "            cmap='tab10',\n",
    "            norm=None,\n",
    "            alpha=.7,\n",
    "            edgecolor=\"k\")"
   ]
  },
  {
   "cell_type": "code",
   "execution_count": 12,
   "metadata": {},
   "outputs": [],
   "source": [
    "rips_complex = gudhi.RipsComplex(points=X)\n"
   ]
  },
  {
   "cell_type": "code",
   "execution_count": 13,
   "metadata": {},
   "outputs": [
    {
     "name": "stdout",
     "output_type": "stream",
     "text": [
      "600 vertices\n",
      "180300 simplices\n",
      "dimension: 1\n"
     ]
    }
   ],
   "source": [
    "\n",
    "simplex_tree = rips_complex.create_simplex_tree(max_dimension=1)\n",
    "\n",
    "\n",
    "#for i in simplex_tree.get_filtration():\n",
    "#    print(i)\n",
    "    \n",
    "print(simplex_tree.num_vertices() , 'vertices')  \n",
    "print(simplex_tree.num_simplices(), 'simplices')\n",
    "print('dimension:', simplex_tree.dimension())\n"
   ]
  },
  {
   "cell_type": "code",
   "execution_count": 14,
   "metadata": {},
   "outputs": [],
   "source": [
    "diag = simplex_tree.persistence()"
   ]
  },
  {
   "cell_type": "code",
   "execution_count": 15,
   "metadata": {},
   "outputs": [
    {
     "name": "stderr",
     "output_type": "stream",
     "text": [
      "usetex mode requires TeX.\n"
     ]
    },
    {
     "data": {
      "image/png": "[encoded data removed]",
      "text/plain": [
       "<Figure size 432x288 with 1 Axes>"
      ]
     },
     "metadata": {
      "needs_background": "light"
     },
     "output_type": "display_data"
    }
   ],
   "source": [
    "gudhi.plot_persistence_barcode(diag)\n",
    "plt.show()"
   ]
  },
  {
   "cell_type": "code",
   "execution_count": 16,
   "metadata": {},
   "outputs": [
    {
     "name": "stdout",
     "output_type": "stream",
     "text": [
      "break\n",
      "([72, 278], 3.394113728206525)\n",
      "3.394113728206525\n"
     ]
    }
   ],
   "source": [
    "#move through list and assign clusters to conected components\n",
    "point_dict={i:0 for i in range(simplex_tree.num_vertices())}\n",
    "counter=0\n",
    "cluster_dict_list = []\n",
    "\n",
    "for simplex in simplex_tree.get_filtration():\n",
    "    if len(simplex[0])>1:    \n",
    "        if all(value > 0 for value in list(point_dict.values())):\n",
    "            if len(np.unique(np.array(list(point_dict.values())))) == 1:\n",
    "                print('break')\n",
    "                print(simplex)\n",
    "                print(simplex[1])\n",
    "                simplex_tree.prune_above_filtration(simplex[1])\n",
    "                break\n",
    "\n",
    "\n",
    "        #if both points are still in cluster 0, assign both to a new cluster\n",
    "        if point_dict[simplex[0][0]] == 0 and point_dict[simplex[0][1]] == 0:\n",
    "            counter += 1\n",
    "            point_dict[simplex[0][0]] = counter\n",
    "            point_dict[simplex[0][1]] = counter\n",
    "            #if one point is in cluster 0 and one is not, assign the one in cluster 0 to the existing cluster\n",
    "        elif point_dict[simplex[0][0]] == 0 and point_dict[simplex[0][1]] != 0:\n",
    "            point_dict[simplex[0][0]] = point_dict[simplex[0][1]]\n",
    "\n",
    "            #and vice versa\n",
    "        elif point_dict[simplex[0][0]] != 0 and point_dict[simplex[0][1]] == 0:\n",
    "            point_dict[simplex[0][1]] = point_dict[simplex[0][0]]\n",
    "\n",
    "            #if both points are not in cluster 0 and not in the same cluster, merge clusters to the lower number cluster\n",
    "        elif point_dict[simplex[0][0]] != 0 and point_dict[simplex[0][1]] != 0 and point_dict[simplex[0][0]] != point_dict[simplex[0][1]]:\n",
    "            larger_cluster_number = max(point_dict[simplex[0][0]], point_dict[simplex[0][1]])\n",
    "            smaller_cluster_number = min(point_dict[simplex[0][0]], point_dict[simplex[0][1]])\n",
    "            for key, value in point_dict.items():\n",
    "                if value == larger_cluster_number:\n",
    "                    point_dict[key] = smaller_cluster_number\n",
    "        cluster_dict_list.append(point_dict.copy())\n"
   ]
  },
  {
   "cell_type": "code",
   "execution_count": 17,
   "metadata": {},
   "outputs": [
    {
     "data": {
      "text/plain": [
       "1"
      ]
     },
     "execution_count": 17,
     "metadata": {},
     "output_type": "execute_result"
    }
   ],
   "source": [
    "len(np.unique(np.array(list(point_dict.values()))))"
   ]
  },
  {
   "cell_type": "code",
   "execution_count": 18,
   "metadata": {},
   "outputs": [
    {
     "data": {
      "text/plain": [
       "42270"
      ]
     },
     "execution_count": 18,
     "metadata": {},
     "output_type": "execute_result"
    }
   ],
   "source": [
    "length = len(cluster_dict_list)\n",
    "length"
   ]
  },
  {
   "cell_type": "code",
   "execution_count": 19,
   "metadata": {},
   "outputs": [
    {
     "name": "stdout",
     "output_type": "stream",
     "text": [
      "42871 simplices\n"
     ]
    }
   ],
   "source": [
    "print(simplex_tree.num_simplices(), 'simplices')\n"
   ]
  },
  {
   "cell_type": "code",
   "execution_count": 25,
   "metadata": {},
   "outputs": [
    {
     "name": "stdout",
     "output_type": "stream",
     "text": [
      "dict_values([1, 1, 1, 1, 1, 1, 1, 1, 1, 1, 1, 1, 1, 1, 1, 1, 1, 1, 1, 1, 1, 1, 1, 1, 1, 1, 1, 1, 1, 1, 1, 1, 1, 1, 1, 1, 1, 1, 1, 1, 1, 1, 1, 1, 1, 1, 1, 1, 1, 1, 1, 1, 1, 1, 1, 1, 1, 1, 1, 1, 1, 1, 1, 1, 1, 1, 1, 1, 1, 1, 1, 1, 1, 1, 1, 1, 1, 1, 1, 1, 1, 1, 1, 1, 1, 1, 1, 1, 1, 1, 1, 1, 1, 1, 1, 1, 1, 1, 1, 1, 1, 1, 1, 1, 1, 1, 1, 1, 1, 1, 1, 1, 1, 1, 1, 1, 1, 1, 1, 1, 1, 1, 1, 1, 1, 1, 1, 1, 1, 1, 1, 1, 1, 1, 1, 1, 1, 1, 1, 1, 1, 1, 1, 1, 1, 1, 1, 1, 1, 1, 1, 1, 1, 1, 1, 1, 1, 1, 1, 1, 1, 1, 1, 1, 1, 1, 1, 1, 1, 1, 1, 1, 1, 1, 1, 1, 1, 1, 1, 1, 1, 1, 1, 1, 1, 1, 1, 1, 1, 1, 1, 1, 1, 1, 1, 1, 1, 1, 1, 1, 1, 1, 1, 1, 1, 1, 1, 1, 1, 1, 1, 1, 1, 1, 1, 1, 1, 1, 1, 1, 1, 1, 1, 1, 1, 1, 1, 1, 1, 1, 1, 1, 1, 1, 1, 1, 1, 1, 1, 1, 1, 1, 1, 1, 1, 1, 1, 1, 1, 1, 1, 1, 1, 1, 1, 1, 1, 1, 1, 1, 1, 1, 1, 1, 1, 1, 1, 1, 1, 1, 1, 1, 1, 1, 1, 1, 1, 1, 1, 1, 1, 1, 1, 1, 1, 1, 1, 1, 1, 1, 1, 1, 1, 1, 1, 1, 1, 1, 1, 1, 1, 1, 1, 1, 1, 1, 1, 1, 1, 1, 1, 1, 1, 1, 1, 1, 1, 1, 1, 1, 1, 1, 1, 1, 1, 1, 1, 1, 1, 1, 1, 1, 1, 1, 1, 1, 1, 1, 1, 1, 1, 1, 1, 1, 1, 1, 1, 1, 1, 1, 1, 1, 1, 1, 1, 1, 1, 1, 1, 1, 1, 1, 1, 1, 1, 1, 1, 1, 1, 1, 1, 1, 1, 1, 1, 1, 1, 1, 1, 1, 1, 1, 1, 1, 1, 1, 1, 1, 1, 1, 1, 1, 1, 1, 1, 1, 1, 1, 1, 1, 1, 1, 1, 1, 1, 1, 1, 1, 1, 1, 1, 1, 1, 1, 1, 1, 1, 1, 1, 1, 1, 1, 1, 1, 1, 1, 1, 1, 1, 1, 1, 1, 1, 1, 1, 1, 1, 1, 1, 1, 10, 10, 10, 10, 10, 10, 10, 10, 10, 10, 10, 10, 10, 10, 10, 10, 10, 10, 10, 10, 10, 10, 10, 10, 10, 10, 10, 10, 10, 10, 10, 10, 10, 10, 10, 10, 10, 10, 10, 10, 1, 1, 1, 1, 1, 1, 1, 1, 1, 1, 1, 1, 1, 1, 1, 1, 1, 1, 1, 1, 1, 1, 1, 1, 1, 1, 1, 1, 1, 1, 1, 1, 1, 1, 1, 1, 1, 1, 1, 1, 1, 1, 1, 1, 1, 1, 1, 1, 1, 1, 1, 1, 1, 1, 1, 1, 1, 1, 1, 1, 1, 1, 1, 1, 1, 1, 1, 1, 1, 1, 1, 1, 1, 1, 1, 1, 1, 1, 1, 1, 1, 1, 1, 1, 1, 1, 1, 1, 1, 1, 1, 1, 1, 1, 1, 1, 1, 1, 1, 1, 1, 1, 1, 1, 1, 1, 1, 1, 1, 1, 1, 1, 1, 1, 1, 1, 1, 1, 1, 1])\n",
      "dict_values([1, 1, 1, 1, 1, 1, 1, 1, 1, 1, 1, 1, 1, 1, 1, 1, 1, 1, 1, 1, 1, 1, 1, 1, 1, 1, 1, 1, 1, 1, 1, 1, 1, 1, 1, 1, 1, 1, 1, 1, 1, 1, 1, 1, 1, 1, 1, 1, 1, 1, 1, 1, 1, 1, 1, 1, 1, 1, 1, 1, 1, 1, 1, 1, 1, 1, 1, 1, 1, 1, 1, 1, 1, 1, 1, 1, 1, 1, 1, 1, 1, 1, 1, 1, 1, 1, 1, 1, 1, 1, 1, 1, 1, 1, 1, 1, 1, 1, 1, 1, 1, 1, 1, 1, 1, 1, 1, 1, 1, 1, 1, 1, 1, 1, 1, 1, 1, 1, 1, 1, 1, 1, 1, 1, 1, 1, 1, 1, 1, 1, 1, 1, 1, 1, 1, 1, 1, 1, 1, 1, 1, 1, 1, 1, 1, 1, 1, 1, 1, 1, 1, 1, 1, 1, 1, 1, 1, 1, 1, 1, 1, 1, 1, 1, 1, 1, 1, 1, 1, 1, 1, 1, 1, 1, 1, 1, 1, 1, 1, 1, 1, 1, 1, 1, 1, 1, 1, 1, 1, 1, 1, 1, 1, 1, 1, 1, 1, 1, 1, 1, 1, 1, 1, 1, 1, 1, 1, 1, 1, 1, 1, 1, 1, 1, 1, 1, 1, 1, 1, 1, 1, 1, 1, 1, 1, 1, 1, 1, 1, 1, 1, 1, 1, 1, 1, 1, 1, 1, 1, 1, 1, 1, 1, 1, 1, 1, 1, 1, 1, 1, 1, 1, 1, 1, 1, 1, 1, 1, 1, 1, 1, 1, 1, 1, 1, 1, 1, 1, 1, 1, 1, 1, 1, 1, 1, 1, 1, 1, 1, 1, 1, 1, 1, 1, 1, 1, 1, 1, 1, 1, 1, 1, 1, 1, 1, 1, 1, 1, 1, 1, 1, 1, 1, 1, 1, 1, 1, 1, 1, 1, 1, 1, 1, 1, 1, 1, 1, 1, 1, 1, 1, 1, 1, 1, 1, 1, 1, 1, 1, 1, 1, 1, 1, 1, 1, 1, 1, 1, 1, 1, 1, 1, 1, 1, 1, 1, 1, 1, 1, 1, 1, 1, 1, 1, 1, 1, 1, 1, 1, 1, 1, 1, 1, 1, 1, 1, 1, 1, 1, 1, 1, 1, 1, 1, 1, 1, 1, 1, 1, 1, 1, 1, 1, 1, 1, 1, 1, 1, 1, 1, 1, 1, 1, 1, 1, 1, 1, 1, 1, 1, 1, 1, 1, 1, 1, 1, 1, 1, 1, 1, 1, 1, 1, 1, 1, 1, 1, 1, 1, 1, 1, 1, 1, 1, 1, 1, 1, 1, 1, 1, 1, 1, 1, 1, 1, 1, 1, 1, 1, 1, 1, 1, 1, 1, 1, 1, 1, 1, 1, 1, 1, 1, 1, 1, 1, 1, 1, 1, 1, 1, 1, 1, 1, 1, 1, 1, 1, 1, 1, 1, 1, 1, 1, 1, 1, 1, 1, 1, 1, 1, 1, 1, 1, 1, 1, 1, 1, 1, 1, 1, 1, 1, 1, 1, 1, 1, 1, 1, 1, 1, 1, 1, 1, 1, 1, 1, 1, 1, 1, 1, 1, 1, 1, 1, 1, 1, 1, 1, 1, 1, 1, 1, 1, 1, 1, 1, 1, 1, 1, 1, 1, 1, 1, 1, 1, 1, 1, 1, 1, 1, 1, 1, 1, 1, 1, 1, 1, 1, 1, 1, 1, 1, 1, 1, 1, 1, 1, 1, 1, 1, 1, 1, 1, 1, 1, 1, 1, 1, 1, 1, 1, 1, 1, 1, 1, 1, 1, 1, 1, 1, 1, 1, 1, 1, 1, 1, 1, 1, 1, 1, 1, 1, 1, 1, 1, 1, 1, 1, 1, 1])\n"
     ]
    }
   ],
   "source": [
    "print(cluster_dict_list[-2].values()) #penultimate clustering has 2 clusters\n",
    "print(cluster_dict_list[-1].values()) #last clustering finally merges to all one cluster"
   ]
  },
  {
   "cell_type": "code",
   "execution_count": 26,
   "metadata": {},
   "outputs": [],
   "source": [
    "#convert the simplex tree to a pandas dataframe\n",
    "df = pd.DataFrame(simplex_tree.get_filtration(), columns=['simplex','distance'])"
   ]
  },
  {
   "cell_type": "code",
   "execution_count": 27,
   "metadata": {},
   "outputs": [
    {
     "data": {
      "text/html": [
       "<div>\n",
       "<style scoped>\n",
       "    .dataframe tbody tr th:only-of-type {\n",
       "        vertical-align: middle;\n",
       "    }\n",
       "\n",
       "    .dataframe tbody tr th {\n",
       "        vertical-align: top;\n",
       "    }\n",
       "\n",
       "    .dataframe thead th {\n",
       "        text-align: right;\n",
       "    }\n",
       "</style>\n",
       "<table border=\"1\" class=\"dataframe\">\n",
       "  <thead>\n",
       "    <tr style=\"text-align: right;\">\n",
       "      <th></th>\n",
       "      <th>simplex</th>\n",
       "      <th>distance</th>\n",
       "    </tr>\n",
       "  </thead>\n",
       "  <tbody>\n",
       "    <tr>\n",
       "      <th>0</th>\n",
       "      <td>[0]</td>\n",
       "      <td>0.000000</td>\n",
       "    </tr>\n",
       "    <tr>\n",
       "      <th>1</th>\n",
       "      <td>[1]</td>\n",
       "      <td>0.000000</td>\n",
       "    </tr>\n",
       "    <tr>\n",
       "      <th>2</th>\n",
       "      <td>[2]</td>\n",
       "      <td>0.000000</td>\n",
       "    </tr>\n",
       "    <tr>\n",
       "      <th>3</th>\n",
       "      <td>[3]</td>\n",
       "      <td>0.000000</td>\n",
       "    </tr>\n",
       "    <tr>\n",
       "      <th>4</th>\n",
       "      <td>[4]</td>\n",
       "      <td>0.000000</td>\n",
       "    </tr>\n",
       "    <tr>\n",
       "      <th>...</th>\n",
       "      <td>...</td>\n",
       "      <td>...</td>\n",
       "    </tr>\n",
       "    <tr>\n",
       "      <th>42265</th>\n",
       "      <td>[133, 202]</td>\n",
       "      <td>3.348545</td>\n",
       "    </tr>\n",
       "    <tr>\n",
       "      <th>42266</th>\n",
       "      <td>[220, 289]</td>\n",
       "      <td>3.348682</td>\n",
       "    </tr>\n",
       "    <tr>\n",
       "      <th>42267</th>\n",
       "      <td>[45, 126]</td>\n",
       "      <td>3.348725</td>\n",
       "    </tr>\n",
       "    <tr>\n",
       "      <th>42268</th>\n",
       "      <td>[58, 142]</td>\n",
       "      <td>3.348729</td>\n",
       "    </tr>\n",
       "    <tr>\n",
       "      <th>42269</th>\n",
       "      <td>[201, 510]</td>\n",
       "      <td>3.348756</td>\n",
       "    </tr>\n",
       "  </tbody>\n",
       "</table>\n",
       "<p>42270 rows × 2 columns</p>\n",
       "</div>"
      ],
      "text/plain": [
       "          simplex  distance\n",
       "0             [0]  0.000000\n",
       "1             [1]  0.000000\n",
       "2             [2]  0.000000\n",
       "3             [3]  0.000000\n",
       "4             [4]  0.000000\n",
       "...           ...       ...\n",
       "42265  [133, 202]  3.348545\n",
       "42266  [220, 289]  3.348682\n",
       "42267   [45, 126]  3.348725\n",
       "42268   [58, 142]  3.348729\n",
       "42269  [201, 510]  3.348756\n",
       "\n",
       "[42270 rows x 2 columns]"
      ]
     },
     "execution_count": 27,
     "metadata": {},
     "output_type": "execute_result"
    }
   ],
   "source": [
    "df = df[:len(cluster_dict_list)]\n",
    "df"
   ]
  },
  {
   "cell_type": "code",
   "execution_count": 28,
   "metadata": {},
   "outputs": [],
   "source": [
    "#find the gaps between birth/death pairs\n",
    "df['gaps'] = df['distance'] - df['distance'].shift(1)"
   ]
  },
  {
   "cell_type": "code",
   "execution_count": 29,
   "metadata": {},
   "outputs": [],
   "source": [
    "#find normalized distance\n",
    "scaler = MinMaxScaler()\n",
    "df['normed_distance'] = scaler.fit_transform(df['distance'].values.reshape(-1, 1))"
   ]
  },
  {
   "cell_type": "code",
   "execution_count": 30,
   "metadata": {},
   "outputs": [],
   "source": [
    "df['normed_gaps'] = df['gaps'] * df['normed_distance']"
   ]
  },
  {
   "cell_type": "code",
   "execution_count": 31,
   "metadata": {},
   "outputs": [],
   "source": [
    "normed_gap_sum = df['normed_gaps'].sum()\n",
    "#print(sum)\n",
    "df['probability_vector'] = df['normed_gaps'] / normed_gap_sum"
   ]
  },
  {
   "cell_type": "code",
   "execution_count": 32,
   "metadata": {},
   "outputs": [],
   "source": [
    "gap_sum = df['gaps'].sum()\n",
    "#print(sum)\n",
    "df['gap_vector'] = df['gaps'] / gap_sum"
   ]
  },
  {
   "cell_type": "code",
   "execution_count": 33,
   "metadata": {},
   "outputs": [
    {
     "data": {
      "text/plain": [
       "1        0.000000\n",
       "2        0.000000\n",
       "3        0.000000\n",
       "4        0.000000\n",
       "5        0.000000\n",
       "           ...   \n",
       "42265    0.000010\n",
       "42266    0.000082\n",
       "42267    0.000026\n",
       "42268    0.000002\n",
       "42269    0.000016\n",
       "Name: probability_vector, Length: 42269, dtype: float64"
      ]
     },
     "execution_count": 33,
     "metadata": {},
     "output_type": "execute_result"
    }
   ],
   "source": [
    "df['probability_vector'][1:]"
   ]
  },
  {
   "cell_type": "code",
   "execution_count": 34,
   "metadata": {},
   "outputs": [
    {
     "data": {
      "text/plain": [
       "0.9999999999999986"
      ]
     },
     "execution_count": 34,
     "metadata": {},
     "output_type": "execute_result"
    }
   ],
   "source": [
    "sum(df['probability_vector'][1:])"
   ]
  },
  {
   "cell_type": "code",
   "execution_count": 35,
   "metadata": {},
   "outputs": [
    {
     "data": {
      "text/plain": [
       "0.9999999999999896"
      ]
     },
     "execution_count": 35,
     "metadata": {},
     "output_type": "execute_result"
    }
   ],
   "source": [
    "sum(df['gap_vector'][1:])"
   ]
  },
  {
   "cell_type": "code",
   "execution_count": 36,
   "metadata": {},
   "outputs": [
    {
     "data": {
      "text/plain": [
       "[<matplotlib.lines.Line2D at 0x7f3d34b29c70>]"
      ]
     },
     "execution_count": 36,
     "metadata": {},
     "output_type": "execute_result"
    },
    {
     "data": {
      "image/png": "[encoded data removed]",
      "text/plain": [
       "<Figure size 432x288 with 1 Axes>"
      ]
     },
     "metadata": {
      "needs_background": "light"
     },
     "output_type": "display_data"
    }
   ],
   "source": [
    "plt.plot(df['probability_vector'])"
   ]
  },
  {
   "cell_type": "code",
   "execution_count": 43,
   "metadata": {},
   "outputs": [
    {
     "data": {
      "text/plain": [
       "[<matplotlib.lines.Line2D at 0x7f3d33e0a5e0>]"
      ]
     },
     "execution_count": 43,
     "metadata": {},
     "output_type": "execute_result"
    },
    {
     "data": {
      "image/png": "[encoded data removed]",
      "text/plain": [
       "<Figure size 432x288 with 1 Axes>"
      ]
     },
     "metadata": {
      "needs_background": "light"
     },
     "output_type": "display_data"
    }
   ],
   "source": [
    "plt.plot(df['gap_vector'])"
   ]
  },
  {
   "cell_type": "code",
   "execution_count": 44,
   "metadata": {},
   "outputs": [
    {
     "data": {
      "text/plain": [
       "dict_values([0, 0, 0, 0, 0, 0, 0, 0, 0, 0, 0, 0, 0, 0, 0, 0, 0, 0, 0, 0, 0, 0, 0, 0, 0, 0, 0, 0, 0, 0, 0, 0, 0, 0, 0, 0, 0, 0, 0, 0, 0, 0, 0, 0, 0, 0, 0, 0, 0, 0, 0, 0, 0, 0, 0, 0, 0, 0, 0, 0, 0, 0, 0, 0, 0, 0, 0, 0, 0, 0, 0, 0, 0, 0, 0, 0, 0, 0, 0, 0, 0, 0, 0, 0, 0, 0, 0, 0, 0, 0, 0, 0, 0, 0, 0, 0, 0, 0, 0, 0, 0, 0, 0, 0, 0, 0, 0, 0, 0, 0, 0, 0, 0, 0, 0, 0, 0, 0, 0, 0, 0, 1, 0, 0, 0, 0, 0, 0, 0, 0, 0, 0, 0, 0, 0, 0, 0, 0, 0, 0, 0, 0, 0, 0, 1, 0, 0, 0, 0, 0, 0, 0, 0, 0, 0, 0, 0, 0, 0, 0, 0, 0, 0, 0, 0, 0, 0, 0, 0, 0, 0, 0, 0, 0, 0, 0, 0, 0, 0, 0, 0, 0, 0, 0, 0, 0, 0, 0, 0, 0, 0, 0, 0, 0, 0, 0, 0, 0, 0, 0, 0, 0, 0, 0, 0, 0, 0, 0, 0, 0, 0, 0, 0, 0, 0, 0, 0, 0, 0, 0, 0, 0, 0, 0, 0, 0, 0, 0, 0, 0, 0, 0, 0, 0, 0, 0, 0, 0, 0, 0, 0, 0, 0, 0, 0, 0, 0, 0, 0, 0, 0, 0, 0, 0, 0, 0, 0, 0, 0, 0, 0, 0, 0, 0, 0, 0, 0, 0, 0, 0, 0, 0, 0, 0, 0, 0, 0, 0, 0, 0, 0, 0, 0, 0, 0, 0, 0, 0, 0, 0, 0, 0, 0, 0, 0, 0, 0, 0, 0, 0, 0, 0, 0, 0, 0, 0, 0, 0, 0, 0, 0, 0, 0, 0, 0, 0, 0, 0, 0, 0, 0, 0, 0, 0, 0, 0, 0, 0, 0, 0, 0, 0, 0, 0, 0, 0, 0, 0, 0, 0, 0, 0, 0, 0, 0, 0, 0, 0, 0, 0, 0, 0, 0, 0, 0, 0, 0, 0, 0, 0, 0, 0, 0, 0, 0, 0, 0, 0, 0, 0, 0, 0, 0, 0, 0, 0, 0, 0, 0, 0, 0, 0, 0, 0, 0, 0, 0, 0, 0, 0, 0, 0, 0, 0, 0, 0, 0, 0, 0, 0, 0, 0, 0, 0, 0, 0, 0, 0, 0, 0, 0, 0, 0, 0, 0, 0, 0, 0, 0, 0, 0, 0, 0, 0, 0, 0, 0, 0, 0, 0, 0, 0, 0, 0, 0, 0, 0, 0, 0, 0, 0, 0, 0, 0, 0, 0, 0, 0, 0, 0, 0, 0, 0, 0, 0, 0, 0, 0, 0, 0, 0, 0, 0, 0, 0, 0, 0, 0, 0, 0, 0, 0, 0, 0, 0, 0, 0, 0, 0, 0, 0, 0, 0, 0, 0, 0, 0, 0, 0, 0, 0, 0, 0, 0, 0, 0, 0, 0, 0, 0, 0, 0, 0, 0, 0, 0, 0, 0, 0, 0, 0, 0, 0, 0, 0, 0, 0, 0, 0, 0, 0, 0, 0, 0, 0, 0, 0, 0, 0, 0, 0, 0, 0, 0, 0, 0, 0, 0, 0, 0, 0, 0, 0, 0, 0, 0, 0, 0, 0, 0, 0, 0, 0, 0, 0, 0, 0, 0, 0, 0, 0, 0, 0, 0, 0, 0, 0, 0, 0, 0, 0, 0, 0, 0, 0, 0, 0, 0, 0, 0, 0, 0, 0, 0, 0, 0, 0, 0, 0, 0, 0, 0, 0, 0, 0, 0, 0, 0, 0, 0])"
      ]
     },
     "execution_count": 44,
     "metadata": {},
     "output_type": "execute_result"
    }
   ],
   "source": [
    "cluster_dict_list[0].values()"
   ]
  },
  {
   "cell_type": "code",
   "execution_count": 46,
   "metadata": {},
   "outputs": [
    {
     "name": "stderr",
     "output_type": "stream",
     "text": [
      "<ipython-input-46-a5293a04ce48>:8: SettingWithCopyWarning: \n",
      "A value is trying to be set on a copy of a slice from a DataFrame\n",
      "\n",
      "See the caveats in the documentation: https://pandas.pydata.org/pandas-docs/stable/user_guide/indexing.html#returning-a-view-versus-a-copy\n",
      "  df.loc[:,'gap_vector'].iloc[marker] += df.loc[:,'gap_vector'].iloc[i+1]\n",
      "<ipython-input-46-a5293a04ce48>:9: SettingWithCopyWarning: \n",
      "A value is trying to be set on a copy of a slice from a DataFrame\n",
      "\n",
      "See the caveats in the documentation: https://pandas.pydata.org/pandas-docs/stable/user_guide/indexing.html#returning-a-view-versus-a-copy\n",
      "  df.loc[:,'gap_vector'].iloc[i] = 0\n"
     ]
    },
    {
     "ename": "KeyboardInterrupt",
     "evalue": "",
     "output_type": "error",
     "traceback": [
      "\u001b[0;31m---------------------------------------------------------------------------\u001b[0m",
      "\u001b[0;31mKeyboardInterrupt\u001b[0m                         Traceback (most recent call last)",
      "\u001b[0;32m<ipython-input-46-a5293a04ce48>\u001b[0m in \u001b[0;36m<module>\u001b[0;34m\u001b[0m\n\u001b[1;32m      6\u001b[0m         \u001b[0;31m#df.loc[:,'probability_vector'].iloc[i] = 0\u001b[0m\u001b[0;34m\u001b[0m\u001b[0;34m\u001b[0m\u001b[0;34m\u001b[0m\u001b[0m\n\u001b[1;32m      7\u001b[0m \u001b[0;34m\u001b[0m\u001b[0m\n\u001b[0;32m----> 8\u001b[0;31m         \u001b[0mdf\u001b[0m\u001b[0;34m.\u001b[0m\u001b[0mloc\u001b[0m\u001b[0;34m[\u001b[0m\u001b[0;34m:\u001b[0m\u001b[0;34m,\u001b[0m\u001b[0;34m'gap_vector'\u001b[0m\u001b[0;34m]\u001b[0m\u001b[0;34m.\u001b[0m\u001b[0miloc\u001b[0m\u001b[0;34m[\u001b[0m\u001b[0mmarker\u001b[0m\u001b[0;34m]\u001b[0m \u001b[0;34m+=\u001b[0m \u001b[0mdf\u001b[0m\u001b[0;34m.\u001b[0m\u001b[0mloc\u001b[0m\u001b[0;34m[\u001b[0m\u001b[0;34m:\u001b[0m\u001b[0;34m,\u001b[0m\u001b[0;34m'gap_vector'\u001b[0m\u001b[0;34m]\u001b[0m\u001b[0;34m.\u001b[0m\u001b[0miloc\u001b[0m\u001b[0;34m[\u001b[0m\u001b[0mi\u001b[0m\u001b[0;34m+\u001b[0m\u001b[0;36m1\u001b[0m\u001b[0;34m]\u001b[0m\u001b[0;34m\u001b[0m\u001b[0;34m\u001b[0m\u001b[0m\n\u001b[0m\u001b[1;32m      9\u001b[0m         \u001b[0mdf\u001b[0m\u001b[0;34m.\u001b[0m\u001b[0mloc\u001b[0m\u001b[0;34m[\u001b[0m\u001b[0;34m:\u001b[0m\u001b[0;34m,\u001b[0m\u001b[0;34m'gap_vector'\u001b[0m\u001b[0;34m]\u001b[0m\u001b[0;34m.\u001b[0m\u001b[0miloc\u001b[0m\u001b[0;34m[\u001b[0m\u001b[0mi\u001b[0m\u001b[0;34m]\u001b[0m \u001b[0;34m=\u001b[0m \u001b[0;36m0\u001b[0m\u001b[0;34m\u001b[0m\u001b[0;34m\u001b[0m\u001b[0m\n\u001b[1;32m     10\u001b[0m         \u001b[0;31m#print(marker)\u001b[0m\u001b[0;34m\u001b[0m\u001b[0;34m\u001b[0m\u001b[0;34m\u001b[0m\u001b[0m\n",
      "\u001b[0;32m~/Desktop/ds/env/lib/python3.8/site-packages/pandas/core/indexing.py\u001b[0m in \u001b[0;36m__setitem__\u001b[0;34m(self, key, value)\u001b[0m\n\u001b[1;32m    714\u001b[0m \u001b[0;34m\u001b[0m\u001b[0m\n\u001b[1;32m    715\u001b[0m         \u001b[0miloc\u001b[0m \u001b[0;34m=\u001b[0m \u001b[0mself\u001b[0m \u001b[0;32mif\u001b[0m \u001b[0mself\u001b[0m\u001b[0;34m.\u001b[0m\u001b[0mname\u001b[0m \u001b[0;34m==\u001b[0m \u001b[0;34m\"iloc\"\u001b[0m \u001b[0;32melse\u001b[0m \u001b[0mself\u001b[0m\u001b[0;34m.\u001b[0m\u001b[0mobj\u001b[0m\u001b[0;34m.\u001b[0m\u001b[0miloc\u001b[0m\u001b[0;34m\u001b[0m\u001b[0;34m\u001b[0m\u001b[0m\n\u001b[0;32m--> 716\u001b[0;31m         \u001b[0miloc\u001b[0m\u001b[0;34m.\u001b[0m\u001b[0m_setitem_with_indexer\u001b[0m\u001b[0;34m(\u001b[0m\u001b[0mindexer\u001b[0m\u001b[0;34m,\u001b[0m \u001b[0mvalue\u001b[0m\u001b[0;34m,\u001b[0m \u001b[0mself\u001b[0m\u001b[0;34m.\u001b[0m\u001b[0mname\u001b[0m\u001b[0;34m)\u001b[0m\u001b[0;34m\u001b[0m\u001b[0;34m\u001b[0m\u001b[0m\n\u001b[0m\u001b[1;32m    717\u001b[0m \u001b[0;34m\u001b[0m\u001b[0m\n\u001b[1;32m    718\u001b[0m     \u001b[0;32mdef\u001b[0m \u001b[0m_validate_key\u001b[0m\u001b[0;34m(\u001b[0m\u001b[0mself\u001b[0m\u001b[0;34m,\u001b[0m \u001b[0mkey\u001b[0m\u001b[0;34m,\u001b[0m \u001b[0maxis\u001b[0m\u001b[0;34m:\u001b[0m \u001b[0mint\u001b[0m\u001b[0;34m)\u001b[0m\u001b[0;34m:\u001b[0m\u001b[0;34m\u001b[0m\u001b[0;34m\u001b[0m\u001b[0m\n",
      "\u001b[0;32m~/Desktop/ds/env/lib/python3.8/site-packages/pandas/core/indexing.py\u001b[0m in \u001b[0;36m_setitem_with_indexer\u001b[0;34m(self, indexer, value, name)\u001b[0m\n\u001b[1;32m   1688\u001b[0m             \u001b[0mself\u001b[0m\u001b[0;34m.\u001b[0m\u001b[0m_setitem_with_indexer_split_path\u001b[0m\u001b[0;34m(\u001b[0m\u001b[0mindexer\u001b[0m\u001b[0;34m,\u001b[0m \u001b[0mvalue\u001b[0m\u001b[0;34m,\u001b[0m \u001b[0mname\u001b[0m\u001b[0;34m)\u001b[0m\u001b[0;34m\u001b[0m\u001b[0;34m\u001b[0m\u001b[0m\n\u001b[1;32m   1689\u001b[0m         \u001b[0;32melse\u001b[0m\u001b[0;34m:\u001b[0m\u001b[0;34m\u001b[0m\u001b[0;34m\u001b[0m\u001b[0m\n\u001b[0;32m-> 1690\u001b[0;31m             \u001b[0mself\u001b[0m\u001b[0;34m.\u001b[0m\u001b[0m_setitem_single_block\u001b[0m\u001b[0;34m(\u001b[0m\u001b[0mindexer\u001b[0m\u001b[0;34m,\u001b[0m \u001b[0mvalue\u001b[0m\u001b[0;34m,\u001b[0m \u001b[0mname\u001b[0m\u001b[0;34m)\u001b[0m\u001b[0;34m\u001b[0m\u001b[0;34m\u001b[0m\u001b[0m\n\u001b[0m\u001b[1;32m   1691\u001b[0m \u001b[0;34m\u001b[0m\u001b[0m\n\u001b[1;32m   1692\u001b[0m     \u001b[0;32mdef\u001b[0m \u001b[0m_setitem_with_indexer_split_path\u001b[0m\u001b[0;34m(\u001b[0m\u001b[0mself\u001b[0m\u001b[0;34m,\u001b[0m \u001b[0mindexer\u001b[0m\u001b[0;34m,\u001b[0m \u001b[0mvalue\u001b[0m\u001b[0;34m,\u001b[0m \u001b[0mname\u001b[0m\u001b[0;34m:\u001b[0m \u001b[0mstr\u001b[0m\u001b[0;34m)\u001b[0m\u001b[0;34m:\u001b[0m\u001b[0;34m\u001b[0m\u001b[0;34m\u001b[0m\u001b[0m\n",
      "\u001b[0;32m~/Desktop/ds/env/lib/python3.8/site-packages/pandas/core/indexing.py\u001b[0m in \u001b[0;36m_setitem_single_block\u001b[0;34m(self, indexer, value, name)\u001b[0m\n\u001b[1;32m   1933\u001b[0m \u001b[0;34m\u001b[0m\u001b[0m\n\u001b[1;32m   1934\u001b[0m         \u001b[0;31m# check for chained assignment\u001b[0m\u001b[0;34m\u001b[0m\u001b[0;34m\u001b[0m\u001b[0;34m\u001b[0m\u001b[0m\n\u001b[0;32m-> 1935\u001b[0;31m         \u001b[0mself\u001b[0m\u001b[0;34m.\u001b[0m\u001b[0mobj\u001b[0m\u001b[0;34m.\u001b[0m\u001b[0m_check_is_chained_assignment_possible\u001b[0m\u001b[0;34m(\u001b[0m\u001b[0;34m)\u001b[0m\u001b[0;34m\u001b[0m\u001b[0;34m\u001b[0m\u001b[0m\n\u001b[0m\u001b[1;32m   1936\u001b[0m \u001b[0;34m\u001b[0m\u001b[0m\n\u001b[1;32m   1937\u001b[0m         \u001b[0;31m# actually do the set\u001b[0m\u001b[0;34m\u001b[0m\u001b[0;34m\u001b[0m\u001b[0;34m\u001b[0m\u001b[0m\n",
      "\u001b[0;32m~/Desktop/ds/env/lib/python3.8/site-packages/pandas/core/series.py\u001b[0m in \u001b[0;36m_check_is_chained_assignment_possible\u001b[0;34m(self)\u001b[0m\n\u001b[1;32m   1251\u001b[0m         \u001b[0mSee\u001b[0m \u001b[0mNDFrame\u001b[0m\u001b[0;34m.\u001b[0m\u001b[0m_check_is_chained_assignment_possible\u001b[0m\u001b[0;34m.\u001b[0m\u001b[0m__doc__\u001b[0m\u001b[0;34m\u001b[0m\u001b[0;34m\u001b[0m\u001b[0m\n\u001b[1;32m   1252\u001b[0m         \"\"\"\n\u001b[0;32m-> 1253\u001b[0;31m         \u001b[0;32mif\u001b[0m \u001b[0mself\u001b[0m\u001b[0;34m.\u001b[0m\u001b[0m_is_view\u001b[0m \u001b[0;32mand\u001b[0m \u001b[0mself\u001b[0m\u001b[0;34m.\u001b[0m\u001b[0m_is_cached\u001b[0m\u001b[0;34m:\u001b[0m\u001b[0;34m\u001b[0m\u001b[0;34m\u001b[0m\u001b[0m\n\u001b[0m\u001b[1;32m   1254\u001b[0m             \u001b[0mref\u001b[0m \u001b[0;34m=\u001b[0m \u001b[0mself\u001b[0m\u001b[0;34m.\u001b[0m\u001b[0m_get_cacher\u001b[0m\u001b[0;34m(\u001b[0m\u001b[0;34m)\u001b[0m\u001b[0;34m\u001b[0m\u001b[0;34m\u001b[0m\u001b[0m\n\u001b[1;32m   1255\u001b[0m             \u001b[0;32mif\u001b[0m \u001b[0mref\u001b[0m \u001b[0;32mis\u001b[0m \u001b[0;32mnot\u001b[0m \u001b[0;32mNone\u001b[0m \u001b[0;32mand\u001b[0m \u001b[0mref\u001b[0m\u001b[0;34m.\u001b[0m\u001b[0m_is_mixed_type\u001b[0m\u001b[0;34m:\u001b[0m\u001b[0;34m\u001b[0m\u001b[0;34m\u001b[0m\u001b[0m\n",
      "\u001b[0;32m~/Desktop/ds/env/lib/python3.8/site-packages/pandas/core/generic.py\u001b[0m in \u001b[0;36m_is_view\u001b[0;34m(self)\u001b[0m\n\u001b[1;32m   4122\u001b[0m     \u001b[0;32mdef\u001b[0m \u001b[0m_is_view\u001b[0m\u001b[0;34m(\u001b[0m\u001b[0mself\u001b[0m\u001b[0;34m)\u001b[0m \u001b[0;34m->\u001b[0m \u001b[0mbool_t\u001b[0m\u001b[0;34m:\u001b[0m\u001b[0;34m\u001b[0m\u001b[0;34m\u001b[0m\u001b[0m\n\u001b[1;32m   4123\u001b[0m         \u001b[0;34m\"\"\"Return boolean indicating if self is view of another array\"\"\"\u001b[0m\u001b[0;34m\u001b[0m\u001b[0;34m\u001b[0m\u001b[0m\n\u001b[0;32m-> 4124\u001b[0;31m         \u001b[0;32mreturn\u001b[0m \u001b[0mself\u001b[0m\u001b[0;34m.\u001b[0m\u001b[0m_mgr\u001b[0m\u001b[0;34m.\u001b[0m\u001b[0mis_view\u001b[0m\u001b[0;34m\u001b[0m\u001b[0;34m\u001b[0m\u001b[0m\n\u001b[0m\u001b[1;32m   4125\u001b[0m \u001b[0;34m\u001b[0m\u001b[0m\n\u001b[1;32m   4126\u001b[0m     \u001b[0;34m@\u001b[0m\u001b[0mfinal\u001b[0m\u001b[0;34m\u001b[0m\u001b[0;34m\u001b[0m\u001b[0m\n",
      "\u001b[0;32m~/Desktop/ds/env/lib/python3.8/site-packages/pandas/core/internals/managers.py\u001b[0m in \u001b[0;36mis_view\u001b[0;34m(self)\u001b[0m\n\u001b[1;32m    486\u001b[0m         \u001b[0;34m\"\"\"return a boolean if we are a single block and are a view\"\"\"\u001b[0m\u001b[0;34m\u001b[0m\u001b[0;34m\u001b[0m\u001b[0m\n\u001b[1;32m    487\u001b[0m         \u001b[0;32mif\u001b[0m \u001b[0mlen\u001b[0m\u001b[0;34m(\u001b[0m\u001b[0mself\u001b[0m\u001b[0;34m.\u001b[0m\u001b[0mblocks\u001b[0m\u001b[0;34m)\u001b[0m \u001b[0;34m==\u001b[0m \u001b[0;36m1\u001b[0m\u001b[0;34m:\u001b[0m\u001b[0;34m\u001b[0m\u001b[0;34m\u001b[0m\u001b[0m\n\u001b[0;32m--> 488\u001b[0;31m             \u001b[0;32mreturn\u001b[0m \u001b[0mself\u001b[0m\u001b[0;34m.\u001b[0m\u001b[0mblocks\u001b[0m\u001b[0;34m[\u001b[0m\u001b[0;36m0\u001b[0m\u001b[0;34m]\u001b[0m\u001b[0;34m.\u001b[0m\u001b[0mis_view\u001b[0m\u001b[0;34m\u001b[0m\u001b[0;34m\u001b[0m\u001b[0m\n\u001b[0m\u001b[1;32m    489\u001b[0m \u001b[0;34m\u001b[0m\u001b[0m\n\u001b[1;32m    490\u001b[0m         \u001b[0;31m# It is technically possible to figure out which blocks are views\u001b[0m\u001b[0;34m\u001b[0m\u001b[0;34m\u001b[0m\u001b[0;34m\u001b[0m\u001b[0m\n",
      "\u001b[0;31mKeyboardInterrupt\u001b[0m: "
     ]
    }
   ],
   "source": [
    "marker = 0\n",
    "for i in range(length):\n",
    "    if cluster_dict_list[i] == cluster_dict_list[i+1]:\n",
    "        #assign value in prob vector to prob_vector[marker]\n",
    "        #df.loc[:,'probability_vector'].iloc[marker] += df.loc[:,'probability_vector'].iloc[i]\n",
    "        #df.loc[:,'probability_vector'].iloc[i] = 0\n",
    "        \n",
    "        df.loc[:,'gap_vector'].iloc[marker] += df.loc[:,'gap_vector'].iloc[i+1]\n",
    "        df.loc[:,'gap_vector'].iloc[i] = 0\n",
    "        #print(marker)\n",
    "    else:\n",
    "        marker = i+1\n",
    "        #print(marker)"
   ]
  },
  {
   "cell_type": "code",
   "execution_count": 47,
   "metadata": {},
   "outputs": [
    {
     "data": {
      "text/plain": [
       "[<matplotlib.lines.Line2D at 0x7f3d33a7a0d0>]"
      ]
     },
     "execution_count": 47,
     "metadata": {},
     "output_type": "execute_result"
    },
    {
     "data": {
      "image/png": "[encoded data removed]",
      "text/plain": [
       "<Figure size 432x288 with 1 Axes>"
      ]
     },
     "metadata": {
      "needs_background": "light"
     },
     "output_type": "display_data"
    }
   ],
   "source": [
    "plt.plot(df['probability_vector'])"
   ]
  },
  {
   "cell_type": "code",
   "execution_count": 48,
   "metadata": {},
   "outputs": [
    {
     "data": {
      "text/plain": [
       "[<matplotlib.lines.Line2D at 0x7f3d33ab0670>]"
      ]
     },
     "execution_count": 48,
     "metadata": {},
     "output_type": "execute_result"
    },
    {
     "data": {
      "image/png": "[encoded data removed]",
      "text/plain": [
       "<Figure size 432x288 with 1 Axes>"
      ]
     },
     "metadata": {
      "needs_background": "light"
     },
     "output_type": "display_data"
    }
   ],
   "source": [
    "plt.plot(df['gap_vector'])"
   ]
  },
  {
   "cell_type": "code",
   "execution_count": 49,
   "metadata": {
    "scrolled": true
   },
   "outputs": [],
   "source": [
    "candidates = list(df.nlargest(length,['gap_vector']).index)"
   ]
  },
  {
   "cell_type": "code",
   "execution_count": 50,
   "metadata": {},
   "outputs": [
    {
     "data": {
      "text/plain": [
       "[1903,\n",
       " 1708,\n",
       " 641,\n",
       " 639,\n",
       " 1617,\n",
       " 1872,\n",
       " 1655,\n",
       " 1575,\n",
       " 1222,\n",
       " 1754,\n",
       " 1341,\n",
       " 1815,\n",
       " 600,\n",
       " 597,\n",
       " 1277,\n",
       " 607,\n",
       " 1377,\n",
       " 1254,\n",
       " 1513,\n",
       " 1533,\n",
       " 1493,\n",
       " 1851,\n",
       " 1323,\n",
       " 2034,\n",
       " 1422,\n",
       " 1683,\n",
       " 1409,\n",
       " 1452,\n",
       " 11804,\n",
       " 1776,\n",
       " 1392,\n",
       " 13832,\n",
       " 13276,\n",
       " 12295,\n",
       " 2019,\n",
       " 1243,\n",
       " 12828,\n",
       " 11356,\n",
       " 11060,\n",
       " 11982,\n",
       " 782,\n",
       " 776,\n",
       " 1788,\n",
       " 1045,\n",
       " 1061,\n",
       " 12479,\n",
       " 12466,\n",
       " 33932,\n",
       " 13562,\n",
       " 617,\n",
       " 13921,\n",
       " 12360,\n",
       " 36770,\n",
       " 12500,\n",
       " 12086,\n",
       " 11158,\n",
       " 14459,\n",
       " 12196,\n",
       " 12300,\n",
       " 1476,\n",
       " 14215,\n",
       " 643,\n",
       " 13728,\n",
       " 13044,\n",
       " 735,\n",
       " 732,\n",
       " 655,\n",
       " 13867,\n",
       " 12521,\n",
       " 12116,\n",
       " 13074,\n",
       " 12528,\n",
       " 12349,\n",
       " 11986,\n",
       " 656,\n",
       " 661,\n",
       " 15851,\n",
       " 1316,\n",
       " 35623,\n",
       " 605,\n",
       " 601,\n",
       " 614,\n",
       " 12054,\n",
       " 33637,\n",
       " 1805,\n",
       " 14492,\n",
       " 33382,\n",
       " 12216,\n",
       " 1610,\n",
       " 13335,\n",
       " 1303,\n",
       " 11839,\n",
       " 12451,\n",
       " 12716,\n",
       " 653,\n",
       " 650,\n",
       " 12309,\n",
       " 16274,\n",
       " 728,\n",
       " 730,\n",
       " 13099,\n",
       " 13348,\n",
       " 9874,\n",
       " 36234,\n",
       " 13051,\n",
       " 638,\n",
       " 635,\n",
       " 11696,\n",
       " 13955,\n",
       " 13857,\n",
       " 696,\n",
       " 1700,\n",
       " 13575,\n",
       " 12129,\n",
       " 36924,\n",
       " 10780,\n",
       " 12161,\n",
       " 12642,\n",
       " 1211,\n",
       " 14064,\n",
       " 14439,\n",
       " 12703,\n",
       " 39792,\n",
       " 1276,\n",
       " 11596,\n",
       " 11958,\n",
       " 12140,\n",
       " 36552,\n",
       " 37075,\n",
       " 35067,\n",
       " 11488,\n",
       " 11252,\n",
       " 37511,\n",
       " 36374,\n",
       " 35549,\n",
       " 1451,\n",
       " 36044,\n",
       " 11526,\n",
       " 11844,\n",
       " 12906,\n",
       " 13406,\n",
       " 12338,\n",
       " 36557,\n",
       " 15156,\n",
       " 10849,\n",
       " 13272,\n",
       " 819,\n",
       " 33198,\n",
       " 40504,\n",
       " 12275,\n",
       " 11922,\n",
       " 11938,\n",
       " 13199,\n",
       " 11987,\n",
       " 12669,\n",
       " 14458,\n",
       " 2788,\n",
       " 13010,\n",
       " 829,\n",
       " 824,\n",
       " 12288,\n",
       " 14083,\n",
       " 11671,\n",
       " 12595,\n",
       " 34403,\n",
       " 13786,\n",
       " 11196,\n",
       " 10757,\n",
       " 1486,\n",
       " 7216,\n",
       " 41328,\n",
       " 3359,\n",
       " 10967,\n",
       " 13797,\n",
       " 940,\n",
       " 929,\n",
       " 12862,\n",
       " 12516,\n",
       " 12837,\n",
       " 12487,\n",
       " 12593,\n",
       " 10173,\n",
       " 10562,\n",
       " 8586,\n",
       " 10002,\n",
       " 11947,\n",
       " 34910,\n",
       " 33703,\n",
       " 34515,\n",
       " 1077,\n",
       " 1062,\n",
       " 13289,\n",
       " 11480,\n",
       " 721,\n",
       " 16176,\n",
       " 36139,\n",
       " 10650,\n",
       " 11086,\n",
       " 13201,\n",
       " 33658,\n",
       " 37306,\n",
       " 18671,\n",
       " 14335,\n",
       " 33248,\n",
       " 13514,\n",
       " 14642,\n",
       " 13306,\n",
       " 13839,\n",
       " 34873,\n",
       " 32734,\n",
       " 36837,\n",
       " 32863,\n",
       " 13988,\n",
       " 12762,\n",
       " 34359,\n",
       " 12785,\n",
       " 11881,\n",
       " 34251,\n",
       " 34473,\n",
       " 13580,\n",
       " 14410,\n",
       " 37618,\n",
       " 10436,\n",
       " 34680,\n",
       " 37830,\n",
       " 12733,\n",
       " 11213,\n",
       " 31560,\n",
       " 12028,\n",
       " 11943,\n",
       " 33758,\n",
       " 12264,\n",
       " 15878,\n",
       " 11759,\n",
       " 1568,\n",
       " 34561,\n",
       " 14266,\n",
       " 35037,\n",
       " 35005,\n",
       " 35945,\n",
       " 1651,\n",
       " 11110,\n",
       " 1210,\n",
       " 1171,\n",
       " 2493,\n",
       " 11912,\n",
       " 40418,\n",
       " 14355,\n",
       " 16200,\n",
       " 16634,\n",
       " 36951,\n",
       " 38789,\n",
       " 33190,\n",
       " 13523,\n",
       " 13435,\n",
       " 13268,\n",
       " 15889,\n",
       " 12948,\n",
       " 34995,\n",
       " 38511,\n",
       " 8397,\n",
       " 30696,\n",
       " 13594,\n",
       " 11349,\n",
       " 38783,\n",
       " 11429,\n",
       " 40263,\n",
       " 11495,\n",
       " 13262,\n",
       " 13672,\n",
       " 35393,\n",
       " 12791,\n",
       " 699,\n",
       " 701,\n",
       " 12878,\n",
       " 9780,\n",
       " 33578,\n",
       " 21368,\n",
       " 12803,\n",
       " 12029,\n",
       " 36741,\n",
       " 12935,\n",
       " 12753,\n",
       " 11824,\n",
       " 12694,\n",
       " 12606,\n",
       " 11188,\n",
       " 2506,\n",
       " 13817,\n",
       " 36420,\n",
       " 12834,\n",
       " 14996,\n",
       " 41412,\n",
       " 694,\n",
       " 40478,\n",
       " 29411,\n",
       " 36370,\n",
       " 10924,\n",
       " 36058,\n",
       " 12507,\n",
       " 32974,\n",
       " 9793,\n",
       " 1870,\n",
       " 18001,\n",
       " 2730,\n",
       " 15131,\n",
       " 15915,\n",
       " 34736,\n",
       " 14711,\n",
       " 12927,\n",
       " 35525,\n",
       " 10712,\n",
       " 32305,\n",
       " 34049,\n",
       " 12619,\n",
       " 36363,\n",
       " 40969,\n",
       " 13022,\n",
       " 38284,\n",
       " 13055,\n",
       " 15327,\n",
       " 38060,\n",
       " 36823,\n",
       " 10829,\n",
       " 12024,\n",
       " 12826,\n",
       " 11980,\n",
       " 12957,\n",
       " 12797,\n",
       " 36021,\n",
       " 15590,\n",
       " 12091,\n",
       " 12303,\n",
       " 34275,\n",
       " 9975,\n",
       " 7955,\n",
       " 1127,\n",
       " 1118,\n",
       " 40272,\n",
       " 40947,\n",
       " 14013,\n",
       " 34583,\n",
       " 12510,\n",
       " 11670,\n",
       " 12721,\n",
       " 14553,\n",
       " 11237,\n",
       " 11728,\n",
       " 12499,\n",
       " 11891,\n",
       " 39527,\n",
       " 34559,\n",
       " 14645,\n",
       " 751,\n",
       " 756,\n",
       " 14679,\n",
       " 13431,\n",
       " 13896,\n",
       " 14408,\n",
       " 12436,\n",
       " 41406,\n",
       " 10352,\n",
       " 38741,\n",
       " 17653,\n",
       " 40381,\n",
       " 10890,\n",
       " 15096,\n",
       " 39321,\n",
       " 26552,\n",
       " 12249,\n",
       " 11033,\n",
       " 11578,\n",
       " 40978,\n",
       " 12053,\n",
       " 41404,\n",
       " 11562,\n",
       " 33311,\n",
       " 16737,\n",
       " 34575,\n",
       " 15703,\n",
       " 10440,\n",
       " 32896,\n",
       " 38380,\n",
       " 15518,\n",
       " 13380,\n",
       " 11627,\n",
       " 11535,\n",
       " 34952,\n",
       " 11998,\n",
       " 14113,\n",
       " 14237,\n",
       " 10499,\n",
       " 40227,\n",
       " 3850,\n",
       " 11924,\n",
       " 35657,\n",
       " 8608,\n",
       " 14713,\n",
       " 13632,\n",
       " 37001,\n",
       " 11936,\n",
       " 12995,\n",
       " 10793,\n",
       " 12311,\n",
       " 29381,\n",
       " 11689,\n",
       " 11691,\n",
       " 35974,\n",
       " 37195,\n",
       " 12913,\n",
       " 12565,\n",
       " 19304,\n",
       " 11189,\n",
       " 9740,\n",
       " 37955,\n",
       " 11340,\n",
       " 12960,\n",
       " 34174,\n",
       " 13354,\n",
       " 12291,\n",
       " 8993,\n",
       " 13504,\n",
       " 1488,\n",
       " 9835,\n",
       " 13559,\n",
       " 11639,\n",
       " 13421,\n",
       " 15689,\n",
       " 30950,\n",
       " 36463,\n",
       " 35261,\n",
       " 6398,\n",
       " 2646,\n",
       " 15606,\n",
       " 12104,\n",
       " 13226,\n",
       " 32348,\n",
       " 19662,\n",
       " 10729,\n",
       " 14212,\n",
       " 39840,\n",
       " 11238,\n",
       " 8593,\n",
       " 35741,\n",
       " 17342,\n",
       " 12177,\n",
       " 35737,\n",
       " 11637,\n",
       " 36402,\n",
       " 40069,\n",
       " 31415,\n",
       " 34202,\n",
       " 33015,\n",
       " 35468,\n",
       " 12059,\n",
       " 10767,\n",
       " 31055,\n",
       " 10416,\n",
       " 39861,\n",
       " 11477,\n",
       " 36999,\n",
       " 11605,\n",
       " 13933,\n",
       " 36725,\n",
       " 12967,\n",
       " 15150,\n",
       " 6266,\n",
       " 14813,\n",
       " 13376,\n",
       " 34562,\n",
       " 31020,\n",
       " 9985,\n",
       " 10402,\n",
       " 14138,\n",
       " 35527,\n",
       " 35070,\n",
       " 31728,\n",
       " 2212,\n",
       " 22378,\n",
       " 12726,\n",
       " 13499,\n",
       " 35723,\n",
       " 37212,\n",
       " 13971,\n",
       " 36086,\n",
       " 37971,\n",
       " 10989,\n",
       " 38412,\n",
       " 40574,\n",
       " 38006,\n",
       " 3933,\n",
       " 36464,\n",
       " 14332,\n",
       " 897,\n",
       " 892,\n",
       " 40238,\n",
       " 26815,\n",
       " 40527,\n",
       " 13690,\n",
       " 10341,\n",
       " 13691,\n",
       " 11659,\n",
       " 12014,\n",
       " 6113,\n",
       " 790,\n",
       " 785,\n",
       " 12775,\n",
       " 12388,\n",
       " 13752,\n",
       " 16917,\n",
       " 11698,\n",
       " 39328,\n",
       " 7277,\n",
       " 12812,\n",
       " 765,\n",
       " 37221,\n",
       " 29757,\n",
       " 13079,\n",
       " 12327,\n",
       " 9505,\n",
       " 13651,\n",
       " 9218,\n",
       " 33923,\n",
       " 13337,\n",
       " 40859,\n",
       " 11680,\n",
       " 36757,\n",
       " 14097,\n",
       " 11655,\n",
       " 10867,\n",
       " 17582,\n",
       " 7201,\n",
       " 34826,\n",
       " 14158,\n",
       " 15481,\n",
       " 12629,\n",
       " 14175,\n",
       " 11810,\n",
       " 33272,\n",
       " 13030,\n",
       " 12770,\n",
       " 744,\n",
       " 748,\n",
       " 38987,\n",
       " 12717,\n",
       " 1370,\n",
       " 14536,\n",
       " 35138,\n",
       " 31453,\n",
       " 2066,\n",
       " 13761,\n",
       " 12804,\n",
       " 21354,\n",
       " 33835,\n",
       " 12137,\n",
       " 10861,\n",
       " 28344,\n",
       " 12523,\n",
       " 11873,\n",
       " 12261,\n",
       " 35171,\n",
       " 12544,\n",
       " 32399,\n",
       " 12660,\n",
       " 36819,\n",
       " 33781,\n",
       " 2352,\n",
       " 16066,\n",
       " 12474,\n",
       " 37016,\n",
       " 30439,\n",
       " 36545,\n",
       " 20125,\n",
       " 12461,\n",
       " 38792,\n",
       " 13970,\n",
       " 10130,\n",
       " 34560,\n",
       " 36187,\n",
       " 9432,\n",
       " 35693,\n",
       " 38556,\n",
       " 10869,\n",
       " 12622,\n",
       " 39338,\n",
       " 27161,\n",
       " 11509,\n",
       " 11481,\n",
       " 15550,\n",
       " 9349,\n",
       " 37421,\n",
       " 2125,\n",
       " 13578,\n",
       " 37236,\n",
       " 8740,\n",
       " 33099,\n",
       " 11127,\n",
       " 35372,\n",
       " 9105,\n",
       " 34677,\n",
       " 11197,\n",
       " 11247,\n",
       " 11616,\n",
       " 8785,\n",
       " 41627,\n",
       " 9180,\n",
       " 13323,\n",
       " 7438,\n",
       " 11941,\n",
       " 11098,\n",
       " 12799,\n",
       " 11234,\n",
       " 8079,\n",
       " 13054,\n",
       " 36701,\n",
       " 13091,\n",
       " 11435,\n",
       " 11866,\n",
       " 14740,\n",
       " 34898,\n",
       " 10922,\n",
       " 12361,\n",
       " 23244,\n",
       " 12778,\n",
       " 12655,\n",
       " 26247,\n",
       " 17188,\n",
       " 14761,\n",
       " 33944,\n",
       " 14098,\n",
       " 34827,\n",
       " 12580,\n",
       " 11184,\n",
       " 35196,\n",
       " 8096,\n",
       " 13068,\n",
       " 29445,\n",
       " 41093,\n",
       " 12063,\n",
       " 36955,\n",
       " 740,\n",
       " 736,\n",
       " 33267,\n",
       " 36502,\n",
       " 41018,\n",
       " 9159,\n",
       " 14802,\n",
       " 10858,\n",
       " 6955,\n",
       " 14223,\n",
       " 33171,\n",
       " 6651,\n",
       " 11258,\n",
       " 6031,\n",
       " 6430,\n",
       " 3085,\n",
       " 11981,\n",
       " 13851,\n",
       " 12047,\n",
       " 37698,\n",
       " 12942,\n",
       " 3337,\n",
       " 39517,\n",
       " 31613,\n",
       " 11430,\n",
       " 36553,\n",
       " 35703,\n",
       " 35654,\n",
       " 11547,\n",
       " 38063,\n",
       " 40357,\n",
       " 31672,\n",
       " 15683,\n",
       " 42156,\n",
       " 13384,\n",
       " 14762,\n",
       " 13978,\n",
       " 41962,\n",
       " 39207,\n",
       " 13479,\n",
       " 36546,\n",
       " 16297,\n",
       " 15081,\n",
       " 14309,\n",
       " 1492,\n",
       " 35517,\n",
       " 16047,\n",
       " 10641,\n",
       " 37301,\n",
       " 12596,\n",
       " 11271,\n",
       " 8132,\n",
       " 34935,\n",
       " 35334,\n",
       " 33314,\n",
       " 14630,\n",
       " 14227,\n",
       " 35091,\n",
       " 13428,\n",
       " 12280,\n",
       " 9181,\n",
       " 14206,\n",
       " 8165,\n",
       " 35212,\n",
       " 13891,\n",
       " 30870,\n",
       " 3104,\n",
       " 19413,\n",
       " 10932,\n",
       " 27974,\n",
       " 39578,\n",
       " 15725,\n",
       " 34976,\n",
       " 16519,\n",
       " 866,\n",
       " 3369,\n",
       " 14697,\n",
       " 32468,\n",
       " 37202,\n",
       " 15328,\n",
       " 11821,\n",
       " 12057,\n",
       " 36641,\n",
       " 868,\n",
       " 13587,\n",
       " 11949,\n",
       " 13727,\n",
       " 34149,\n",
       " 38961,\n",
       " 40375,\n",
       " 13615,\n",
       " 14690,\n",
       " 13418,\n",
       " 36809,\n",
       " 37660,\n",
       " 24439,\n",
       " 10851,\n",
       " 12964,\n",
       " 10180,\n",
       " 29640,\n",
       " 15357,\n",
       " 9478,\n",
       " 35449,\n",
       " 33993,\n",
       " 15555,\n",
       " 11463,\n",
       " 11414,\n",
       " 13052,\n",
       " 12329,\n",
       " 10502,\n",
       " 10939,\n",
       " 40252,\n",
       " 35147,\n",
       " 8774,\n",
       " 5678,\n",
       " 38478,\n",
       " 12741,\n",
       " 37843,\n",
       " 34787,\n",
       " 36844,\n",
       " 19086,\n",
       " 10318,\n",
       " 13214,\n",
       " 17009,\n",
       " 33820,\n",
       " 15969,\n",
       " 10495,\n",
       " 29713,\n",
       " 25331,\n",
       " 13192,\n",
       " 36936,\n",
       " 36276,\n",
       " 37019,\n",
       " 26490,\n",
       " 30591,\n",
       " 7852,\n",
       " 14907,\n",
       " 40643,\n",
       " 37928,\n",
       " 35310,\n",
       " 37550,\n",
       " 3514,\n",
       " 13733,\n",
       " 39801,\n",
       " 10389,\n",
       " 39606,\n",
       " 2768,\n",
       " 12098,\n",
       " 13920,\n",
       " 35094,\n",
       " 2144,\n",
       " 13433,\n",
       " 39985,\n",
       " 27938,\n",
       " 39845,\n",
       " 11027,\n",
       " 12421,\n",
       " 9276,\n",
       " 17660,\n",
       " 23099,\n",
       " 14369,\n",
       " 39616,\n",
       " 13601,\n",
       " 34143,\n",
       " 39277,\n",
       " 13826,\n",
       " 12013,\n",
       " 36482,\n",
       " 9104,\n",
       " 12197,\n",
       " 14263,\n",
       " 15256,\n",
       " 13424,\n",
       " 14384,\n",
       " 32392,\n",
       " 7220,\n",
       " 14184,\n",
       " 18949,\n",
       " 38084,\n",
       " 698,\n",
       " 10160,\n",
       " 12305,\n",
       " 2910,\n",
       " 11405,\n",
       " 15759,\n",
       " 37877,\n",
       " 12615,\n",
       " 41340,\n",
       " 34321,\n",
       " 11812,\n",
       " 15620,\n",
       " 36015,\n",
       " 36724,\n",
       " 10795,\n",
       " 10486,\n",
       " 8599,\n",
       " 19189,\n",
       " 13726,\n",
       " 34778,\n",
       " 13511,\n",
       " 36070,\n",
       " 2924,\n",
       " 39309,\n",
       " 9828,\n",
       " 6636,\n",
       " 12585,\n",
       " 11334,\n",
       " 33065,\n",
       " 35952,\n",
       " 13303,\n",
       " 13385,\n",
       " 33440,\n",
       " 13315,\n",
       " 11602,\n",
       " 32494,\n",
       " 12764,\n",
       " 20741,\n",
       " 12165,\n",
       " 11317,\n",
       " 12130,\n",
       " 39215,\n",
       " 18754,\n",
       " 32363,\n",
       " 13377,\n",
       " 11780,\n",
       " 37375,\n",
       " 9981,\n",
       " 672,\n",
       " 675,\n",
       " 20792,\n",
       " 33295,\n",
       " 11350,\n",
       " 18226,\n",
       " 10433,\n",
       " 29245,\n",
       " 37216,\n",
       " 15056,\n",
       " 2911,\n",
       " 11593,\n",
       " 38110,\n",
       " 13756,\n",
       " 12385,\n",
       " 41205,\n",
       " 13295,\n",
       " 11726,\n",
       " 10891,\n",
       " 29549,\n",
       " 17854,\n",
       " 3640,\n",
       " 37230,\n",
       " 14339,\n",
       " 36115,\n",
       " 31857,\n",
       " 15059,\n",
       " 33754,\n",
       " 15678,\n",
       " 34081,\n",
       " 25409,\n",
       " 11314,\n",
       " 25306,\n",
       " 2523,\n",
       " 12859,\n",
       " 35744,\n",
       " 21908,\n",
       " 35885,\n",
       " 35705,\n",
       " 12334,\n",
       " 11825,\n",
       " 39336,\n",
       " 9506,\n",
       " 12625,\n",
       " 6584,\n",
       " 30503,\n",
       " 38428,\n",
       " 954,\n",
       " 13065,\n",
       " 37416,\n",
       " 37558,\n",
       " 13290,\n",
       " 9755,\n",
       " 37122,\n",
       " 13165,\n",
       " 13588,\n",
       " 33591,\n",
       " 38489,\n",
       " 36620,\n",
       " 15068,\n",
       " 13789,\n",
       " 13273,\n",
       " 34550,\n",
       " 34299,\n",
       " 37149,\n",
       " 14402,\n",
       " 14179,\n",
       " 13932,\n",
       " 32694,\n",
       " 12055,\n",
       " 36031,\n",
       " 7702,\n",
       " 13939,\n",
       " 12182,\n",
       " 11020,\n",
       " 10870,\n",
       " 40403,\n",
       " 39713,\n",
       " 12695,\n",
       " 15659,\n",
       " 30304,\n",
       " 17806,\n",
       " 42085,\n",
       " 14523,\n",
       " 31464,\n",
       " 22125,\n",
       " 11640,\n",
       " 4486,\n",
       " 42048,\n",
       " 33493,\n",
       " 38598,\n",
       " 15676,\n",
       " 41944,\n",
       " 14933,\n",
       " 12814,\n",
       " 35017,\n",
       " 38663,\n",
       " 32942,\n",
       " 12714,\n",
       " 8853,\n",
       " 5793,\n",
       " 11036,\n",
       " 34806,\n",
       " 10688,\n",
       " 10636,\n",
       " 11634,\n",
       " 34435,\n",
       " 12699,\n",
       " 40198,\n",
       " 36777,\n",
       " 40670,\n",
       " 15167,\n",
       " 38679,\n",
       " 11260,\n",
       " 33842,\n",
       " 41308,\n",
       " 29236,\n",
       " 35580,\n",
       " 5635,\n",
       " 33966,\n",
       " 1081,\n",
       " 4763,\n",
       " 30602,\n",
       " 11369,\n",
       " 10573,\n",
       " 9670,\n",
       " 7773,\n",
       " 40868,\n",
       " 36747,\n",
       " 38306,\n",
       " 11730,\n",
       " 11861,\n",
       " 9404,\n",
       " ...]"
      ]
     },
     "execution_count": 50,
     "metadata": {},
     "output_type": "execute_result"
    }
   ],
   "source": [
    "candidates"
   ]
  },
  {
   "cell_type": "code",
   "execution_count": 130,
   "metadata": {},
   "outputs": [
    {
     "data": {
      "text/plain": [
       "1903"
      ]
     },
     "execution_count": 130,
     "metadata": {},
     "output_type": "execute_result"
    }
   ],
   "source": [
    "idx = candidates[0]\n",
    "idx"
   ]
  },
  {
   "cell_type": "code",
   "execution_count": 131,
   "metadata": {},
   "outputs": [
    {
     "name": "stdout",
     "output_type": "stream",
     "text": [
      "0.00244210254707382\n",
      "percent confidence\n"
     ]
    },
    {
     "data": {
      "text/plain": [
       "'0.2%'"
      ]
     },
     "execution_count": 131,
     "metadata": {},
     "output_type": "execute_result"
    }
   ],
   "source": [
    "print(df.loc[:,'gap_vector'][idx])\n",
    "print('percent confidence')\n",
    "'{:.1%}'.format(df.loc[:,'gap_vector'][idx])"
   ]
  },
  {
   "cell_type": "code",
   "execution_count": 132,
   "metadata": {},
   "outputs": [
    {
     "data": {
      "text/plain": [
       "array([  9,   9,   9,   9,   9,   9,   9,   9,   9,   9,   9,   9,   9,\n",
       "         9,   9,   9,   9,   9,   9,   9,   9,   9,   9, 143,   9,   9,\n",
       "       168,   9, 168,   9,   9,   9,   9,   9, 168,   9,   9,   9,   9,\n",
       "       143,  19,  19,  19,  19,  19,  19, 112,  19,  19,  19,   0, 147,\n",
       "        19,  19,  19,  19,  19,  19,  19,  19,  19,  19,  19,  19,  19,\n",
       "       147,   0,  19, 147,  19,  19,  19,  19,  19,  19,  19,  19,  19,\n",
       "       112, 112,   7,   7,   7,   7,   7,   7,   7,   0,   7,   7,   7,\n",
       "         7,   7,   7,   7,   7,   7,   7,   7,   7,   0,   7,   7,   7,\n",
       "         7,   7,   7,   7,   7,   7,   7,   0,   7,   7,   7,   7,   7,\n",
       "         7,   7,   7,   1,   1,   1,   1,   1,   1,   0,   0,   1,   1,\n",
       "         1,   0,  85,   1,   1,   1,   1,   1,   1,   1,   1,   1,   1,\n",
       "         0,   1,   1,   1,   1,   1,  85,   1,   1,   1,   1,   1,   1,\n",
       "         1,   1,   1,   0,   5,   5,   5,   5,   5,   5,   5,   5,   5,\n",
       "         5,   5,   5,   5,   5,   5,   5,   5,   5,   5,   5,   5,   5,\n",
       "         5,   0,   0,   5,   5,   5,   0,   5,   5,   5,   5,   5,   5,\n",
       "         5,   5,   5,   5,   5,  14,  14,  14,  14,  14,  14, 171,   0,\n",
       "       171,  14,  14,  14,  14,  14,  14,  14,  14,  14,  14,  14,  14,\n",
       "        14,  14,  14,   0,  14,  14,  14,  14,  14,  14,  14,  14,  14,\n",
       "        14,  14,  14,  14,  14,  14,  26,  26,  26,  26,  26,  14,  26,\n",
       "        26,  26,  26,  26,  26,  26,  26,  26,  26,  26,  26,  26,  26,\n",
       "        26,  26,  26,  26,  26,  26,  26,  26,  26,  26,  26,  26,  26,\n",
       "         0,  26,  26,  26,  26,  26,  26,  12,  12,   0,  12,  12,  12,\n",
       "         0,  12,  12,  12,  12,  12,  12, 154,  12,   0,  12,  12,  12,\n",
       "        12,  12,  12,  12,  12,  12,  12,  12,  12,  12,   0,  12,  12,\n",
       "        12, 154,  12,  12,   0,  12,  12,  12,  13,  13,  13,  13,  13,\n",
       "        13,  13,  13,  13,  13,  13,  13, 172,  13,  13,  13,  13,   0,\n",
       "        13,  13,  13,   0,  13,  13,  13,  13,  13, 172, 172,  13,  13,\n",
       "        13,  13,  13,  13,  13,  13,  13,  13,  13,  34,  34,  34,  34,\n",
       "        34,  34,  34,  34,  34,  34,  34,  34,  34,  34,  34,  34,  34,\n",
       "        34,  34,  34,  34,  34,  34,  34,  34,  34,  34,  73,  34,  34,\n",
       "        34,  34,  34,  34,  34,  34,  34,  34,  73,  34,   6,   6,   6,\n",
       "         6,   6,   6,   6,   6,   6,   6,   6,   6,   6,   6,   6,   6,\n",
       "         6,   6,   6,   0,   6,   6,   6,   6,   6,   6,   6,   6,   6,\n",
       "         6,   6,   6,   6,   6,   6,   6,   6,   6,   6,   6,  10,  10,\n",
       "         0,  10,  10,  27,  10,  10,  10,  10,  10,  10,  10,  10,  10,\n",
       "        10,  10,  10,  10,  10,  10,  10,  10,  10,  10,  10,  10,  10,\n",
       "        10,  10,  10,  10,   0,  10,  27,  10,  27,  10,  10,   0,  15,\n",
       "        15,  15,  15,  15,  15,  15,  15,  15,  15,  15,  15,  15,  15,\n",
       "        15,  15,  15,   0,  15,   0,  15,  15,  15,  15,  15,   0,  15,\n",
       "        15,   0,  15,  15,  15,  15,  15,  15,  15,  15,  15,  15,  15,\n",
       "         3,   3,   3,   3,   0,   3,   3,   3,   3,   3,  39,   3,   3,\n",
       "         3,   3,   3,   3,   3,   3,   3,   3,   3,   3,   3,   3,  39,\n",
       "         3,   3,   3,   3,   0,   3,   3,   3,   3,   3,   3,   3,   3,\n",
       "         3, 135,   2,   2,   2,   2,   2,   2,   2,   2, 135,   2,   2,\n",
       "         2,   2,   0,   2,   2,   2,   2,   0,   2,   2,   2,   2,   2,\n",
       "         2,   0,   2,   2,   2,   2,   2,   2,   2,   2,   2,   2,   2,\n",
       "         2,   2])"
      ]
     },
     "execution_count": 132,
     "metadata": {},
     "output_type": "execute_result"
    }
   ],
   "source": [
    "np.array(list(cluster_dict_list[idx].values()))"
   ]
  },
  {
   "cell_type": "code",
   "execution_count": 133,
   "metadata": {},
   "outputs": [
    {
     "name": "stdout",
     "output_type": "stream",
     "text": [
      "27\n",
      "your dataset appears to have 27 clusters, not including any outliers\n"
     ]
    }
   ],
   "source": [
    "#cluster_idx_array = (np.unique(np.array(list(cluster_dict_list[idx].values()))))\n",
    "#print(cluster_idx_array)\n",
    "#print(np.count_nonzero(cluster_idx_array))\n",
    "\n",
    "number_of_clusters = np.count_nonzero(np.unique(np.array(list(cluster_dict_list[idx].values()))))\n",
    "print(number_of_clusters)\n",
    "print('your dataset appears to have', number_of_clusters,'clusters, not including any outliers')"
   ]
  },
  {
   "cell_type": "code",
   "execution_count": 134,
   "metadata": {},
   "outputs": [
    {
     "name": "stdout",
     "output_type": "stream",
     "text": [
      "0.8529866078768464\n",
      "0.4805762397390039\n"
     ]
    }
   ],
   "source": [
    "true = y\n",
    "pred = np.array(list(cluster_dict_list[idx].values()))\n",
    "\n",
    "print(metrics.adjusted_rand_score(true, pred))\n",
    "print(metrics.silhouette_score(X, pred, metric=\"sqeuclidean\"))"
   ]
  },
  {
   "cell_type": "code",
   "execution_count": 135,
   "metadata": {},
   "outputs": [
    {
     "data": {
      "text/plain": [
       "<matplotlib.collections.PathCollection at 0x7f3d318ad2e0>"
      ]
     },
     "execution_count": 135,
     "metadata": {},
     "output_type": "execute_result"
    },
    {
     "data": {
      "image/png": "[encoded data removed]",
      "text/plain": [
       "<Figure size 864x864 with 1 Axes>"
      ]
     },
     "metadata": {
      "needs_background": "light"
     },
     "output_type": "display_data"
    }
   ],
   "source": [
    "size=12\n",
    "plt.figure(figsize=(size,size))\n",
    "plt.scatter(X[:, 0], X[:, 1],\n",
    "            s=50, \n",
    "            c=np.array(list(cluster_dict_list[idx].values())),\n",
    "            marker=\"o\",\n",
    "            cmap='flag',\n",
    "            norm=None,\n",
    "            alpha=.9,\n",
    "            edgecolor=\"k\")"
   ]
  },
  {
   "cell_type": "code",
   "execution_count": 98,
   "metadata": {},
   "outputs": [
    {
     "data": {
      "text/plain": [
       "[1903,\n",
       " 1708,\n",
       " 641,\n",
       " 639,\n",
       " 1617,\n",
       " 1872,\n",
       " 1655,\n",
       " 1575,\n",
       " 1222,\n",
       " 1754,\n",
       " 1341,\n",
       " 1815,\n",
       " 600,\n",
       " 597,\n",
       " 1277,\n",
       " 607,\n",
       " 1377,\n",
       " 1254,\n",
       " 1513,\n",
       " 1533,\n",
       " 1493,\n",
       " 1851,\n",
       " 1323,\n",
       " 2034,\n",
       " 1422,\n",
       " 1683,\n",
       " 1409,\n",
       " 1452,\n",
       " 11804,\n",
       " 1776,\n",
       " 1392,\n",
       " 13832,\n",
       " 13276,\n",
       " 12295,\n",
       " 2019,\n",
       " 1243,\n",
       " 12828,\n",
       " 11356,\n",
       " 11060,\n",
       " 11982]"
      ]
     },
     "execution_count": 98,
     "metadata": {},
     "output_type": "execute_result"
    }
   ],
   "source": [
    "idx_list = candidates[:40]\n",
    "idx_list"
   ]
  },
  {
   "cell_type": "code",
   "execution_count": 110,
   "metadata": {},
   "outputs": [],
   "source": [
    "idx_list.sort()"
   ]
  },
  {
   "cell_type": "code",
   "execution_count": 111,
   "metadata": {
    "scrolled": false
   },
   "outputs": [
    {
     "data": {
      "text/plain": [
       "array([  597,   600,   607,   639,   641,  1222,  1243,  1254,  1277,\n",
       "        1323,  1341,  1377,  1392,  1409,  1422,  1452,  1493,  1513,\n",
       "        1533,  1575,  1617,  1655,  1683,  1708,  1754,  1776,  1815,\n",
       "        1851,  1872,  1903,  2019,  2034, 11060, 11356, 11804, 11982,\n",
       "       12295, 12828, 13276, 13832])"
      ]
     },
     "execution_count": 111,
     "metadata": {},
     "output_type": "execute_result"
    }
   ],
   "source": [
    "idx_array = np.asarray(idx_list)\n",
    "idx_array"
   ]
  },
  {
   "cell_type": "code",
   "execution_count": 109,
   "metadata": {},
   "outputs": [
    {
     "data": {
      "text/plain": [
       "0.6530063791892738"
      ]
     },
     "execution_count": 109,
     "metadata": {},
     "output_type": "execute_result"
    }
   ],
   "source": [
    "metrics.silhouette_score(X, pred, metric=\"euclidean\")"
   ]
  },
  {
   "cell_type": "markdown",
   "metadata": {},
   "source": [
    "%%time\n",
    "length = len(cluster_dict_list)-1\n",
    "silhouette_scores = []\n",
    "\n",
    "for i in range(length):\n",
    "    pred = np.array(list(cluster_dict_list[i].values()))\n",
    "    silhouette_scores.append(metrics.silhouette_score(X, pred, metric=\"euclidean\"))"
   ]
  },
  {
   "cell_type": "code",
   "execution_count": 105,
   "metadata": {},
   "outputs": [],
   "source": [
    "silhouette_list = []\n",
    "for i in idx_list:\n",
    "    silhouette = metrics.silhouette_score(X,     np.array(list(cluster_dict_list[i].values())), metric=\"euclidean\")\n",
    "    silhouette_list.append(silhouette)"
   ]
  },
  {
   "cell_type": "code",
   "execution_count": 115,
   "metadata": {
    "scrolled": true
   },
   "outputs": [],
   "source": [
    "silhouette_array = np.asarray(silhouette_list)"
   ]
  },
  {
   "cell_type": "code",
   "execution_count": 117,
   "metadata": {
    "scrolled": true
   },
   "outputs": [
    {
     "data": {
      "text/plain": [
       "[<matplotlib.lines.Line2D at 0x7f3d3194cb50>]"
      ]
     },
     "execution_count": 117,
     "metadata": {},
     "output_type": "execute_result"
    },
    {
     "data": {
      "image/png": "[encoded data removed]",
      "text/plain": [
       "<Figure size 432x288 with 1 Axes>"
      ]
     },
     "metadata": {
      "needs_background": "light"
     },
     "output_type": "display_data"
    }
   ],
   "source": [
    "plt.plot(idx_array,silhouette_array)"
   ]
  },
  {
   "cell_type": "code",
   "execution_count": null,
   "metadata": {},
   "outputs": [],
   "source": [
    "#idx = silhouette_scores.index(max(silhouette_scores[simplex_tree.num_vertices():idx]))\n",
    "#print(idx)"
   ]
  },
  {
   "cell_type": "code",
   "execution_count": 112,
   "metadata": {},
   "outputs": [],
   "source": [
    "rand_score_list = []\n",
    "true = y\n",
    "for i in idx_list:\n",
    "    pred = np.array(list(cluster_dict_list[i].values()))\n",
    "    rand_score = metrics.adjusted_rand_score( true, pred)\n",
    "    rand_score_list.append(rand_score)"
   ]
  },
  {
   "cell_type": "code",
   "execution_count": 113,
   "metadata": {
    "scrolled": true
   },
   "outputs": [],
   "source": [
    "rand_score_array = np.asarray(rand_score_list)"
   ]
  },
  {
   "cell_type": "code",
   "execution_count": 114,
   "metadata": {},
   "outputs": [
    {
     "data": {
      "text/plain": [
       "[<matplotlib.lines.Line2D at 0x7f3d334d7ac0>]"
      ]
     },
     "execution_count": 114,
     "metadata": {},
     "output_type": "execute_result"
    },
    {
     "data": {
      "image/png": "[encoded data removed]",
      "text/plain": [
       "<Figure size 432x288 with 1 Axes>"
      ]
     },
     "metadata": {
      "needs_background": "light"
     },
     "output_type": "display_data"
    }
   ],
   "source": [
    " plt.plot(idx_array,rand_score_array)"
   ]
  },
  {
   "cell_type": "code",
   "execution_count": 119,
   "metadata": {},
   "outputs": [
    {
     "data": {
      "text/plain": [
       "0.8654462248897465"
      ]
     },
     "execution_count": 119,
     "metadata": {},
     "output_type": "execute_result"
    }
   ],
   "source": [
    "max(rand_score_array)"
   ]
  },
  {
   "cell_type": "code",
   "execution_count": 120,
   "metadata": {},
   "outputs": [
    {
     "data": {
      "text/plain": [
       "(array([31]),)"
      ]
     },
     "execution_count": 120,
     "metadata": {},
     "output_type": "execute_result"
    }
   ],
   "source": [
    "np.where(rand_score_array == max(rand_score_array) )"
   ]
  },
  {
   "cell_type": "code",
   "execution_count": 122,
   "metadata": {},
   "outputs": [
    {
     "data": {
      "text/plain": [
       "2034"
      ]
     },
     "execution_count": 122,
     "metadata": {},
     "output_type": "execute_result"
    }
   ],
   "source": [
    "idx_array[31]"
   ]
  },
  {
   "cell_type": "code",
   "execution_count": null,
   "metadata": {},
   "outputs": [],
   "source": [
    "fig, ax = plt.subplots(figsize=(5,5))\n",
    "frames = len(candidates)\n",
    "\n",
    "\n",
    "outfile = filename + str(frames) + 'frames.gif'\n",
    "\n",
    "if os.path.isfile(outfile):\n",
    "    def init():\n",
    "        scatter = ax.scatter(X[:, 0], X[:, 1],\n",
    "                        s=40, \n",
    "                        c=np.array(list(cluster_dict_list[0].values())),\n",
    "                        marker=\"o\",\n",
    "                        cmap='rainbow',\n",
    "                        norm=None,\n",
    "                        alpha=1,\n",
    "                        edgecolor=\"k\")\n",
    "        #ax.set(xlim=(-1, 35), ylim=(-1, 35))\n",
    "\n",
    "        return scatter,\n",
    "\n",
    "    #collection = PatchCollection(X, animated=True)\n",
    "\n",
    "    #ax.add_collection(collection)\n",
    "    #ax.autoscale_view(True)\n",
    "\n",
    "    def animate(i):\n",
    "\n",
    "        scatter = ax.scatter(X[:, 0], X[:, 1],\n",
    "                    s=40, \n",
    "                    c=np.array(list(cluster_dict_list[candidates[i]].values())),\n",
    "                    marker=\"o\",\n",
    "                    cmap='flag',\n",
    "                    norm=None,\n",
    "                    alpha=1,\n",
    "                    edgecolor=\"k\")\n",
    "        return scatter,\n",
    "\n",
    "\n",
    "\n",
    "    ani = FuncAnimation(fig, animate,interval=1000,init_func=init,frames=frames,repeat=False, blit=True)\n",
    "\n",
    "    #ani.save('animation.gif')\n",
    "\n",
    "\n",
    "\n",
    "    #writer=animation.PillowWriter()\n",
    "\n",
    "    #writer = animation.FFMpegWriter(fps=2,bitrate=1000)\n",
    "\n",
    "    ani.save(outfile, dpi=200)\n",
    "    fig.show()\n"
   ]
  },
  {
   "cell_type": "code",
   "execution_count": null,
   "metadata": {},
   "outputs": [],
   "source": [
    "def pogo(dataset):\n",
    "    rips_complex = gudhi.RipsComplex(points=dataset,max_edge_length=100)\n",
    "    simplex_tree = rips_complex.create_simplex_tree(max_dimension=1)\n",
    "    df = pd.DataFrame(simplex_tree.get_filtration(), columns=['simplex','distance'])\n",
    "    #move through list and assign clusters to conected components\n",
    "\n",
    "    point_dict={i:0 for i in range(simplex_tree.num_vertices())}\n",
    "    counter=0\n",
    "\n",
    "    cluster_dict_list = []\n",
    "    for i in range(simplex_tree.num_vertices(),len(df)):\n",
    "        #if both points are still in cluster 0, assign both to a new cluster\n",
    "        if point_dict[df.loc[i,'simplex'][0]] == 0 and point_dict[df.loc[i,'simplex'][1]] == 0:\n",
    "            counter += 1\n",
    "            point_dict[df.loc[i,'simplex'][0]] = counter\n",
    "            point_dict[df.loc[i,'simplex'][1]] = counter\n",
    "            #if one point is in cluster 0 and one is not, assign the one in cluster 0 to the existing cluster\n",
    "        elif point_dict[df.loc[i,'simplex'][0]] == 0 and point_dict[df.loc[i,'simplex'][1]] != 0:\n",
    "            point_dict[df.loc[i,'simplex'][0]] = point_dict[df.loc[i,'simplex'][1]]\n",
    "\n",
    "            #and vice versa\n",
    "        elif point_dict[df.loc[i,'simplex'][0]] != 0 and point_dict[df.loc[i,'simplex'][1]] == 0:\n",
    "            point_dict[df.loc[i,'simplex'][1]] = point_dict[df.loc[i,'simplex'][0]]\n",
    "\n",
    "            #if both points are not in cluster 0 and not in the same cluster, merge clusters to the lower number cluster\n",
    "        elif point_dict[df.loc[i,'simplex'][0]] != 0 and point_dict[df.loc[i,'simplex'][1]] != 0 and point_dict[df.loc[i,'simplex'][0]] != point_dict[df.loc[i,'simplex'][1]]:\n",
    "            larger_cluster_number = max(point_dict[df.loc[i,'simplex'][0]], point_dict[df.loc[i,'simplex'][1]])\n",
    "            smaller_cluster_number = min(point_dict[df.loc[i,'simplex'][0]], point_dict[df.loc[i,'simplex'][1]])\n",
    "            for key, value in point_dict.items():\n",
    "                if value == larger_cluster_number:\n",
    "                    point_dict[key] = smaller_cluster_number\n",
    "        cluster_dict_list.append(point_dict.copy())\n",
    "        #print(point_dict)\n",
    "        #print('step',i)\n",
    "\n",
    "    \n",
    "    cutoff_value = 0\n",
    "    for i in range(len(cluster_dict_list)):\n",
    "        if cutoff_value == 0:\n",
    "            if all(value != 0 for value in cluster_dict_list[i].values()):\n",
    "                cutoff_value = i\n",
    "                print('dataset becomes connected at simplex #',cutoff_value)\n",
    "       \n",
    "    df = df[:cutoff_value]\n",
    "    #cluster_dict_list =\n",
    "    \n",
    "    #find the gaps between birth/death pairs\n",
    "\n",
    "    df['gaps'] = df['distance'] - df['distance'].shift(1)\n",
    "    \n",
    "    #find normalized distance\n",
    "    scaler = MinMaxScaler()\n",
    "    df['normed_distance'] = scaler.fit_transform(df['distance'].values.reshape(-1, 1))\n",
    "\n",
    "    #Mulitply the gaps by their normed location in the filtration, weighting features more heavily if they're later\n",
    "    df['normed_gaps'] = df['gaps'] * df['normed_distance']\n",
    "\n",
    "    norm_sum = df['normed_gaps'].sum()\n",
    "    df['probability_vector_normed_gaps'] = df['normed_gaps'] / norm_sum\n",
    "    \n",
    "    gap_sum = df['gaps'].sum()\n",
    "    df['probability_vector_gaps'] = df['normed_gaps'] / gap_sum\n",
    "\n",
    "    partition = 10\n",
    "    candidates = [i for i in df.nlargest(partition ,['gaps']).index if i in df.nlargest( partition,['normed_gaps']).index]\n",
    "    #print('possible cuttoffs' , candidates)\n",
    "    idx = cutoff_value - 1\n",
    "    #idx = candidates[0]\n",
    "    print('idx' ,idx)\n",
    "\n",
    "    print('your dataset appears to have', len(np.unique(np.array(list(cluster_dict_list[idx].values())))),'clusters')\n",
    "\n",
    "    #print( np.array(list(cluster_dict_list[idx].values())))\n",
    "\n",
    "    print(simplex_tree.num_vertices() , 'vertices')  \n",
    "    print(simplex_tree.num_simplices(), 'simplices')\n",
    "    print('dimension:', simplex_tree.dimension())\n",
    "\n",
    "    size=10\n",
    "    plt.figure(figsize=(size,size))\n",
    "    plt.scatter(dataset[:, 0], dataset[:, 1],\n",
    "                s=30, \n",
    "                c=np.array(list(cluster_dict_list[idx].values())),\n",
    "                marker=\"o\",\n",
    "                cmap='rainbow',\n",
    "                norm=None,\n",
    "                alpha=.9,\n",
    "                edgecolor=\"k\")\n",
    "    \n",
    "    return cluster_dict_list, candidates, idx\n"
   ]
  },
  {
   "cell_type": "code",
   "execution_count": null,
   "metadata": {
    "scrolled": true
   },
   "outputs": [],
   "source": [
    "cluster_dict_list, candidates, idx = pogo(X)"
   ]
  },
  {
   "cell_type": "code",
   "execution_count": null,
   "metadata": {
    "scrolled": true
   },
   "outputs": [],
   "source": [
    "true = y\n",
    "pred = np.array(list(cluster_dict_list[idx].values()))\n",
    "\n",
    "print('adjusted rand score =' , metrics.adjusted_rand_score(true, pred))\n"
   ]
  },
  {
   "cell_type": "code",
   "execution_count": null,
   "metadata": {},
   "outputs": [],
   "source": [
    "%matplotlib notebook"
   ]
  },
  {
   "cell_type": "code",
   "execution_count": null,
   "metadata": {},
   "outputs": [],
   "source": [
    "frames = 30\n",
    "interval = int(len(cluster_dict_list)/frames)\n",
    "print(interval)\n"
   ]
  },
  {
   "cell_type": "code",
   "execution_count": null,
   "metadata": {},
   "outputs": [],
   "source": [
    "fig, ax = plt.subplots(figsize=(8,8))\n",
    "frames = 30\n",
    "interval = int(len(cluster_dict_list)/frames)\n",
    "print(interval)\n",
    "\n",
    "scatter = ax.scatter(X[:, 0], X[:, 1],\n",
    "                s=40, \n",
    "                c=np.array(list(cluster_dict_list[0].values())),\n",
    "                marker=\"o\",\n",
    "                cmap='gist_rainbow',\n",
    "                norm=None,\n",
    "                alpha=1,\n",
    "                edgecolor=\"k\")\n",
    "ax.set(xlim=(-1, 35), ylim=(-1, 35))\n",
    "\n",
    "def animate(n):\n",
    "    scatter.set_array(np.array(list(cluster_dict_list[n*interval].values())))\n",
    "    \n",
    "ani = FuncAnimation(fig, animate,interval=20,frames=frames,repeat=True, blit=True)\n",
    "\n",
    "#ani.save('animation.gif')\n",
    "\n",
    "\n",
    "\n",
    "writer=animation.PillowWriter()\n",
    "\n",
    "writer = animation.FFMpegWriter(fps=2,bitrate=1000)\n",
    "\n",
    "ani.save('animation-d.mp4', writer=writer, dpi=250)\n",
    "\n",
    "\n",
    "fig.show()"
   ]
  },
  {
   "cell_type": "code",
   "execution_count": null,
   "metadata": {},
   "outputs": [],
   "source": []
  },
  {
   "cell_type": "code",
   "execution_count": null,
   "metadata": {},
   "outputs": [],
   "source": [
    "dataset = np.loadtxt('D31.txt')\n",
    "\n",
    "X, y = dataset[:, :2],dataset[:, 2]\n",
    "\n",
    "size=12\n",
    "plt.figure(figsize=(size,size))\n",
    "plt.scatter(X[:, 0], X[:, 1],\n",
    "            s=25, \n",
    "            c=y,\n",
    "            marker=\"o\",\n",
    "            cmap='tab10',\n",
    "            norm=None,\n",
    "            alpha=.7,\n",
    "            edgecolor=\"k\")"
   ]
  }
 ],
 "metadata": {
  "kernelspec": {
   "display_name": "Python 3",
   "language": "python",
   "name": "python3"
  },
  "language_info": {
   "codemirror_mode": {
    "name": "ipython",
    "version": 3
   },
   "file_extension": ".py",
   "mimetype": "text/x-python",
   "name": "python",
   "nbconvert_exporter": "python",
   "pygments_lexer": "ipython3",
   "version": "3.8.10"
  }
 },
 "nbformat": 4,
 "nbformat_minor": 4
}
