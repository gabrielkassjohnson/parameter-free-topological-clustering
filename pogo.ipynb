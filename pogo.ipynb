{
 "cells": [
  {
   "cell_type": "code",
   "execution_count": 1,
   "metadata": {},
   "outputs": [
    {
     "name": "stdout",
     "output_type": "stream",
     "text": [
      "Aggregation.txt              \u001b[0m\u001b[01;35manimation.gif\u001b[0m             pogo.ipynb\r\n",
      "\u001b[01;35mAggregation.txt12frames.gif\u001b[0m  \u001b[01;35manimation.mp4\u001b[0m             R15.txt\r\n",
      "\u001b[01;35mAggregation.txt20frames.gif\u001b[0m  Compound.txt              \u001b[01;35mR15.txt22frames.gif\u001b[0m\r\n",
      "\u001b[01;35mAggregation.txt22frames.gif\u001b[0m  \u001b[01;35mCompound.txt22frames.gif\u001b[0m  README.md\r\n",
      "\u001b[01;35mAggregation.txt3frames.gif\u001b[0m   D31.txt                   \u001b[01;35mspiral20frames.mp4\u001b[0m\r\n",
      "\u001b[01;35manimation-400.mp4\u001b[0m            \u001b[01;35mD31.txt22frames.gif\u001b[0m       \u001b[01;35mspiral40frames.mp4\u001b[0m\r\n",
      "\u001b[01;35manimation-b.mp4\u001b[0m              \u001b[01;35mjain40frames.mp4\u001b[0m          spiral.txt\r\n",
      "\u001b[01;35manimation-c.mp4\u001b[0m              jain.txt                  \u001b[01;35mspiral.txt20frames.gif\u001b[0m\r\n",
      "\u001b[01;35manimation-d.mp4\u001b[0m              \u001b[01;35mjain.txt20frames.gif\u001b[0m      \u001b[01;35mspiral.txt5frames.gif\u001b[0m\r\n"
     ]
    }
   ],
   "source": [
    "ls"
   ]
  },
  {
   "cell_type": "code",
   "execution_count": 2,
   "metadata": {},
   "outputs": [],
   "source": [
    "import numpy as np\n",
    "import pandas as pd\n",
    "import gudhi"
   ]
  },
  {
   "cell_type": "code",
   "execution_count": 3,
   "metadata": {},
   "outputs": [],
   "source": [
    "from matplotlib import pyplot as plt\n",
    "from matplotlib.animation import FuncAnimation\n",
    "from matplotlib import animation\n",
    "from matplotlib.collections import PatchCollection"
   ]
  },
  {
   "cell_type": "code",
   "execution_count": 4,
   "metadata": {},
   "outputs": [],
   "source": [
    "from sklearn.datasets import make_blobs\n",
    "from sklearn.datasets import make_classification\n",
    "from sklearn.datasets import make_gaussian_quantiles\n",
    "from sklearn.datasets import load_iris\n",
    "from sklearn.datasets import load_digits\n",
    "\n",
    "\n",
    "from sklearn.preprocessing import MinMaxScaler\n",
    "from sklearn.decomposition import PCA\n",
    "from sklearn import metrics\n",
    "\n",
    "import os.path"
   ]
  },
  {
   "cell_type": "code",
   "execution_count": 5,
   "metadata": {},
   "outputs": [],
   "source": [
    "from urllib.request import urlopen\n",
    "from urllib.parse import urlparse"
   ]
  },
  {
   "cell_type": "code",
   "execution_count": 6,
   "metadata": {},
   "outputs": [],
   "source": [
    "%matplotlib inline"
   ]
  },
  {
   "cell_type": "markdown",
   "metadata": {},
   "source": [
    "#randomized blobs with standard deviation\n",
    "n = 6\n",
    "std = np.random.random_sample((n,))\n",
    "#std = 1\n",
    "X, y, z = make_blobs(\n",
    "    n_samples=n*100,\n",
    "    n_features=2,\n",
    "    centers=n,\n",
    "    cluster_std=std,\n",
    "    center_box=(-10.0, 10.0),\n",
    "    shuffle=False,\n",
    "    random_state=42,\n",
    "    return_centers=True,\n",
    ")\n"
   ]
  },
  {
   "cell_type": "markdown",
   "metadata": {},
   "source": [
    "\n",
    "size=8\n",
    "plt.figure(figsize=(size,size))\n",
    "plt.scatter(X[:, 0], X[:, 1],\n",
    "            s=25, \n",
    "            c=y,\n",
    "            marker=\"o\",\n",
    "            cmap='tab10',\n",
    "            norm=None,\n",
    "            alpha=.7,\n",
    "            edgecolor=\"k\")"
   ]
  },
  {
   "cell_type": "code",
   "execution_count": 7,
   "metadata": {},
   "outputs": [],
   "source": [
    "urls = ['https://cs.joensuu.fi/sipu/datasets/overlap.txt', 'https://cs.joensuu.fi/sipu/datasets/pathbased.txt','https://cs.joensuu.fi/sipu/datasets/a1.txt','https://cs.joensuu.fi/sipu/datasets/R15.txt','https://cs.joensuu.fi/sipu/datasets/unbalance.txt']"
   ]
  },
  {
   "cell_type": "code",
   "execution_count": 8,
   "metadata": {},
   "outputs": [
    {
     "name": "stdout",
     "output_type": "stream",
     "text": [
      "https://cs.joensuu.fi/sipu/datasets/R15.txt\n",
      "(600, 3)\n",
      "[[10.35   9.768  1.   ]\n",
      " [10.098  9.988  1.   ]\n",
      " [ 9.73   9.91   1.   ]\n",
      " [ 9.754 10.43   1.   ]\n",
      " [ 9.836  9.902  1.   ]\n",
      " [10.238  9.866  1.   ]\n",
      " [ 9.53   9.862  1.   ]\n",
      " [10.154  9.82   1.   ]\n",
      " [ 9.336 10.456  1.   ]\n",
      " [ 9.378 10.21   1.   ]\n",
      " [ 9.712 10.264  1.   ]\n",
      " [ 9.638 10.208  1.   ]\n",
      " [ 9.518  9.956  1.   ]\n",
      " [10.236  9.91   1.   ]\n",
      " [ 9.4   10.086  1.   ]\n",
      " [10.196  9.746  1.   ]\n",
      " [10.138  9.828  1.   ]\n",
      " [10.062 10.26   1.   ]\n",
      " [10.394  9.984  1.   ]]\n"
     ]
    }
   ],
   "source": [
    "url= urls[3]\n",
    "print(url)\n",
    "parse = urlparse(url)\n",
    "filename = parse.path.strip('/').split('/')[-1]\n",
    "raw_data = urlopen(url)\n",
    "data = np.loadtxt(raw_data)\n",
    "\n",
    "print(data.shape)\n",
    "print(data[1:20])\n"
   ]
  },
  {
   "cell_type": "code",
   "execution_count": null,
   "metadata": {},
   "outputs": [],
   "source": []
  },
  {
   "cell_type": "code",
   "execution_count": 9,
   "metadata": {},
   "outputs": [],
   "source": [
    "#iris = load_iris()\n",
    "#X = iris.data\n",
    "#y = iris.target"
   ]
  },
  {
   "cell_type": "code",
   "execution_count": 10,
   "metadata": {},
   "outputs": [
    {
     "name": "stdout",
     "output_type": "stream",
     "text": [
      "R15.txt\n",
      "(600,)\n",
      "(600, 2)\n",
      "[[ 9.802 10.132  1.   ]\n",
      " [10.35   9.768  1.   ]\n",
      " [10.098  9.988  1.   ]\n",
      " ...\n",
      " [13.636  5.218 15.   ]\n",
      " [14.41   4.656 15.   ]\n",
      " [14.02   5.614 15.   ]]\n"
     ]
    }
   ],
   "source": [
    "print(filename)\n",
    "\n",
    "y = data[:,2]\n",
    "print(y.shape)\n",
    "X = data[:,:2]\n",
    "print(X.shape)\n",
    "print(data)"
   ]
  },
  {
   "cell_type": "code",
   "execution_count": 11,
   "metadata": {},
   "outputs": [
    {
     "data": {
      "text/plain": [
       "<matplotlib.collections.PathCollection at 0x7fc584137910>"
      ]
     },
     "execution_count": 11,
     "metadata": {},
     "output_type": "execute_result"
    },
    {
     "data": {
      "image/png": "[encoded data removed]",
      "text/plain": [
       "<Figure size 576x576 with 1 Axes>"
      ]
     },
     "metadata": {
      "needs_background": "light"
     },
     "output_type": "display_data"
    }
   ],
   "source": [
    "size=8\n",
    "plt.figure(figsize=(size,size))\n",
    "plt.scatter(X[:, 0], X[:, 1],\n",
    "            s=25, \n",
    "            c=y,\n",
    "            marker=\"o\",\n",
    "            cmap='tab10',\n",
    "            norm=None,\n",
    "            alpha=.7,\n",
    "            edgecolor=\"k\")"
   ]
  },
  {
   "cell_type": "code",
   "execution_count": 12,
   "metadata": {},
   "outputs": [],
   "source": [
    "rips_complex = gudhi.RipsComplex(points=X)\n"
   ]
  },
  {
   "cell_type": "code",
   "execution_count": 13,
   "metadata": {},
   "outputs": [
    {
     "name": "stdout",
     "output_type": "stream",
     "text": [
      "600 vertices\n",
      "180300 simplices\n",
      "dimension: 1\n"
     ]
    }
   ],
   "source": [
    "\n",
    "simplex_tree = rips_complex.create_simplex_tree(max_dimension=1)\n",
    "\n",
    "\n",
    "#for i in simplex_tree.get_filtration():\n",
    "#    print(i)\n",
    "    \n",
    "print(simplex_tree.num_vertices() , 'vertices')  \n",
    "print(simplex_tree.num_simplices(), 'simplices')\n",
    "print('dimension:', simplex_tree.dimension())\n"
   ]
  },
  {
   "cell_type": "code",
   "execution_count": 14,
   "metadata": {},
   "outputs": [],
   "source": [
    "diag = simplex_tree.persistence()"
   ]
  },
  {
   "cell_type": "code",
   "execution_count": 15,
   "metadata": {},
   "outputs": [
    {
     "name": "stderr",
     "output_type": "stream",
     "text": [
      "usetex mode requires TeX.\n"
     ]
    },
    {
     "data": {
      "image/png": "[encoded data removed]",
      "text/plain": [
       "<Figure size 432x288 with 1 Axes>"
      ]
     },
     "metadata": {
      "needs_background": "light"
     },
     "output_type": "display_data"
    }
   ],
   "source": [
    "gudhi.plot_persistence_barcode(diag)\n",
    "plt.show()"
   ]
  },
  {
   "cell_type": "code",
   "execution_count": 16,
   "metadata": {},
   "outputs": [
    {
     "name": "stdout",
     "output_type": "stream",
     "text": [
      "break\n",
      "([72, 278], 3.394113728206525)\n",
      "3.394113728206525\n"
     ]
    }
   ],
   "source": [
    "#move through list and assign clusters to conected components\n",
    "point_dict={i:0 for i in range(simplex_tree.num_vertices())}\n",
    "counter=0\n",
    "cluster_dict_list = []\n",
    "\n",
    "for simplex in simplex_tree.get_filtration():\n",
    "    if len(simplex[0])>1:    \n",
    "        if all(value > 0 for value in list(point_dict.values())):\n",
    "            if len(np.unique(np.array(list(point_dict.values())))) == 1:\n",
    "                print('break')\n",
    "                print(simplex)\n",
    "                print(simplex[1])\n",
    "                simplex_tree.prune_above_filtration(simplex[1])\n",
    "                break\n",
    "\n",
    "\n",
    "        #if both points are still in cluster 0, assign both to a new cluster\n",
    "        if point_dict[simplex[0][0]] == 0 and point_dict[simplex[0][1]] == 0:\n",
    "            counter += 1\n",
    "            point_dict[simplex[0][0]] = counter\n",
    "            point_dict[simplex[0][1]] = counter\n",
    "            #if one point is in cluster 0 and one is not, assign the one in cluster 0 to the existing cluster\n",
    "        elif point_dict[simplex[0][0]] == 0 and point_dict[simplex[0][1]] != 0:\n",
    "            point_dict[simplex[0][0]] = point_dict[simplex[0][1]]\n",
    "\n",
    "            #and vice versa\n",
    "        elif point_dict[simplex[0][0]] != 0 and point_dict[simplex[0][1]] == 0:\n",
    "            point_dict[simplex[0][1]] = point_dict[simplex[0][0]]\n",
    "\n",
    "            #if both points are not in cluster 0 and not in the same cluster, merge clusters to the lower number cluster\n",
    "        elif point_dict[simplex[0][0]] != 0 and point_dict[simplex[0][1]] != 0 and point_dict[simplex[0][0]] != point_dict[simplex[0][1]]:\n",
    "            larger_cluster_number = max(point_dict[simplex[0][0]], point_dict[simplex[0][1]])\n",
    "            smaller_cluster_number = min(point_dict[simplex[0][0]], point_dict[simplex[0][1]])\n",
    "            for key, value in point_dict.items():\n",
    "                if value == larger_cluster_number:\n",
    "                    point_dict[key] = smaller_cluster_number\n",
    "        cluster_dict_list.append(point_dict.copy())\n"
   ]
  },
  {
   "cell_type": "code",
   "execution_count": 17,
   "metadata": {},
   "outputs": [
    {
     "data": {
      "text/plain": [
       "1"
      ]
     },
     "execution_count": 17,
     "metadata": {},
     "output_type": "execute_result"
    }
   ],
   "source": [
    "len(np.unique(np.array(list(point_dict.values()))))"
   ]
  },
  {
   "cell_type": "code",
   "execution_count": 18,
   "metadata": {},
   "outputs": [
    {
     "data": {
      "text/plain": [
       "42270"
      ]
     },
     "execution_count": 18,
     "metadata": {},
     "output_type": "execute_result"
    }
   ],
   "source": [
    "length = len(cluster_dict_list)\n",
    "length"
   ]
  },
  {
   "cell_type": "code",
   "execution_count": 19,
   "metadata": {},
   "outputs": [
    {
     "name": "stdout",
     "output_type": "stream",
     "text": [
      "42871 simplices\n"
     ]
    }
   ],
   "source": [
    "print(simplex_tree.num_simplices(), 'simplices')\n"
   ]
  },
  {
   "cell_type": "code",
   "execution_count": 20,
   "metadata": {},
   "outputs": [
    {
     "name": "stdout",
     "output_type": "stream",
     "text": [
      "dict_values([1, 1, 1, 1, 1, 1, 1, 1, 1, 1, 1, 1, 1, 1, 1, 1, 1, 1, 1, 1, 1, 1, 1, 1, 1, 1, 1, 1, 1, 1, 1, 1, 1, 1, 1, 1, 1, 1, 1, 1, 1, 1, 1, 1, 1, 1, 1, 1, 1, 1, 1, 1, 1, 1, 1, 1, 1, 1, 1, 1, 1, 1, 1, 1, 1, 1, 1, 1, 1, 1, 1, 1, 1, 1, 1, 1, 1, 1, 1, 1, 1, 1, 1, 1, 1, 1, 1, 1, 1, 1, 1, 1, 1, 1, 1, 1, 1, 1, 1, 1, 1, 1, 1, 1, 1, 1, 1, 1, 1, 1, 1, 1, 1, 1, 1, 1, 1, 1, 1, 1, 1, 1, 1, 1, 1, 1, 1, 1, 1, 1, 1, 1, 1, 1, 1, 1, 1, 1, 1, 1, 1, 1, 1, 1, 1, 1, 1, 1, 1, 1, 1, 1, 1, 1, 1, 1, 1, 1, 1, 1, 1, 1, 1, 1, 1, 1, 1, 1, 1, 1, 1, 1, 1, 1, 1, 1, 1, 1, 1, 1, 1, 1, 1, 1, 1, 1, 1, 1, 1, 1, 1, 1, 1, 1, 1, 1, 1, 1, 1, 1, 1, 1, 1, 1, 1, 1, 1, 1, 1, 1, 1, 1, 1, 1, 1, 1, 1, 1, 1, 1, 1, 1, 1, 1, 1, 1, 1, 1, 1, 1, 1, 1, 1, 1, 1, 1, 1, 1, 1, 1, 1, 1, 1, 1, 1, 1, 1, 1, 1, 1, 1, 1, 1, 1, 1, 1, 1, 1, 1, 1, 1, 1, 1, 1, 1, 1, 1, 1, 1, 1, 1, 1, 1, 1, 1, 1, 1, 1, 1, 1, 1, 1, 1, 1, 1, 1, 1, 1, 1, 1, 1, 1, 1, 1, 1, 1, 1, 1, 1, 1, 1, 1, 1, 1, 1, 1, 1, 1, 1, 1, 1, 1, 1, 1, 1, 1, 1, 1, 1, 1, 1, 1, 1, 1, 1, 1, 1, 1, 1, 1, 1, 1, 1, 1, 1, 1, 1, 1, 1, 1, 1, 1, 1, 1, 1, 1, 1, 1, 1, 1, 1, 1, 1, 1, 1, 1, 1, 1, 1, 1, 1, 1, 1, 1, 1, 1, 1, 1, 1, 1, 1, 1, 1, 1, 1, 1, 1, 1, 1, 1, 1, 1, 1, 1, 1, 1, 1, 1, 1, 1, 1, 1, 1, 1, 1, 1, 1, 1, 1, 1, 1, 1, 1, 1, 1, 1, 1, 1, 1, 1, 1, 1, 1, 1, 1, 1, 1, 1, 1, 1, 1, 1, 1, 1, 1, 1, 1, 1, 1, 1, 1, 1, 1, 1, 1, 1, 1, 1, 1, 1, 10, 10, 10, 10, 10, 10, 10, 10, 10, 10, 10, 10, 10, 10, 10, 10, 10, 10, 10, 10, 10, 10, 10, 10, 10, 10, 10, 10, 10, 10, 10, 10, 10, 10, 10, 10, 10, 10, 10, 10, 1, 1, 1, 1, 1, 1, 1, 1, 1, 1, 1, 1, 1, 1, 1, 1, 1, 1, 1, 1, 1, 1, 1, 1, 1, 1, 1, 1, 1, 1, 1, 1, 1, 1, 1, 1, 1, 1, 1, 1, 1, 1, 1, 1, 1, 1, 1, 1, 1, 1, 1, 1, 1, 1, 1, 1, 1, 1, 1, 1, 1, 1, 1, 1, 1, 1, 1, 1, 1, 1, 1, 1, 1, 1, 1, 1, 1, 1, 1, 1, 1, 1, 1, 1, 1, 1, 1, 1, 1, 1, 1, 1, 1, 1, 1, 1, 1, 1, 1, 1, 1, 1, 1, 1, 1, 1, 1, 1, 1, 1, 1, 1, 1, 1, 1, 1, 1, 1, 1, 1])\n",
      "dict_values([1, 1, 1, 1, 1, 1, 1, 1, 1, 1, 1, 1, 1, 1, 1, 1, 1, 1, 1, 1, 1, 1, 1, 1, 1, 1, 1, 1, 1, 1, 1, 1, 1, 1, 1, 1, 1, 1, 1, 1, 1, 1, 1, 1, 1, 1, 1, 1, 1, 1, 1, 1, 1, 1, 1, 1, 1, 1, 1, 1, 1, 1, 1, 1, 1, 1, 1, 1, 1, 1, 1, 1, 1, 1, 1, 1, 1, 1, 1, 1, 1, 1, 1, 1, 1, 1, 1, 1, 1, 1, 1, 1, 1, 1, 1, 1, 1, 1, 1, 1, 1, 1, 1, 1, 1, 1, 1, 1, 1, 1, 1, 1, 1, 1, 1, 1, 1, 1, 1, 1, 1, 1, 1, 1, 1, 1, 1, 1, 1, 1, 1, 1, 1, 1, 1, 1, 1, 1, 1, 1, 1, 1, 1, 1, 1, 1, 1, 1, 1, 1, 1, 1, 1, 1, 1, 1, 1, 1, 1, 1, 1, 1, 1, 1, 1, 1, 1, 1, 1, 1, 1, 1, 1, 1, 1, 1, 1, 1, 1, 1, 1, 1, 1, 1, 1, 1, 1, 1, 1, 1, 1, 1, 1, 1, 1, 1, 1, 1, 1, 1, 1, 1, 1, 1, 1, 1, 1, 1, 1, 1, 1, 1, 1, 1, 1, 1, 1, 1, 1, 1, 1, 1, 1, 1, 1, 1, 1, 1, 1, 1, 1, 1, 1, 1, 1, 1, 1, 1, 1, 1, 1, 1, 1, 1, 1, 1, 1, 1, 1, 1, 1, 1, 1, 1, 1, 1, 1, 1, 1, 1, 1, 1, 1, 1, 1, 1, 1, 1, 1, 1, 1, 1, 1, 1, 1, 1, 1, 1, 1, 1, 1, 1, 1, 1, 1, 1, 1, 1, 1, 1, 1, 1, 1, 1, 1, 1, 1, 1, 1, 1, 1, 1, 1, 1, 1, 1, 1, 1, 1, 1, 1, 1, 1, 1, 1, 1, 1, 1, 1, 1, 1, 1, 1, 1, 1, 1, 1, 1, 1, 1, 1, 1, 1, 1, 1, 1, 1, 1, 1, 1, 1, 1, 1, 1, 1, 1, 1, 1, 1, 1, 1, 1, 1, 1, 1, 1, 1, 1, 1, 1, 1, 1, 1, 1, 1, 1, 1, 1, 1, 1, 1, 1, 1, 1, 1, 1, 1, 1, 1, 1, 1, 1, 1, 1, 1, 1, 1, 1, 1, 1, 1, 1, 1, 1, 1, 1, 1, 1, 1, 1, 1, 1, 1, 1, 1, 1, 1, 1, 1, 1, 1, 1, 1, 1, 1, 1, 1, 1, 1, 1, 1, 1, 1, 1, 1, 1, 1, 1, 1, 1, 1, 1, 1, 1, 1, 1, 1, 1, 1, 1, 1, 1, 1, 1, 1, 1, 1, 1, 1, 1, 1, 1, 1, 1, 1, 1, 1, 1, 1, 1, 1, 1, 1, 1, 1, 1, 1, 1, 1, 1, 1, 1, 1, 1, 1, 1, 1, 1, 1, 1, 1, 1, 1, 1, 1, 1, 1, 1, 1, 1, 1, 1, 1, 1, 1, 1, 1, 1, 1, 1, 1, 1, 1, 1, 1, 1, 1, 1, 1, 1, 1, 1, 1, 1, 1, 1, 1, 1, 1, 1, 1, 1, 1, 1, 1, 1, 1, 1, 1, 1, 1, 1, 1, 1, 1, 1, 1, 1, 1, 1, 1, 1, 1, 1, 1, 1, 1, 1, 1, 1, 1, 1, 1, 1, 1, 1, 1, 1, 1, 1, 1, 1, 1, 1, 1, 1, 1, 1, 1, 1, 1, 1, 1, 1, 1, 1, 1, 1, 1, 1, 1, 1, 1, 1, 1, 1, 1, 1, 1, 1, 1, 1, 1, 1, 1, 1, 1, 1, 1, 1])\n"
     ]
    }
   ],
   "source": [
    "print(cluster_dict_list[-2].values()) #penultimate clustering has 2 clusters\n",
    "print(cluster_dict_list[-1].values()) #last clustering finally merges to all one cluster"
   ]
  },
  {
   "cell_type": "code",
   "execution_count": 21,
   "metadata": {},
   "outputs": [],
   "source": [
    "#convert the simplex tree to a pandas dataframe\n",
    "df = pd.DataFrame(simplex_tree.get_filtration(), columns=['simplex','distance'])"
   ]
  },
  {
   "cell_type": "code",
   "execution_count": 22,
   "metadata": {},
   "outputs": [
    {
     "data": {
      "text/html": [
       "<div>\n",
       "<style scoped>\n",
       "    .dataframe tbody tr th:only-of-type {\n",
       "        vertical-align: middle;\n",
       "    }\n",
       "\n",
       "    .dataframe tbody tr th {\n",
       "        vertical-align: top;\n",
       "    }\n",
       "\n",
       "    .dataframe thead th {\n",
       "        text-align: right;\n",
       "    }\n",
       "</style>\n",
       "<table border=\"1\" class=\"dataframe\">\n",
       "  <thead>\n",
       "    <tr style=\"text-align: right;\">\n",
       "      <th></th>\n",
       "      <th>simplex</th>\n",
       "      <th>distance</th>\n",
       "    </tr>\n",
       "  </thead>\n",
       "  <tbody>\n",
       "    <tr>\n",
       "      <th>0</th>\n",
       "      <td>[0]</td>\n",
       "      <td>0.000000</td>\n",
       "    </tr>\n",
       "    <tr>\n",
       "      <th>1</th>\n",
       "      <td>[1]</td>\n",
       "      <td>0.000000</td>\n",
       "    </tr>\n",
       "    <tr>\n",
       "      <th>2</th>\n",
       "      <td>[2]</td>\n",
       "      <td>0.000000</td>\n",
       "    </tr>\n",
       "    <tr>\n",
       "      <th>3</th>\n",
       "      <td>[3]</td>\n",
       "      <td>0.000000</td>\n",
       "    </tr>\n",
       "    <tr>\n",
       "      <th>4</th>\n",
       "      <td>[4]</td>\n",
       "      <td>0.000000</td>\n",
       "    </tr>\n",
       "    <tr>\n",
       "      <th>...</th>\n",
       "      <td>...</td>\n",
       "      <td>...</td>\n",
       "    </tr>\n",
       "    <tr>\n",
       "      <th>42265</th>\n",
       "      <td>[133, 202]</td>\n",
       "      <td>3.348545</td>\n",
       "    </tr>\n",
       "    <tr>\n",
       "      <th>42266</th>\n",
       "      <td>[220, 289]</td>\n",
       "      <td>3.348682</td>\n",
       "    </tr>\n",
       "    <tr>\n",
       "      <th>42267</th>\n",
       "      <td>[45, 126]</td>\n",
       "      <td>3.348725</td>\n",
       "    </tr>\n",
       "    <tr>\n",
       "      <th>42268</th>\n",
       "      <td>[58, 142]</td>\n",
       "      <td>3.348729</td>\n",
       "    </tr>\n",
       "    <tr>\n",
       "      <th>42269</th>\n",
       "      <td>[201, 510]</td>\n",
       "      <td>3.348756</td>\n",
       "    </tr>\n",
       "  </tbody>\n",
       "</table>\n",
       "<p>42270 rows × 2 columns</p>\n",
       "</div>"
      ],
      "text/plain": [
       "          simplex  distance\n",
       "0             [0]  0.000000\n",
       "1             [1]  0.000000\n",
       "2             [2]  0.000000\n",
       "3             [3]  0.000000\n",
       "4             [4]  0.000000\n",
       "...           ...       ...\n",
       "42265  [133, 202]  3.348545\n",
       "42266  [220, 289]  3.348682\n",
       "42267   [45, 126]  3.348725\n",
       "42268   [58, 142]  3.348729\n",
       "42269  [201, 510]  3.348756\n",
       "\n",
       "[42270 rows x 2 columns]"
      ]
     },
     "execution_count": 22,
     "metadata": {},
     "output_type": "execute_result"
    }
   ],
   "source": [
    "df = df[:len(cluster_dict_list)]\n",
    "df"
   ]
  },
  {
   "cell_type": "code",
   "execution_count": 23,
   "metadata": {},
   "outputs": [],
   "source": [
    "#find the gaps between birth/death pairs\n",
    "df['gaps'] = df['distance'] - df['distance'].shift(1)"
   ]
  },
  {
   "cell_type": "code",
   "execution_count": 24,
   "metadata": {},
   "outputs": [],
   "source": [
    "#find normalized distance\n",
    "scaler = MinMaxScaler()\n",
    "df['normed_distance'] = scaler.fit_transform(df['distance'].values.reshape(-1, 1))"
   ]
  },
  {
   "cell_type": "code",
   "execution_count": 25,
   "metadata": {},
   "outputs": [
    {
     "data": {
      "text/html": [
       "<div>\n",
       "<style scoped>\n",
       "    .dataframe tbody tr th:only-of-type {\n",
       "        vertical-align: middle;\n",
       "    }\n",
       "\n",
       "    .dataframe tbody tr th {\n",
       "        vertical-align: top;\n",
       "    }\n",
       "\n",
       "    .dataframe thead th {\n",
       "        text-align: right;\n",
       "    }\n",
       "</style>\n",
       "<table border=\"1\" class=\"dataframe\">\n",
       "  <thead>\n",
       "    <tr style=\"text-align: right;\">\n",
       "      <th></th>\n",
       "      <th>simplex</th>\n",
       "      <th>distance</th>\n",
       "      <th>gaps</th>\n",
       "      <th>normed_distance</th>\n",
       "    </tr>\n",
       "  </thead>\n",
       "  <tbody>\n",
       "    <tr>\n",
       "      <th>0</th>\n",
       "      <td>[0]</td>\n",
       "      <td>0.000000</td>\n",
       "      <td>NaN</td>\n",
       "      <td>0.000000</td>\n",
       "    </tr>\n",
       "    <tr>\n",
       "      <th>1</th>\n",
       "      <td>[1]</td>\n",
       "      <td>0.000000</td>\n",
       "      <td>0.000000</td>\n",
       "      <td>0.000000</td>\n",
       "    </tr>\n",
       "    <tr>\n",
       "      <th>2</th>\n",
       "      <td>[2]</td>\n",
       "      <td>0.000000</td>\n",
       "      <td>0.000000</td>\n",
       "      <td>0.000000</td>\n",
       "    </tr>\n",
       "    <tr>\n",
       "      <th>3</th>\n",
       "      <td>[3]</td>\n",
       "      <td>0.000000</td>\n",
       "      <td>0.000000</td>\n",
       "      <td>0.000000</td>\n",
       "    </tr>\n",
       "    <tr>\n",
       "      <th>4</th>\n",
       "      <td>[4]</td>\n",
       "      <td>0.000000</td>\n",
       "      <td>0.000000</td>\n",
       "      <td>0.000000</td>\n",
       "    </tr>\n",
       "    <tr>\n",
       "      <th>...</th>\n",
       "      <td>...</td>\n",
       "      <td>...</td>\n",
       "      <td>...</td>\n",
       "      <td>...</td>\n",
       "    </tr>\n",
       "    <tr>\n",
       "      <th>42265</th>\n",
       "      <td>[133, 202]</td>\n",
       "      <td>3.348545</td>\n",
       "      <td>0.000016</td>\n",
       "      <td>0.999937</td>\n",
       "    </tr>\n",
       "    <tr>\n",
       "      <th>42266</th>\n",
       "      <td>[220, 289]</td>\n",
       "      <td>3.348682</td>\n",
       "      <td>0.000137</td>\n",
       "      <td>0.999978</td>\n",
       "    </tr>\n",
       "    <tr>\n",
       "      <th>42267</th>\n",
       "      <td>[45, 126]</td>\n",
       "      <td>3.348725</td>\n",
       "      <td>0.000043</td>\n",
       "      <td>0.999991</td>\n",
       "    </tr>\n",
       "    <tr>\n",
       "      <th>42268</th>\n",
       "      <td>[58, 142]</td>\n",
       "      <td>3.348729</td>\n",
       "      <td>0.000004</td>\n",
       "      <td>0.999992</td>\n",
       "    </tr>\n",
       "    <tr>\n",
       "      <th>42269</th>\n",
       "      <td>[201, 510]</td>\n",
       "      <td>3.348756</td>\n",
       "      <td>0.000027</td>\n",
       "      <td>1.000000</td>\n",
       "    </tr>\n",
       "  </tbody>\n",
       "</table>\n",
       "<p>42270 rows × 4 columns</p>\n",
       "</div>"
      ],
      "text/plain": [
       "          simplex  distance      gaps  normed_distance\n",
       "0             [0]  0.000000       NaN         0.000000\n",
       "1             [1]  0.000000  0.000000         0.000000\n",
       "2             [2]  0.000000  0.000000         0.000000\n",
       "3             [3]  0.000000  0.000000         0.000000\n",
       "4             [4]  0.000000  0.000000         0.000000\n",
       "...           ...       ...       ...              ...\n",
       "42265  [133, 202]  3.348545  0.000016         0.999937\n",
       "42266  [220, 289]  3.348682  0.000137         0.999978\n",
       "42267   [45, 126]  3.348725  0.000043         0.999991\n",
       "42268   [58, 142]  3.348729  0.000004         0.999992\n",
       "42269  [201, 510]  3.348756  0.000027         1.000000\n",
       "\n",
       "[42270 rows x 4 columns]"
      ]
     },
     "execution_count": 25,
     "metadata": {},
     "output_type": "execute_result"
    }
   ],
   "source": [
    "df"
   ]
  },
  {
   "cell_type": "code",
   "execution_count": 26,
   "metadata": {},
   "outputs": [],
   "source": [
    "df['inverted_normed_distance'] = 1 - df['normed_distance']"
   ]
  },
  {
   "cell_type": "code",
   "execution_count": 27,
   "metadata": {},
   "outputs": [
    {
     "data": {
      "text/html": [
       "<div>\n",
       "<style scoped>\n",
       "    .dataframe tbody tr th:only-of-type {\n",
       "        vertical-align: middle;\n",
       "    }\n",
       "\n",
       "    .dataframe tbody tr th {\n",
       "        vertical-align: top;\n",
       "    }\n",
       "\n",
       "    .dataframe thead th {\n",
       "        text-align: right;\n",
       "    }\n",
       "</style>\n",
       "<table border=\"1\" class=\"dataframe\">\n",
       "  <thead>\n",
       "    <tr style=\"text-align: right;\">\n",
       "      <th></th>\n",
       "      <th>simplex</th>\n",
       "      <th>distance</th>\n",
       "      <th>gaps</th>\n",
       "      <th>normed_distance</th>\n",
       "      <th>inverted_normed_distance</th>\n",
       "    </tr>\n",
       "  </thead>\n",
       "  <tbody>\n",
       "    <tr>\n",
       "      <th>0</th>\n",
       "      <td>[0]</td>\n",
       "      <td>0.000000</td>\n",
       "      <td>NaN</td>\n",
       "      <td>0.000000</td>\n",
       "      <td>1.000000</td>\n",
       "    </tr>\n",
       "    <tr>\n",
       "      <th>1</th>\n",
       "      <td>[1]</td>\n",
       "      <td>0.000000</td>\n",
       "      <td>0.000000</td>\n",
       "      <td>0.000000</td>\n",
       "      <td>1.000000</td>\n",
       "    </tr>\n",
       "    <tr>\n",
       "      <th>2</th>\n",
       "      <td>[2]</td>\n",
       "      <td>0.000000</td>\n",
       "      <td>0.000000</td>\n",
       "      <td>0.000000</td>\n",
       "      <td>1.000000</td>\n",
       "    </tr>\n",
       "    <tr>\n",
       "      <th>3</th>\n",
       "      <td>[3]</td>\n",
       "      <td>0.000000</td>\n",
       "      <td>0.000000</td>\n",
       "      <td>0.000000</td>\n",
       "      <td>1.000000</td>\n",
       "    </tr>\n",
       "    <tr>\n",
       "      <th>4</th>\n",
       "      <td>[4]</td>\n",
       "      <td>0.000000</td>\n",
       "      <td>0.000000</td>\n",
       "      <td>0.000000</td>\n",
       "      <td>1.000000</td>\n",
       "    </tr>\n",
       "    <tr>\n",
       "      <th>...</th>\n",
       "      <td>...</td>\n",
       "      <td>...</td>\n",
       "      <td>...</td>\n",
       "      <td>...</td>\n",
       "      <td>...</td>\n",
       "    </tr>\n",
       "    <tr>\n",
       "      <th>42265</th>\n",
       "      <td>[133, 202]</td>\n",
       "      <td>3.348545</td>\n",
       "      <td>0.000016</td>\n",
       "      <td>0.999937</td>\n",
       "      <td>0.000063</td>\n",
       "    </tr>\n",
       "    <tr>\n",
       "      <th>42266</th>\n",
       "      <td>[220, 289]</td>\n",
       "      <td>3.348682</td>\n",
       "      <td>0.000137</td>\n",
       "      <td>0.999978</td>\n",
       "      <td>0.000022</td>\n",
       "    </tr>\n",
       "    <tr>\n",
       "      <th>42267</th>\n",
       "      <td>[45, 126]</td>\n",
       "      <td>3.348725</td>\n",
       "      <td>0.000043</td>\n",
       "      <td>0.999991</td>\n",
       "      <td>0.000009</td>\n",
       "    </tr>\n",
       "    <tr>\n",
       "      <th>42268</th>\n",
       "      <td>[58, 142]</td>\n",
       "      <td>3.348729</td>\n",
       "      <td>0.000004</td>\n",
       "      <td>0.999992</td>\n",
       "      <td>0.000008</td>\n",
       "    </tr>\n",
       "    <tr>\n",
       "      <th>42269</th>\n",
       "      <td>[201, 510]</td>\n",
       "      <td>3.348756</td>\n",
       "      <td>0.000027</td>\n",
       "      <td>1.000000</td>\n",
       "      <td>0.000000</td>\n",
       "    </tr>\n",
       "  </tbody>\n",
       "</table>\n",
       "<p>42270 rows × 5 columns</p>\n",
       "</div>"
      ],
      "text/plain": [
       "          simplex  distance      gaps  normed_distance  \\\n",
       "0             [0]  0.000000       NaN         0.000000   \n",
       "1             [1]  0.000000  0.000000         0.000000   \n",
       "2             [2]  0.000000  0.000000         0.000000   \n",
       "3             [3]  0.000000  0.000000         0.000000   \n",
       "4             [4]  0.000000  0.000000         0.000000   \n",
       "...           ...       ...       ...              ...   \n",
       "42265  [133, 202]  3.348545  0.000016         0.999937   \n",
       "42266  [220, 289]  3.348682  0.000137         0.999978   \n",
       "42267   [45, 126]  3.348725  0.000043         0.999991   \n",
       "42268   [58, 142]  3.348729  0.000004         0.999992   \n",
       "42269  [201, 510]  3.348756  0.000027         1.000000   \n",
       "\n",
       "       inverted_normed_distance  \n",
       "0                      1.000000  \n",
       "1                      1.000000  \n",
       "2                      1.000000  \n",
       "3                      1.000000  \n",
       "4                      1.000000  \n",
       "...                         ...  \n",
       "42265                  0.000063  \n",
       "42266                  0.000022  \n",
       "42267                  0.000009  \n",
       "42268                  0.000008  \n",
       "42269                  0.000000  \n",
       "\n",
       "[42270 rows x 5 columns]"
      ]
     },
     "execution_count": 27,
     "metadata": {},
     "output_type": "execute_result"
    }
   ],
   "source": [
    "df"
   ]
  },
  {
   "cell_type": "code",
   "execution_count": 28,
   "metadata": {},
   "outputs": [],
   "source": [
    "df['normed_gaps'] = df['gaps'] * df['normed_distance']"
   ]
  },
  {
   "cell_type": "code",
   "execution_count": 29,
   "metadata": {},
   "outputs": [],
   "source": [
    "df['inverted_normed_gaps'] = df['gaps'] * df['inverted_normed_distance']"
   ]
  },
  {
   "cell_type": "code",
   "execution_count": 30,
   "metadata": {},
   "outputs": [],
   "source": [
    "normed_gap_sum = df['normed_gaps'].sum()\n",
    "#print(sum)\n",
    "df['probability_vector'] = df['normed_gaps'] / normed_gap_sum"
   ]
  },
  {
   "cell_type": "code",
   "execution_count": 31,
   "metadata": {},
   "outputs": [],
   "source": [
    "gap_sum = df['inverted_normed_gaps'].sum()\n",
    "#print(sum)\n",
    "df['gap_vector'] = df['inverted_normed_gaps'] / gap_sum"
   ]
  },
  {
   "cell_type": "code",
   "execution_count": 32,
   "metadata": {},
   "outputs": [
    {
     "data": {
      "text/plain": [
       "1        0.000000\n",
       "2        0.000000\n",
       "3        0.000000\n",
       "4        0.000000\n",
       "5        0.000000\n",
       "           ...   \n",
       "42265    0.000010\n",
       "42266    0.000082\n",
       "42267    0.000026\n",
       "42268    0.000002\n",
       "42269    0.000016\n",
       "Name: probability_vector, Length: 42269, dtype: float64"
      ]
     },
     "execution_count": 32,
     "metadata": {},
     "output_type": "execute_result"
    }
   ],
   "source": [
    "df['probability_vector'][1:]"
   ]
  },
  {
   "cell_type": "code",
   "execution_count": 33,
   "metadata": {},
   "outputs": [
    {
     "data": {
      "text/plain": [
       "0.9999999999999986"
      ]
     },
     "execution_count": 33,
     "metadata": {},
     "output_type": "execute_result"
    }
   ],
   "source": [
    "sum(df['probability_vector'][1:])"
   ]
  },
  {
   "cell_type": "code",
   "execution_count": 34,
   "metadata": {},
   "outputs": [
    {
     "data": {
      "text/plain": [
       "1.0000000000000102"
      ]
     },
     "execution_count": 34,
     "metadata": {},
     "output_type": "execute_result"
    }
   ],
   "source": [
    "sum(df['gap_vector'][1:])"
   ]
  },
  {
   "cell_type": "code",
   "execution_count": 35,
   "metadata": {},
   "outputs": [
    {
     "data": {
      "text/plain": [
       "[<matplotlib.lines.Line2D at 0x7fc580423c10>]"
      ]
     },
     "execution_count": 35,
     "metadata": {},
     "output_type": "execute_result"
    },
    {
     "data": {
      "image/png": "[encoded data removed]",
      "text/plain": [
       "<Figure size 432x288 with 1 Axes>"
      ]
     },
     "metadata": {
      "needs_background": "light"
     },
     "output_type": "display_data"
    }
   ],
   "source": [
    "plt.plot(df['probability_vector'])"
   ]
  },
  {
   "cell_type": "code",
   "execution_count": 36,
   "metadata": {},
   "outputs": [
    {
     "data": {
      "text/plain": [
       "[<matplotlib.lines.Line2D at 0x7fc5820c8cd0>]"
      ]
     },
     "execution_count": 36,
     "metadata": {},
     "output_type": "execute_result"
    },
    {
     "data": {
      "image/png": "[encoded data removed]",
      "text/plain": [
       "<Figure size 432x288 with 1 Axes>"
      ]
     },
     "metadata": {
      "needs_background": "light"
     },
     "output_type": "display_data"
    }
   ],
   "source": [
    "plt.plot(df['gap_vector'])"
   ]
  },
  {
   "cell_type": "code",
   "execution_count": 37,
   "metadata": {},
   "outputs": [
    {
     "data": {
      "text/plain": [
       "dict_values([0, 0, 0, 0, 0, 0, 0, 0, 0, 0, 0, 0, 0, 0, 0, 0, 0, 0, 0, 0, 0, 0, 0, 0, 0, 0, 0, 0, 0, 0, 0, 0, 0, 0, 0, 0, 0, 0, 0, 0, 0, 0, 0, 0, 0, 0, 0, 0, 0, 0, 0, 0, 0, 0, 0, 0, 0, 0, 0, 0, 0, 0, 0, 0, 0, 0, 0, 0, 0, 0, 0, 0, 0, 0, 0, 0, 0, 0, 0, 0, 0, 0, 0, 0, 0, 0, 0, 0, 0, 0, 0, 0, 0, 0, 0, 0, 0, 0, 0, 0, 0, 0, 0, 0, 0, 0, 0, 0, 0, 0, 0, 0, 0, 0, 0, 0, 0, 0, 0, 0, 0, 1, 0, 0, 0, 0, 0, 0, 0, 0, 0, 0, 0, 0, 0, 0, 0, 0, 0, 0, 0, 0, 0, 0, 1, 0, 0, 0, 0, 0, 0, 0, 0, 0, 0, 0, 0, 0, 0, 0, 0, 0, 0, 0, 0, 0, 0, 0, 0, 0, 0, 0, 0, 0, 0, 0, 0, 0, 0, 0, 0, 0, 0, 0, 0, 0, 0, 0, 0, 0, 0, 0, 0, 0, 0, 0, 0, 0, 0, 0, 0, 0, 0, 0, 0, 0, 0, 0, 0, 0, 0, 0, 0, 0, 0, 0, 0, 0, 0, 0, 0, 0, 0, 0, 0, 0, 0, 0, 0, 0, 0, 0, 0, 0, 0, 0, 0, 0, 0, 0, 0, 0, 0, 0, 0, 0, 0, 0, 0, 0, 0, 0, 0, 0, 0, 0, 0, 0, 0, 0, 0, 0, 0, 0, 0, 0, 0, 0, 0, 0, 0, 0, 0, 0, 0, 0, 0, 0, 0, 0, 0, 0, 0, 0, 0, 0, 0, 0, 0, 0, 0, 0, 0, 0, 0, 0, 0, 0, 0, 0, 0, 0, 0, 0, 0, 0, 0, 0, 0, 0, 0, 0, 0, 0, 0, 0, 0, 0, 0, 0, 0, 0, 0, 0, 0, 0, 0, 0, 0, 0, 0, 0, 0, 0, 0, 0, 0, 0, 0, 0, 0, 0, 0, 0, 0, 0, 0, 0, 0, 0, 0, 0, 0, 0, 0, 0, 0, 0, 0, 0, 0, 0, 0, 0, 0, 0, 0, 0, 0, 0, 0, 0, 0, 0, 0, 0, 0, 0, 0, 0, 0, 0, 0, 0, 0, 0, 0, 0, 0, 0, 0, 0, 0, 0, 0, 0, 0, 0, 0, 0, 0, 0, 0, 0, 0, 0, 0, 0, 0, 0, 0, 0, 0, 0, 0, 0, 0, 0, 0, 0, 0, 0, 0, 0, 0, 0, 0, 0, 0, 0, 0, 0, 0, 0, 0, 0, 0, 0, 0, 0, 0, 0, 0, 0, 0, 0, 0, 0, 0, 0, 0, 0, 0, 0, 0, 0, 0, 0, 0, 0, 0, 0, 0, 0, 0, 0, 0, 0, 0, 0, 0, 0, 0, 0, 0, 0, 0, 0, 0, 0, 0, 0, 0, 0, 0, 0, 0, 0, 0, 0, 0, 0, 0, 0, 0, 0, 0, 0, 0, 0, 0, 0, 0, 0, 0, 0, 0, 0, 0, 0, 0, 0, 0, 0, 0, 0, 0, 0, 0, 0, 0, 0, 0, 0, 0, 0, 0, 0, 0, 0, 0, 0, 0, 0, 0, 0, 0, 0, 0, 0, 0, 0, 0, 0, 0, 0, 0, 0, 0, 0, 0, 0, 0, 0, 0, 0, 0, 0, 0, 0, 0, 0, 0, 0, 0, 0, 0, 0, 0, 0, 0, 0, 0, 0, 0, 0, 0, 0, 0, 0, 0, 0, 0, 0, 0, 0, 0, 0, 0, 0, 0, 0, 0, 0, 0, 0, 0, 0, 0, 0])"
      ]
     },
     "execution_count": 37,
     "metadata": {},
     "output_type": "execute_result"
    }
   ],
   "source": [
    "cluster_dict_list[0].values()"
   ]
  },
  {
   "cell_type": "code",
   "execution_count": 38,
   "metadata": {},
   "outputs": [
    {
     "name": "stderr",
     "output_type": "stream",
     "text": [
      "<ipython-input-38-4d76e0317422>:8: SettingWithCopyWarning: \n",
      "A value is trying to be set on a copy of a slice from a DataFrame\n",
      "\n",
      "See the caveats in the documentation: https://pandas.pydata.org/pandas-docs/stable/user_guide/indexing.html#returning-a-view-versus-a-copy\n",
      "  df.loc[:,'gap_vector'][marker] += df.loc[:,'gap_vector'][i]\n",
      "<ipython-input-38-4d76e0317422>:9: SettingWithCopyWarning: \n",
      "A value is trying to be set on a copy of a slice from a DataFrame\n",
      "\n",
      "See the caveats in the documentation: https://pandas.pydata.org/pandas-docs/stable/user_guide/indexing.html#returning-a-view-versus-a-copy\n",
      "  df.loc[:,'gap_vector'][i] = 0\n"
     ]
    },
    {
     "name": "stdout",
     "output_type": "stream",
     "text": [
      "100\n",
      "200\n",
      "300\n",
      "400\n",
      "1700\n"
     ]
    },
    {
     "ename": "KeyboardInterrupt",
     "evalue": "",
     "output_type": "error",
     "traceback": [
      "\u001b[0;31m---------------------------------------------------------------------------\u001b[0m",
      "\u001b[0;31mKeyboardInterrupt\u001b[0m                         Traceback (most recent call last)",
      "\u001b[0;32m<ipython-input-38-4d76e0317422>\u001b[0m in \u001b[0;36m<module>\u001b[0;34m\u001b[0m\n\u001b[1;32m      7\u001b[0m \u001b[0;34m\u001b[0m\u001b[0m\n\u001b[1;32m      8\u001b[0m         \u001b[0mdf\u001b[0m\u001b[0;34m.\u001b[0m\u001b[0mloc\u001b[0m\u001b[0;34m[\u001b[0m\u001b[0;34m:\u001b[0m\u001b[0;34m,\u001b[0m\u001b[0;34m'gap_vector'\u001b[0m\u001b[0;34m]\u001b[0m\u001b[0;34m[\u001b[0m\u001b[0mmarker\u001b[0m\u001b[0;34m]\u001b[0m \u001b[0;34m+=\u001b[0m \u001b[0mdf\u001b[0m\u001b[0;34m.\u001b[0m\u001b[0mloc\u001b[0m\u001b[0;34m[\u001b[0m\u001b[0;34m:\u001b[0m\u001b[0;34m,\u001b[0m\u001b[0;34m'gap_vector'\u001b[0m\u001b[0;34m]\u001b[0m\u001b[0;34m[\u001b[0m\u001b[0mi\u001b[0m\u001b[0;34m]\u001b[0m\u001b[0;34m\u001b[0m\u001b[0;34m\u001b[0m\u001b[0m\n\u001b[0;32m----> 9\u001b[0;31m         \u001b[0mdf\u001b[0m\u001b[0;34m.\u001b[0m\u001b[0mloc\u001b[0m\u001b[0;34m[\u001b[0m\u001b[0;34m:\u001b[0m\u001b[0;34m,\u001b[0m\u001b[0;34m'gap_vector'\u001b[0m\u001b[0;34m]\u001b[0m\u001b[0;34m[\u001b[0m\u001b[0mi\u001b[0m\u001b[0;34m]\u001b[0m \u001b[0;34m=\u001b[0m \u001b[0;36m0\u001b[0m\u001b[0;34m\u001b[0m\u001b[0;34m\u001b[0m\u001b[0m\n\u001b[0m\u001b[1;32m     10\u001b[0m         \u001b[0;31m#print(marker)\u001b[0m\u001b[0;34m\u001b[0m\u001b[0;34m\u001b[0m\u001b[0;34m\u001b[0m\u001b[0m\n\u001b[1;32m     11\u001b[0m \u001b[0;34m\u001b[0m\u001b[0m\n",
      "\u001b[0;32m~/Desktop/ds/env/lib/python3.8/site-packages/pandas/core/series.py\u001b[0m in \u001b[0;36m__setitem__\u001b[0;34m(self, key, value)\u001b[0m\n\u001b[1;32m   1073\u001b[0m         \u001b[0mcheck_deprecated_indexers\u001b[0m\u001b[0;34m(\u001b[0m\u001b[0mkey\u001b[0m\u001b[0;34m)\u001b[0m\u001b[0;34m\u001b[0m\u001b[0;34m\u001b[0m\u001b[0m\n\u001b[1;32m   1074\u001b[0m         \u001b[0mkey\u001b[0m \u001b[0;34m=\u001b[0m \u001b[0mcom\u001b[0m\u001b[0;34m.\u001b[0m\u001b[0mapply_if_callable\u001b[0m\u001b[0;34m(\u001b[0m\u001b[0mkey\u001b[0m\u001b[0;34m,\u001b[0m \u001b[0mself\u001b[0m\u001b[0;34m)\u001b[0m\u001b[0;34m\u001b[0m\u001b[0;34m\u001b[0m\u001b[0m\n\u001b[0;32m-> 1075\u001b[0;31m         \u001b[0mcacher_needs_updating\u001b[0m \u001b[0;34m=\u001b[0m \u001b[0mself\u001b[0m\u001b[0;34m.\u001b[0m\u001b[0m_check_is_chained_assignment_possible\u001b[0m\u001b[0;34m(\u001b[0m\u001b[0;34m)\u001b[0m\u001b[0;34m\u001b[0m\u001b[0;34m\u001b[0m\u001b[0m\n\u001b[0m\u001b[1;32m   1076\u001b[0m \u001b[0;34m\u001b[0m\u001b[0m\n\u001b[1;32m   1077\u001b[0m         \u001b[0;32mif\u001b[0m \u001b[0mkey\u001b[0m \u001b[0;32mis\u001b[0m \u001b[0mEllipsis\u001b[0m\u001b[0;34m:\u001b[0m\u001b[0;34m\u001b[0m\u001b[0;34m\u001b[0m\u001b[0m\n",
      "\u001b[0;32m~/Desktop/ds/env/lib/python3.8/site-packages/pandas/core/series.py\u001b[0m in \u001b[0;36m_check_is_chained_assignment_possible\u001b[0;34m(self)\u001b[0m\n\u001b[1;32m   1254\u001b[0m             \u001b[0mref\u001b[0m \u001b[0;34m=\u001b[0m \u001b[0mself\u001b[0m\u001b[0;34m.\u001b[0m\u001b[0m_get_cacher\u001b[0m\u001b[0;34m(\u001b[0m\u001b[0;34m)\u001b[0m\u001b[0;34m\u001b[0m\u001b[0;34m\u001b[0m\u001b[0m\n\u001b[1;32m   1255\u001b[0m             \u001b[0;32mif\u001b[0m \u001b[0mref\u001b[0m \u001b[0;32mis\u001b[0m \u001b[0;32mnot\u001b[0m \u001b[0;32mNone\u001b[0m \u001b[0;32mand\u001b[0m \u001b[0mref\u001b[0m\u001b[0;34m.\u001b[0m\u001b[0m_is_mixed_type\u001b[0m\u001b[0;34m:\u001b[0m\u001b[0;34m\u001b[0m\u001b[0;34m\u001b[0m\u001b[0m\n\u001b[0;32m-> 1256\u001b[0;31m                 \u001b[0mself\u001b[0m\u001b[0;34m.\u001b[0m\u001b[0m_check_setitem_copy\u001b[0m\u001b[0;34m(\u001b[0m\u001b[0mt\u001b[0m\u001b[0;34m=\u001b[0m\u001b[0;34m\"referent\"\u001b[0m\u001b[0;34m,\u001b[0m \u001b[0mforce\u001b[0m\u001b[0;34m=\u001b[0m\u001b[0;32mTrue\u001b[0m\u001b[0;34m)\u001b[0m\u001b[0;34m\u001b[0m\u001b[0;34m\u001b[0m\u001b[0m\n\u001b[0m\u001b[1;32m   1257\u001b[0m             \u001b[0;32mreturn\u001b[0m \u001b[0;32mTrue\u001b[0m\u001b[0;34m\u001b[0m\u001b[0;34m\u001b[0m\u001b[0m\n\u001b[1;32m   1258\u001b[0m         \u001b[0;32mreturn\u001b[0m \u001b[0msuper\u001b[0m\u001b[0;34m(\u001b[0m\u001b[0;34m)\u001b[0m\u001b[0;34m.\u001b[0m\u001b[0m_check_is_chained_assignment_possible\u001b[0m\u001b[0;34m(\u001b[0m\u001b[0;34m)\u001b[0m\u001b[0;34m\u001b[0m\u001b[0;34m\u001b[0m\u001b[0m\n",
      "\u001b[0;32m~/Desktop/ds/env/lib/python3.8/site-packages/pandas/core/generic.py\u001b[0m in \u001b[0;36m_check_setitem_copy\u001b[0;34m(self, t, force)\u001b[0m\n\u001b[1;32m   4016\u001b[0m             \u001b[0;32mraise\u001b[0m \u001b[0mcom\u001b[0m\u001b[0;34m.\u001b[0m\u001b[0mSettingWithCopyError\u001b[0m\u001b[0;34m(\u001b[0m\u001b[0mt\u001b[0m\u001b[0;34m)\u001b[0m\u001b[0;34m\u001b[0m\u001b[0;34m\u001b[0m\u001b[0m\n\u001b[1;32m   4017\u001b[0m         \u001b[0;32melif\u001b[0m \u001b[0mvalue\u001b[0m \u001b[0;34m==\u001b[0m \u001b[0;34m\"warn\"\u001b[0m\u001b[0;34m:\u001b[0m\u001b[0;34m\u001b[0m\u001b[0;34m\u001b[0m\u001b[0m\n\u001b[0;32m-> 4018\u001b[0;31m             \u001b[0mwarnings\u001b[0m\u001b[0;34m.\u001b[0m\u001b[0mwarn\u001b[0m\u001b[0;34m(\u001b[0m\u001b[0mt\u001b[0m\u001b[0;34m,\u001b[0m \u001b[0mcom\u001b[0m\u001b[0;34m.\u001b[0m\u001b[0mSettingWithCopyWarning\u001b[0m\u001b[0;34m,\u001b[0m \u001b[0mstacklevel\u001b[0m\u001b[0;34m=\u001b[0m\u001b[0mfind_stack_level\u001b[0m\u001b[0;34m(\u001b[0m\u001b[0;34m)\u001b[0m\u001b[0;34m)\u001b[0m\u001b[0;34m\u001b[0m\u001b[0;34m\u001b[0m\u001b[0m\n\u001b[0m\u001b[1;32m   4019\u001b[0m \u001b[0;34m\u001b[0m\u001b[0m\n\u001b[1;32m   4020\u001b[0m     \u001b[0;32mdef\u001b[0m \u001b[0m__delitem__\u001b[0m\u001b[0;34m(\u001b[0m\u001b[0mself\u001b[0m\u001b[0;34m,\u001b[0m \u001b[0mkey\u001b[0m\u001b[0;34m)\u001b[0m \u001b[0;34m->\u001b[0m \u001b[0;32mNone\u001b[0m\u001b[0;34m:\u001b[0m\u001b[0;34m\u001b[0m\u001b[0;34m\u001b[0m\u001b[0m\n",
      "\u001b[0;32m~/Desktop/ds/env/lib/python3.8/site-packages/pandas/util/_exceptions.py\u001b[0m in \u001b[0;36mfind_stack_level\u001b[0;34m()\u001b[0m\n\u001b[1;32m     30\u001b[0m     \u001b[0;34m(\u001b[0m\u001b[0mtests\u001b[0m \u001b[0mnotwithstanding\u001b[0m\u001b[0;34m)\u001b[0m\u001b[0;34m.\u001b[0m\u001b[0;34m\u001b[0m\u001b[0;34m\u001b[0m\u001b[0m\n\u001b[1;32m     31\u001b[0m     \"\"\"\n\u001b[0;32m---> 32\u001b[0;31m     \u001b[0mstack\u001b[0m \u001b[0;34m=\u001b[0m \u001b[0minspect\u001b[0m\u001b[0;34m.\u001b[0m\u001b[0mstack\u001b[0m\u001b[0;34m(\u001b[0m\u001b[0;34m)\u001b[0m\u001b[0;34m\u001b[0m\u001b[0;34m\u001b[0m\u001b[0m\n\u001b[0m\u001b[1;32m     33\u001b[0m \u001b[0;34m\u001b[0m\u001b[0m\n\u001b[1;32m     34\u001b[0m     \u001b[0;32mimport\u001b[0m \u001b[0mpandas\u001b[0m \u001b[0;32mas\u001b[0m \u001b[0mpd\u001b[0m\u001b[0;34m\u001b[0m\u001b[0;34m\u001b[0m\u001b[0m\n",
      "\u001b[0;32m/usr/lib/python3.8/inspect.py\u001b[0m in \u001b[0;36mstack\u001b[0;34m(context)\u001b[0m\n\u001b[1;32m   1524\u001b[0m \u001b[0;32mdef\u001b[0m \u001b[0mstack\u001b[0m\u001b[0;34m(\u001b[0m\u001b[0mcontext\u001b[0m\u001b[0;34m=\u001b[0m\u001b[0;36m1\u001b[0m\u001b[0;34m)\u001b[0m\u001b[0;34m:\u001b[0m\u001b[0;34m\u001b[0m\u001b[0;34m\u001b[0m\u001b[0m\n\u001b[1;32m   1525\u001b[0m     \u001b[0;34m\"\"\"Return a list of records for the stack above the caller's frame.\"\"\"\u001b[0m\u001b[0;34m\u001b[0m\u001b[0;34m\u001b[0m\u001b[0m\n\u001b[0;32m-> 1526\u001b[0;31m     \u001b[0;32mreturn\u001b[0m \u001b[0mgetouterframes\u001b[0m\u001b[0;34m(\u001b[0m\u001b[0msys\u001b[0m\u001b[0;34m.\u001b[0m\u001b[0m_getframe\u001b[0m\u001b[0;34m(\u001b[0m\u001b[0;36m1\u001b[0m\u001b[0;34m)\u001b[0m\u001b[0;34m,\u001b[0m \u001b[0mcontext\u001b[0m\u001b[0;34m)\u001b[0m\u001b[0;34m\u001b[0m\u001b[0;34m\u001b[0m\u001b[0m\n\u001b[0m\u001b[1;32m   1527\u001b[0m \u001b[0;34m\u001b[0m\u001b[0m\n\u001b[1;32m   1528\u001b[0m \u001b[0;32mdef\u001b[0m \u001b[0mtrace\u001b[0m\u001b[0;34m(\u001b[0m\u001b[0mcontext\u001b[0m\u001b[0;34m=\u001b[0m\u001b[0;36m1\u001b[0m\u001b[0;34m)\u001b[0m\u001b[0;34m:\u001b[0m\u001b[0;34m\u001b[0m\u001b[0;34m\u001b[0m\u001b[0m\n",
      "\u001b[0;32m/usr/lib/python3.8/inspect.py\u001b[0m in \u001b[0;36mgetouterframes\u001b[0;34m(frame, context)\u001b[0m\n\u001b[1;32m   1501\u001b[0m     \u001b[0mframelist\u001b[0m \u001b[0;34m=\u001b[0m \u001b[0;34m[\u001b[0m\u001b[0;34m]\u001b[0m\u001b[0;34m\u001b[0m\u001b[0;34m\u001b[0m\u001b[0m\n\u001b[1;32m   1502\u001b[0m     \u001b[0;32mwhile\u001b[0m \u001b[0mframe\u001b[0m\u001b[0;34m:\u001b[0m\u001b[0;34m\u001b[0m\u001b[0;34m\u001b[0m\u001b[0m\n\u001b[0;32m-> 1503\u001b[0;31m         \u001b[0mframeinfo\u001b[0m \u001b[0;34m=\u001b[0m \u001b[0;34m(\u001b[0m\u001b[0mframe\u001b[0m\u001b[0;34m,\u001b[0m\u001b[0;34m)\u001b[0m \u001b[0;34m+\u001b[0m \u001b[0mgetframeinfo\u001b[0m\u001b[0;34m(\u001b[0m\u001b[0mframe\u001b[0m\u001b[0;34m,\u001b[0m \u001b[0mcontext\u001b[0m\u001b[0;34m)\u001b[0m\u001b[0;34m\u001b[0m\u001b[0;34m\u001b[0m\u001b[0m\n\u001b[0m\u001b[1;32m   1504\u001b[0m         \u001b[0mframelist\u001b[0m\u001b[0;34m.\u001b[0m\u001b[0mappend\u001b[0m\u001b[0;34m(\u001b[0m\u001b[0mFrameInfo\u001b[0m\u001b[0;34m(\u001b[0m\u001b[0;34m*\u001b[0m\u001b[0mframeinfo\u001b[0m\u001b[0;34m)\u001b[0m\u001b[0;34m)\u001b[0m\u001b[0;34m\u001b[0m\u001b[0;34m\u001b[0m\u001b[0m\n\u001b[1;32m   1505\u001b[0m         \u001b[0mframe\u001b[0m \u001b[0;34m=\u001b[0m \u001b[0mframe\u001b[0m\u001b[0;34m.\u001b[0m\u001b[0mf_back\u001b[0m\u001b[0;34m\u001b[0m\u001b[0;34m\u001b[0m\u001b[0m\n",
      "\u001b[0;32m/usr/lib/python3.8/inspect.py\u001b[0m in \u001b[0;36mgetframeinfo\u001b[0;34m(frame, context)\u001b[0m\n\u001b[1;32m   1475\u001b[0m         \u001b[0mstart\u001b[0m \u001b[0;34m=\u001b[0m \u001b[0mlineno\u001b[0m \u001b[0;34m-\u001b[0m \u001b[0;36m1\u001b[0m \u001b[0;34m-\u001b[0m \u001b[0mcontext\u001b[0m\u001b[0;34m//\u001b[0m\u001b[0;36m2\u001b[0m\u001b[0;34m\u001b[0m\u001b[0;34m\u001b[0m\u001b[0m\n\u001b[1;32m   1476\u001b[0m         \u001b[0;32mtry\u001b[0m\u001b[0;34m:\u001b[0m\u001b[0;34m\u001b[0m\u001b[0;34m\u001b[0m\u001b[0m\n\u001b[0;32m-> 1477\u001b[0;31m             \u001b[0mlines\u001b[0m\u001b[0;34m,\u001b[0m \u001b[0mlnum\u001b[0m \u001b[0;34m=\u001b[0m \u001b[0mfindsource\u001b[0m\u001b[0;34m(\u001b[0m\u001b[0mframe\u001b[0m\u001b[0;34m)\u001b[0m\u001b[0;34m\u001b[0m\u001b[0;34m\u001b[0m\u001b[0m\n\u001b[0m\u001b[1;32m   1478\u001b[0m         \u001b[0;32mexcept\u001b[0m \u001b[0mOSError\u001b[0m\u001b[0;34m:\u001b[0m\u001b[0;34m\u001b[0m\u001b[0;34m\u001b[0m\u001b[0m\n\u001b[1;32m   1479\u001b[0m             \u001b[0mlines\u001b[0m \u001b[0;34m=\u001b[0m \u001b[0mindex\u001b[0m \u001b[0;34m=\u001b[0m \u001b[0;32mNone\u001b[0m\u001b[0;34m\u001b[0m\u001b[0;34m\u001b[0m\u001b[0m\n",
      "\u001b[0;32m/usr/lib/python3.8/inspect.py\u001b[0m in \u001b[0;36mfindsource\u001b[0;34m(object)\u001b[0m\n\u001b[1;32m    790\u001b[0m             \u001b[0;32mraise\u001b[0m \u001b[0mOSError\u001b[0m\u001b[0;34m(\u001b[0m\u001b[0;34m'source code not available'\u001b[0m\u001b[0;34m)\u001b[0m\u001b[0;34m\u001b[0m\u001b[0;34m\u001b[0m\u001b[0m\n\u001b[1;32m    791\u001b[0m \u001b[0;34m\u001b[0m\u001b[0m\n\u001b[0;32m--> 792\u001b[0;31m     \u001b[0mmodule\u001b[0m \u001b[0;34m=\u001b[0m \u001b[0mgetmodule\u001b[0m\u001b[0;34m(\u001b[0m\u001b[0mobject\u001b[0m\u001b[0;34m,\u001b[0m \u001b[0mfile\u001b[0m\u001b[0;34m)\u001b[0m\u001b[0;34m\u001b[0m\u001b[0;34m\u001b[0m\u001b[0m\n\u001b[0m\u001b[1;32m    793\u001b[0m     \u001b[0;32mif\u001b[0m \u001b[0mmodule\u001b[0m\u001b[0;34m:\u001b[0m\u001b[0;34m\u001b[0m\u001b[0;34m\u001b[0m\u001b[0m\n\u001b[1;32m    794\u001b[0m         \u001b[0mlines\u001b[0m \u001b[0;34m=\u001b[0m \u001b[0mlinecache\u001b[0m\u001b[0;34m.\u001b[0m\u001b[0mgetlines\u001b[0m\u001b[0;34m(\u001b[0m\u001b[0mfile\u001b[0m\u001b[0;34m,\u001b[0m \u001b[0mmodule\u001b[0m\u001b[0;34m.\u001b[0m\u001b[0m__dict__\u001b[0m\u001b[0;34m)\u001b[0m\u001b[0;34m\u001b[0m\u001b[0;34m\u001b[0m\u001b[0m\n",
      "\u001b[0;32m/usr/lib/python3.8/inspect.py\u001b[0m in \u001b[0;36mgetmodule\u001b[0;34m(object, _filename)\u001b[0m\n\u001b[1;32m    742\u001b[0m     \u001b[0;31m# Update the filename to module name cache and check yet again\u001b[0m\u001b[0;34m\u001b[0m\u001b[0;34m\u001b[0m\u001b[0;34m\u001b[0m\u001b[0m\n\u001b[1;32m    743\u001b[0m     \u001b[0;31m# Copy sys.modules in order to cope with changes while iterating\u001b[0m\u001b[0;34m\u001b[0m\u001b[0;34m\u001b[0m\u001b[0;34m\u001b[0m\u001b[0m\n\u001b[0;32m--> 744\u001b[0;31m     \u001b[0;32mfor\u001b[0m \u001b[0mmodname\u001b[0m\u001b[0;34m,\u001b[0m \u001b[0mmodule\u001b[0m \u001b[0;32min\u001b[0m \u001b[0msys\u001b[0m\u001b[0;34m.\u001b[0m\u001b[0mmodules\u001b[0m\u001b[0;34m.\u001b[0m\u001b[0mcopy\u001b[0m\u001b[0;34m(\u001b[0m\u001b[0;34m)\u001b[0m\u001b[0;34m.\u001b[0m\u001b[0mitems\u001b[0m\u001b[0;34m(\u001b[0m\u001b[0;34m)\u001b[0m\u001b[0;34m:\u001b[0m\u001b[0;34m\u001b[0m\u001b[0;34m\u001b[0m\u001b[0m\n\u001b[0m\u001b[1;32m    745\u001b[0m         \u001b[0;32mif\u001b[0m \u001b[0mismodule\u001b[0m\u001b[0;34m(\u001b[0m\u001b[0mmodule\u001b[0m\u001b[0;34m)\u001b[0m \u001b[0;32mand\u001b[0m \u001b[0mhasattr\u001b[0m\u001b[0;34m(\u001b[0m\u001b[0mmodule\u001b[0m\u001b[0;34m,\u001b[0m \u001b[0;34m'__file__'\u001b[0m\u001b[0;34m)\u001b[0m\u001b[0;34m:\u001b[0m\u001b[0;34m\u001b[0m\u001b[0;34m\u001b[0m\u001b[0m\n\u001b[1;32m    746\u001b[0m             \u001b[0mf\u001b[0m \u001b[0;34m=\u001b[0m \u001b[0mmodule\u001b[0m\u001b[0;34m.\u001b[0m\u001b[0m__file__\u001b[0m\u001b[0;34m\u001b[0m\u001b[0;34m\u001b[0m\u001b[0m\n",
      "\u001b[0;31mKeyboardInterrupt\u001b[0m: "
     ]
    }
   ],
   "source": [
    "marker = 0\n",
    "for i in range(1,length-1):\n",
    "    if cluster_dict_list[i] == cluster_dict_list[i-1]:\n",
    "        #assign value in prob vector to prob_vector[marker]\n",
    "        #df.loc[:,'probability_vector'].iloc[marker] += df.loc[:,'probability_vector'].iloc[i]\n",
    "        #df.loc[:,'probability_vector'].iloc[i] = 0\n",
    "        \n",
    "        df.loc[:,'gap_vector'][marker] += df.loc[:,'gap_vector'][i]\n",
    "        df.loc[:,'gap_vector'][i] = 0\n",
    "        #print(marker)\n",
    "\n",
    "\n",
    "    else:\n",
    "        marker = i\n",
    "        if marker % 100 == 0:\n",
    "            print(marker)\n",
    "        else:\n",
    "            pass"
   ]
  },
  {
   "cell_type": "code",
   "execution_count": 39,
   "metadata": {},
   "outputs": [
    {
     "data": {
      "text/plain": [
       "[<matplotlib.lines.Line2D at 0x7fc57b4f9e20>]"
      ]
     },
     "execution_count": 39,
     "metadata": {},
     "output_type": "execute_result"
    },
    {
     "data": {
      "image/png": "[encoded data removed]",
      "text/plain": [
       "<Figure size 432x288 with 1 Axes>"
      ]
     },
     "metadata": {
      "needs_background": "light"
     },
     "output_type": "display_data"
    }
   ],
   "source": [
    "plt.plot(df['probability_vector'])"
   ]
  },
  {
   "cell_type": "code",
   "execution_count": 40,
   "metadata": {},
   "outputs": [
    {
     "data": {
      "text/plain": [
       "[<matplotlib.lines.Line2D at 0x7fc57b1647f0>]"
      ]
     },
     "execution_count": 40,
     "metadata": {},
     "output_type": "execute_result"
    },
    {
     "data": {
      "image/png": "[encoded data removed]",
      "text/plain": [
       "<Figure size 432x288 with 1 Axes>"
      ]
     },
     "metadata": {
      "needs_background": "light"
     },
     "output_type": "display_data"
    }
   ],
   "source": [
    "plt.plot(df['gap_vector'])"
   ]
  },
  {
   "cell_type": "code",
   "execution_count": 41,
   "metadata": {
    "scrolled": true
   },
   "outputs": [],
   "source": [
    "candidates = list(df.nlargest(length,['gap_vector']).index)"
   ]
  },
  {
   "cell_type": "code",
   "execution_count": 42,
   "metadata": {},
   "outputs": [
    {
     "data": {
      "text/plain": [
       "[6053,\n",
       " 3807,\n",
       " 4346,\n",
       " 5481,\n",
       " 3187,\n",
       " 601,\n",
       " 5236,\n",
       " 4962,\n",
       " 5887,\n",
       " 3481,\n",
       " 1903,\n",
       " 6889,\n",
       " 2781,\n",
       " 4837,\n",
       " 3613,\n",
       " 2606,\n",
       " 2452,\n",
       " 3018,\n",
       " 1171,\n",
       " 627,\n",
       " 639,\n",
       " 2933,\n",
       " 2380,\n",
       " 1082,\n",
       " 1009,\n",
       " 1708,\n",
       " 2315,\n",
       " 5160,\n",
       " 2244,\n",
       " 837,\n",
       " 1617,\n",
       " 3744,\n",
       " 955,\n",
       " 619,\n",
       " 635,\n",
       " 977,\n",
       " 1872,\n",
       " 1222,\n",
       " 2145,\n",
       " 703,\n",
       " 1575,\n",
       " 1062,\n",
       " 2066,\n",
       " 1655,\n",
       " 608,\n",
       " 1045,\n",
       " 1754,\n",
       " 1815,\n",
       " 1341,\n",
       " 714,\n",
       " 914,\n",
       " 881,\n",
       " 2708,\n",
       " 4297,\n",
       " 757,\n",
       " 1377,\n",
       " 2567,\n",
       " 2116,\n",
       " 3112,\n",
       " 3145,\n",
       " 597,\n",
       " 1254,\n",
       " 606,\n",
       " 1277,\n",
       " 799,\n",
       " 824,\n",
       " 872,\n",
       " 898,\n",
       " 2034,\n",
       " 3452,\n",
       " 1513,\n",
       " 929,\n",
       " 1533,\n",
       " 995,\n",
       " 2208,\n",
       " 1493,\n",
       " 811,\n",
       " 1323,\n",
       " 1851,\n",
       " 1452,\n",
       " 776,\n",
       " 1776,\n",
       " 668,\n",
       " 1140,\n",
       " 1788,\n",
       " 1392,\n",
       " 751,\n",
       " 766,\n",
       " 1422,\n",
       " 2739,\n",
       " 699,\n",
       " 2896,\n",
       " 1118,\n",
       " 1243,\n",
       " 654,\n",
       " 785,\n",
       " 1683,\n",
       " 2541,\n",
       " 1409,\n",
       " 732,\n",
       " 1128,\n",
       " 728,\n",
       " 2297,\n",
       " 2019,\n",
       " 656,\n",
       " 2920,\n",
       " 650,\n",
       " 686,\n",
       " 744,\n",
       " 2759,\n",
       " 2099,\n",
       " 662,\n",
       " 1003,\n",
       " 1805,\n",
       " 941,\n",
       " 642,\n",
       " 736,\n",
       " 1303,\n",
       " 1568,\n",
       " 2185,\n",
       " 2195,\n",
       " 1610,\n",
       " 672,\n",
       " 617,\n",
       " 1476,\n",
       " 1316,\n",
       " 11804,\n",
       " 792,\n",
       " 1275,\n",
       " 1156,\n",
       " 2596,\n",
       " 676,\n",
       " 722,\n",
       " 1442,\n",
       " 857,\n",
       " 614,\n",
       " 12295,\n",
       " 11060,\n",
       " 11356,\n",
       " 1437,\n",
       " 2234,\n",
       " 688,\n",
       " 13276,\n",
       " 11982,\n",
       " 12828,\n",
       " 13832,\n",
       " 696,\n",
       " 1651,\n",
       " 1485,\n",
       " 12479,\n",
       " 3179,\n",
       " 1700,\n",
       " 1450,\n",
       " 12466,\n",
       " 1211,\n",
       " 865,\n",
       " 11158,\n",
       " 644,\n",
       " 12360,\n",
       " 819,\n",
       " 12086,\n",
       " 697,\n",
       " 12500,\n",
       " 720,\n",
       " 892,\n",
       " 13562,\n",
       " 12196,\n",
       " 13921,\n",
       " 830,\n",
       " 12300,\n",
       " 1555,\n",
       " 9874,\n",
       " 12116,\n",
       " 11986,\n",
       " 12521,\n",
       " 12349,\n",
       " 693,\n",
       " 12528,\n",
       " 12054,\n",
       " 13044,\n",
       " 2141,\n",
       " 1565,\n",
       " 11839,\n",
       " 13074,\n",
       " 12216,\n",
       " 10780,\n",
       " 13728,\n",
       " 14459,\n",
       " 11696,\n",
       " 7216,\n",
       " 807,\n",
       " 12451,\n",
       " 12309,\n",
       " 13867,\n",
       " 14215,\n",
       " 2014,\n",
       " 12716,\n",
       " 11596,\n",
       " 1080,\n",
       " 11252,\n",
       " 12129,\n",
       " 1370,\n",
       " 11488,\n",
       " 13335,\n",
       " 10849,\n",
       " 12161,\n",
       " 11958,\n",
       " 8586,\n",
       " 13099,\n",
       " 11526,\n",
       " 13051,\n",
       " 12140,\n",
       " 13348,\n",
       " 691,\n",
       " 11844,\n",
       " 12642,\n",
       " 10757,\n",
       " 1488,\n",
       " 12703,\n",
       " 14492,\n",
       " 10002,\n",
       " 10173,\n",
       " 11196,\n",
       " 10967,\n",
       " 4830,\n",
       " 10562,\n",
       " 11922,\n",
       " 12338,\n",
       " 13575,\n",
       " 11938,\n",
       " 2914,\n",
       " 772,\n",
       " 11671,\n",
       " 1078,\n",
       " 15851,\n",
       " 11987,\n",
       " 13857,\n",
       " 12275,\n",
       " 13955,\n",
       " 10650,\n",
       " 8397,\n",
       " 12906,\n",
       " 665,\n",
       " 741,\n",
       " 12288,\n",
       " 11086,\n",
       " 765,\n",
       " 10436,\n",
       " 14064,\n",
       " 11480,\n",
       " 12669,\n",
       " 13406,\n",
       " 820,\n",
       " 12595,\n",
       " 11947,\n",
       " 13272,\n",
       " 14439,\n",
       " 11213,\n",
       " 9780,\n",
       " 13010,\n",
       " 13199,\n",
       " 12516,\n",
       " 12487,\n",
       " 11110,\n",
       " 16274,\n",
       " 12593,\n",
       " 7955,\n",
       " 11881,\n",
       " 12862,\n",
       " 12837,\n",
       " 9793,\n",
       " 11759,\n",
       " 953,\n",
       " 11943,\n",
       " 11349,\n",
       " 12028,\n",
       " 11429,\n",
       " 11495,\n",
       " 13786,\n",
       " 11912,\n",
       " 867,\n",
       " 12264,\n",
       " 11188,\n",
       " 14083,\n",
       " 8608,\n",
       " 9975,\n",
       " 10924,\n",
       " 13797,\n",
       " 12762,\n",
       " 10712,\n",
       " 12785,\n",
       " 13289,\n",
       " 14458,\n",
       " 15156,\n",
       " 13201,\n",
       " 12733,\n",
       " 10829,\n",
       " 8993,\n",
       " 11824,\n",
       " 8593,\n",
       " 10352,\n",
       " 13306,\n",
       " 12029,\n",
       " 7277,\n",
       " 2772,\n",
       " 7201,\n",
       " 9740,\n",
       " 10440,\n",
       " 13514,\n",
       " 9835,\n",
       " 10499,\n",
       " 10890,\n",
       " 11237,\n",
       " 11033,\n",
       " 13580,\n",
       " 13839,\n",
       " 12948,\n",
       " 10793,\n",
       " 12791,\n",
       " 12606,\n",
       " 11670,\n",
       " 12878,\n",
       " 12753,\n",
       " 13988,\n",
       " 7438,\n",
       " 12803,\n",
       " 12694,\n",
       " 11728,\n",
       " 11980,\n",
       " 13268,\n",
       " 12024,\n",
       " 9985,\n",
       " 9218,\n",
       " 10729,\n",
       " 14335,\n",
       " 11578,\n",
       " 10416,\n",
       " 11562,\n",
       " 12935,\n",
       " 12507,\n",
       " 11891,\n",
       " 9505,\n",
       " 11189,\n",
       " 791,\n",
       " 13435,\n",
       " 11535,\n",
       " 13262,\n",
       " 12091,\n",
       " 12834,\n",
       " 13523,\n",
       " 8079,\n",
       " 11627,\n",
       " 10402,\n",
       " 8740,\n",
       " 11340,\n",
       " 10767,\n",
       " 14642,\n",
       " 8785,\n",
       " 8096,\n",
       " 14410,\n",
       " 12303,\n",
       " 13594,\n",
       " 10341,\n",
       " 12619,\n",
       " 9432,\n",
       " 11238,\n",
       " 9105,\n",
       " 9349,\n",
       " 11689,\n",
       " 11691,\n",
       " 12053,\n",
       " 9180,\n",
       " 14266,\n",
       " 11924,\n",
       " 13672,\n",
       " 11639,\n",
       " 11998,\n",
       " 912,\n",
       " 11936,\n",
       " 12249,\n",
       " 12510,\n",
       " 12499,\n",
       " 12927,\n",
       " 12436,\n",
       " 10989,\n",
       " 10130,\n",
       " 12826,\n",
       " 12797,\n",
       " 8132,\n",
       " 14355,\n",
       " 13022,\n",
       " 11477,\n",
       " 11637,\n",
       " 10867,\n",
       " 12721,\n",
       " 13055,\n",
       " 9159,\n",
       " 8165,\n",
       " 12957,\n",
       " 11605,\n",
       " 12311,\n",
       " 10861,\n",
       " 13817,\n",
       " 12104,\n",
       " 16176,\n",
       " 12291,\n",
       " 10869,\n",
       " 7220,\n",
       " 7852,\n",
       " 9181,\n",
       " 12059,\n",
       " 12177,\n",
       " 12565,\n",
       " 11659,\n",
       " 11698,\n",
       " 8774,\n",
       " 11655,\n",
       " 11680,\n",
       " 11127,\n",
       " 11197,\n",
       " 10922,\n",
       " 15878,\n",
       " 11247,\n",
       " 13431,\n",
       " 11810,\n",
       " 11098,\n",
       " 12995,\n",
       " 12913,\n",
       " 12014,\n",
       " 11481,\n",
       " 9478,\n",
       " 11509,\n",
       " 11234,\n",
       " 10858,\n",
       " 12960,\n",
       " 8599,\n",
       " 11873,\n",
       " 13380,\n",
       " 11184,\n",
       " 9104,\n",
       " 9276,\n",
       " 10641,\n",
       " 11616,\n",
       " 11435,\n",
       " 10180,\n",
       " 14996,\n",
       " 7702,\n",
       " 12327,\n",
       " 15889,\n",
       " 14013,\n",
       " 12388,\n",
       " 13896,\n",
       " 12137,\n",
       " 11258,\n",
       " 16200,\n",
       " 13354,\n",
       " 13226,\n",
       " 1560,\n",
       " 10318,\n",
       " 12261,\n",
       " 14711,\n",
       " 12726,\n",
       " 13632,\n",
       " 10932,\n",
       " 10502,\n",
       " 12967,\n",
       " 13421,\n",
       " 7773,\n",
       " 13504,\n",
       " 11866,\n",
       " 10495,\n",
       " 11941,\n",
       " 11430,\n",
       " 7380,\n",
       " 10389,\n",
       " 10851,\n",
       " 11271,\n",
       " 16634,\n",
       " 13559,\n",
       " 9828,\n",
       " 12775,\n",
       " 15131,\n",
       " 12629,\n",
       " 10160,\n",
       " 11547,\n",
       " 12523,\n",
       " 12474,\n",
       " 14408,\n",
       " 12812,\n",
       " 12461,\n",
       " 14553,\n",
       " 12544,\n",
       " 10939,\n",
       " 12717,\n",
       " 14113,\n",
       " 12770,\n",
       " 14645,\n",
       " 9981,\n",
       " 8853,\n",
       " 1337,\n",
       " 9506,\n",
       " 12660,\n",
       " 14679,\n",
       " 18671,\n",
       " 14237,\n",
       " 10486,\n",
       " 12063,\n",
       " 13376,\n",
       " 12804,\n",
       " 12622,\n",
       " 8731,\n",
       " 11981,\n",
       " 13079,\n",
       " 7911,\n",
       " 8057,\n",
       " 15327,\n",
       " 9755,\n",
       " 11027,\n",
       " 12047,\n",
       " 12361,\n",
       " 13030,\n",
       " 11414,\n",
       " 10433,\n",
       " 7499,\n",
       " 10795,\n",
       " 11463,\n",
       " 13499,\n",
       " 15915,\n",
       " 9404,\n",
       " 8155,\n",
       " 11821,\n",
       " 731,\n",
       " 13337,\n",
       " 9670,\n",
       " 7519,\n",
       " 15096,\n",
       " 14713,\n",
       " 7297,\n",
       " 12580,\n",
       " 15590,\n",
       " 14212,\n",
       " 7734,\n",
       " 12655,\n",
       " 13933,\n",
       " 12799,\n",
       " 11949,\n",
       " 7843,\n",
       " 13690,\n",
       " 10891,\n",
       " 13691,\n",
       " 12778,\n",
       " 9651,\n",
       " 12057,\n",
       " 9930,\n",
       " 11405,\n",
       " 13651,\n",
       " 12280,\n",
       " 11334,\n",
       " 13752,\n",
       " 11317,\n",
       " 13971,\n",
       " 7441,\n",
       " 9668,\n",
       " 8938,\n",
       " 14138,\n",
       " 9885,\n",
       " 13054,\n",
       " 10636,\n",
       " 11350,\n",
       " 10870,\n",
       " 10688,\n",
       " 7766,\n",
       " 9660,\n",
       " 13091,\n",
       " 8921,\n",
       " 10573,\n",
       " 9883,\n",
       " 15518,\n",
       " 1871,\n",
       " 8146,\n",
       " 11020,\n",
       " 8082,\n",
       " 12596,\n",
       " 11602,\n",
       " 13761,\n",
       " 13323,\n",
       " 8822,\n",
       " 9278,\n",
       " 11314,\n",
       " 13068,\n",
       " 11812,\n",
       " 9991,\n",
       " 8262,\n",
       " 15703,\n",
       " 12098,\n",
       " 12013,\n",
       " 12942,\n",
       " 13578,\n",
       " 12329,\n",
       " 11593,\n",
       " 11036,\n",
       " 14332,\n",
       " 14097,\n",
       " 11780,\n",
       " 9688,\n",
       " 14158,\n",
       " 14175,\n",
       " 11726,\n",
       " 14813,\n",
       " 10509,\n",
       " 12197,\n",
       " 10425,\n",
       " 13970,\n",
       " 11260,\n",
       " 10787,\n",
       " 9743,\n",
       " 12421,\n",
       " 15689,\n",
       " 12305,\n",
       " 11369,\n",
       " 7808,\n",
       " 15606,\n",
       " 11825,\n",
       " 12130,\n",
       " 15150,\n",
       " 12165,\n",
       " 9950,\n",
       " 12741,\n",
       " 18001,\n",
       " 7467,\n",
       " 11640,\n",
       " 10704,\n",
       " 11316,\n",
       " 14536,\n",
       " 11634,\n",
       " 12964,\n",
       " 13384,\n",
       " 16737,\n",
       " 8178,\n",
       " 8538,\n",
       " 9299,\n",
       " 11073,\n",
       " 8616,\n",
       " 7563,\n",
       " 13479,\n",
       " 9158,\n",
       " 12615,\n",
       " 10348,\n",
       " 13052,\n",
       " 13428,\n",
       " 11730,\n",
       " 12055,\n",
       " 12585,\n",
       " 10320,\n",
       " 10657,\n",
       " 10058,\n",
       " 12385,\n",
       " 951,\n",
       " 14098,\n",
       " 11493,\n",
       " 9409,\n",
       " 7059,\n",
       " 13851,\n",
       " 11861,\n",
       " 12182,\n",
       " 12334,\n",
       " 9161,\n",
       " 10906,\n",
       " 11852,\n",
       " 11393,\n",
       " 9767,\n",
       " 13214,\n",
       " 11303,\n",
       " 13192,\n",
       " 13418,\n",
       " 17653,\n",
       " 11097,\n",
       " 11583,\n",
       " 12764,\n",
       " 8813,\n",
       " 11002,\n",
       " 13587,\n",
       " 14223,\n",
       " 7080,\n",
       " 11613,\n",
       " 8050,\n",
       " 15481,\n",
       " 11970,\n",
       " 13978,\n",
       " 11768,\n",
       " 7094,\n",
       " 11064,\n",
       " 9860,\n",
       " 13615,\n",
       " 9612,\n",
       " 11931,\n",
       " 9931,\n",
       " 11952,\n",
       " 9937,\n",
       " 11819,\n",
       " 13891,\n",
       " 9438,\n",
       " 9106,\n",
       " 13727,\n",
       " 12625,\n",
       " 11834,\n",
       " 7792,\n",
       " 7863,\n",
       " 9911,\n",
       " 14740,\n",
       " 11792,\n",
       " 11544,\n",
       " 12127,\n",
       " 10057,\n",
       " 9764,\n",
       " 13433,\n",
       " 11497,\n",
       " 11396,\n",
       " 14761,\n",
       " 11305,\n",
       " 9400,\n",
       " 12273,\n",
       " 10269,\n",
       " 12695,\n",
       " 12859,\n",
       " 7949,\n",
       " 9474,\n",
       " 10677,\n",
       " 12221,\n",
       " 14309,\n",
       " 10815,\n",
       " 11682,\n",
       " 13424,\n",
       " 14227,\n",
       " 14206,\n",
       " 12240,\n",
       " 7970,\n",
       " 8952,\n",
       " 10871,\n",
       " 7902,\n",
       " 13303,\n",
       " 15550,\n",
       " 11320,\n",
       " 14802,\n",
       " 12714,\n",
       " 13315,\n",
       " 10634,\n",
       " 13601,\n",
       " 13733,\n",
       " 12699,\n",
       " 10903,\n",
       " 1165,\n",
       " 8710,\n",
       " 11487,\n",
       " 17342,\n",
       " 11740,\n",
       " 13385,\n",
       " 8041,\n",
       " 10206,\n",
       " 21368,\n",
       " 12814,\n",
       " 13511,\n",
       " 11324,\n",
       " 13377,\n",
       " 13065,\n",
       " 13295,\n",
       " 11650,\n",
       " 9412,\n",
       " 11275,\n",
       " 14762,\n",
       " 8022,\n",
       " 16066,\n",
       " 14630,\n",
       " 13920,\n",
       " 7470,\n",
       " 13826,\n",
       " 8715,\n",
       " 9976,\n",
       " 9301,\n",
       " 10535,\n",
       " 13165,\n",
       " 10388,\n",
       " 9513,\n",
       " 13726,\n",
       " 12070,\n",
       " 11136,\n",
       " 7257,\n",
       " 13290,\n",
       " 7840,\n",
       " 16917,\n",
       " 10218,\n",
       " 11270,\n",
       " 13273,\n",
       " 14697,\n",
       " 9986,\n",
       " 7789,\n",
       " 8194,\n",
       " 11226,\n",
       " 10629,\n",
       " 15081,\n",
       " 12156,\n",
       " 12768,\n",
       " 10680,\n",
       " 12224,\n",
       " 14690,\n",
       " 10872,\n",
       " 12243,\n",
       " 13026,\n",
       " 7184,\n",
       " 13756,\n",
       " 10308,\n",
       " 10137,\n",
       " 12877,\n",
       " 14184,\n",
       " 10526,\n",
       " 12529,\n",
       " 11763,\n",
       " 14263,\n",
       " 11498,\n",
       " 12444,\n",
       " 10278,\n",
       " 12377,\n",
       " 14369,\n",
       " 13588,\n",
       " 11778,\n",
       " 12222,\n",
       " 10884,\n",
       " 11516,\n",
       " 12680,\n",
       " 12342,\n",
       " 19304,\n",
       " 14384,\n",
       " 12605,\n",
       " 7379,\n",
       " 7207,\n",
       " 15683,\n",
       " 17582,\n",
       " 13789,\n",
       " 11323,\n",
       " 12026,\n",
       " 9176,\n",
       " 7743,\n",
       " 15328,\n",
       " 11017,\n",
       " 12823,\n",
       " 8793,\n",
       " 8724,\n",
       " 11766,\n",
       " 11315,\n",
       " 9419,\n",
       " 14907,\n",
       " 11775,\n",
       " 10517,\n",
       " 7448,\n",
       " 12375,\n",
       " 10740,\n",
       " 11550,\n",
       " 9806,\n",
       " 13932,\n",
       " 8851,\n",
       " 10651,\n",
       " 13939,\n",
       " 9756,\n",
       " 15357,\n",
       " 13310,\n",
       " 11433,\n",
       " 12404,\n",
       " 8626,\n",
       " 8874,\n",
       " 13140,\n",
       " 11651,\n",
       " 11292,\n",
       " 10242,\n",
       " 10568,\n",
       " 616,\n",
       " 12571,\n",
       " 10264,\n",
       " 12631,\n",
       " 9872,\n",
       " 15725,\n",
       " 11151,\n",
       " 12581,\n",
       " 10489,\n",
       " 14339,\n",
       " 16047,\n",
       " 13322,\n",
       " 10549,\n",
       " 19662,\n",
       " 9160,\n",
       " 12644,\n",
       " 33932,\n",
       " 12417,\n",
       " 7558,\n",
       " 7874,\n",
       " 8945,\n",
       " 11331,\n",
       " 14179,\n",
       " 8610,\n",
       " 10676,\n",
       " 7884,\n",
       " 15555,\n",
       " 16297,\n",
       " 7915,\n",
       " 12750,\n",
       " 11173,\n",
       " 11302,\n",
       " 12442,\n",
       " 13618,\n",
       " 10566,\n",
       " 11677,\n",
       " 17188,\n",
       " 8426,\n",
       " 14402,\n",
       " 15256,\n",
       " 13845,\n",
       " 8321,\n",
       " 7876,\n",
       " 7969,\n",
       " 11482,\n",
       " 13476,\n",
       " 10978,\n",
       " 7971,\n",
       " 12763,\n",
       " 9052,\n",
       " 11035,\n",
       " 10223,\n",
       " 12386,\n",
       " 10956,\n",
       " 11382,\n",
       " 7918,\n",
       " 8029,\n",
       " 12076,\n",
       " 8297,\n",
       " 7418,\n",
       " 12575,\n",
       " 14523,\n",
       " 13387,\n",
       " 10215,\n",
       " 11848,\n",
       " 12432,\n",
       " 13518,\n",
       " 15056,\n",
       " 12586,\n",
       " 11706,\n",
       " 12044,\n",
       " 15969,\n",
       " 12411,\n",
       " 12838,\n",
       " 16519,\n",
       " 11904,\n",
       " 12139,\n",
       " 8996,\n",
       " 10744,\n",
       " 13692,\n",
       " 7278,\n",
       " 10246,\n",
       " 11769,\n",
       " 9172,\n",
       " 11607,\n",
       " 9858,\n",
       " 8772,\n",
       " 15059,\n",
       " 8858,\n",
       " 14178,\n",
       " 10394,\n",
       " 12950,\n",
       " 10277,\n",
       " 12244,\n",
       " 12424,\n",
       " 15620,\n",
       " 12985,\n",
       " 9880,\n",
       " 10790,\n",
       " 12820,\n",
       " 12795,\n",
       " 10046,\n",
       " 15759,\n",
       " 10659,\n",
       " 13908,\n",
       " 12513,\n",
       " 13018,\n",
       " 13353,\n",
       " 12673,\n",
       " 15068,\n",
       " 11104,\n",
       " 13884,\n",
       " 14933,\n",
       " 8207,\n",
       " 11864,\n",
       " 7303,\n",
       " 10758,\n",
       " 10599,\n",
       " 14018,\n",
       " 12362,\n",
       " 13907,\n",
       " 8141,\n",
       " 12317,\n",
       " 9402,\n",
       " 9003,\n",
       " 11108,\n",
       " ...]"
      ]
     },
     "execution_count": 42,
     "metadata": {},
     "output_type": "execute_result"
    }
   ],
   "source": [
    "candidates"
   ]
  },
  {
   "cell_type": "code",
   "execution_count": 43,
   "metadata": {},
   "outputs": [
    {
     "data": {
      "text/plain": [
       "6053"
      ]
     },
     "execution_count": 43,
     "metadata": {},
     "output_type": "execute_result"
    }
   ],
   "source": [
    "idx = candidates[0]\n",
    "idx"
   ]
  },
  {
   "cell_type": "code",
   "execution_count": 44,
   "metadata": {},
   "outputs": [
    {
     "name": "stdout",
     "output_type": "stream",
     "text": [
      "0.02615750435260705\n",
      "percent confidence\n"
     ]
    },
    {
     "data": {
      "text/plain": [
       "'2.6%'"
      ]
     },
     "execution_count": 44,
     "metadata": {},
     "output_type": "execute_result"
    }
   ],
   "source": [
    "print(df.loc[:,'gap_vector'][idx])\n",
    "print('percent confidence')\n",
    "'{:.1%}'.format(df.loc[:,'gap_vector'][idx])"
   ]
  },
  {
   "cell_type": "code",
   "execution_count": 45,
   "metadata": {},
   "outputs": [
    {
     "data": {
      "text/plain": [
       "array([ 9,  9,  9,  9,  9,  9,  9,  9,  9,  9,  9,  9,  9,  9,  9,  9,  9,\n",
       "        9,  9,  9,  9,  9,  9,  9,  9,  9,  9,  9,  9,  9,  9,  9,  9,  9,\n",
       "        9,  9,  9,  9,  9,  9, 19, 19, 19, 19, 19, 19, 19, 19, 19, 19, 19,\n",
       "       19, 19, 19, 19, 19, 19, 19, 19, 19, 19, 19, 19, 19, 19, 19, 19, 19,\n",
       "       19, 19, 19, 19, 19, 19, 19, 19, 19, 19, 19, 19,  1,  1,  1,  1,  1,\n",
       "        1,  1,  1,  1,  1,  1,  1,  1,  1,  1,  1,  1,  1,  1,  1,  1,  1,\n",
       "        1,  1,  1,  1,  1,  1,  1,  1,  1,  1,  1,  1,  1,  1,  1,  1,  1,\n",
       "        1,  1,  1,  1,  1,  1,  1,  1,  1,  1,  1,  1,  1,  1,  1,  1,  1,\n",
       "        1,  1,  1,  1,  1,  1,  1,  1,  1,  1,  1,  1,  1,  1,  1,  1,  1,\n",
       "        1,  1,  1,  1,  1,  1,  1,  1,  1,  1,  1,  1,  1,  1,  1,  1,  1,\n",
       "        1,  1,  1,  1,  1,  1,  1,  1,  1,  1,  1,  1,  1,  1,  1,  1,  1,\n",
       "        1,  1,  1,  1,  1,  1,  1,  1,  1,  1,  1,  1,  1,  1,  1,  1,  1,\n",
       "        1,  1,  1,  1,  1,  1,  1,  1,  1,  1,  1,  1,  1,  1,  1,  1,  1,\n",
       "        1,  1,  1,  1,  1,  1,  1,  1,  1,  1,  1,  1,  1,  1,  1,  1,  1,\n",
       "        1,  1,  1,  1,  1,  1,  1,  1,  1,  1,  1,  1,  1,  1,  1,  1,  1,\n",
       "        1,  1,  1,  1,  1,  1,  1,  1,  1,  1,  1,  1,  1,  1,  1,  1,  1,\n",
       "        1,  1,  1,  1,  1,  1,  1,  1,  9,  9,  9,  9,  9,  9,  9,  9,  9,\n",
       "        9,  9,  9,  9,  9,  9,  9,  9,  9,  9,  9,  9,  9,  9,  9,  9,  9,\n",
       "        9,  9,  9,  9,  9,  9,  9,  9,  9,  9,  9,  9,  9,  9, 13, 13, 13,\n",
       "       13, 13, 13, 13, 13, 13, 13, 13, 13, 13, 13, 13, 13, 13, 13, 13, 13,\n",
       "       13, 13, 13, 13, 13, 13, 13, 13, 13, 13, 13, 13, 13, 13, 13, 13, 13,\n",
       "       13, 13, 13, 34, 34, 34, 34, 34, 34, 34, 34, 34, 34, 34, 34, 34, 34,\n",
       "       34, 34, 34, 34, 34, 34, 34, 34, 34, 34, 34, 34, 34, 34, 34, 34, 34,\n",
       "       34, 34, 34, 34, 34, 34, 34, 34, 34,  6,  6,  6,  6,  6,  6,  6,  6,\n",
       "        6,  6,  6,  6,  6,  6,  6,  6,  6,  6,  6,  6,  6,  6,  6,  6,  6,\n",
       "        6,  6,  6,  6,  6,  6,  6,  6,  6,  6,  6,  6,  6,  6,  6, 10, 10,\n",
       "       10, 10, 10, 10, 10, 10, 10, 10, 10, 10, 10, 10, 10, 10, 10, 10, 10,\n",
       "       10, 10, 10, 10, 10, 10, 10, 10, 10, 10, 10, 10, 10, 10, 10, 10, 10,\n",
       "       10, 10, 10,  0, 15, 15, 15, 15, 15, 15, 15, 15, 15, 15, 15, 15, 15,\n",
       "       15, 15, 15, 15, 15, 15, 15, 15, 15, 15, 15, 15, 15, 15, 15, 15, 15,\n",
       "       15, 15, 15, 15, 15, 15, 15, 15, 15, 15,  3,  3,  3,  3,  3,  3,  3,\n",
       "        3,  3,  3,  3,  3,  3,  3,  3,  3,  3,  3,  3,  3,  3,  3,  3,  3,\n",
       "        3,  3,  3,  3,  3,  3,  3,  3,  3,  3,  3,  3,  3,  3,  3,  3,  2,\n",
       "        2,  2,  2,  2,  2,  2,  2,  2,  2,  2,  2,  2,  2,  2,  2,  2,  2,\n",
       "        2,  2,  2,  2,  2,  2,  2,  2,  2,  2,  2,  2,  2,  2,  2,  2,  2,\n",
       "        2,  2,  2,  2,  2])"
      ]
     },
     "execution_count": 45,
     "metadata": {},
     "output_type": "execute_result"
    }
   ],
   "source": [
    "np.array(list(cluster_dict_list[idx].values()))"
   ]
  },
  {
   "cell_type": "code",
   "execution_count": 46,
   "metadata": {},
   "outputs": [
    {
     "name": "stdout",
     "output_type": "stream",
     "text": [
      "10\n",
      "your dataset appears to have 10 clusters, not including any outliers\n"
     ]
    }
   ],
   "source": [
    "#cluster_idx_array = (np.unique(np.array(list(cluster_dict_list[idx].values()))))\n",
    "#print(cluster_idx_array)\n",
    "#print(np.count_nonzero(cluster_idx_array))\n",
    "\n",
    "number_of_clusters = np.count_nonzero(np.unique(np.array(list(cluster_dict_list[idx].values()))))\n",
    "print(number_of_clusters)\n",
    "print('your dataset appears to have', number_of_clusters,'clusters, not including any outliers')\n",
    "#return counts from np.unique? to filter out small clusters?"
   ]
  },
  {
   "cell_type": "code",
   "execution_count": 47,
   "metadata": {},
   "outputs": [
    {
     "name": "stdout",
     "output_type": "stream",
     "text": [
      "0.5252043507651748\n",
      "0.5118829659476958\n"
     ]
    }
   ],
   "source": [
    "true = y\n",
    "pred = np.array(list(cluster_dict_list[idx].values()))\n",
    "\n",
    "print(metrics.adjusted_rand_score(true, pred))\n",
    "print(metrics.silhouette_score(X, pred, metric=\"sqeuclidean\"))"
   ]
  },
  {
   "cell_type": "code",
   "execution_count": 48,
   "metadata": {},
   "outputs": [
    {
     "data": {
      "text/plain": [
       "<matplotlib.collections.PathCollection at 0x7fc57b156f40>"
      ]
     },
     "execution_count": 48,
     "metadata": {},
     "output_type": "execute_result"
    },
    {
     "data": {
      "image/png": "[encoded data removed]",
      "text/plain": [
       "<Figure size 864x864 with 1 Axes>"
      ]
     },
     "metadata": {
      "needs_background": "light"
     },
     "output_type": "display_data"
    }
   ],
   "source": [
    "size=12\n",
    "plt.figure(figsize=(size,size))\n",
    "plt.scatter(X[:, 0], X[:, 1],\n",
    "            s=50, \n",
    "            c=np.array(list(cluster_dict_list[idx].values())),\n",
    "            marker=\"o\",\n",
    "            cmap='flag',\n",
    "            norm=None,\n",
    "            alpha=.9,\n",
    "            edgecolor=\"k\")"
   ]
  },
  {
   "cell_type": "code",
   "execution_count": 49,
   "metadata": {},
   "outputs": [
    {
     "data": {
      "text/plain": [
       "[6053,\n",
       " 3807,\n",
       " 4346,\n",
       " 5481,\n",
       " 3187,\n",
       " 601,\n",
       " 5236,\n",
       " 4962,\n",
       " 5887,\n",
       " 3481,\n",
       " 1903,\n",
       " 6889,\n",
       " 2781,\n",
       " 4837,\n",
       " 3613,\n",
       " 2606,\n",
       " 2452,\n",
       " 3018,\n",
       " 1171,\n",
       " 627,\n",
       " 639,\n",
       " 2933,\n",
       " 2380,\n",
       " 1082,\n",
       " 1009,\n",
       " 1708,\n",
       " 2315,\n",
       " 5160,\n",
       " 2244,\n",
       " 837,\n",
       " 1617,\n",
       " 3744,\n",
       " 955,\n",
       " 619,\n",
       " 635,\n",
       " 977,\n",
       " 1872,\n",
       " 1222,\n",
       " 2145,\n",
       " 703]"
      ]
     },
     "execution_count": 49,
     "metadata": {},
     "output_type": "execute_result"
    }
   ],
   "source": [
    "idx_list = candidates[:40]\n",
    "idx_list"
   ]
  },
  {
   "cell_type": "code",
   "execution_count": 50,
   "metadata": {},
   "outputs": [],
   "source": [
    "idx_list.sort()"
   ]
  },
  {
   "cell_type": "code",
   "execution_count": 51,
   "metadata": {
    "scrolled": false
   },
   "outputs": [
    {
     "data": {
      "text/plain": [
       "array([ 601,  619,  627,  635,  639,  703,  837,  955,  977, 1009, 1082,\n",
       "       1171, 1222, 1617, 1708, 1872, 1903, 2145, 2244, 2315, 2380, 2452,\n",
       "       2606, 2781, 2933, 3018, 3187, 3481, 3613, 3744, 3807, 4346, 4837,\n",
       "       4962, 5160, 5236, 5481, 5887, 6053, 6889])"
      ]
     },
     "execution_count": 51,
     "metadata": {},
     "output_type": "execute_result"
    }
   ],
   "source": [
    "idx_array = np.asarray(idx_list)\n",
    "idx_array"
   ]
  },
  {
   "cell_type": "code",
   "execution_count": 52,
   "metadata": {},
   "outputs": [
    {
     "data": {
      "text/plain": [
       "0.4800162886560317"
      ]
     },
     "execution_count": 52,
     "metadata": {},
     "output_type": "execute_result"
    }
   ],
   "source": [
    "metrics.silhouette_score(X, pred, metric=\"euclidean\")"
   ]
  },
  {
   "cell_type": "markdown",
   "metadata": {},
   "source": [
    "%%time\n",
    "length = len(cluster_dict_list)-1\n",
    "silhouette_scores = []\n",
    "\n",
    "for i in range(length):\n",
    "    pred = np.array(list(cluster_dict_list[i].values()))\n",
    "    silhouette_scores.append(metrics.silhouette_score(X, pred, metric=\"euclidean\"))"
   ]
  },
  {
   "cell_type": "code",
   "execution_count": 53,
   "metadata": {},
   "outputs": [],
   "source": [
    "silhouette_list = []\n",
    "for i in idx_list:\n",
    "    silhouette = metrics.silhouette_score(X,     np.array(list(cluster_dict_list[i].values())), metric=\"euclidean\")\n",
    "    silhouette_list.append(silhouette)"
   ]
  },
  {
   "cell_type": "code",
   "execution_count": 54,
   "metadata": {
    "scrolled": true
   },
   "outputs": [],
   "source": [
    "silhouette_array = np.asarray(silhouette_list)"
   ]
  },
  {
   "cell_type": "code",
   "execution_count": 55,
   "metadata": {
    "scrolled": true
   },
   "outputs": [
    {
     "data": {
      "text/plain": [
       "[<matplotlib.lines.Line2D at 0x7fc57b11dee0>]"
      ]
     },
     "execution_count": 55,
     "metadata": {},
     "output_type": "execute_result"
    },
    {
     "data": {
      "image/png": "[encoded data removed]",
      "text/plain": [
       "<Figure size 432x288 with 1 Axes>"
      ]
     },
     "metadata": {
      "needs_background": "light"
     },
     "output_type": "display_data"
    }
   ],
   "source": [
    "plt.plot(idx_array,silhouette_array)"
   ]
  },
  {
   "cell_type": "code",
   "execution_count": 56,
   "metadata": {},
   "outputs": [],
   "source": [
    "#idx = silhouette_scores.index(max(silhouette_scores[simplex_tree.num_vertices():idx]))\n",
    "#print(idx)"
   ]
  },
  {
   "cell_type": "code",
   "execution_count": 57,
   "metadata": {},
   "outputs": [],
   "source": [
    "rand_score_list = []\n",
    "true = y\n",
    "for i in idx_list:\n",
    "    pred = np.array(list(cluster_dict_list[i].values()))\n",
    "    rand_score = metrics.adjusted_rand_score( true, pred)\n",
    "    rand_score_list.append(rand_score)"
   ]
  },
  {
   "cell_type": "code",
   "execution_count": 58,
   "metadata": {
    "scrolled": true
   },
   "outputs": [],
   "source": [
    "rand_score_array = np.asarray(rand_score_list)"
   ]
  },
  {
   "cell_type": "code",
   "execution_count": 59,
   "metadata": {},
   "outputs": [
    {
     "data": {
      "text/plain": [
       "[<matplotlib.lines.Line2D at 0x7fc57b0e0910>]"
      ]
     },
     "execution_count": 59,
     "metadata": {},
     "output_type": "execute_result"
    },
    {
     "data": {
      "image/png": "[encoded data removed]",
      "text/plain": [
       "<Figure size 432x288 with 1 Axes>"
      ]
     },
     "metadata": {
      "needs_background": "light"
     },
     "output_type": "display_data"
    }
   ],
   "source": [
    " plt.plot(idx_array,rand_score_array)"
   ]
  },
  {
   "cell_type": "code",
   "execution_count": 60,
   "metadata": {},
   "outputs": [
    {
     "data": {
      "text/plain": [
       "0.9402441277383992"
      ]
     },
     "execution_count": 60,
     "metadata": {},
     "output_type": "execute_result"
    }
   ],
   "source": [
    "max(rand_score_array)"
   ]
  },
  {
   "cell_type": "code",
   "execution_count": 61,
   "metadata": {},
   "outputs": [
    {
     "data": {
      "text/plain": [
       "(array([23]),)"
      ]
     },
     "execution_count": 61,
     "metadata": {},
     "output_type": "execute_result"
    }
   ],
   "source": [
    "np.where(rand_score_array == max(rand_score_array) )"
   ]
  },
  {
   "cell_type": "code",
   "execution_count": 62,
   "metadata": {},
   "outputs": [
    {
     "data": {
      "text/plain": [
       "4346"
      ]
     },
     "execution_count": 62,
     "metadata": {},
     "output_type": "execute_result"
    }
   ],
   "source": [
    "idx_array[31]"
   ]
  },
  {
   "cell_type": "code",
   "execution_count": 64,
   "metadata": {},
   "outputs": [
    {
     "name": "stderr",
     "output_type": "stream",
     "text": [
      "<ipython-input-64-a6871f668f3d>:51: UserWarning: Matplotlib is currently using module://ipykernel.pylab.backend_inline, which is a non-GUI backend, so cannot show the figure.\n",
      "  fig.show()\n"
     ]
    },
    {
     "data": {
      "image/png": "[encoded data removed]",
      "text/plain": [
       "<Figure size 360x360 with 1 Axes>"
      ]
     },
     "metadata": {
      "needs_background": "light"
     },
     "output_type": "display_data"
    }
   ],
   "source": [
    "fig, ax = plt.subplots(figsize=(5,5))\n",
    "frames = len(idx_array)\n",
    "\n",
    "\n",
    "outfile = filename + str(frames) + 'frames.gif'\n",
    "\n",
    "if not os.path.isfile(outfile):\n",
    "    def init():\n",
    "        scatter = ax.scatter(X[:, 0], X[:, 1],\n",
    "                        s=40, \n",
    "                        c=np.array(list(cluster_dict_list[0].values())),\n",
    "                        marker=\"o\",\n",
    "                        cmap='rainbow',\n",
    "                        norm=None,\n",
    "                        alpha=1,\n",
    "                        edgecolor=\"k\")\n",
    "        #ax.set(xlim=(-1, 35), ylim=(-1, 35))\n",
    "\n",
    "        return scatter,\n",
    "\n",
    "    #collection = PatchCollection(X, animated=True)\n",
    "\n",
    "    #ax.add_collection(collection)\n",
    "    #ax.autoscale_view(True)\n",
    "\n",
    "    def animate(i):\n",
    "\n",
    "        scatter = ax.scatter(X[:, 0], X[:, 1],\n",
    "                    s=40, \n",
    "                    c=np.array(list(cluster_dict_list[idx_array[i]].values())),\n",
    "                    marker=\"o\",\n",
    "                    cmap='flag',\n",
    "                    norm=None,\n",
    "                    alpha=1,\n",
    "                    edgecolor=\"k\")\n",
    "        return scatter,\n",
    "\n",
    "\n",
    "\n",
    "    ani = FuncAnimation(fig, animate,interval=1000,init_func=init,frames=frames,repeat=False, blit=True)\n",
    "\n",
    "    #ani.save('animation.gif')\n",
    "\n",
    "\n",
    "\n",
    "    #writer=animation.PillowWriter()\n",
    "\n",
    "    #writer = animation.FFMpegWriter(fps=2,bitrate=1000)\n",
    "\n",
    "    ani.save(outfile, dpi=200)\n",
    "    fig.show()\n"
   ]
  },
  {
   "cell_type": "code",
   "execution_count": null,
   "metadata": {},
   "outputs": [],
   "source": [
    "def pogo(dataset):\n",
    "    rips_complex = gudhi.RipsComplex(points=dataset,max_edge_length=100)\n",
    "    simplex_tree = rips_complex.create_simplex_tree(max_dimension=1)\n",
    "    df = pd.DataFrame(simplex_tree.get_filtration(), columns=['simplex','distance'])\n",
    "    #move through list and assign clusters to conected components\n",
    "\n",
    "    point_dict={i:0 for i in range(simplex_tree.num_vertices())}\n",
    "    counter=0\n",
    "\n",
    "    cluster_dict_list = []\n",
    "    for i in range(simplex_tree.num_vertices(),len(df)):\n",
    "        #if both points are still in cluster 0, assign both to a new cluster\n",
    "        if point_dict[df.loc[i,'simplex'][0]] == 0 and point_dict[df.loc[i,'simplex'][1]] == 0:\n",
    "            counter += 1\n",
    "            point_dict[df.loc[i,'simplex'][0]] = counter\n",
    "            point_dict[df.loc[i,'simplex'][1]] = counter\n",
    "            #if one point is in cluster 0 and one is not, assign the one in cluster 0 to the existing cluster\n",
    "        elif point_dict[df.loc[i,'simplex'][0]] == 0 and point_dict[df.loc[i,'simplex'][1]] != 0:\n",
    "            point_dict[df.loc[i,'simplex'][0]] = point_dict[df.loc[i,'simplex'][1]]\n",
    "\n",
    "            #and vice versa\n",
    "        elif point_dict[df.loc[i,'simplex'][0]] != 0 and point_dict[df.loc[i,'simplex'][1]] == 0:\n",
    "            point_dict[df.loc[i,'simplex'][1]] = point_dict[df.loc[i,'simplex'][0]]\n",
    "\n",
    "            #if both points are not in cluster 0 and not in the same cluster, merge clusters to the lower number cluster\n",
    "        elif point_dict[df.loc[i,'simplex'][0]] != 0 and point_dict[df.loc[i,'simplex'][1]] != 0 and point_dict[df.loc[i,'simplex'][0]] != point_dict[df.loc[i,'simplex'][1]]:\n",
    "            larger_cluster_number = max(point_dict[df.loc[i,'simplex'][0]], point_dict[df.loc[i,'simplex'][1]])\n",
    "            smaller_cluster_number = min(point_dict[df.loc[i,'simplex'][0]], point_dict[df.loc[i,'simplex'][1]])\n",
    "            for key, value in point_dict.items():\n",
    "                if value == larger_cluster_number:\n",
    "                    point_dict[key] = smaller_cluster_number\n",
    "        cluster_dict_list.append(point_dict.copy())\n",
    "        #print(point_dict)\n",
    "        #print('step',i)\n",
    "\n",
    "    \n",
    "    cutoff_value = 0\n",
    "    for i in range(len(cluster_dict_list)):\n",
    "        if cutoff_value == 0:\n",
    "            if all(value != 0 for value in cluster_dict_list[i].values()):\n",
    "                cutoff_value = i\n",
    "                print('dataset becomes connected at simplex #',cutoff_value)\n",
    "       \n",
    "    df = df[:cutoff_value]\n",
    "    #cluster_dict_list =\n",
    "    \n",
    "    #find the gaps between birth/death pairs\n",
    "\n",
    "    df['gaps'] = df['distance'] - df['distance'].shift(1)\n",
    "    \n",
    "    #find normalized distance\n",
    "    scaler = MinMaxScaler()\n",
    "    df['normed_distance'] = scaler.fit_transform(df['distance'].values.reshape(-1, 1))\n",
    "\n",
    "    #Mulitply the gaps by their normed location in the filtration, weighting features more heavily if they're later\n",
    "    df['normed_gaps'] = df['gaps'] * df['normed_distance']\n",
    "\n",
    "    norm_sum = df['normed_gaps'].sum()\n",
    "    df['probability_vector_normed_gaps'] = df['normed_gaps'] / norm_sum\n",
    "    \n",
    "    gap_sum = df['gaps'].sum()\n",
    "    df['probability_vector_gaps'] = df['normed_gaps'] / gap_sum\n",
    "\n",
    "    partition = 10\n",
    "    candidates = [i for i in df.nlargest(partition ,['gaps']).index if i in df.nlargest( partition,['normed_gaps']).index]\n",
    "    #print('possible cuttoffs' , candidates)\n",
    "    idx = cutoff_value - 1\n",
    "    #idx = candidates[0]\n",
    "    print('idx' ,idx)\n",
    "\n",
    "    print('your dataset appears to have', len(np.unique(np.array(list(cluster_dict_list[idx].values())))),'clusters')\n",
    "\n",
    "    #print( np.array(list(cluster_dict_list[idx].values())))\n",
    "\n",
    "    print(simplex_tree.num_vertices() , 'vertices')  \n",
    "    print(simplex_tree.num_simplices(), 'simplices')\n",
    "    print('dimension:', simplex_tree.dimension())\n",
    "\n",
    "    size=10\n",
    "    plt.figure(figsize=(size,size))\n",
    "    plt.scatter(dataset[:, 0], dataset[:, 1],\n",
    "                s=30, \n",
    "                c=np.array(list(cluster_dict_list[idx].values())),\n",
    "                marker=\"o\",\n",
    "                cmap='rainbow',\n",
    "                norm=None,\n",
    "                alpha=.9,\n",
    "                edgecolor=\"k\")\n",
    "    \n",
    "    return cluster_dict_list, candidates, idx\n"
   ]
  },
  {
   "cell_type": "code",
   "execution_count": null,
   "metadata": {
    "scrolled": true
   },
   "outputs": [],
   "source": [
    "cluster_dict_list, candidates, idx = pogo(X)"
   ]
  },
  {
   "cell_type": "code",
   "execution_count": null,
   "metadata": {
    "scrolled": true
   },
   "outputs": [],
   "source": [
    "true = y\n",
    "pred = np.array(list(cluster_dict_list[idx].values()))\n",
    "\n",
    "print('adjusted rand score =' , metrics.adjusted_rand_score(true, pred))\n"
   ]
  },
  {
   "cell_type": "code",
   "execution_count": null,
   "metadata": {},
   "outputs": [],
   "source": [
    "%matplotlib notebook"
   ]
  },
  {
   "cell_type": "code",
   "execution_count": null,
   "metadata": {},
   "outputs": [],
   "source": [
    "frames = 30\n",
    "interval = int(len(cluster_dict_list)/frames)\n",
    "print(interval)\n"
   ]
  },
  {
   "cell_type": "code",
   "execution_count": null,
   "metadata": {},
   "outputs": [],
   "source": [
    "fig, ax = plt.subplots(figsize=(8,8))\n",
    "frames = 30\n",
    "interval = int(len(cluster_dict_list)/frames)\n",
    "print(interval)\n",
    "\n",
    "scatter = ax.scatter(X[:, 0], X[:, 1],\n",
    "                s=40, \n",
    "                c=np.array(list(cluster_dict_list[0].values())),\n",
    "                marker=\"o\",\n",
    "                cmap='gist_rainbow',\n",
    "                norm=None,\n",
    "                alpha=1,\n",
    "                edgecolor=\"k\")\n",
    "ax.set(xlim=(-1, 35), ylim=(-1, 35))\n",
    "\n",
    "def animate(n):\n",
    "    scatter.set_array(np.array(list(cluster_dict_list[n*interval].values())))\n",
    "    \n",
    "ani = FuncAnimation(fig, animate,interval=20,frames=frames,repeat=True, blit=True)\n",
    "\n",
    "#ani.save('animation.gif')\n",
    "\n",
    "\n",
    "\n",
    "writer=animation.PillowWriter()\n",
    "\n",
    "writer = animation.FFMpegWriter(fps=2,bitrate=1000)\n",
    "\n",
    "ani.save('animation-d.mp4', writer=writer, dpi=250)\n",
    "\n",
    "\n",
    "fig.show()"
   ]
  },
  {
   "cell_type": "code",
   "execution_count": null,
   "metadata": {},
   "outputs": [],
   "source": []
  },
  {
   "cell_type": "code",
   "execution_count": null,
   "metadata": {},
   "outputs": [],
   "source": [
    "dataset = np.loadtxt('D31.txt')\n",
    "\n",
    "X, y = dataset[:, :2],dataset[:, 2]\n",
    "\n",
    "size=12\n",
    "plt.figure(figsize=(size,size))\n",
    "plt.scatter(X[:, 0], X[:, 1],\n",
    "            s=25, \n",
    "            c=y,\n",
    "            marker=\"o\",\n",
    "            cmap='tab10',\n",
    "            norm=None,\n",
    "            alpha=.7,\n",
    "            edgecolor=\"k\")"
   ]
  }
 ],
 "metadata": {
  "kernelspec": {
   "display_name": "Python 3",
   "language": "python",
   "name": "python3"
  },
  "language_info": {
   "codemirror_mode": {
    "name": "ipython",
    "version": 3
   },
   "file_extension": ".py",
   "mimetype": "text/x-python",
   "name": "python",
   "nbconvert_exporter": "python",
   "pygments_lexer": "ipython3",
   "version": "3.8.10"
  }
 },
 "nbformat": 4,
 "nbformat_minor": 4
}
