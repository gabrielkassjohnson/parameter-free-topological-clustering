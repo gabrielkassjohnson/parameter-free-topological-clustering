{
 "cells": [
  {
   "cell_type": "code",
   "execution_count": 1,
   "metadata": {},
   "outputs": [
    {
     "name": "stderr",
     "output_type": "stream",
     "text": [
      "/home/a/Desktop/ds/env/lib/python3.8/site-packages/dask/dataframe/utils.py:367: FutureWarning: pandas.Int64Index is deprecated and will be removed from pandas in a future version. Use pandas.Index with the appropriate dtype instead.\n",
      "  _numeric_index_types = (pd.Int64Index, pd.Float64Index, pd.UInt64Index)\n",
      "/home/a/Desktop/ds/env/lib/python3.8/site-packages/dask/dataframe/utils.py:367: FutureWarning: pandas.Float64Index is deprecated and will be removed from pandas in a future version. Use pandas.Index with the appropriate dtype instead.\n",
      "  _numeric_index_types = (pd.Int64Index, pd.Float64Index, pd.UInt64Index)\n",
      "/home/a/Desktop/ds/env/lib/python3.8/site-packages/dask/dataframe/utils.py:367: FutureWarning: pandas.UInt64Index is deprecated and will be removed from pandas in a future version. Use pandas.Index with the appropriate dtype instead.\n",
      "  _numeric_index_types = (pd.Int64Index, pd.Float64Index, pd.UInt64Index)\n",
      "WARNING:param.Parameterized: Use method 'warning' via param namespace \n",
      "WARNING:param.main: pandas could not register all extension types imports failed with the following error: cannot import name 'ABCIndexClass' from 'pandas.core.dtypes.generic' (/home/a/Desktop/ds/env/lib/python3.8/site-packages/pandas/core/dtypes/generic.py)\n"
     ]
    }
   ],
   "source": [
    "import numpy as np\n",
    "import h5py\n",
    "import matplotlib.pyplot as plt\n",
    "import gudhi\n",
    "from pogo import Pogo\n",
    "from scipy.sparse import csr_matrix\n",
    "from scipy.spatial.distance import pdist\n",
    "from scipy.spatial.distance import squareform\n",
    "from umap import UMAP,plot\n",
    "from sklearn.decomposition import PCA\n",
    "from sklearn.decomposition import KernelPCA\n",
    "\n",
    "from scipy.spatial.distance import is_valid_dm\n",
    "import seaborn as sns#; sns.set_theme()\n"
   ]
  },
  {
   "cell_type": "code",
   "execution_count": 2,
   "metadata": {},
   "outputs": [],
   "source": [
    "pogo=Pogo()"
   ]
  },
  {
   "cell_type": "code",
   "execution_count": 3,
   "metadata": {},
   "outputs": [],
   "source": [
    "hf = h5py.File('Quake_Smart-seq2_Diaphragm/data.h5', 'r')"
   ]
  },
  {
   "cell_type": "code",
   "execution_count": 4,
   "metadata": {},
   "outputs": [
    {
     "data": {
      "text/plain": [
       "<KeysViewHDF5 ['exprs', 'obs', 'obs_names', 'uns', 'var', 'var_names']>"
      ]
     },
     "execution_count": 4,
     "metadata": {},
     "output_type": "execute_result"
    }
   ],
   "source": [
    "hf.keys()"
   ]
  },
  {
   "cell_type": "code",
   "execution_count": 5,
   "metadata": {},
   "outputs": [
    {
     "data": {
      "text/plain": [
       "array(['data', 'indices', 'indptr', 'shape'], dtype='<U7')"
      ]
     },
     "execution_count": 5,
     "metadata": {},
     "output_type": "execute_result"
    }
   ],
   "source": [
    "exprs = hf.get('exprs')\n",
    "np.array(exprs)"
   ]
  },
  {
   "cell_type": "code",
   "execution_count": 6,
   "metadata": {},
   "outputs": [
    {
     "data": {
      "text/plain": [
       "array(['cell_ontology_class', 'cell_ontology_id', 'cell_type1', 'channel',\n",
       "       'cluster', 'dataset_name', 'donor', 'free_annotation', 'gender',\n",
       "       'organ', 'organism', 'platform', 'region'], dtype='<U19')"
      ]
     },
     "execution_count": 6,
     "metadata": {},
     "output_type": "execute_result"
    }
   ],
   "source": [
    "obs = hf.get('obs')\n",
    "np.array(obs)"
   ]
  },
  {
   "cell_type": "code",
   "execution_count": 7,
   "metadata": {},
   "outputs": [
    {
     "data": {
      "text/plain": [
       "(870,)"
      ]
     },
     "execution_count": 7,
     "metadata": {},
     "output_type": "execute_result"
    }
   ],
   "source": [
    "ground_truth = np.array(obs.get('cluster'))\n",
    "ground_truth.shape"
   ]
  },
  {
   "cell_type": "code",
   "execution_count": 8,
   "metadata": {},
   "outputs": [
    {
     "data": {
      "text/plain": [
       "array(['expressed_genes', 'scmap_genes', 'seurat_genes'], dtype='<U15')"
      ]
     },
     "execution_count": 8,
     "metadata": {},
     "output_type": "execute_result"
    }
   ],
   "source": [
    "uns = hf.get('uns')\n",
    "np.array(uns)"
   ]
  },
  {
   "cell_type": "code",
   "execution_count": 9,
   "metadata": {},
   "outputs": [],
   "source": [
    "data = np.array(exprs.get('data'))"
   ]
  },
  {
   "cell_type": "code",
   "execution_count": 10,
   "metadata": {},
   "outputs": [],
   "source": [
    "num_rows = np.array(exprs.get('shape'))[0]\n",
    "num_columns = np.array(exprs.get('shape'))[1]"
   ]
  },
  {
   "cell_type": "code",
   "execution_count": 11,
   "metadata": {},
   "outputs": [
    {
     "name": "stdout",
     "output_type": "stream",
     "text": [
      "870\n",
      "23341\n"
     ]
    }
   ],
   "source": [
    "print(num_rows)\n",
    "print(num_columns)"
   ]
  },
  {
   "cell_type": "code",
   "execution_count": 12,
   "metadata": {},
   "outputs": [],
   "source": [
    "indices = np.array(exprs.get('indices'))"
   ]
  },
  {
   "cell_type": "code",
   "execution_count": 13,
   "metadata": {},
   "outputs": [],
   "source": [
    "indptr = np.array(exprs.get('indptr'))"
   ]
  },
  {
   "cell_type": "code",
   "execution_count": 14,
   "metadata": {},
   "outputs": [],
   "source": [
    "matrix = csr_matrix((data, indices, indptr), shape=(num_rows, num_columns)).toarray()"
   ]
  },
  {
   "cell_type": "code",
   "execution_count": 15,
   "metadata": {},
   "outputs": [
    {
     "data": {
      "text/plain": [
       "array([[  0.,   0.,   0., ...,   0.,   0.,   0.],\n",
       "       [  0.,   0.,   0., ...,   0.,   0.,   0.],\n",
       "       [  0.,   0.,   0., ...,   0., 101.,   0.],\n",
       "       ...,\n",
       "       [  0.,   0.,   0., ...,   0.,   0.,   0.],\n",
       "       [  0.,   0.,   0., ...,   0.,   0.,   0.],\n",
       "       [  0.,  67.,   0., ...,   0.,   0.,   0.]])"
      ]
     },
     "execution_count": 15,
     "metadata": {},
     "output_type": "execute_result"
    }
   ],
   "source": [
    "matrix"
   ]
  },
  {
   "cell_type": "code",
   "execution_count": 16,
   "metadata": {},
   "outputs": [
    {
     "data": {
      "text/plain": [
       "PCA(n_components=2, random_state=0)"
      ]
     },
     "execution_count": 16,
     "metadata": {},
     "output_type": "execute_result"
    }
   ],
   "source": [
    "pca = PCA(n_components=2, random_state=0)\n",
    "pca.fit(matrix)"
   ]
  },
  {
   "cell_type": "code",
   "execution_count": 17,
   "metadata": {},
   "outputs": [
    {
     "data": {
      "image/png": "[encoded data removed]",
      "text/plain": [
       "<Figure size 576x576 with 1 Axes>"
      ]
     },
     "metadata": {
      "needs_background": "light"
     },
     "output_type": "display_data"
    }
   ],
   "source": [
    "X=pca.components_.T[:,0]\n",
    "y=pca.components_.T[:,1]\n",
    "plt.figure(figsize=(8,8))\n",
    "scatter = plt.scatter(X,y,\n",
    "            s=40, \n",
    "            #c=c,\n",
    "            marker=\"o\",\n",
    "            #cmap=cmap,\n",
    "            norm=None,\n",
    "            alpha=.8,\n",
    "            edgecolor=\"k\",\n",
    "            vmin = 0)\n",
    "\n",
    "plt.show()"
   ]
  },
  {
   "cell_type": "code",
   "execution_count": null,
   "metadata": {},
   "outputs": [],
   "source": []
  },
  {
   "cell_type": "code",
   "execution_count": 18,
   "metadata": {},
   "outputs": [],
   "source": [
    "Y = pdist(matrix, 'correlation')"
   ]
  },
  {
   "cell_type": "code",
   "execution_count": 19,
   "metadata": {},
   "outputs": [
    {
     "data": {
      "text/plain": [
       "(378015,)"
      ]
     },
     "execution_count": 19,
     "metadata": {},
     "output_type": "execute_result"
    }
   ],
   "source": [
    "Y.shape"
   ]
  },
  {
   "cell_type": "code",
   "execution_count": 20,
   "metadata": {},
   "outputs": [],
   "source": [
    "mdist = squareform(Y, force='no', checks=True)"
   ]
  },
  {
   "cell_type": "code",
   "execution_count": 21,
   "metadata": {},
   "outputs": [
    {
     "data": {
      "text/plain": [
       "(870, 870)"
      ]
     },
     "execution_count": 21,
     "metadata": {},
     "output_type": "execute_result"
    }
   ],
   "source": [
    "mdist.shape"
   ]
  },
  {
   "cell_type": "code",
   "execution_count": 22,
   "metadata": {},
   "outputs": [
    {
     "data": {
      "text/plain": [
       "array([[0.        , 0.2481567 , 0.40205085, ..., 0.22494164, 0.23790942,\n",
       "        0.22910211],\n",
       "       [0.2481567 , 0.        , 0.11709152, ..., 0.14066171, 0.15410543,\n",
       "        0.13934981],\n",
       "       [0.40205085, 0.11709152, 0.        , ..., 0.33600546, 0.34593477,\n",
       "        0.33774251],\n",
       "       ...,\n",
       "       [0.22494164, 0.14066171, 0.33600546, ..., 0.        , 0.06431486,\n",
       "        0.06122598],\n",
       "       [0.23790942, 0.15410543, 0.34593477, ..., 0.06431486, 0.        ,\n",
       "        0.08066253],\n",
       "       [0.22910211, 0.13934981, 0.33774251, ..., 0.06122598, 0.08066253,\n",
       "        0.        ]])"
      ]
     },
     "execution_count": 22,
     "metadata": {},
     "output_type": "execute_result"
    }
   ],
   "source": [
    "mdist"
   ]
  },
  {
   "cell_type": "code",
   "execution_count": 23,
   "metadata": {},
   "outputs": [
    {
     "data": {
      "text/plain": [
       "True"
      ]
     },
     "execution_count": 23,
     "metadata": {},
     "output_type": "execute_result"
    }
   ],
   "source": [
    "is_valid_dm(mdist)"
   ]
  },
  {
   "cell_type": "code",
   "execution_count": 24,
   "metadata": {},
   "outputs": [],
   "source": [
    "#Heatmap\n",
    "\n",
    "#ax = sns.heatmap(mdist,cmap='Spectral')#, vmin=0, vmax=1, center=0.8)\n",
    "\n",
    "#plt.title('Heatmap')\n",
    "#plt.savefig('heatmap',dpi=100)"
   ]
  },
  {
   "cell_type": "code",
   "execution_count": null,
   "metadata": {},
   "outputs": [],
   "source": []
  },
  {
   "cell_type": "code",
   "execution_count": 25,
   "metadata": {},
   "outputs": [],
   "source": [
    "negmdist = np.negative(mdist)\n",
    "similarity_matrix  = np.exp(negmdist)\n",
    "kpca_2d_model = KernelPCA(n_components=2, kernel='precomputed',random_state=42)\n",
    "kpca2 = kpca_2d_model.fit_transform(similarity_matrix)\n",
    "X = kpca2[:,0]\n",
    "y = kpca2[:,1]"
   ]
  },
  {
   "cell_type": "code",
   "execution_count": 26,
   "metadata": {},
   "outputs": [
    {
     "data": {
      "text/plain": [
       "<matplotlib.collections.PathCollection at 0x7f102d3855e0>"
      ]
     },
     "execution_count": 26,
     "metadata": {},
     "output_type": "execute_result"
    },
    {
     "data": {
      "image/png": "[encoded data removed]",
      "text/plain": [
       "<Figure size 432x288 with 1 Axes>"
      ]
     },
     "metadata": {
      "needs_background": "light"
     },
     "output_type": "display_data"
    }
   ],
   "source": [
    "plt.scatter(X,y,c=ground_truth)"
   ]
  },
  {
   "cell_type": "code",
   "execution_count": 27,
   "metadata": {},
   "outputs": [
    {
     "name": "stderr",
     "output_type": "stream",
     "text": [
      "/home/a/Desktop/ds/env/lib/python3.8/site-packages/umap/umap_.py:1503: UserWarning: using precomputed metric; transform will be unavailable for new data and inverse_transform will be unavailable for all data\n",
      "  warn(\n"
     ]
    },
    {
     "data": {
      "text/plain": [
       "Text(0.5, 1.0, 'Unlabeled UMAP Embedding in 2D')"
      ]
     },
     "execution_count": 27,
     "metadata": {},
     "output_type": "execute_result"
    },
    {
     "data": {
      "image/png": "[encoded data removed]",
      "text/plain": [
       "<Figure size 800x800 with 1 Axes>"
      ]
     },
     "metadata": {},
     "output_type": "display_data"
    }
   ],
   "source": [
    "#Create 2-d umap dimensionality reduction embedding to visualize unsupervised models\n",
    "umap_model_2d = UMAP(metric='precomputed',min_dist=0.0001,n_neighbors=4)\n",
    "umap_embedding = umap_model_2d.fit_transform(mdist)\n",
    "plot.points(umap_model_2d,labels=ground_truth)\n",
    "\n",
    "plt.title('Unlabeled UMAP Embedding in 2D')"
   ]
  },
  {
   "cell_type": "code",
   "execution_count": 28,
   "metadata": {},
   "outputs": [
    {
     "data": {
      "text/plain": [
       "(870, 2)"
      ]
     },
     "execution_count": 28,
     "metadata": {},
     "output_type": "execute_result"
    }
   ],
   "source": [
    "umap_embedding.shape"
   ]
  },
  {
   "cell_type": "code",
   "execution_count": 29,
   "metadata": {},
   "outputs": [
    {
     "data": {
      "text/plain": [
       "<matplotlib.collections.PathCollection at 0x7f102cd77e20>"
      ]
     },
     "execution_count": 29,
     "metadata": {},
     "output_type": "execute_result"
    },
    {
     "data": {
      "image/png": "[encoded data removed]",
      "text/plain": [
       "<Figure size 432x288 with 1 Axes>"
      ]
     },
     "metadata": {
      "needs_background": "light"
     },
     "output_type": "display_data"
    }
   ],
   "source": [
    "plt.scatter(umap_embedding[:,0], umap_embedding[:,1],c=ground_truth)"
   ]
  },
  {
   "cell_type": "code",
   "execution_count": 30,
   "metadata": {},
   "outputs": [
    {
     "name": "stderr",
     "output_type": "stream",
     "text": [
      "/home/a/Desktop/ds/env/lib/python3.8/site-packages/umap/umap_.py:1503: UserWarning: using precomputed metric; transform will be unavailable for new data and inverse_transform will be unavailable for all data\n",
      "  warn(\n"
     ]
    }
   ],
   "source": [
    "umap_model_33d = UMAP(metric='precomputed',min_dist=0.0001,n_neighbors=4,n_components=33)\n",
    "umap_embedding_33d = umap_model_33d.fit_transform(mdist)"
   ]
  },
  {
   "cell_type": "code",
   "execution_count": 31,
   "metadata": {},
   "outputs": [
    {
     "data": {
      "image/png": "[encoded data removed]",
      "text/plain": [
       "<Figure size 576x576 with 1 Axes>"
      ]
     },
     "metadata": {
      "needs_background": "light"
     },
     "output_type": "display_data"
    }
   ],
   "source": [
    "negmdist = np.negative(mdist)\n",
    "similarity_matrix  = np.exp(negmdist)\n",
    "kpca_2d_model = KernelPCA(n_components=2, kernel='precomputed',random_state=0)\n",
    "kpca2 = kpca_2d_model.fit_transform(similarity_matrix)\n",
    "X = kpca2[:,0]\n",
    "y = kpca2[:,1]\n",
    "plt.figure(figsize=(8,8))\n",
    "scatter = plt.scatter(X,y,\n",
    "            s=40, \n",
    "            c=ground_truth,\n",
    "            marker=\"o\",\n",
    "            #cmap=viridis,\n",
    "            norm=None,\n",
    "            alpha=.8,\n",
    "            edgecolor=\"k\",\n",
    "            vmin = 0)\n",
    "\n",
    "plt.show()"
   ]
  },
  {
   "cell_type": "code",
   "execution_count": 32,
   "metadata": {},
   "outputs": [
    {
     "name": "stderr",
     "output_type": "stream",
     "text": [
      "usetex mode requires TeX.\n"
     ]
    },
    {
     "data": {
      "image/png": "[encoded data removed]",
      "text/plain": [
       "<Figure size 432x288 with 1 Axes>"
      ]
     },
     "metadata": {
      "needs_background": "light"
     },
     "output_type": "display_data"
    }
   ],
   "source": [
    "rips_complex = gudhi.RipsComplex(points=umap_embedding_33d)\n",
    "simplex_tree = rips_complex.create_simplex_tree(max_dimension=1)\n",
    "diag = simplex_tree.persistence()\n",
    "\n",
    "gudhi.plot_persistence_barcode(diag)\n",
    "plt.show()"
   ]
  },
  {
   "cell_type": "code",
   "execution_count": 33,
   "metadata": {},
   "outputs": [],
   "source": [
    "persistence_module = simplex_tree.persistence()"
   ]
  },
  {
   "cell_type": "code",
   "execution_count": 34,
   "metadata": {},
   "outputs": [
    {
     "data": {
      "image/png": "[encoded data removed]",
      "text/plain": [
       "<Figure size 432x288 with 1 Axes>"
      ]
     },
     "metadata": {
      "needs_background": "light"
     },
     "output_type": "display_data"
    }
   ],
   "source": [
    "ax = gudhi.plot_persistence_diagram(persistence=persistence_module)\n",
    "# We can modify the title, aspect, etc.\n",
    "ax.set_title(\"Persistence diagram of Diaphragm Cells\")\n",
    "ax.set_aspect(\"equal\")  # forces to be square shaped\n",
    "plt.show()"
   ]
  },
  {
   "cell_type": "code",
   "execution_count": 35,
   "metadata": {},
   "outputs": [
    {
     "data": {
      "image/png": "[encoded data removed]",
      "text/plain": [
       "<Figure size 576x576 with 1 Axes>"
      ]
     },
     "metadata": {
      "needs_background": "light"
     },
     "output_type": "display_data"
    },
    {
     "data": {
      "text/plain": [
       "<matplotlib.collections.PathCollection at 0x7f1027fa4760>"
      ]
     },
     "execution_count": 35,
     "metadata": {},
     "output_type": "execute_result"
    }
   ],
   "source": [
    "\n",
    "pogo.fit(umap_embedding_33d)\n",
    "pogo.plot()"
   ]
  },
  {
   "cell_type": "code",
   "execution_count": 36,
   "metadata": {},
   "outputs": [
    {
     "data": {
      "text/plain": [
       "41941"
      ]
     },
     "execution_count": 36,
     "metadata": {},
     "output_type": "execute_result"
    }
   ],
   "source": [
    "pogo.idx_"
   ]
  },
  {
   "cell_type": "code",
   "execution_count": 37,
   "metadata": {},
   "outputs": [
    {
     "data": {
      "text/plain": [
       "array([0, 1, 1, 0, 0, 2, 3, 0, 0, 0, 0, 0, 0, 0, 0, 0, 0, 0, 1, 0, 0, 0,\n",
       "       0, 0, 0, 0, 0, 1, 0, 1, 1, 4, 1, 1, 1, 4, 4, 0, 0, 0, 1, 1, 1, 4,\n",
       "       3, 4, 0, 2, 0, 0, 0, 0, 0, 1, 4, 4, 2, 0, 0, 0, 0, 0, 0, 0, 0, 0,\n",
       "       0, 0, 0, 1, 1, 1, 1, 0, 0, 0, 0, 0, 0, 0, 1, 1, 1, 1, 1, 4, 1, 1,\n",
       "       4, 4, 3, 2, 0, 0, 0, 0, 1, 1, 4, 2, 2, 2, 0, 0, 0, 0, 0, 0, 1, 4,\n",
       "       3, 2, 0, 0, 0, 0, 0, 0, 0, 0, 0, 0, 0, 1, 1, 0, 0, 0, 0, 0, 0, 0,\n",
       "       0, 1, 1, 1, 1, 4, 4, 1, 1, 4, 3, 2, 2, 0, 0, 1, 1, 4, 4, 2, 2, 3,\n",
       "       0, 0, 0, 0, 0, 0, 0, 1, 0, 3, 2, 0, 0, 0, 0, 0, 0, 0, 0, 0, 0, 0,\n",
       "       1, 0, 0, 0, 0, 0, 0, 0, 0, 1, 1, 1, 4, 4, 1, 1, 4, 4, 3, 2, 3, 0,\n",
       "       0, 0, 1, 1, 4, 0, 3, 3, 0, 0, 0, 0, 0, 0, 4, 4, 2, 0, 0, 0, 0, 0,\n",
       "       0, 0, 0, 0, 0, 0, 1, 1, 0, 0, 0, 0, 0, 0, 0, 0, 0, 1, 1, 1, 4, 4,\n",
       "       1, 1, 4, 4, 3, 2, 2, 0, 0, 1, 1, 4, 4, 3, 3, 0, 0, 0, 0, 0, 0, 0,\n",
       "       0, 0, 0, 4, 2, 2, 0, 0, 0, 0, 0, 0, 0, 0, 1, 0, 0, 0, 1, 1, 1, 4,\n",
       "       2, 1, 0, 4, 4, 0, 1, 1, 1, 0, 4, 0, 0, 0, 0, 4, 0, 0, 0, 2, 0, 1,\n",
       "       2, 0, 0, 0, 1, 4, 3, 2, 1, 0, 4, 0, 0, 0, 0, 0, 0, 0, 0, 0, 0, 0,\n",
       "       0, 0, 0, 0, 0, 0, 0, 0, 0, 0, 0, 0, 0, 0, 0, 0, 0, 0, 0, 0, 0, 0,\n",
       "       0, 0, 0, 0, 0, 0, 0, 0, 1, 0, 0, 0, 0, 0, 0, 0, 0, 0, 0, 0, 0, 1,\n",
       "       1, 2, 1, 1, 4, 2, 1, 1, 1, 1, 1, 2, 1, 1, 1, 1, 4, 2, 1, 1, 2, 2,\n",
       "       2, 1, 1, 1, 1, 1, 2, 3, 1, 2, 1, 1, 3, 1, 1, 1, 1, 1, 1, 2, 3, 2,\n",
       "       1, 2, 1, 1, 4, 2, 2, 1, 1, 4, 2, 3, 2, 1, 1, 4, 2, 2, 1, 1, 1, 2,\n",
       "       1, 1, 1, 2, 2, 1, 1, 0, 0, 0, 0, 0, 0, 1, 1, 1, 1, 0, 0, 0, 1, 1,\n",
       "       1, 1, 1, 0, 0, 0, 1, 1, 1, 1, 1, 1, 0, 0, 0, 1, 1, 0, 0, 0, 1, 1,\n",
       "       1, 1, 0, 0, 0, 0, 0, 0, 1, 1, 1, 0, 1, 1, 1, 0, 0, 0, 0, 0, 1, 1,\n",
       "       0, 0, 1, 1, 4, 0, 0, 0, 0, 0, 1, 2, 1, 0, 0, 0, 1, 0, 3, 0, 0, 0,\n",
       "       1, 1, 0, 0, 0, 1, 1, 0, 1, 1, 0, 1, 1, 0, 0, 0, 1, 0, 0, 0, 1, 1,\n",
       "       0, 0, 1, 1, 0, 0, 0, 0, 1, 1, 0, 0, 1, 0, 1, 0, 0, 1, 1, 1, 0, 0,\n",
       "       0, 1, 1, 1, 0, 0, 1, 0, 1, 1, 2, 2, 2, 2, 2, 2, 3, 2, 2, 2, 3, 3,\n",
       "       2, 3, 3, 2, 2, 2, 2, 2, 2, 2, 0, 0, 0, 0, 0, 0, 0, 0, 0, 0, 0, 0,\n",
       "       1, 1, 1, 1, 0, 0, 0, 0, 0, 0, 1, 1, 1, 1, 1, 0, 0, 0, 0, 1, 1, 1,\n",
       "       0, 0, 0, 0, 0, 0, 0, 0, 0, 1, 1, 0, 0, 0, 0, 0, 0, 1, 1, 1, 0, 0,\n",
       "       0, 0, 1, 1, 0, 0, 1, 0, 0, 0, 1, 1, 0, 0, 0, 1, 1, 1, 1, 0, 0, 0,\n",
       "       0, 0, 0, 0, 0, 1, 1, 1, 0, 0, 0, 0, 0, 0, 0, 0, 0, 0, 0, 0, 0, 0,\n",
       "       0, 1, 1, 0, 1, 1, 0, 0, 0, 0, 1, 1, 0, 0, 1, 1, 0, 0, 0, 0, 0, 0,\n",
       "       0, 0, 0, 0, 0, 0, 0, 0, 0, 0, 1, 1, 0, 1, 0, 0, 1, 1, 0, 0, 0, 0,\n",
       "       1, 1, 1, 0, 0, 0, 0, 0, 0, 0, 0, 0, 0, 1, 1, 0, 0, 0, 0, 0, 0, 0,\n",
       "       1, 1, 0, 0, 0, 0, 0, 0, 1, 0, 0, 1, 1, 0, 0, 0, 0, 0, 0, 0, 1, 1,\n",
       "       1, 0, 0, 0, 1, 1, 1, 0, 0, 1, 1, 1, 4, 0, 2, 0, 0, 0, 0, 0, 0, 4,\n",
       "       4, 4, 4, 2, 4, 4, 2, 4, 0, 4, 4, 2, 0, 4, 4, 3, 4, 3, 3, 4, 2, 2,\n",
       "       4, 3, 2, 4, 2, 0, 2, 2, 4, 2, 2, 4, 3, 2, 4, 2, 2, 1, 4, 1, 2, 4,\n",
       "       1, 2, 4, 2, 1, 4, 2, 4, 2, 4, 4, 2])"
      ]
     },
     "execution_count": 37,
     "metadata": {},
     "output_type": "execute_result"
    }
   ],
   "source": [
    "pogo.labels_"
   ]
  },
  {
   "cell_type": "code",
   "execution_count": 38,
   "metadata": {},
   "outputs": [
    {
     "data": {
      "text/plain": [
       "[98491,\n",
       " 164018,\n",
       " 41941,\n",
       " 157769,\n",
       " 14100,\n",
       " 8021,\n",
       " 7111,\n",
       " 5066,\n",
       " 6107,\n",
       " 6550,\n",
       " 4642,\n",
       " 6857,\n",
       " 5726,\n",
       " 7886,\n",
       " 4189,\n",
       " 5970,\n",
       " 4008,\n",
       " 4331,\n",
       " 4932,\n",
       " 3643,\n",
       " 3757,\n",
       " 3862,\n",
       " 4460,\n",
       " 4589,\n",
       " 3597,\n",
       " 3962,\n",
       " 3568,\n",
       " 4145,\n",
       " 3540,\n",
       " 4566,\n",
       " 4542,\n",
       " 4526,\n",
       " 4179,\n",
       " 4177,\n",
       " 3539,\n",
       " 191981,\n",
       " 64453,\n",
       " 64670,\n",
       " 64221,\n",
       " 64644,\n",
       " 64220,\n",
       " 64219,\n",
       " 64645,\n",
       " 64218,\n",
       " 64217,\n",
       " 64216,\n",
       " 64646,\n",
       " 64647,\n",
       " 64215,\n",
       " 64214,\n",
       " 64648,\n",
       " 64213,\n",
       " 64649,\n",
       " 64212,\n",
       " 64650,\n",
       " 64222,\n",
       " 64223,\n",
       " 64224,\n",
       " 64642,\n",
       " 64638,\n",
       " 64235,\n",
       " 64639,\n",
       " 64234,\n",
       " 64233,\n",
       " 64640,\n",
       " 64641,\n",
       " 64643,\n",
       " 64225,\n",
       " 64232,\n",
       " 64231,\n",
       " 64230,\n",
       " 64229,\n",
       " 64228,\n",
       " 64227,\n",
       " 64226,\n",
       " 64211,\n",
       " 64210,\n",
       " 64209,\n",
       " 64195,\n",
       " 64198,\n",
       " 64662,\n",
       " 64197,\n",
       " 64196,\n",
       " 64663,\n",
       " 64664,\n",
       " 64665,\n",
       " 64194,\n",
       " 64661,\n",
       " 64193,\n",
       " 64666,\n",
       " 64192,\n",
       " 64667,\n",
       " 64191,\n",
       " 64190,\n",
       " 64668,\n",
       " 64199,\n",
       " 64660,\n",
       " 64208,\n",
       " 64204,\n",
       " 64651,\n",
       " 64652,\n",
       " 64207,\n",
       " 64653,\n",
       " 64206,\n",
       " 64205,\n",
       " 64654,\n",
       " 64655,\n",
       " 64200,\n",
       " 64656,\n",
       " 64203,\n",
       " 64657,\n",
       " 64202,\n",
       " 64658,\n",
       " 64201,\n",
       " 64659,\n",
       " 64236,\n",
       " 64637,\n",
       " 64237,\n",
       " 64264,\n",
       " 64267,\n",
       " 64266,\n",
       " 64610,\n",
       " 64265,\n",
       " 64611,\n",
       " 64612,\n",
       " 64613,\n",
       " 64263,\n",
       " 64609,\n",
       " 64614,\n",
       " 64615,\n",
       " 64616,\n",
       " 64262,\n",
       " 64617,\n",
       " 64261,\n",
       " 64618,\n",
       " 64268,\n",
       " 64269,\n",
       " 64619,\n",
       " 64273,\n",
       " 64597,\n",
       " 64598,\n",
       " 64274,\n",
       " 64599,\n",
       " 64600,\n",
       " 64601,\n",
       " 64602,\n",
       " 64603,\n",
       " 64608,\n",
       " 64272,\n",
       " 64271,\n",
       " 64604,\n",
       " 64605,\n",
       " 64606,\n",
       " 64607,\n",
       " 64270,\n",
       " 64260,\n",
       " 64259,\n",
       " 64636,\n",
       " 64630,\n",
       " 64627,\n",
       " 64244,\n",
       " 64628,\n",
       " 64243,\n",
       " 64242,\n",
       " 64241,\n",
       " 64629,\n",
       " 64240,\n",
       " 64626,\n",
       " 64631,\n",
       " 64632,\n",
       " 64239,\n",
       " 64633,\n",
       " 64634,\n",
       " 64635,\n",
       " 64238,\n",
       " 64245,\n",
       " 64246,\n",
       " 64258,\n",
       " 64623,\n",
       " 64257,\n",
       " 64256,\n",
       " 64620,\n",
       " 64255,\n",
       " 64621,\n",
       " 64254,\n",
       " 64622,\n",
       " 64624,\n",
       " 64247,\n",
       " 64253,\n",
       " 64252,\n",
       " 64251,\n",
       " 64250,\n",
       " 64249,\n",
       " 64625,\n",
       " 64248,\n",
       " 64669,\n",
       " 64671,\n",
       " 64454,\n",
       " 64189,\n",
       " 64125,\n",
       " 64709,\n",
       " 64710,\n",
       " 64124,\n",
       " 64123,\n",
       " 64122,\n",
       " 64711,\n",
       " 64121,\n",
       " 64712,\n",
       " 64120,\n",
       " 64119,\n",
       " 64118,\n",
       " 64713,\n",
       " 64714,\n",
       " 64715,\n",
       " 64716,\n",
       " 64717,\n",
       " 64126,\n",
       " 64127,\n",
       " 64128,\n",
       " 64135,\n",
       " 64704,\n",
       " 64705,\n",
       " 64140,\n",
       " 64139,\n",
       " 64138,\n",
       " 64137,\n",
       " 64136,\n",
       " 64134,\n",
       " 64129,\n",
       " 64133,\n",
       " 64132,\n",
       " 64706,\n",
       " 64131,\n",
       " 64707,\n",
       " 64708,\n",
       " 64130,\n",
       " 64117,\n",
       " 64718,\n",
       " 64116,\n",
       " 64097,\n",
       " 64727,\n",
       " 64102,\n",
       " 64101,\n",
       " 64100,\n",
       " 64099,\n",
       " 64728,\n",
       " 64098,\n",
       " 64729,\n",
       " 64104,\n",
       " 64730,\n",
       " 64731,\n",
       " 64732,\n",
       " 64733,\n",
       " 64734,\n",
       " 64735,\n",
       " 64736,\n",
       " 64103,\n",
       " 64726,\n",
       " 64719,\n",
       " 64112,\n",
       " 64720,\n",
       " 64721,\n",
       " 64722,\n",
       " 64115,\n",
       " 64114,\n",
       " 64113,\n",
       " 64723,\n",
       " 64111,\n",
       " 64725,\n",
       " 64110,\n",
       " 64109,\n",
       " 64108,\n",
       " 64107,\n",
       " 64106,\n",
       " 64105,\n",
       " 64724,\n",
       " 64141,\n",
       " 64142,\n",
       " 64143,\n",
       " 64684,\n",
       " 64680,\n",
       " 64176,\n",
       " 64681,\n",
       " 64175,\n",
       " 64682,\n",
       " 64683,\n",
       " 64174,\n",
       " 64685,\n",
       " 64177,\n",
       " 64173,\n",
       " 64686,\n",
       " 64687,\n",
       " 64688,\n",
       " 64172,\n",
       " 64689,\n",
       " 64171,\n",
       " 64679,\n",
       " 64178,\n",
       " 64691,\n",
       " 64183,\n",
       " 64672,\n",
       " 64188,\n",
       " 64673,\n",
       " 64187,\n",
       " 64186,\n",
       " 64185,\n",
       " 64184,\n",
       " 64674,\n",
       " 64179,\n",
       " 64675,\n",
       " 64182,\n",
       " 64181,\n",
       " 64676,\n",
       " 64677,\n",
       " 64180,\n",
       " 64678,\n",
       " 64690,\n",
       " 64692,\n",
       " 64144,\n",
       " 64150,\n",
       " 64699,\n",
       " 64155,\n",
       " 64154,\n",
       " 64153,\n",
       " 64152,\n",
       " 64151,\n",
       " 64700,\n",
       " 64701,\n",
       " 64157,\n",
       " 64149,\n",
       " 64702,\n",
       " 64148,\n",
       " 64147,\n",
       " 64146,\n",
       " 64703,\n",
       " 64145,\n",
       " 64156,\n",
       " 64158,\n",
       " 64170,\n",
       " 64164,\n",
       " 64169,\n",
       " 64168,\n",
       " 64167,\n",
       " 64166,\n",
       " 64693,\n",
       " 64165,\n",
       " 64694,\n",
       " 64163,\n",
       " 64698,\n",
       " 64695,\n",
       " 64162,\n",
       " 64161,\n",
       " 64160,\n",
       " 64159,\n",
       " 64696,\n",
       " 64697,\n",
       " 64596,\n",
       " 64275,\n",
       " 64276,\n",
       " 64595,\n",
       " 64401,\n",
       " 64400,\n",
       " 64399,\n",
       " 64398,\n",
       " 64504,\n",
       " 64397,\n",
       " 64396,\n",
       " 64505,\n",
       " 64395,\n",
       " 64506,\n",
       " 64394,\n",
       " 64507,\n",
       " 64393,\n",
       " 64508,\n",
       " 64392,\n",
       " 64509,\n",
       " 64510,\n",
       " 64503,\n",
       " 64502,\n",
       " 64501,\n",
       " 64406,\n",
       " 64493,\n",
       " 64494,\n",
       " 64410,\n",
       " 64495,\n",
       " 64409,\n",
       " 64408,\n",
       " 64407,\n",
       " 64405,\n",
       " 64402,\n",
       " 64496,\n",
       " 64497,\n",
       " 64404,\n",
       " 64498,\n",
       " 64499,\n",
       " 64500,\n",
       " 64403,\n",
       " 64391,\n",
       " 64390,\n",
       " 64389,\n",
       " 64514,\n",
       " 64371,\n",
       " 64370,\n",
       " 64369,\n",
       " 64368,\n",
       " 64367,\n",
       " 64366,\n",
       " 64365,\n",
       " 64515,\n",
       " 64513,\n",
       " 64364,\n",
       " 64516,\n",
       " 64517,\n",
       " 64363,\n",
       " 64362,\n",
       " 64518,\n",
       " 64519,\n",
       " 64372,\n",
       " 64373,\n",
       " 64511,\n",
       " 64512,\n",
       " 64095,\n",
       " 64388,\n",
       " 64387,\n",
       " 64386,\n",
       " 64385,\n",
       " 64384,\n",
       " 64383,\n",
       " 64382,\n",
       " 64374,\n",
       " 64381,\n",
       " 64380,\n",
       " 64379,\n",
       " 64378,\n",
       " 64377,\n",
       " 64376,\n",
       " 64375,\n",
       " 64492,\n",
       " 64411,\n",
       " 64412,\n",
       " 64442,\n",
       " 64445,\n",
       " 64468,\n",
       " 64469,\n",
       " 64470,\n",
       " 64444,\n",
       " 64443,\n",
       " 64471,\n",
       " 64441,\n",
       " 64466,\n",
       " 64440,\n",
       " 64439,\n",
       " 64472,\n",
       " 64473,\n",
       " 64474,\n",
       " 64475,\n",
       " 64476,\n",
       " 64467,\n",
       " 64446,\n",
       " 64477,\n",
       " 64449,\n",
       " 64452,\n",
       " 64455,\n",
       " 64451,\n",
       " 64450,\n",
       " 64456,\n",
       " 64457,\n",
       " 64458,\n",
       " 64459,\n",
       " 64465,\n",
       " 64460,\n",
       " 64448,\n",
       " 64447,\n",
       " 64461,\n",
       " 64462,\n",
       " 64463,\n",
       " 64464,\n",
       " 64438,\n",
       " 64478,\n",
       " 64413,\n",
       " 64421,\n",
       " 64425,\n",
       " 64488,\n",
       " 64424,\n",
       " 64489,\n",
       " 64423,\n",
       " 64422,\n",
       " 64490,\n",
       " 64420,\n",
       " 64487,\n",
       " 64419,\n",
       " 64491,\n",
       " 64418,\n",
       " 64417,\n",
       " 64416,\n",
       " 64415,\n",
       " 64414,\n",
       " 64426,\n",
       " 64486,\n",
       " 64479,\n",
       " 64482,\n",
       " 64480,\n",
       " 64437,\n",
       " 64436,\n",
       " 64435,\n",
       " 64434,\n",
       " 64481,\n",
       " 64433,\n",
       " 64432,\n",
       " 64485,\n",
       " 64483,\n",
       " 64431,\n",
       " 64484,\n",
       " 64430,\n",
       " 64429,\n",
       " 64428,\n",
       " 64427,\n",
       " 64361,\n",
       " 64360,\n",
       " 64359,\n",
       " 64307,\n",
       " 64574,\n",
       " 64311,\n",
       " 64310,\n",
       " 64575,\n",
       " 64309,\n",
       " 64308,\n",
       " 64576,\n",
       " 64306,\n",
       " 64312,\n",
       " 64305,\n",
       " 64577,\n",
       " 64578,\n",
       " 64304,\n",
       " 64303,\n",
       " 64579,\n",
       " 64302,\n",
       " 64573,\n",
       " 64572,\n",
       " 64301,\n",
       " 64569,\n",
       " 64565,\n",
       " 64566,\n",
       " 64322,\n",
       " 64321,\n",
       " 64320,\n",
       " 64567,\n",
       " 64568,\n",
       " 64319,\n",
       " 64313,\n",
       " 64570,\n",
       " 64318,\n",
       " 64317,\n",
       " 64316,\n",
       " 64315,\n",
       " 64314,\n",
       " 64571,\n",
       " 64580,\n",
       " 64581,\n",
       " 64323,\n",
       " 64592,\n",
       " 64590,\n",
       " 64591,\n",
       " 64287,\n",
       " 64286,\n",
       " 64285,\n",
       " 64284,\n",
       " 64283,\n",
       " 64282,\n",
       " 64589,\n",
       " 64281,\n",
       " 64280,\n",
       " 64279,\n",
       " 64278,\n",
       " 64593,\n",
       " 64594,\n",
       " 64277,\n",
       " 64288,\n",
       " 64588,\n",
       " 64582,\n",
       " 64296,\n",
       " 64300,\n",
       " 64583,\n",
       " 64299,\n",
       " 64584,\n",
       " 64585,\n",
       " 64298,\n",
       " 64297,\n",
       " 64586,\n",
       " 64289,\n",
       " 64295,\n",
       " 64294,\n",
       " 64293,\n",
       " 64292,\n",
       " 64291,\n",
       " 64290,\n",
       " 64587,\n",
       " 64564,\n",
       " 64563,\n",
       " 64520,\n",
       " 64344,\n",
       " 64347,\n",
       " 64346,\n",
       " 64530,\n",
       " 64531,\n",
       " 64532,\n",
       " 64345,\n",
       " 64533,\n",
       " 64534,\n",
       " 64349,\n",
       " 64343,\n",
       " 64342,\n",
       " 64535,\n",
       " 64341,\n",
       " 64536,\n",
       " 64537,\n",
       " 64340,\n",
       " 64348,\n",
       " 64350,\n",
       " 64338,\n",
       " 64355,\n",
       " 64358,\n",
       " 64521,\n",
       " 64522,\n",
       " 64523,\n",
       " 64357,\n",
       " 64524,\n",
       " 64356,\n",
       " 64525,\n",
       " 64529,\n",
       " 64526,\n",
       " 64527,\n",
       " 64354,\n",
       " 64528,\n",
       " 64353,\n",
       " 64352,\n",
       " 64351,\n",
       " 64339,\n",
       " 64538,\n",
       " 64562,\n",
       " 64556,\n",
       " 64550,\n",
       " 64551,\n",
       " 64552,\n",
       " 64327,\n",
       " 64553,\n",
       " 64554,\n",
       " 64555,\n",
       " 64557,\n",
       " 64328,\n",
       " 64558,\n",
       " 64559,\n",
       " 64326,\n",
       " 64560,\n",
       " 64325,\n",
       " 64324,\n",
       " 64561,\n",
       " 64549,\n",
       " 64548,\n",
       " 64539,\n",
       " 64543,\n",
       " 64337,\n",
       " 64540,\n",
       " 64541,\n",
       " 64336,\n",
       " 64335,\n",
       " 64542,\n",
       " 64334,\n",
       " 64544,\n",
       " 64329,\n",
       " 64333,\n",
       " 64545,\n",
       " 64332,\n",
       " 64331,\n",
       " 64330,\n",
       " 64546,\n",
       " 64547,\n",
       " 64096,\n",
       " 63828,\n",
       " 64094,\n",
       " 63573,\n",
       " 63571,\n",
       " 63570,\n",
       " 63569,\n",
       " 63568,\n",
       " 63567,\n",
       " 63566,\n",
       " 63565,\n",
       " 63564,\n",
       " 63563,\n",
       " 63562,\n",
       " 63561,\n",
       " 63560,\n",
       " 63559,\n",
       " 63558,\n",
       " 63557,\n",
       " 63556,\n",
       " 63555,\n",
       " 63554,\n",
       " 63553,\n",
       " 63552,\n",
       " 63551,\n",
       " 63572,\n",
       " 63574,\n",
       " 63549,\n",
       " 63575,\n",
       " 63596,\n",
       " 63595,\n",
       " 63594,\n",
       " 63593,\n",
       " 63592,\n",
       " 63591,\n",
       " 63590,\n",
       " 63589,\n",
       " 63588,\n",
       " 63587,\n",
       " 63586,\n",
       " 63585,\n",
       " 63584,\n",
       " 63583,\n",
       " 63582,\n",
       " 63581,\n",
       " 63580,\n",
       " 63579,\n",
       " 63578,\n",
       " 63577,\n",
       " 63576,\n",
       " 63550,\n",
       " 63548,\n",
       " 63499,\n",
       " 63523,\n",
       " 63521,\n",
       " 63520,\n",
       " 63519,\n",
       " 63518,\n",
       " 63517,\n",
       " 63516,\n",
       " 63515,\n",
       " 63514,\n",
       " 63513,\n",
       " 63512,\n",
       " 63511,\n",
       " 63510,\n",
       " 63509,\n",
       " 63508,\n",
       " 63507,\n",
       " 63506,\n",
       " 63505,\n",
       " 63504,\n",
       " 63503,\n",
       " 63502,\n",
       " 63501,\n",
       " 63522,\n",
       " 63524,\n",
       " 63547,\n",
       " 63525,\n",
       " 63546,\n",
       " 63545,\n",
       " 63544,\n",
       " 63543,\n",
       " 63542,\n",
       " 63541,\n",
       " 63540,\n",
       " 63539,\n",
       " 63538,\n",
       " 63537,\n",
       " 63536,\n",
       " 63535,\n",
       " 63534,\n",
       " 63533,\n",
       " 63532,\n",
       " 63531,\n",
       " 63530,\n",
       " 63529,\n",
       " 63528,\n",
       " 63527,\n",
       " 63526,\n",
       " 63597,\n",
       " 63598,\n",
       " 63599,\n",
       " 63672,\n",
       " 63670,\n",
       " 63669,\n",
       " 63668,\n",
       " 63667,\n",
       " 63666,\n",
       " 63665,\n",
       " 63664,\n",
       " 63663,\n",
       " 63662,\n",
       " 63661,\n",
       " 63660,\n",
       " 63659,\n",
       " 63658,\n",
       " 63657,\n",
       " 63656,\n",
       " 63655,\n",
       " 63654,\n",
       " 63653,\n",
       " 63652,\n",
       " 63651,\n",
       " 63650,\n",
       " 63671,\n",
       " 63673,\n",
       " 63600,\n",
       " 63674,\n",
       " 63695,\n",
       " 63694,\n",
       " 63693,\n",
       " 63692,\n",
       " 63691,\n",
       " 63690,\n",
       " 63689,\n",
       " 63688,\n",
       " 63687,\n",
       " 63686,\n",
       " 63685,\n",
       " 63684,\n",
       " 63683,\n",
       " 63682,\n",
       " 63681,\n",
       " 63680,\n",
       " 63679,\n",
       " 63678,\n",
       " 63677,\n",
       " 63676,\n",
       " 63675,\n",
       " 63649,\n",
       " 63648,\n",
       " 63647,\n",
       " 63646,\n",
       " 63621,\n",
       " 63620,\n",
       " 63619,\n",
       " 63618,\n",
       " 63617,\n",
       " 63616,\n",
       " 63615,\n",
       " 63614,\n",
       " 63613,\n",
       " 63612,\n",
       " 63611,\n",
       " 63610,\n",
       " 63609,\n",
       " 63608,\n",
       " 63607,\n",
       " 63606,\n",
       " 63605,\n",
       " 63604,\n",
       " 63603,\n",
       " 63602,\n",
       " 63601,\n",
       " 63622,\n",
       " 63623,\n",
       " 63624,\n",
       " 63636,\n",
       " 63645,\n",
       " 63644,\n",
       " 63643,\n",
       " 63642,\n",
       " 63641,\n",
       " 63640,\n",
       " 63639,\n",
       " 63638,\n",
       " 63637,\n",
       " 63635,\n",
       " 63625,\n",
       " 63634,\n",
       " 63633,\n",
       " 63632,\n",
       " 63631,\n",
       " 63630,\n",
       " 63629,\n",
       " 63628,\n",
       " 63627,\n",
       " 63626,\n",
       " 63500,\n",
       " 63498,\n",
       " 64093,\n",
       " 63374,\n",
       " 63372,\n",
       " 63371,\n",
       " 63370,\n",
       " 63369,\n",
       " 63368,\n",
       " 63367,\n",
       " 63366,\n",
       " 63365,\n",
       " 63364,\n",
       " 63363,\n",
       " 63362,\n",
       " 63361,\n",
       " 63360,\n",
       " 63359,\n",
       " 63358,\n",
       " 63357,\n",
       " 63356,\n",
       " 63355,\n",
       " 63354,\n",
       " 63353,\n",
       " 63352,\n",
       " 63373,\n",
       " 63375,\n",
       " 63350,\n",
       " 63376,\n",
       " 63397,\n",
       " 63396,\n",
       " 63395,\n",
       " 63394,\n",
       " 63393,\n",
       " 63392,\n",
       " 63391,\n",
       " 63390,\n",
       " 63389,\n",
       " 63388,\n",
       " 63387,\n",
       " 63386,\n",
       " 63385,\n",
       " 63384,\n",
       " 63383,\n",
       " 63382,\n",
       " 63381,\n",
       " 63380,\n",
       " 63379,\n",
       " 63378,\n",
       " 63377,\n",
       " 63351,\n",
       " 63349,\n",
       " 63497,\n",
       " 63324,\n",
       " 63322,\n",
       " 63321,\n",
       " 63320,\n",
       " 63319,\n",
       " 63318,\n",
       " 63317,\n",
       " 63316,\n",
       " 63315,\n",
       " 63314,\n",
       " 63313,\n",
       " 63312,\n",
       " 63311,\n",
       " 63310,\n",
       " 63309,\n",
       " 63308,\n",
       " 63307,\n",
       " 63306,\n",
       " 63305,\n",
       " 63304,\n",
       " 63303,\n",
       " 63302,\n",
       " 63323,\n",
       " 63325,\n",
       " 63348,\n",
       " 63326,\n",
       " 63347,\n",
       " 63346,\n",
       " 63345,\n",
       " 63344,\n",
       " 63343,\n",
       " 63342,\n",
       " 63341,\n",
       " 63340,\n",
       " 63339,\n",
       " 63338,\n",
       " 63337,\n",
       " 63336,\n",
       " 63335,\n",
       " 63334,\n",
       " 63333,\n",
       " 63332,\n",
       " 63331,\n",
       " 63330,\n",
       " 63329,\n",
       " 63328,\n",
       " 63327,\n",
       " 63398,\n",
       " 63399,\n",
       " 63400,\n",
       " 63473,\n",
       " 63471,\n",
       " 63470,\n",
       " 63469,\n",
       " 63468,\n",
       " 63467,\n",
       " 63466,\n",
       " 63465,\n",
       " 63464,\n",
       " 63463,\n",
       " 63462,\n",
       " 63461,\n",
       " 63460,\n",
       " 63459,\n",
       " 63458,\n",
       " 63457,\n",
       " 63456,\n",
       " 63455,\n",
       " 63454,\n",
       " 63453,\n",
       " 63452,\n",
       " ...]"
      ]
     },
     "execution_count": 38,
     "metadata": {},
     "output_type": "execute_result"
    }
   ],
   "source": [
    "pogo.candidates_"
   ]
  },
  {
   "cell_type": "code",
   "execution_count": 39,
   "metadata": {},
   "outputs": [
    {
     "data": {
      "text/plain": [
       "[<matplotlib.lines.Line2D at 0x7f10378a4610>]"
      ]
     },
     "execution_count": 39,
     "metadata": {},
     "output_type": "execute_result"
    },
    {
     "data": {
      "image/png": "[encoded data removed]",
      "text/plain": [
       "<Figure size 432x288 with 1 Axes>"
      ]
     },
     "metadata": {
      "needs_background": "light"
     },
     "output_type": "display_data"
    }
   ],
   "source": [
    "plt.plot(pogo.gap_vector_)"
   ]
  },
  {
   "cell_type": "code",
   "execution_count": 40,
   "metadata": {},
   "outputs": [
    {
     "name": "stdout",
     "output_type": "stream",
     "text": [
      "Maximum Silhouette: 41941\n"
     ]
    },
    {
     "data": {
      "image/png": "[encoded data removed]",
      "text/plain": [
       "<Figure size 432x288 with 1 Axes>"
      ]
     },
     "metadata": {
      "needs_background": "light"
     },
     "output_type": "display_data"
    }
   ],
   "source": [
    "silhouette_indices, silhouette_array = pogo.plot_silhouette()"
   ]
  },
  {
   "cell_type": "code",
   "execution_count": 41,
   "metadata": {},
   "outputs": [
    {
     "name": "stdout",
     "output_type": "stream",
     "text": [
      "Maximum Silhouette Score: 41941\n"
     ]
    },
    {
     "data": {
      "image/png": "[encoded data removed]",
      "text/plain": [
       "<Figure size 432x288 with 1 Axes>"
      ]
     },
     "metadata": {
      "needs_background": "light"
     },
     "output_type": "display_data"
    }
   ],
   "source": [
    "score_indices, score_array = pogo.plot_silhouette_score()"
   ]
  },
  {
   "cell_type": "code",
   "execution_count": 42,
   "metadata": {},
   "outputs": [
    {
     "data": {
      "image/png": "[encoded data removed]",
      "text/plain": [
       "<Figure size 576x576 with 1 Axes>"
      ]
     },
     "metadata": {
      "needs_background": "light"
     },
     "output_type": "display_data"
    },
    {
     "data": {
      "text/plain": [
       "<matplotlib.collections.PathCollection at 0x7f102785b9d0>"
      ]
     },
     "execution_count": 42,
     "metadata": {},
     "output_type": "execute_result"
    }
   ],
   "source": [
    "pogo.plot(13636)"
   ]
  },
  {
   "cell_type": "code",
   "execution_count": 43,
   "metadata": {},
   "outputs": [
    {
     "name": "stdout",
     "output_type": "stream",
     "text": [
      "Maximum Rand Score: 41941\n"
     ]
    },
    {
     "data": {
      "image/png": "[encoded data removed]",
      "text/plain": [
       "<Figure size 432x288 with 1 Axes>"
      ]
     },
     "metadata": {
      "needs_background": "light"
     },
     "output_type": "display_data"
    }
   ],
   "source": [
    "rand_indices, rand_array = pogo.plot_rand_score(ground_truth)\n"
   ]
  },
  {
   "cell_type": "code",
   "execution_count": 44,
   "metadata": {},
   "outputs": [
    {
     "data": {
      "text/plain": [
       "0.9466117161685742"
      ]
     },
     "execution_count": 44,
     "metadata": {},
     "output_type": "execute_result"
    }
   ],
   "source": [
    "max(rand_array)"
   ]
  },
  {
   "cell_type": "code",
   "execution_count": 45,
   "metadata": {},
   "outputs": [
    {
     "data": {
      "text/plain": [
       "<matplotlib.collections.PathCollection at 0x7f1027745d90>"
      ]
     },
     "execution_count": 45,
     "metadata": {},
     "output_type": "execute_result"
    },
    {
     "data": {
      "image/png": "[encoded data removed]",
      "text/plain": [
       "<Figure size 432x288 with 1 Axes>"
      ]
     },
     "metadata": {
      "needs_background": "light"
     },
     "output_type": "display_data"
    }
   ],
   "source": [
    "plt.scatter(umap_embedding_33d[:,0],umap_embedding_33d[:,1],c=ground_truth)"
   ]
  },
  {
   "cell_type": "code",
   "execution_count": null,
   "metadata": {},
   "outputs": [],
   "source": []
  }
 ],
 "metadata": {
  "kernelspec": {
   "display_name": "Python 3",
   "language": "python",
   "name": "python3"
  },
  "language_info": {
   "codemirror_mode": {
    "name": "ipython",
    "version": 3
   },
   "file_extension": ".py",
   "mimetype": "text/x-python",
   "name": "python",
   "nbconvert_exporter": "python",
   "pygments_lexer": "ipython3",
   "version": "3.8.10"
  }
 },
 "nbformat": 4,
 "nbformat_minor": 4
}
