{
 "cells": [
  {
   "cell_type": "code",
   "execution_count": 1,
   "metadata": {},
   "outputs": [
    {
     "name": "stderr",
     "output_type": "stream",
     "text": [
      "/home/a/Desktop/ds/env/lib/python3.8/site-packages/dask/dataframe/utils.py:367: FutureWarning: pandas.Int64Index is deprecated and will be removed from pandas in a future version. Use pandas.Index with the appropriate dtype instead.\n",
      "  _numeric_index_types = (pd.Int64Index, pd.Float64Index, pd.UInt64Index)\n",
      "/home/a/Desktop/ds/env/lib/python3.8/site-packages/dask/dataframe/utils.py:367: FutureWarning: pandas.Float64Index is deprecated and will be removed from pandas in a future version. Use pandas.Index with the appropriate dtype instead.\n",
      "  _numeric_index_types = (pd.Int64Index, pd.Float64Index, pd.UInt64Index)\n",
      "/home/a/Desktop/ds/env/lib/python3.8/site-packages/dask/dataframe/utils.py:367: FutureWarning: pandas.UInt64Index is deprecated and will be removed from pandas in a future version. Use pandas.Index with the appropriate dtype instead.\n",
      "  _numeric_index_types = (pd.Int64Index, pd.Float64Index, pd.UInt64Index)\n",
      "WARNING:param.Parameterized: Use method 'warning' via param namespace \n",
      "WARNING:param.main: pandas could not register all extension types imports failed with the following error: cannot import name 'ABCIndexClass' from 'pandas.core.dtypes.generic' (/home/a/Desktop/ds/env/lib/python3.8/site-packages/pandas/core/dtypes/generic.py)\n"
     ]
    }
   ],
   "source": [
    "import numpy as np\n",
    "import h5py\n",
    "import matplotlib.pyplot as plt\n",
    "import gudhi\n",
    "from pogo import Pogo\n",
    "from scipy.sparse import csr_matrix\n",
    "from scipy.spatial.distance import pdist\n",
    "from scipy.spatial.distance import squareform\n",
    "from umap import UMAP,plot\n",
    "from sklearn.decomposition import PCA\n",
    "from sklearn.decomposition import KernelPCA\n",
    "\n",
    "from scipy.spatial.distance import is_valid_dm\n",
    "import seaborn as sns#; sns.set_theme()\n"
   ]
  },
  {
   "cell_type": "code",
   "execution_count": 2,
   "metadata": {},
   "outputs": [],
   "source": [
    "pogo=Pogo()"
   ]
  },
  {
   "cell_type": "code",
   "execution_count": 3,
   "metadata": {},
   "outputs": [],
   "source": [
    "hf = h5py.File('Quake_Smart-seq2_Diaphragm/data.h5', 'r')"
   ]
  },
  {
   "cell_type": "code",
   "execution_count": 4,
   "metadata": {},
   "outputs": [
    {
     "data": {
      "text/plain": [
       "<KeysViewHDF5 ['exprs', 'obs', 'obs_names', 'uns', 'var', 'var_names']>"
      ]
     },
     "execution_count": 4,
     "metadata": {},
     "output_type": "execute_result"
    }
   ],
   "source": [
    "hf.keys()"
   ]
  },
  {
   "cell_type": "code",
   "execution_count": 5,
   "metadata": {},
   "outputs": [
    {
     "data": {
      "text/plain": [
       "array(['data', 'indices', 'indptr', 'shape'], dtype='<U7')"
      ]
     },
     "execution_count": 5,
     "metadata": {},
     "output_type": "execute_result"
    }
   ],
   "source": [
    "exprs = hf.get('exprs')\n",
    "np.array(exprs)"
   ]
  },
  {
   "cell_type": "code",
   "execution_count": 6,
   "metadata": {},
   "outputs": [
    {
     "data": {
      "text/plain": [
       "array(['cell_ontology_class', 'cell_ontology_id', 'cell_type1', 'channel',\n",
       "       'cluster', 'dataset_name', 'donor', 'free_annotation', 'gender',\n",
       "       'organ', 'organism', 'platform', 'region'], dtype='<U19')"
      ]
     },
     "execution_count": 6,
     "metadata": {},
     "output_type": "execute_result"
    }
   ],
   "source": [
    "obs = hf.get('obs')\n",
    "np.array(obs)"
   ]
  },
  {
   "cell_type": "code",
   "execution_count": 7,
   "metadata": {},
   "outputs": [
    {
     "data": {
      "text/plain": [
       "(870,)"
      ]
     },
     "execution_count": 7,
     "metadata": {},
     "output_type": "execute_result"
    }
   ],
   "source": [
    "ground_truth = np.array(obs.get('cluster'))\n",
    "ground_truth.shape"
   ]
  },
  {
   "cell_type": "code",
   "execution_count": 8,
   "metadata": {},
   "outputs": [
    {
     "data": {
      "text/plain": [
       "array(['expressed_genes', 'scmap_genes', 'seurat_genes'], dtype='<U15')"
      ]
     },
     "execution_count": 8,
     "metadata": {},
     "output_type": "execute_result"
    }
   ],
   "source": [
    "uns = hf.get('uns')\n",
    "np.array(uns)"
   ]
  },
  {
   "cell_type": "code",
   "execution_count": 9,
   "metadata": {},
   "outputs": [],
   "source": [
    "data = np.array(exprs.get('data'))"
   ]
  },
  {
   "cell_type": "code",
   "execution_count": 10,
   "metadata": {},
   "outputs": [],
   "source": [
    "num_rows = np.array(exprs.get('shape'))[0]\n",
    "num_columns = np.array(exprs.get('shape'))[1]"
   ]
  },
  {
   "cell_type": "code",
   "execution_count": 11,
   "metadata": {},
   "outputs": [
    {
     "name": "stdout",
     "output_type": "stream",
     "text": [
      "870\n",
      "23341\n"
     ]
    }
   ],
   "source": [
    "print(num_rows)\n",
    "print(num_columns)"
   ]
  },
  {
   "cell_type": "code",
   "execution_count": 12,
   "metadata": {},
   "outputs": [],
   "source": [
    "indices = np.array(exprs.get('indices'))"
   ]
  },
  {
   "cell_type": "code",
   "execution_count": 13,
   "metadata": {},
   "outputs": [],
   "source": [
    "indptr = np.array(exprs.get('indptr'))"
   ]
  },
  {
   "cell_type": "code",
   "execution_count": 14,
   "metadata": {},
   "outputs": [],
   "source": [
    "matrix = csr_matrix((data, indices, indptr), shape=(num_rows, num_columns)).toarray()"
   ]
  },
  {
   "cell_type": "code",
   "execution_count": 15,
   "metadata": {},
   "outputs": [
    {
     "data": {
      "text/plain": [
       "array([[  0.,   0.,   0., ...,   0.,   0.,   0.],\n",
       "       [  0.,   0.,   0., ...,   0.,   0.,   0.],\n",
       "       [  0.,   0.,   0., ...,   0., 101.,   0.],\n",
       "       ...,\n",
       "       [  0.,   0.,   0., ...,   0.,   0.,   0.],\n",
       "       [  0.,   0.,   0., ...,   0.,   0.,   0.],\n",
       "       [  0.,  67.,   0., ...,   0.,   0.,   0.]])"
      ]
     },
     "execution_count": 15,
     "metadata": {},
     "output_type": "execute_result"
    }
   ],
   "source": [
    "matrix"
   ]
  },
  {
   "cell_type": "code",
   "execution_count": 16,
   "metadata": {},
   "outputs": [
    {
     "data": {
      "text/plain": [
       "PCA(n_components=2, random_state=0)"
      ]
     },
     "execution_count": 16,
     "metadata": {},
     "output_type": "execute_result"
    }
   ],
   "source": [
    "pca = PCA(n_components=2, random_state=0)\n",
    "pca.fit(matrix)"
   ]
  },
  {
   "cell_type": "code",
   "execution_count": 17,
   "metadata": {},
   "outputs": [
    {
     "data": {
      "image/png": "[encoded data removed]",
      "text/plain": [
       "<Figure size 576x576 with 1 Axes>"
      ]
     },
     "metadata": {
      "needs_background": "light"
     },
     "output_type": "display_data"
    }
   ],
   "source": [
    "X=pca.components_.T[:,0]\n",
    "y=pca.components_.T[:,1]\n",
    "plt.figure(figsize=(8,8))\n",
    "scatter = plt.scatter(X,y,\n",
    "            s=40, \n",
    "            #c=c,\n",
    "            marker=\"o\",\n",
    "            #cmap=cmap,\n",
    "            norm=None,\n",
    "            alpha=.8,\n",
    "            edgecolor=\"k\",\n",
    "            vmin = 0)\n",
    "\n",
    "plt.show()"
   ]
  },
  {
   "cell_type": "code",
   "execution_count": null,
   "metadata": {},
   "outputs": [],
   "source": []
  },
  {
   "cell_type": "code",
   "execution_count": 18,
   "metadata": {},
   "outputs": [],
   "source": [
    "Y = pdist(matrix, 'correlation')"
   ]
  },
  {
   "cell_type": "code",
   "execution_count": 19,
   "metadata": {},
   "outputs": [
    {
     "data": {
      "text/plain": [
       "(378015,)"
      ]
     },
     "execution_count": 19,
     "metadata": {},
     "output_type": "execute_result"
    }
   ],
   "source": [
    "Y.shape"
   ]
  },
  {
   "cell_type": "code",
   "execution_count": 20,
   "metadata": {},
   "outputs": [],
   "source": [
    "mdist = squareform(Y, force='no', checks=True)"
   ]
  },
  {
   "cell_type": "code",
   "execution_count": 21,
   "metadata": {},
   "outputs": [
    {
     "data": {
      "text/plain": [
       "(870, 870)"
      ]
     },
     "execution_count": 21,
     "metadata": {},
     "output_type": "execute_result"
    }
   ],
   "source": [
    "mdist.shape"
   ]
  },
  {
   "cell_type": "code",
   "execution_count": 22,
   "metadata": {},
   "outputs": [
    {
     "data": {
      "text/plain": [
       "array([[0.        , 0.2481567 , 0.40205085, ..., 0.22494164, 0.23790942,\n",
       "        0.22910211],\n",
       "       [0.2481567 , 0.        , 0.11709152, ..., 0.14066171, 0.15410543,\n",
       "        0.13934981],\n",
       "       [0.40205085, 0.11709152, 0.        , ..., 0.33600546, 0.34593477,\n",
       "        0.33774251],\n",
       "       ...,\n",
       "       [0.22494164, 0.14066171, 0.33600546, ..., 0.        , 0.06431486,\n",
       "        0.06122598],\n",
       "       [0.23790942, 0.15410543, 0.34593477, ..., 0.06431486, 0.        ,\n",
       "        0.08066253],\n",
       "       [0.22910211, 0.13934981, 0.33774251, ..., 0.06122598, 0.08066253,\n",
       "        0.        ]])"
      ]
     },
     "execution_count": 22,
     "metadata": {},
     "output_type": "execute_result"
    }
   ],
   "source": [
    "mdist"
   ]
  },
  {
   "cell_type": "code",
   "execution_count": 23,
   "metadata": {},
   "outputs": [
    {
     "data": {
      "text/plain": [
       "True"
      ]
     },
     "execution_count": 23,
     "metadata": {},
     "output_type": "execute_result"
    }
   ],
   "source": [
    "is_valid_dm(mdist)"
   ]
  },
  {
   "cell_type": "code",
   "execution_count": 24,
   "metadata": {},
   "outputs": [],
   "source": [
    "#Heatmap\n",
    "\n",
    "#ax = sns.heatmap(mdist,cmap='Spectral')#, vmin=0, vmax=1, center=0.8)\n",
    "\n",
    "#plt.title('Heatmap')\n",
    "#plt.savefig('heatmap',dpi=100)"
   ]
  },
  {
   "cell_type": "code",
   "execution_count": null,
   "metadata": {},
   "outputs": [],
   "source": []
  },
  {
   "cell_type": "code",
   "execution_count": 25,
   "metadata": {},
   "outputs": [],
   "source": [
    "negmdist = np.negative(mdist)\n",
    "similarity_matrix  = np.exp(negmdist)\n",
    "kpca_2d_model = KernelPCA(n_components=2, kernel='precomputed',random_state=42)\n",
    "kpca2 = kpca_2d_model.fit_transform(similarity_matrix)\n",
    "X = kpca2[:,0]\n",
    "y = kpca2[:,1]"
   ]
  },
  {
   "cell_type": "code",
   "execution_count": 26,
   "metadata": {},
   "outputs": [
    {
     "data": {
      "text/plain": [
       "<matplotlib.collections.PathCollection at 0x7f0eafabe2b0>"
      ]
     },
     "execution_count": 26,
     "metadata": {},
     "output_type": "execute_result"
    },
    {
     "data": {
      "image/png": "[encoded data removed]",
      "text/plain": [
       "<Figure size 432x288 with 1 Axes>"
      ]
     },
     "metadata": {
      "needs_background": "light"
     },
     "output_type": "display_data"
    }
   ],
   "source": [
    "plt.scatter(X,y,c=ground_truth)"
   ]
  },
  {
   "cell_type": "code",
   "execution_count": 27,
   "metadata": {},
   "outputs": [
    {
     "name": "stderr",
     "output_type": "stream",
     "text": [
      "/home/a/Desktop/ds/env/lib/python3.8/site-packages/umap/umap_.py:1503: UserWarning: using precomputed metric; transform will be unavailable for new data and inverse_transform will be unavailable for all data\n",
      "  warn(\n"
     ]
    },
    {
     "data": {
      "text/plain": [
       "Text(0.5, 1.0, 'Unlabeled UMAP Embedding in 2D')"
      ]
     },
     "execution_count": 27,
     "metadata": {},
     "output_type": "execute_result"
    },
    {
     "data": {
      "image/png": "[encoded data removed]",
      "text/plain": [
       "<Figure size 800x800 with 1 Axes>"
      ]
     },
     "metadata": {},
     "output_type": "display_data"
    }
   ],
   "source": [
    "#Create 2-d umap dimensionality reduction embedding to visualize unsupervised models\n",
    "umap_model_2d = UMAP(metric='precomputed',min_dist=0.0001,n_neighbors=4)\n",
    "umap_embedding = umap_model_2d.fit_transform(mdist)\n",
    "plot.points(umap_model_2d,labels=ground_truth)\n",
    "\n",
    "plt.title('Unlabeled UMAP Embedding in 2D')"
   ]
  },
  {
   "cell_type": "code",
   "execution_count": 28,
   "metadata": {},
   "outputs": [
    {
     "data": {
      "text/plain": [
       "(870, 2)"
      ]
     },
     "execution_count": 28,
     "metadata": {},
     "output_type": "execute_result"
    }
   ],
   "source": [
    "umap_embedding.shape"
   ]
  },
  {
   "cell_type": "code",
   "execution_count": 29,
   "metadata": {},
   "outputs": [
    {
     "data": {
      "text/plain": [
       "<matplotlib.collections.PathCollection at 0x7f0eacf18c10>"
      ]
     },
     "execution_count": 29,
     "metadata": {},
     "output_type": "execute_result"
    },
    {
     "data": {
      "image/png": "[encoded data removed]",
      "text/plain": [
       "<Figure size 432x288 with 1 Axes>"
      ]
     },
     "metadata": {
      "needs_background": "light"
     },
     "output_type": "display_data"
    }
   ],
   "source": [
    "plt.scatter(umap_embedding[:,0], umap_embedding[:,1],c=ground_truth)"
   ]
  },
  {
   "cell_type": "code",
   "execution_count": 30,
   "metadata": {},
   "outputs": [
    {
     "name": "stderr",
     "output_type": "stream",
     "text": [
      "/home/a/Desktop/ds/env/lib/python3.8/site-packages/umap/umap_.py:1503: UserWarning: using precomputed metric; transform will be unavailable for new data and inverse_transform will be unavailable for all data\n",
      "  warn(\n"
     ]
    }
   ],
   "source": [
    "umap_model_33d = UMAP(metric='precomputed',min_dist=0.0001,n_neighbors=4,n_components=33)\n",
    "umap_embedding_33d = umap_model_33d.fit_transform(mdist)"
   ]
  },
  {
   "cell_type": "code",
   "execution_count": 31,
   "metadata": {},
   "outputs": [
    {
     "name": "stderr",
     "output_type": "stream",
     "text": [
      "usetex mode requires TeX.\n"
     ]
    },
    {
     "data": {
      "image/png": "[encoded data removed]",
      "text/plain": [
       "<Figure size 432x288 with 1 Axes>"
      ]
     },
     "metadata": {
      "needs_background": "light"
     },
     "output_type": "display_data"
    }
   ],
   "source": [
    "rips_complex = gudhi.RipsComplex(points=umap_embedding_33d)\n",
    "simplex_tree = rips_complex.create_simplex_tree(max_dimension=1)\n",
    "diag = simplex_tree.persistence()\n",
    "\n",
    "gudhi.plot_persistence_barcode(diag)\n",
    "plt.show()"
   ]
  },
  {
   "cell_type": "code",
   "execution_count": 32,
   "metadata": {},
   "outputs": [],
   "source": [
    "persistence_module = simplex_tree.persistence()"
   ]
  },
  {
   "cell_type": "code",
   "execution_count": 33,
   "metadata": {},
   "outputs": [
    {
     "data": {
      "image/png": "[encoded data removed]",
      "text/plain": [
       "<Figure size 432x288 with 1 Axes>"
      ]
     },
     "metadata": {
      "needs_background": "light"
     },
     "output_type": "display_data"
    }
   ],
   "source": [
    "ax = gudhi.plot_persistence_diagram(persistence=persistence_module)\n",
    "# We can modify the title, aspect, etc.\n",
    "ax.set_title(\"Persistence diagram of Diaphragm Cells\")\n",
    "ax.set_aspect(\"equal\")  # forces to be square shaped\n",
    "plt.show()"
   ]
  },
  {
   "cell_type": "code",
   "execution_count": 34,
   "metadata": {},
   "outputs": [
    {
     "data": {
      "image/png": "[encoded data removed]",
      "text/plain": [
       "<Figure size 576x576 with 1 Axes>"
      ]
     },
     "metadata": {
      "needs_background": "light"
     },
     "output_type": "display_data"
    },
    {
     "data": {
      "text/plain": [
       "<matplotlib.collections.PathCollection at 0x7f0eabf0b460>"
      ]
     },
     "execution_count": 34,
     "metadata": {},
     "output_type": "execute_result"
    }
   ],
   "source": [
    "\n",
    "pogo.fit(umap_embedding_33d)\n",
    "pogo.plot()"
   ]
  },
  {
   "cell_type": "code",
   "execution_count": 35,
   "metadata": {},
   "outputs": [
    {
     "data": {
      "text/plain": [
       "13103"
      ]
     },
     "execution_count": 35,
     "metadata": {},
     "output_type": "execute_result"
    }
   ],
   "source": [
    "pogo.idx_"
   ]
  },
  {
   "cell_type": "code",
   "execution_count": 36,
   "metadata": {},
   "outputs": [
    {
     "data": {
      "text/plain": [
       "array([0, 1, 1, 0, 0, 2, 3, 0, 0, 0, 0, 0, 0, 0, 0, 0, 0, 0, 1, 0, 0, 0,\n",
       "       0, 0, 0, 0, 0, 1, 0, 1, 1, 4, 1, 1, 1, 4, 4, 0, 0, 0, 1, 1, 1, 4,\n",
       "       3, 4, 0, 2, 0, 0, 0, 0, 0, 1, 4, 4, 2, 0, 0, 0, 0, 0, 0, 0, 0, 0,\n",
       "       0, 0, 0, 1, 1, 1, 1, 0, 0, 0, 0, 0, 0, 0, 1, 1, 1, 1, 1, 4, 1, 1,\n",
       "       4, 4, 3, 2, 0, 0, 0, 0, 1, 1, 4, 2, 2, 2, 0, 0, 0, 0, 0, 0, 1, 4,\n",
       "       3, 2, 0, 0, 0, 0, 0, 0, 0, 0, 0, 0, 0, 1, 1, 0, 0, 0, 0, 0, 0, 0,\n",
       "       0, 1, 1, 1, 1, 4, 4, 1, 1, 4, 3, 2, 2, 0, 0, 1, 1, 4, 4, 2, 2, 3,\n",
       "       0, 0, 0, 0, 0, 0, 0, 1, 0, 3, 2, 0, 0, 0, 0, 0, 0, 0, 0, 5, 0, 0,\n",
       "       1, 0, 0, 0, 0, 0, 5, 0, 0, 1, 1, 1, 4, 4, 1, 1, 4, 4, 3, 2, 3, 0,\n",
       "       0, 0, 1, 1, 4, 0, 3, 3, 0, 0, 0, 0, 0, 0, 4, 4, 2, 0, 0, 0, 0, 0,\n",
       "       0, 0, 0, 0, 0, 0, 1, 1, 0, 0, 0, 0, 0, 0, 0, 0, 0, 1, 1, 1, 4, 4,\n",
       "       1, 1, 4, 4, 3, 2, 2, 0, 0, 1, 1, 4, 4, 3, 3, 0, 0, 0, 0, 0, 0, 0,\n",
       "       0, 0, 0, 4, 2, 2, 0, 0, 0, 0, 0, 0, 0, 0, 1, 0, 0, 0, 1, 1, 1, 4,\n",
       "       2, 1, 0, 4, 4, 0, 1, 1, 1, 0, 4, 0, 0, 0, 0, 4, 0, 0, 0, 2, 0, 1,\n",
       "       2, 0, 0, 0, 1, 4, 3, 2, 1, 0, 4, 0, 0, 0, 0, 0, 0, 0, 0, 0, 0, 0,\n",
       "       0, 0, 0, 0, 0, 0, 0, 0, 0, 0, 0, 0, 0, 0, 0, 0, 0, 0, 0, 0, 0, 0,\n",
       "       0, 0, 0, 0, 0, 0, 0, 0, 1, 0, 0, 0, 0, 0, 0, 0, 0, 0, 0, 0, 0, 1,\n",
       "       1, 2, 1, 1, 4, 2, 1, 1, 1, 1, 1, 2, 1, 1, 1, 1, 4, 2, 1, 1, 2, 2,\n",
       "       2, 1, 1, 1, 1, 1, 2, 3, 1, 2, 1, 1, 3, 1, 1, 1, 1, 1, 1, 2, 3, 2,\n",
       "       1, 2, 1, 1, 4, 2, 2, 1, 1, 4, 2, 3, 2, 1, 1, 4, 2, 2, 1, 1, 1, 2,\n",
       "       1, 1, 1, 2, 2, 1, 1, 0, 0, 0, 0, 0, 0, 1, 1, 1, 1, 0, 0, 0, 1, 1,\n",
       "       1, 1, 1, 0, 0, 0, 1, 1, 1, 1, 1, 1, 0, 0, 0, 1, 1, 0, 0, 0, 1, 1,\n",
       "       1, 1, 0, 0, 0, 0, 0, 0, 1, 1, 1, 0, 1, 1, 1, 0, 0, 0, 0, 0, 1, 1,\n",
       "       0, 0, 1, 1, 4, 0, 0, 0, 0, 0, 1, 2, 1, 0, 0, 0, 1, 0, 3, 0, 0, 0,\n",
       "       1, 1, 0, 0, 0, 1, 1, 0, 1, 1, 0, 1, 1, 0, 0, 0, 1, 0, 0, 0, 1, 1,\n",
       "       0, 0, 1, 1, 0, 0, 0, 0, 1, 1, 0, 0, 1, 0, 1, 0, 0, 1, 1, 1, 0, 0,\n",
       "       0, 1, 1, 1, 0, 0, 1, 0, 1, 1, 2, 2, 2, 2, 2, 2, 3, 2, 2, 2, 3, 3,\n",
       "       2, 3, 3, 2, 2, 2, 2, 2, 2, 2, 0, 0, 0, 0, 0, 0, 0, 0, 0, 0, 0, 0,\n",
       "       1, 1, 1, 1, 0, 0, 5, 0, 0, 0, 1, 1, 1, 1, 1, 0, 0, 0, 0, 1, 1, 1,\n",
       "       0, 0, 0, 0, 0, 0, 0, 0, 0, 1, 1, 0, 0, 0, 0, 0, 0, 1, 1, 1, 0, 0,\n",
       "       0, 0, 1, 1, 0, 0, 1, 0, 0, 0, 1, 1, 0, 0, 0, 1, 1, 1, 1, 0, 0, 0,\n",
       "       0, 0, 0, 0, 0, 1, 1, 1, 0, 0, 0, 0, 0, 0, 0, 0, 0, 0, 0, 0, 0, 0,\n",
       "       0, 1, 1, 0, 1, 1, 0, 0, 0, 0, 1, 1, 0, 0, 1, 1, 0, 0, 0, 0, 0, 0,\n",
       "       0, 0, 0, 0, 0, 0, 0, 0, 0, 0, 1, 1, 0, 1, 0, 0, 1, 1, 0, 0, 0, 0,\n",
       "       1, 1, 1, 0, 0, 0, 0, 0, 0, 0, 5, 0, 0, 1, 1, 0, 0, 0, 0, 0, 0, 0,\n",
       "       1, 1, 5, 0, 0, 0, 0, 0, 1, 0, 0, 1, 1, 0, 0, 0, 0, 0, 0, 0, 1, 1,\n",
       "       1, 0, 0, 0, 1, 1, 1, 0, 0, 1, 1, 1, 4, 0, 2, 0, 0, 0, 0, 0, 0, 4,\n",
       "       4, 4, 4, 2, 4, 4, 2, 4, 0, 4, 4, 2, 0, 4, 4, 3, 4, 3, 3, 4, 2, 2,\n",
       "       4, 3, 2, 4, 2, 0, 2, 2, 4, 2, 2, 4, 3, 2, 4, 2, 2, 1, 4, 1, 2, 4,\n",
       "       1, 2, 4, 2, 1, 4, 2, 4, 2, 4, 4, 2])"
      ]
     },
     "execution_count": 36,
     "metadata": {},
     "output_type": "execute_result"
    }
   ],
   "source": [
    "pogo.labels_"
   ]
  },
  {
   "cell_type": "code",
   "execution_count": 37,
   "metadata": {},
   "outputs": [
    {
     "data": {
      "text/plain": [
       "[29689,\n",
       " 117061,\n",
       " 13103,\n",
       " 151328,\n",
       " 9498,\n",
       " 6231,\n",
       " 167002,\n",
       " 9010,\n",
       " 5608,\n",
       " 5959,\n",
       " 8754,\n",
       " 5398,\n",
       " 4797,\n",
       " 4351,\n",
       " 5002,\n",
       " 5143,\n",
       " 4046,\n",
       " 4695,\n",
       " 3954,\n",
       " 4141,\n",
       " 3483,\n",
       " 4533,\n",
       " 3634,\n",
       " 4218,\n",
       " 3882,\n",
       " 3587,\n",
       " 3775,\n",
       " 5352,\n",
       " 3709,\n",
       " 4301,\n",
       " 5282,\n",
       " 4635,\n",
       " 5318,\n",
       " 3751,\n",
       " 3846,\n",
       " 4615,\n",
       " 3934,\n",
       " 6203,\n",
       " 4676,\n",
       " 3823,\n",
       " 4290,\n",
       " 5130,\n",
       " 4038,\n",
       " 5268,\n",
       " 3580,\n",
       " 174729,\n",
       " 57990,\n",
       " 57749,\n",
       " 58595,\n",
       " 58594,\n",
       " 58593,\n",
       " 58592,\n",
       " 58591,\n",
       " 58590,\n",
       " 58589,\n",
       " 58588,\n",
       " 58587,\n",
       " 57732,\n",
       " 58586,\n",
       " 58585,\n",
       " 58584,\n",
       " 58583,\n",
       " 57733,\n",
       " 58582,\n",
       " 57734,\n",
       " 58596,\n",
       " 57731,\n",
       " 58597,\n",
       " 58607,\n",
       " 58613,\n",
       " 57730,\n",
       " 58612,\n",
       " 58611,\n",
       " 58610,\n",
       " 58609,\n",
       " 58608,\n",
       " 58606,\n",
       " 58598,\n",
       " 58605,\n",
       " 58604,\n",
       " 58603,\n",
       " 58602,\n",
       " 58601,\n",
       " 58600,\n",
       " 58599,\n",
       " 57735,\n",
       " 58581,\n",
       " 58580,\n",
       " 57744,\n",
       " 57741,\n",
       " 58563,\n",
       " 58562,\n",
       " 58561,\n",
       " 57742,\n",
       " 58560,\n",
       " 57743,\n",
       " 58559,\n",
       " 58565,\n",
       " 57745,\n",
       " 58558,\n",
       " 58557,\n",
       " 57746,\n",
       " 57747,\n",
       " 57748,\n",
       " 58556,\n",
       " 58564,\n",
       " 57740,\n",
       " 58579,\n",
       " 58573,\n",
       " 57736,\n",
       " 58578,\n",
       " 58577,\n",
       " 58576,\n",
       " 57737,\n",
       " 58575,\n",
       " 58574,\n",
       " 58572,\n",
       " 58566,\n",
       " 58571,\n",
       " 58570,\n",
       " 58569,\n",
       " 58568,\n",
       " 58567,\n",
       " 57738,\n",
       " 57739,\n",
       " 58614,\n",
       " 58615,\n",
       " 57729,\n",
       " 58655,\n",
       " 58662,\n",
       " 58661,\n",
       " 58660,\n",
       " 58659,\n",
       " 58658,\n",
       " 58657,\n",
       " 58656,\n",
       " 57719,\n",
       " 58663,\n",
       " 57720,\n",
       " 58654,\n",
       " 58653,\n",
       " 58652,\n",
       " 58651,\n",
       " 58650,\n",
       " 58649,\n",
       " 57718,\n",
       " 58664,\n",
       " 57721,\n",
       " 58671,\n",
       " 58678,\n",
       " 58677,\n",
       " 58676,\n",
       " 58675,\n",
       " 58674,\n",
       " 58673,\n",
       " 58672,\n",
       " 57715,\n",
       " 57717,\n",
       " 58670,\n",
       " 58669,\n",
       " 58668,\n",
       " 58667,\n",
       " 58666,\n",
       " 58665,\n",
       " 57716,\n",
       " 58648,\n",
       " 58647,\n",
       " 58616,\n",
       " 58623,\n",
       " 58630,\n",
       " 58629,\n",
       " 58628,\n",
       " 58627,\n",
       " 58626,\n",
       " 58625,\n",
       " 58624,\n",
       " 57727,\n",
       " 58632,\n",
       " 58622,\n",
       " 58621,\n",
       " 58620,\n",
       " 57728,\n",
       " 58619,\n",
       " 58618,\n",
       " 58617,\n",
       " 58631,\n",
       " 58633,\n",
       " 58646,\n",
       " 58640,\n",
       " 58645,\n",
       " 58644,\n",
       " 58643,\n",
       " 58642,\n",
       " 58641,\n",
       " 57722,\n",
       " 57723,\n",
       " 58639,\n",
       " 58634,\n",
       " 58638,\n",
       " 57724,\n",
       " 58637,\n",
       " 57725,\n",
       " 58636,\n",
       " 58635,\n",
       " 57726,\n",
       " 58555,\n",
       " 58554,\n",
       " 58680,\n",
       " 58553,\n",
       " 58471,\n",
       " 57769,\n",
       " 58470,\n",
       " 57770,\n",
       " 58469,\n",
       " 58468,\n",
       " 58467,\n",
       " 58466,\n",
       " 58465,\n",
       " 58464,\n",
       " 57771,\n",
       " 58463,\n",
       " 58462,\n",
       " 58461,\n",
       " 58460,\n",
       " 58459,\n",
       " 57772,\n",
       " 58472,\n",
       " 58473,\n",
       " 58474,\n",
       " 58482,\n",
       " 58488,\n",
       " 58487,\n",
       " 58486,\n",
       " 58485,\n",
       " 57766,\n",
       " 58484,\n",
       " 58483,\n",
       " 58481,\n",
       " 58475,\n",
       " 58480,\n",
       " 57767,\n",
       " 58479,\n",
       " 58478,\n",
       " 57768,\n",
       " 58477,\n",
       " 58476,\n",
       " 57773,\n",
       " 57774,\n",
       " 58458,\n",
       " 57784,\n",
       " 58443,\n",
       " 58442,\n",
       " 58441,\n",
       " 58440,\n",
       " 57782,\n",
       " 58439,\n",
       " 57783,\n",
       " 58438,\n",
       " 57781,\n",
       " 58437,\n",
       " 58436,\n",
       " 58435,\n",
       " 58434,\n",
       " 57785,\n",
       " 57786,\n",
       " 58433,\n",
       " 58444,\n",
       " 58445,\n",
       " 58457,\n",
       " 57778,\n",
       " 58456,\n",
       " 58455,\n",
       " 58454,\n",
       " 58453,\n",
       " 57775,\n",
       " 57776,\n",
       " 57777,\n",
       " 58452,\n",
       " 57780,\n",
       " 57779,\n",
       " 58451,\n",
       " 58450,\n",
       " 58449,\n",
       " 58448,\n",
       " 58447,\n",
       " 58446,\n",
       " 58489,\n",
       " 58490,\n",
       " 58491,\n",
       " 58533,\n",
       " 58536,\n",
       " 57754,\n",
       " 57755,\n",
       " 57756,\n",
       " 58535,\n",
       " 57757,\n",
       " 58534,\n",
       " 58532,\n",
       " 57752,\n",
       " 58531,\n",
       " 58530,\n",
       " 58529,\n",
       " 58528,\n",
       " 58527,\n",
       " 58526,\n",
       " 58525,\n",
       " 57753,\n",
       " 58537,\n",
       " 58524,\n",
       " 58546,\n",
       " 58552,\n",
       " 58551,\n",
       " 58550,\n",
       " 58549,\n",
       " 57750,\n",
       " 58548,\n",
       " 58547,\n",
       " 58545,\n",
       " 58538,\n",
       " 58544,\n",
       " 58543,\n",
       " 57751,\n",
       " 58542,\n",
       " 58541,\n",
       " 58540,\n",
       " 58539,\n",
       " 57758,\n",
       " 58523,\n",
       " 58492,\n",
       " 58499,\n",
       " 58504,\n",
       " 58503,\n",
       " 57762,\n",
       " 57763,\n",
       " 58502,\n",
       " 58501,\n",
       " 58500,\n",
       " 57764,\n",
       " 58506,\n",
       " 58498,\n",
       " 58497,\n",
       " 58496,\n",
       " 58495,\n",
       " 57765,\n",
       " 58494,\n",
       " 58493,\n",
       " 58505,\n",
       " 57761,\n",
       " 58522,\n",
       " 58515,\n",
       " 58521,\n",
       " 58520,\n",
       " 58519,\n",
       " 58518,\n",
       " 57759,\n",
       " 58517,\n",
       " 58516,\n",
       " 58514,\n",
       " 58507,\n",
       " 58513,\n",
       " 58512,\n",
       " 58511,\n",
       " 58510,\n",
       " 57760,\n",
       " 58509,\n",
       " 58508,\n",
       " 58679,\n",
       " 58681,\n",
       " 58432,\n",
       " 58807,\n",
       " 57668,\n",
       " 58853,\n",
       " 57669,\n",
       " 58852,\n",
       " 57670,\n",
       " 58851,\n",
       " 58850,\n",
       " 58849,\n",
       " 58848,\n",
       " 57671,\n",
       " 58847,\n",
       " 58846,\n",
       " 58845,\n",
       " 58844,\n",
       " 58843,\n",
       " 58842,\n",
       " 58841,\n",
       " 58854,\n",
       " 58855,\n",
       " 57667,\n",
       " 58865,\n",
       " 57665,\n",
       " 58870,\n",
       " 57666,\n",
       " 58869,\n",
       " 58868,\n",
       " 58867,\n",
       " 58866,\n",
       " 58864,\n",
       " 58856,\n",
       " 58863,\n",
       " 58862,\n",
       " 58861,\n",
       " 58860,\n",
       " 58859,\n",
       " 58858,\n",
       " 58857,\n",
       " 57672,\n",
       " 58840,\n",
       " 57673,\n",
       " 58815,\n",
       " 58821,\n",
       " 58820,\n",
       " 58819,\n",
       " 58818,\n",
       " 58817,\n",
       " 57677,\n",
       " 58816,\n",
       " 58814,\n",
       " 58823,\n",
       " 57678,\n",
       " 58813,\n",
       " 58812,\n",
       " 58811,\n",
       " 58810,\n",
       " 58809,\n",
       " 58808,\n",
       " 58822,\n",
       " 58824,\n",
       " 57674,\n",
       " 58832,\n",
       " 58839,\n",
       " 58838,\n",
       " 58837,\n",
       " 58836,\n",
       " 58835,\n",
       " 58834,\n",
       " 58833,\n",
       " 57675,\n",
       " 58825,\n",
       " 58831,\n",
       " 58830,\n",
       " 58829,\n",
       " 58828,\n",
       " 58827,\n",
       " 57676,\n",
       " 58826,\n",
       " 58871,\n",
       " 58872,\n",
       " 58873,\n",
       " 58916,\n",
       " 58920,\n",
       " 58919,\n",
       " 58918,\n",
       " 57655,\n",
       " 57656,\n",
       " 57657,\n",
       " 58917,\n",
       " 57658,\n",
       " 58922,\n",
       " 58915,\n",
       " 58914,\n",
       " 58913,\n",
       " 57659,\n",
       " 58912,\n",
       " 58911,\n",
       " 57660,\n",
       " 58921,\n",
       " 57654,\n",
       " 58909,\n",
       " 57651,\n",
       " 58935,\n",
       " 58934,\n",
       " 58933,\n",
       " 58932,\n",
       " 58931,\n",
       " 57650,\n",
       " 58930,\n",
       " 58929,\n",
       " 58923,\n",
       " 58928,\n",
       " 58927,\n",
       " 58926,\n",
       " 58925,\n",
       " 57652,\n",
       " 58924,\n",
       " 57653,\n",
       " 58910,\n",
       " 58908,\n",
       " 57664,\n",
       " 58882,\n",
       " 58888,\n",
       " 58887,\n",
       " 58886,\n",
       " 58885,\n",
       " 58884,\n",
       " 57663,\n",
       " 58883,\n",
       " 58881,\n",
       " 58890,\n",
       " 58880,\n",
       " 58879,\n",
       " 58878,\n",
       " 58877,\n",
       " 58876,\n",
       " 58875,\n",
       " 58874,\n",
       " 58889,\n",
       " 58891,\n",
       " 58907,\n",
       " 58900,\n",
       " 58906,\n",
       " 58905,\n",
       " 58904,\n",
       " 57661,\n",
       " 58903,\n",
       " 58902,\n",
       " 58901,\n",
       " 57662,\n",
       " 58892,\n",
       " 58899,\n",
       " 58898,\n",
       " 58897,\n",
       " 58896,\n",
       " 58895,\n",
       " 58894,\n",
       " 58893,\n",
       " 57679,\n",
       " 57680,\n",
       " 58682,\n",
       " 58806,\n",
       " 58725,\n",
       " 58724,\n",
       " 58723,\n",
       " 58722,\n",
       " 58721,\n",
       " 57701,\n",
       " 57702,\n",
       " 58720,\n",
       " 57703,\n",
       " 58719,\n",
       " 58718,\n",
       " 58717,\n",
       " 58716,\n",
       " 58715,\n",
       " 58714,\n",
       " 58713,\n",
       " 57704,\n",
       " 58726,\n",
       " 58727,\n",
       " 58728,\n",
       " 57699,\n",
       " 58741,\n",
       " 57697,\n",
       " 58740,\n",
       " 58739,\n",
       " 58738,\n",
       " 58737,\n",
       " 57698,\n",
       " 58736,\n",
       " 58729,\n",
       " 58735,\n",
       " 58734,\n",
       " 58733,\n",
       " 58732,\n",
       " 57700,\n",
       " 58731,\n",
       " 58730,\n",
       " 58712,\n",
       " 58711,\n",
       " 58710,\n",
       " 57712,\n",
       " 57710,\n",
       " 58693,\n",
       " 57711,\n",
       " 58692,\n",
       " 58691,\n",
       " 58690,\n",
       " 58689,\n",
       " 58688,\n",
       " 58694,\n",
       " 58687,\n",
       " 58686,\n",
       " 58685,\n",
       " 57713,\n",
       " 57714,\n",
       " 58684,\n",
       " 58683,\n",
       " 57709,\n",
       " 58695,\n",
       " 58709,\n",
       " 58703,\n",
       " 58708,\n",
       " 58707,\n",
       " 58706,\n",
       " 58705,\n",
       " 57705,\n",
       " 57706,\n",
       " 58704,\n",
       " 57707,\n",
       " 58696,\n",
       " 58702,\n",
       " 58701,\n",
       " 58700,\n",
       " 57708,\n",
       " 58699,\n",
       " 58698,\n",
       " 58697,\n",
       " 58742,\n",
       " 58743,\n",
       " 58744,\n",
       " 58784,\n",
       " 58790,\n",
       " 58789,\n",
       " 58788,\n",
       " 57686,\n",
       " 58787,\n",
       " 58786,\n",
       " 58785,\n",
       " 58783,\n",
       " 57685,\n",
       " 58782,\n",
       " 58781,\n",
       " 57687,\n",
       " 58780,\n",
       " 57688,\n",
       " 58779,\n",
       " 58778,\n",
       " 58791,\n",
       " 58792,\n",
       " 57689,\n",
       " 58801,\n",
       " 57681,\n",
       " 58805,\n",
       " 58804,\n",
       " 57682,\n",
       " 57683,\n",
       " 58803,\n",
       " 58802,\n",
       " 58800,\n",
       " 57684,\n",
       " 58799,\n",
       " 58798,\n",
       " 58797,\n",
       " 58796,\n",
       " 58795,\n",
       " 58794,\n",
       " 58793,\n",
       " 58777,\n",
       " 58776,\n",
       " 58745,\n",
       " 58753,\n",
       " 58760,\n",
       " 58759,\n",
       " 58758,\n",
       " 58757,\n",
       " 58756,\n",
       " 58755,\n",
       " 58754,\n",
       " 57696,\n",
       " 58762,\n",
       " 58752,\n",
       " 58751,\n",
       " 58750,\n",
       " 58749,\n",
       " 58748,\n",
       " 58747,\n",
       " 58746,\n",
       " 58761,\n",
       " 57695,\n",
       " 58775,\n",
       " 58770,\n",
       " 58774,\n",
       " 57690,\n",
       " 58773,\n",
       " 58772,\n",
       " 57691,\n",
       " 58771,\n",
       " 57692,\n",
       " 58769,\n",
       " 57694,\n",
       " 58768,\n",
       " 58767,\n",
       " 58766,\n",
       " 58765,\n",
       " 58764,\n",
       " 58763,\n",
       " 57693,\n",
       " 57787,\n",
       " 58431,\n",
       " 57991,\n",
       " 58083,\n",
       " 57901,\n",
       " 58120,\n",
       " 58119,\n",
       " 58118,\n",
       " 58117,\n",
       " 58116,\n",
       " 57902,\n",
       " 58115,\n",
       " 58114,\n",
       " 58113,\n",
       " 58936,\n",
       " 58111,\n",
       " 57903,\n",
       " 57904,\n",
       " 58110,\n",
       " 57905,\n",
       " 57906,\n",
       " 57900,\n",
       " 58121,\n",
       " 57899,\n",
       " 58126,\n",
       " 57891,\n",
       " 58130,\n",
       " 57892,\n",
       " 58129,\n",
       " 58128,\n",
       " 58127,\n",
       " 57893,\n",
       " 57894,\n",
       " 58122,\n",
       " 57895,\n",
       " 58125,\n",
       " 57896,\n",
       " 57897,\n",
       " 58124,\n",
       " 58123,\n",
       " 57898,\n",
       " 58109,\n",
       " 58108,\n",
       " 57907,\n",
       " 58089,\n",
       " 58095,\n",
       " 58094,\n",
       " 58093,\n",
       " 58092,\n",
       " 58091,\n",
       " 57917,\n",
       " 58090,\n",
       " 58088,\n",
       " 57916,\n",
       " 57918,\n",
       " 58087,\n",
       " 57919,\n",
       " 58086,\n",
       " 58085,\n",
       " 57920,\n",
       " 57921,\n",
       " 58096,\n",
       " 57915,\n",
       " 57908,\n",
       " 58101,\n",
       " 58107,\n",
       " 58106,\n",
       " 57909,\n",
       " 58105,\n",
       " 58104,\n",
       " 58103,\n",
       " 58102,\n",
       " 58100,\n",
       " 57914,\n",
       " 57910,\n",
       " 57911,\n",
       " 58099,\n",
       " 57912,\n",
       " 57913,\n",
       " 58098,\n",
       " 58097,\n",
       " 58131,\n",
       " 57890,\n",
       " 58132,\n",
       " 58170,\n",
       " 57877,\n",
       " 58176,\n",
       " 58175,\n",
       " 58174,\n",
       " 58173,\n",
       " 58172,\n",
       " 58171,\n",
       " 58169,\n",
       " 57876,\n",
       " 58168,\n",
       " 58167,\n",
       " 58166,\n",
       " 58165,\n",
       " 58164,\n",
       " 58163,\n",
       " 58162,\n",
       " 58177,\n",
       " 58178,\n",
       " 58160,\n",
       " 57871,\n",
       " 58189,\n",
       " 58188,\n",
       " 58187,\n",
       " 57870,\n",
       " 58186,\n",
       " 58185,\n",
       " 58184,\n",
       " 58183,\n",
       " 57875,\n",
       " 58182,\n",
       " 58181,\n",
       " 58180,\n",
       " 57872,\n",
       " 57873,\n",
       " 58179,\n",
       " 57874,\n",
       " 58161,\n",
       " 58159,\n",
       " 57889,\n",
       " 58137,\n",
       " 58143,\n",
       " 58142,\n",
       " 58141,\n",
       " 58140,\n",
       " 58139,\n",
       " 58138,\n",
       " 57884,\n",
       " 58136,\n",
       " 58144,\n",
       " 57885,\n",
       " 58135,\n",
       " 58134,\n",
       " 57886,\n",
       " 57887,\n",
       " 58133,\n",
       " 57888,\n",
       " 57883,\n",
       " 58145,\n",
       " 57878,\n",
       " 58153,\n",
       " 58158,\n",
       " 58157,\n",
       " 57879,\n",
       " 58156,\n",
       " 58155,\n",
       " 58154,\n",
       " 57880,\n",
       " 58152,\n",
       " 58146,\n",
       " 58151,\n",
       " 58150,\n",
       " 57881,\n",
       " 58149,\n",
       " 57882,\n",
       " 58148,\n",
       " 58147,\n",
       " 58084,\n",
       " 57922,\n",
       " 58191,\n",
       " 58082,\n",
       " 58021,\n",
       " 58020,\n",
       " 57963,\n",
       " 57964,\n",
       " 57965,\n",
       " 58019,\n",
       " 57966,\n",
       " 57967,\n",
       " 58018,\n",
       " 58017,\n",
       " 57968,\n",
       " 57969,\n",
       " 58016,\n",
       " 57970,\n",
       " 57971,\n",
       " 57972,\n",
       " 58015,\n",
       " 57962,\n",
       " 58022,\n",
       " 57961,\n",
       " 58027,\n",
       " 57952,\n",
       " 58030,\n",
       " 58029,\n",
       " 57953,\n",
       " 58028,\n",
       " 57954,\n",
       " 57955,\n",
       " 58026,\n",
       " 58023,\n",
       " 57956,\n",
       " 57957,\n",
       " 58025,\n",
       " 58024,\n",
       " 57958,\n",
       " 57959,\n",
       " 57960,\n",
       " 57973,\n",
       " 58014,\n",
       " 57974,\n",
       " 57986,\n",
       " 57985,\n",
       " 58002,\n",
       " 58001,\n",
       " 58000,\n",
       " 57999,\n",
       " 57998,\n",
       " 57997,\n",
       " 57987,\n",
       " 58003,\n",
       " 57996,\n",
       " 57995,\n",
       " 57994,\n",
       " 57988,\n",
       " 57993,\n",
       " 57989,\n",
       " 57992,\n",
       " 57984,\n",
       " 57983,\n",
       " 58013,\n",
       " 57978,\n",
       " 57975,\n",
       " 58012,\n",
       " 58011,\n",
       " 57976,\n",
       " 57977,\n",
       " 58010,\n",
       " 58009,\n",
       " 57979,\n",
       " 57982,\n",
       " 58008,\n",
       " 57980,\n",
       " 58007,\n",
       " 58006,\n",
       " 58005,\n",
       " 57981,\n",
       " 58004,\n",
       " 58031,\n",
       " 58032,\n",
       " 58033,\n",
       " 58066,\n",
       " 58071,\n",
       " 57933,\n",
       " 57934,\n",
       " 58070,\n",
       " 58069,\n",
       " 58068,\n",
       " 58067,\n",
       " 58065,\n",
       " 57932,\n",
       " 58064,\n",
       " 58063,\n",
       " 58062,\n",
       " 58061,\n",
       " 58060,\n",
       " 57935,\n",
       " 57936,\n",
       " 58072,\n",
       " 57931,\n",
       " 58058,\n",
       " 57927,\n",
       " 57923,\n",
       " 57924,\n",
       " 58081,\n",
       " 58080,\n",
       " 58079,\n",
       " 57925,\n",
       " 57926,\n",
       " 57928,\n",
       " 58073,\n",
       " 58078,\n",
       " 58077,\n",
       " 58076,\n",
       " 58075,\n",
       " 58074,\n",
       " 57929,\n",
       " 57930,\n",
       " 58059,\n",
       " 58057,\n",
       " 58034,\n",
       " 57948,\n",
       " 58042,\n",
       " 57944,\n",
       " 58041,\n",
       " 57945,\n",
       " 57946,\n",
       " 57947,\n",
       " 58040,\n",
       " 58039,\n",
       " 57942,\n",
       " 58038,\n",
       " 57949,\n",
       " 57950,\n",
       " 57951,\n",
       " 58037,\n",
       " 58036,\n",
       " 58035,\n",
       " 57943,\n",
       " 58043,\n",
       " 57937,\n",
       " 58049,\n",
       " 58056,\n",
       " 58055,\n",
       " 58054,\n",
       " 58053,\n",
       " 58052,\n",
       " 58051,\n",
       " ...]"
      ]
     },
     "execution_count": 37,
     "metadata": {},
     "output_type": "execute_result"
    }
   ],
   "source": [
    "pogo.candidates_"
   ]
  },
  {
   "cell_type": "code",
   "execution_count": 38,
   "metadata": {},
   "outputs": [
    {
     "data": {
      "text/plain": [
       "[<matplotlib.lines.Line2D at 0x7f0eabdbc820>]"
      ]
     },
     "execution_count": 38,
     "metadata": {},
     "output_type": "execute_result"
    },
    {
     "data": {
      "image/png": "[encoded data removed]",
      "text/plain": [
       "<Figure size 432x288 with 1 Axes>"
      ]
     },
     "metadata": {
      "needs_background": "light"
     },
     "output_type": "display_data"
    }
   ],
   "source": [
    "plt.plot(pogo.gap_vector_)"
   ]
  },
  {
   "cell_type": "code",
   "execution_count": 39,
   "metadata": {},
   "outputs": [
    {
     "name": "stdout",
     "output_type": "stream",
     "text": [
      "Maximum Silhouette: 13103\n"
     ]
    },
    {
     "data": {
      "image/png": "[encoded data removed]",
      "text/plain": [
       "<Figure size 432x288 with 1 Axes>"
      ]
     },
     "metadata": {
      "needs_background": "light"
     },
     "output_type": "display_data"
    }
   ],
   "source": [
    "silhouette_indices, silhouette_array = pogo.plot_silhouette()"
   ]
  },
  {
   "cell_type": "code",
   "execution_count": 40,
   "metadata": {},
   "outputs": [
    {
     "name": "stdout",
     "output_type": "stream",
     "text": [
      "Maximum Silhouette Score: 13103\n"
     ]
    },
    {
     "data": {
      "image/png": "[encoded data removed]",
      "text/plain": [
       "<Figure size 432x288 with 1 Axes>"
      ]
     },
     "metadata": {
      "needs_background": "light"
     },
     "output_type": "display_data"
    }
   ],
   "source": [
    "score_indices, score_array = pogo.plot_silhouette_score()"
   ]
  },
  {
   "cell_type": "code",
   "execution_count": 41,
   "metadata": {},
   "outputs": [
    {
     "data": {
      "image/png": "[encoded data removed]",
      "text/plain": [
       "<Figure size 576x576 with 1 Axes>"
      ]
     },
     "metadata": {
      "needs_background": "light"
     },
     "output_type": "display_data"
    },
    {
     "data": {
      "text/plain": [
       "<matplotlib.collections.PathCollection at 0x7f0eaf3effd0>"
      ]
     },
     "execution_count": 41,
     "metadata": {},
     "output_type": "execute_result"
    }
   ],
   "source": [
    "pogo.plot(13636)"
   ]
  },
  {
   "cell_type": "code",
   "execution_count": 42,
   "metadata": {},
   "outputs": [
    {
     "name": "stdout",
     "output_type": "stream",
     "text": [
      "Maximum Rand Score: 13103\n"
     ]
    },
    {
     "data": {
      "image/png": "[encoded data removed]",
      "text/plain": [
       "<Figure size 432x288 with 1 Axes>"
      ]
     },
     "metadata": {
      "needs_background": "light"
     },
     "output_type": "display_data"
    }
   ],
   "source": [
    "rand_indices, rand_array = pogo.plot_rand_score(ground_truth)\n"
   ]
  },
  {
   "cell_type": "code",
   "execution_count": null,
   "metadata": {},
   "outputs": [],
   "source": []
  },
  {
   "cell_type": "code",
   "execution_count": 43,
   "metadata": {},
   "outputs": [
    {
     "data": {
      "text/plain": [
       "<matplotlib.collections.PathCollection at 0x7f0eac9780a0>"
      ]
     },
     "execution_count": 43,
     "metadata": {},
     "output_type": "execute_result"
    },
    {
     "data": {
      "image/png": "[encoded data removed]",
      "text/plain": [
       "<Figure size 432x288 with 1 Axes>"
      ]
     },
     "metadata": {
      "needs_background": "light"
     },
     "output_type": "display_data"
    }
   ],
   "source": [
    "plt.scatter(umap_embedding_33d[:,0],umap_embedding_33d[:,1],c=ground_truth)"
   ]
  },
  {
   "cell_type": "code",
   "execution_count": null,
   "metadata": {},
   "outputs": [],
   "source": []
  }
 ],
 "metadata": {
  "kernelspec": {
   "display_name": "Python 3",
   "language": "python",
   "name": "python3"
  },
  "language_info": {
   "codemirror_mode": {
    "name": "ipython",
    "version": 3
   },
   "file_extension": ".py",
   "mimetype": "text/x-python",
   "name": "python",
   "nbconvert_exporter": "python",
   "pygments_lexer": "ipython3",
   "version": "3.8.10"
  }
 },
 "nbformat": 4,
 "nbformat_minor": 4
}
